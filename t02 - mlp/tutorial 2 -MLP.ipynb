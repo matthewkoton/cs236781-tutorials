{
 "cells": [
  {
   "cell_type": "markdown",
   "metadata": {
    "slideshow": {
     "slide_type": "slide"
    }
   },
   "source": [
    "$$\\newcommand{\\mat}[1]{\\boldsymbol {#1}}\n",
    "\\newcommand{\\mattr}[1]{\\boldsymbol {#1}^\\top}\n",
    "\\newcommand{\\matinv}[1]{\\boldsymbol {#1}^{-1}}\n",
    "\\newcommand{\\vec}[1]{\\boldsymbol {#1}}\n",
    "\\newcommand{\\vectr}[1]{\\boldsymbol {#1}^\\top}\n",
    "\\newcommand{\\rvar}[1]{\\mathrm {#1}}\n",
    "\\newcommand{\\rvec}[1]{\\boldsymbol{\\mathrm{#1}}}\n",
    "\\newcommand{\\diag}{\\mathop{\\mathrm {diag}}}\n",
    "\\newcommand{\\set}[1]{\\mathbb {#1}}\n",
    "\\newcommand{\\norm}[1]{\\left\\lVert#1\\right\\rVert}\n",
    "\\newcommand{\\pderiv}[2]{\\frac{\\partial #1}{\\partial #2}}\n",
    "\\newcommand{\\bb}[1]{\\boldsymbol{#1}}$$\n",
    "\n",
    "# CS236781:   Deep Learning\n",
    "# Tutorial 2: Multilayer Perceptron"
   ]
  },
  {
   "cell_type": "markdown",
   "metadata": {
    "slideshow": {
     "slide_type": "slide"
    }
   },
   "source": [
    "## Introduction\n",
    "\n",
    "In this tutorial, we will cover:\n",
    "\n",
    "* Linear (fully connected) layers\n",
    "* Activation functions\n",
    "* 2-Layer MLP implementation from scratch (self study)\n",
    "* N-layer MLP with PyTorch's `autograd` and `optim` modules"
   ]
  },
  {
   "cell_type": "code",
   "execution_count": 2,
   "metadata": {
    "execution": {
     "iopub.execute_input": "2021-05-06T06:05:49.016538Z",
     "iopub.status.busy": "2021-05-06T06:05:49.016034Z",
     "iopub.status.idle": "2021-05-06T06:05:50.095393Z",
     "shell.execute_reply": "2021-05-06T06:05:50.095954Z"
    },
    "slideshow": {
     "slide_type": "subslide"
    }
   },
   "outputs": [],
   "source": [
    "# Setup\n",
    "%matplotlib inline\n",
    "import os\n",
    "import numpy as np\n",
    "import sklearn\n",
    "import torch\n",
    "import matplotlib.pyplot as plt\n",
    "from typing import Sequence"
   ]
  },
  {
   "cell_type": "code",
   "execution_count": 3,
   "metadata": {
    "execution": {
     "iopub.execute_input": "2021-05-06T06:05:50.099377Z",
     "iopub.status.busy": "2021-05-06T06:05:50.098809Z",
     "iopub.status.idle": "2021-05-06T06:05:50.126349Z",
     "shell.execute_reply": "2021-05-06T06:05:50.126947Z"
    },
    "slideshow": {
     "slide_type": "fragment"
    }
   },
   "outputs": [],
   "source": [
    "plt.rcParams['font.size'] = 20"
   ]
  },
  {
   "cell_type": "markdown",
   "metadata": {
    "slideshow": {
     "slide_type": "slide"
    }
   },
   "source": [
    "## Reminder: Perceptrons and linear models"
   ]
  },
  {
   "cell_type": "markdown",
   "metadata": {
    "slideshow": {
     "slide_type": "subslide"
    }
   },
   "source": [
    "The following hypothesis class\n",
    "$$\n",
    "\\mathcal{H} =\n",
    "\\left\\{ h: \\mathcal{X}\\rightarrow\\mathcal{Y}\n",
    "~\\vert~\n",
    "h(\\vec{x}) = \\varphi(\\vectr{w}\\vec{x}+b); \\vec{w}\\in\\set{R}^D,~b\\in\\set{R}\\right\\}\n",
    "$$\n",
    "where $\\varphi(\\cdot)$ is some nonlinear function, is composed of functions representing the **perceptron** model.\n",
    "\n",
    "\n",
    "<img src=\"imgs/perceptron.png\" width=400 /> "
   ]
  },
  {
   "cell_type": "markdown",
   "metadata": {
    "slideshow": {
     "slide_type": "subslide"
    }
   },
   "source": [
    "Last tutorial: we trained a **logistic regression** model by using\n",
    "$$\\varphi(\\vec{z})=\\sigma(\\vec{z})=\\frac{1}{1+\\exp(-\\vec{z})}\\in[0,1].$$"
   ]
  },
  {
   "cell_type": "markdown",
   "metadata": {
    "slideshow": {
     "slide_type": "fragment"
    }
   },
   "source": [
    "**Limitation**: logistic regression is still a linear classifier. In what sense is it linear though?\n",
    "\n",
    "$$\\hat{y} = \\sigma(\\vectr{w}\\vec{x}+b)$$"
   ]
  },
  {
   "cell_type": "markdown",
   "metadata": {
    "slideshow": {
     "slide_type": "subslide"
    }
   },
   "source": [
    "**Linear** in the sense that output depends only on a linear combination of weights and inputs.\n",
    "\n",
    "Decision boundaries are therefore straight lines:\n",
    "\n",
    "<center><img src=\"imgs/perceptron_db.png\" width=\"600\"/></center>"
   ]
  },
  {
   "cell_type": "markdown",
   "metadata": {
    "slideshow": {
     "slide_type": "subslide"
    }
   },
   "source": [
    "If we define $y(\\vec{x})=\\vectr{w}\\vec{x}+b$, then the **decision surface** of the classifier is $y(\\vec{x})=\\text{const}$ (usually zero). Note that $b=w_0$ in the diagram below."
   ]
  },
  {
   "cell_type": "markdown",
   "metadata": {
    "slideshow": {
     "slide_type": "fragment"
    }
   },
   "source": [
    "<center><img src=\"imgs/linear_discriminant.png\" width=\"700\"/></center>"
   ]
  },
  {
   "cell_type": "markdown",
   "metadata": {
    "slideshow": {
     "slide_type": "subslide"
    }
   },
   "source": [
    "1. For any $\\vec{x_1}, \\vec{x_2}$ on the decision boundary, $\\vectr{w}(\\vec{x_1}-\\vec{x_2})=0$ $\\Rightarrow \\vec{w}$ orthogonal to every vector in the surface.\n",
    "1. For any $\\vec{x_1}$ on the decision boundary, $\\vectr{w}\\vec{x_1}=-b$.  \n",
    "Since $\\frac{\\vectr{w}}{\\norm{\\vec{w}}}\\vec{x_1}$ is the length of the projection of $\\vec{x_1}$ onto $\\vec{w}$, then the distance of the boundary from origin is given by\n",
    "$\\frac{-b}{\\norm{\\vec{w}}}$.\n",
    "1. For any point $\\vec{x}$, $\\frac{y(\\vec{x})}{\\norm{\\vec{w}}}$ is the **signed perpendicular distance** from the decision boundary."
   ]
  },
  {
   "cell_type": "markdown",
   "metadata": {
    "slideshow": {
     "slide_type": "subslide"
    }
   },
   "source": [
    "What if our data is not linearly separable? Can we still use e.g. logistic regression?"
   ]
  },
  {
   "cell_type": "markdown",
   "metadata": {
    "slideshow": {
     "slide_type": "fragment"
    }
   },
   "source": [
    "<center><img src=\"imgs/nonlinear_datasets.png\" width=\"1200\"/></center>"
   ]
  },
  {
   "cell_type": "markdown",
   "metadata": {
    "slideshow": {
     "slide_type": "subslide"
    }
   },
   "source": [
    "What if we first apply a **fixed** non-linear transformation to the data?\n",
    "\n",
    "For some $\\psi: \\set{R}^d \\rightarrow \\set{R}^D$, what does the following classifier do?\n",
    "\n",
    "$$\\hat{y} = \\varphi(\\vectr{w}\\psi(\\vec{x})+b).$$"
   ]
  },
  {
   "cell_type": "markdown",
   "metadata": {
    "slideshow": {
     "slide_type": "fragment"
    }
   },
   "source": [
    "We still get a linear decision boundary, but relative to the new features $\\psi(\\vec{x})\\in\\set{R}^D$.\n",
    "Projecting this boundary back to $\\set{R}^d$, we can get nonlinear decision boundaries with respect to $\\vec{x}\\in\\set{R}^d$."
   ]
  },
  {
   "cell_type": "markdown",
   "metadata": {
    "slideshow": {
     "slide_type": "fragment"
    }
   },
   "source": [
    "But how can we choose a nonlinear transformation?  \n",
    "Traditional ML: Craft it painstakingly based on domain-knowledge.\n",
    "\n",
    "But what if we want to **learn** it?"
   ]
  },
  {
   "cell_type": "markdown",
   "metadata": {
    "slideshow": {
     "slide_type": "slide"
    }
   },
   "source": [
    "## Multilayer Perceptron (MLP)"
   ]
  },
  {
   "cell_type": "markdown",
   "metadata": {
    "slideshow": {
     "slide_type": "fragment"
    }
   },
   "source": [
    "### Model\n",
    "\n",
    "<center><img src=\"imgs/mlp.png\" width=1000 /></center>\n",
    "\n",
    "Composed of $L$ **layers**, each layer $l$ with $n_l$ **perceptron** (\"neuron\") units."
   ]
  },
  {
   "cell_type": "markdown",
   "metadata": {
    "slideshow": {
     "slide_type": "subslide"
    }
   },
   "source": [
    "Each layer $l$ operates on the output of the previous layer ($\\vec{y}_{l-1}$) and calculates:\n",
    "\n",
    "$$\n",
    "\\vec{y}_l = \\varphi\\left( \\mat{W}_l \\vec{y}_{l-1} + \\vec{b}_l \\right),~\n",
    "\\mat{W}_l\\in\\set{R}^{n_{l}\\times n_{l-1}},~ \\vec{b}_l\\in\\set{R}^{n_l},~ l \\in \\{1,2,\\dots,L\\}.\n",
    "$$\n",
    "\n",
    "- Note that both input and output are **vectors**. We can think of the above equation as describing a layer of **multiple perceptrons**.\n",
    "- We'll henceforth refer to such layers as **fully-connected** or FC layers.\n",
    "- The first layer accepts the input of the model, i.e. $\\vec{y}_0=\\vec{x}\\in\\set{R}^d$.\n",
    "- The last layer, $L$, is the output layer, so $y_L$ is the output of the model.\n",
    "- The layers $1, 2, \\dots, L-1$ are called hidden layers."
   ]
  },
  {
   "cell_type": "markdown",
   "metadata": {
    "slideshow": {
     "slide_type": "subslide"
    }
   },
   "source": [
    "How powerful is an MLP model? I.e. which functions can it approximate?"
   ]
  },
  {
   "cell_type": "markdown",
   "metadata": {
    "slideshow": {
     "slide_type": "subslide"
    }
   },
   "source": [
    "**Universal approximator theorem**\n",
    "\n",
    "Given enough parameters, an MLP with $L>1$ and any non-linear activation function, can approximate any continuous function up to any specified precision (Cybenko, 1989).\n",
    "\n",
    "The MLP is therefore a **potent hypothesis class** (recall approximation error).\n",
    "\n",
    "See [here](http://neuralnetworksanddeeplearning.com/chap4.html) for an intuitive explanation of the UAT."
   ]
  },
  {
   "cell_type": "markdown",
   "metadata": {
    "slideshow": {
     "slide_type": "subslide"
    }
   },
   "source": [
    "Given an input sample $\\vec{x}^i$, the computed function of an $L$-layer MLP is:\n",
    "$$\n",
    "\\vec{y}_L^i= \\varphi \\left(\n",
    "\\mat{W}_L \\varphi \\left( \\cdots\n",
    "\\varphi \\left( \\mat{W}_1 \\vec{x}^i + \\vec{b}_1 \\right)\n",
    "\\cdots \\right)\n",
    "+ \\vec{b}_L \\right)\n",
    "$$\n",
    "\n",
    "This expression is fully differentiable w.r.t. parameters using the Chain Rule.\n",
    "\n",
    "And notice that $\\vec{y}_L^i = \\varphi(\\mat{W}_L \\vec{y}_{L-1}^i + \\vec{b}_L)$ is just the linear model we started with.\n",
    "\n",
    "So, intuitively, we can think of $\\vec{y}_{L-1}$ as **learned** non-linear features of the input! In other words, $\\vec{y}_{L-1} = \\psi_{\\vec{\\Theta}}(\\vec{x})$."
   ]
  },
  {
   "cell_type": "markdown",
   "metadata": {
    "slideshow": {
     "slide_type": "subslide"
    }
   },
   "source": [
    "Since an MLP it has a non-linear dependency on it's inputs, through a learned transformation, non-linear decision boundaries are possible.\n",
    "\n",
    "For example, an MLP with 1, 2 and 4 hidden layers, 3 neurons each:\n",
    "    \n",
    "<center><img src=\"imgs/overfit_1-2-4HL_3N.jpg\" width=\"1100\" alt=\"overfit1\"></center>\n",
    "\n",
    "Notice the input space has two features while the output space has three."
   ]
  },
  {
   "cell_type": "markdown",
   "metadata": {
    "slideshow": {
     "slide_type": "slide"
    }
   },
   "source": [
    "### Activation functions "
   ]
  },
  {
   "cell_type": "markdown",
   "metadata": {
    "slideshow": {
     "slide_type": "subslide"
    }
   },
   "source": [
    "An **activation function** is the non-linear elementwise function $\\varphi(\\cdot)$ which operates on the affine part of the perceptron model.\n",
    "\n",
    "Why do we even need non-linearities in the first place? Isn't the depth enough?"
   ]
  },
  {
   "cell_type": "markdown",
   "metadata": {
    "slideshow": {
     "slide_type": "fragment"
    }
   },
   "source": [
    "Without them, the MLP model would be equivalent to a single affine transform."
   ]
  },
  {
   "cell_type": "markdown",
   "metadata": {
    "slideshow": {
     "slide_type": "subslide"
    }
   },
   "source": [
    "Common choices for the activation functions are:\n",
    "\n",
    "- The logistic function (sigmoid)\n",
    "    $$ \\varphi(t) = \\sigma(t) = \\frac{1}{1+e^{-t}} \\in  [0,1] $$\n",
    "- The hyperbolic tangent (a shifted and scaled sigmoid)\n",
    "    $$ \\varphi(t) = \\mathrm{tanh}(t) = \\frac{e^t - e^{-t}}{e^t +e^{-t}} \\in [-1,1]$$"
   ]
  },
  {
   "cell_type": "markdown",
   "metadata": {
    "slideshow": {
     "slide_type": "fragment"
    }
   },
   "source": [
    "- ReLU, rectified linear unit\n",
    "    $$ \\varphi(t) = \\max\\{t,0\\} $$\n",
    "Note that ReLU is not strictly differentiable. However, sub-gradients exist. We will define its gradient as:\n",
    "    $$ \\pderiv{\\varphi}{t} = \\begin{cases} 1, & t\\geq0 \\\\ 0, & t<0 \\end{cases} $$"
   ]
  },
  {
   "cell_type": "code",
   "execution_count": 4,
   "metadata": {
    "execution": {
     "iopub.execute_input": "2021-05-06T06:05:50.133600Z",
     "iopub.status.busy": "2021-05-06T06:05:50.133072Z",
     "iopub.status.idle": "2021-05-06T06:05:50.160650Z",
     "shell.execute_reply": "2021-05-06T06:05:50.161177Z"
    },
    "slideshow": {
     "slide_type": "subslide"
    }
   },
   "outputs": [],
   "source": [
    "# Plot some activation functions and their gradients\n",
    "\n",
    "# Activation functions\n",
    "relu = lambda x: np.maximum(0, x)\n",
    "sigmoid = lambda x: 1 / (1 + np.exp(-x))\n",
    "tanh = lambda x: (np.exp(x)-np.exp(-x)) / (np.exp(x)+np.exp(-x))\n",
    "\n",
    "# Their gradients\n",
    "g_relu = lambda x: np.array(relu(x) > 0, dtype=np.float)\n",
    "g_sigmoid = lambda x: sigmoid(x) * (1-sigmoid(x))\n",
    "g_tanh = lambda x: (1 - tanh(x) ** 2)"
   ]
  },
  {
   "cell_type": "code",
   "execution_count": 5,
   "metadata": {
    "execution": {
     "iopub.execute_input": "2021-05-06T06:05:50.165974Z",
     "iopub.status.busy": "2021-05-06T06:05:50.165449Z",
     "iopub.status.idle": "2021-05-06T06:05:50.760248Z",
     "shell.execute_reply": "2021-05-06T06:05:50.760759Z"
    },
    "slideshow": {
     "slide_type": "subslide"
    }
   },
   "outputs": [
    {
     "data": {
      "image/png": "[encoded data removed]",
      "text/plain": [
       "<Figure size 1152x360 with 2 Axes>"
      ]
     },
     "metadata": {
      "needs_background": "light"
     },
     "output_type": "display_data"
    }
   ],
   "source": [
    "x = np.linspace(-4, 4, num=1024)\n",
    "_, axes = plt.subplots(nrows=1, ncols=2, figsize=(16,5))\n",
    "axes[0].plot(x, relu(x), x, sigmoid(x), x, tanh(x))\n",
    "axes[1].plot(x, g_relu(x), x, g_sigmoid(x), x, g_tanh(x))\n",
    "legend_entries = (r'\\mathrm{ReLU}(x)', r'\\sigma(x)', r'\\mathrm{tanh}(x)')\n",
    "for ax, legend_prefix in zip(axes, ('', r'\\frac{\\partial}{\\partial x}')):\n",
    "    ax.grid(True)\n",
    "    ax.legend(tuple(f'${legend_prefix}{legend_entry}$' for legend_entry in legend_entries))\n",
    "    ax.set_ylim((-1.1,1.1))"
   ]
  },
  {
   "cell_type": "markdown",
   "metadata": {
    "slideshow": {
     "slide_type": "subslide"
    }
   },
   "source": [
    "Some reasons people cite for using ReLU are:\n",
    "\n",
    "- Does not suffer from vanishing gradient when $x$ is far from zero (though gradient can still be zero).\n",
    "\n",
    "- Much faster to compute than sigmoid and tanh.\n",
    "\n",
    "- Promotes sparse weight vectors: \"dead neurons\" arguably cause sparsity in the next layer."
   ]
  },
  {
   "cell_type": "markdown",
   "metadata": {
    "slideshow": {
     "slide_type": "slide"
    }
   },
   "source": [
    "### Visualization of hand-crafted features vs. MLP"
   ]
  },
  {
   "cell_type": "markdown",
   "metadata": {
    "slideshow": {
     "slide_type": "fragment"
    }
   },
   "source": [
    "Visualization of the effect of features and MLP layers: http://playground.tensorflow.org/\n",
    "\n",
    "Try to explain what you see for the circles dataset with:\n",
    "- No hidden layers\n",
    "- One hidden layer, two neurons\n",
    "- One hiddlen layer, three neurons"
   ]
  },
  {
   "cell_type": "markdown",
   "metadata": {
    "slideshow": {
     "slide_type": "slide"
    }
   },
   "source": [
    "## Part 1: Two-layer MLP from scratch"
   ]
  },
  {
   "cell_type": "markdown",
   "metadata": {
    "slideshow": {
     "slide_type": "fragment"
    }
   },
   "source": [
    "Let's solve a simple **regression** problem with a 2-layer MLP (one hidden layer, one output layer)."
   ]
  },
  {
   "cell_type": "markdown",
   "metadata": {
    "slideshow": {
     "slide_type": "slide"
    }
   },
   "source": [
    "We're trying to learn a continuous and perhaps non-deterministic function $y=f(\\vec{x})$.\n",
    "\n",
    "- Domain: $\\vec{x}^i \\in \\set{R}^{D_{\\text{in}}}$\n",
    "\n",
    "- Target: $y^i \\in \\set{R}^{D_{\\text{out}}}$\n",
    "\n",
    "- Model: $\\hat{y} =\\mat{W}_2~ \\varphi(\\mat{W}_1 \\vec{x}+ \\vec{b}_1) + \\vec{b}_2$<br>\n",
    "  i.e. a 2-layer MLP, where:\n",
    "    - $\\vec{x}\\in\\set{R}^{D_{\\text{in}}}$ sample (feature vector)\n",
    "    - $\\mat{W}_1\\in\\set{R}^{H\\times D_{\\text{in}}},\\ \\vec{b}_1\\in\\set{R}^{H}$\n",
    "    - $\\mat{W}_2\\in\\set{R}^{D_{\\text{out}}\\times H},\\ \\vec{b}_2\\in\\set{R}^{D_{\\text{out}}}$\n",
    "    - $\\varphi(\\cdot) = \\mathrm{ReLU}(\\cdot) = \\max\\{\\cdot,0\\}$\n",
    "    - $H$ is the hidden dimension\n",
    "    - We'll set $D_{\\text{out}}=1$ so output is a scalar\n",
    "   "
   ]
  },
  {
   "cell_type": "markdown",
   "metadata": {
    "slideshow": {
     "slide_type": "slide"
    }
   },
   "source": [
    " \n",
    "- MSE loss with L2 regularization:\n",
    "    $$\n",
    "    \\begin{align}\n",
    "    \\ell(\\vec{y},\\vec{\\hat y}) &= \\frac{1}{2}\\norm{\\vec{\\hat y} - \\vec{y}}^2 \\\\\n",
    "    L_{\\mathcal{S}} &= \\frac{1}{N}\\sum_{i=1}^{N}\\ell(\\vec{y},\\vec{\\hat y}) + \\frac{\\lambda}{2}\\left(\\norm{\\mat{W}_1}_F^2 + \\norm{\\mat{W}_2}_F^2 \\right)\n",
    "    \\end{align}\n",
    "    $$\n",
    "- Optimization scheme: Vanilla SGD"
   ]
  },
  {
   "cell_type": "markdown",
   "metadata": {
    "slideshow": {
     "slide_type": "slide"
    }
   },
   "source": [
    "### Computing the loss gradients with backpropagation"
   ]
  },
  {
   "cell_type": "markdown",
   "metadata": {
    "slideshow": {
     "slide_type": "fragment"
    }
   },
   "source": [
    "Let's write our model as \n",
    "$$\n",
    "\\hat{y} =\\mat{W}_2~ \\underbrace{\\mathrm{relu}(\\overbrace{\\mat{W}_1 \\vec{x}+ \\vec{b}_1}^{\\vec{z}})}_{\\vec{a}} + \\vec{b}_2,\n",
    "$$\n",
    "\n",
    "and manually derive the gradient of the point-wise loss $\\ell(\\vec{y},\\vec{\\hat y})$ using the **chain rule**.\n",
    "Remember that to use SGD, we need the gradient of the loss w.r.t. our parameter tensors."
   ]
  },
  {
   "cell_type": "markdown",
   "metadata": {
    "slideshow": {
     "slide_type": "subslide"
    }
   },
   "source": [
    "$$\n",
    "\\begin{align}\n",
    "&\\pderiv{\\ell}{\\vec{\\hat y}}=2\\cdot\\frac{1}{2}(\\vec{\\hat y}-\\vec{y}) = (\\vec{\\hat y}-\\vec{y})\\\\\n",
    "(\\ast)~~&\\pderiv{\\ell}{\\mat{W}_2}= \\pderiv{\\ell}{\\vec{\\hat y}}\\pderiv{\\vec{\\hat y}}{\\mat{W}_2}\n",
    "=(\\vec{\\hat y}-\\vec{y})\\vectr{a}\n",
    "\\end{align}\n",
    "$$"
   ]
  },
  {
   "cell_type": "markdown",
   "metadata": {
    "slideshow": {
     "slide_type": "subslide"
    }
   },
   "source": [
    "How do we continue into the nonlinearity? Recall that we defined\n",
    "\n",
    "$$ \\pderiv{\\mathrm{relu}(x)}{x} = \\begin{cases} 1, & x\\geq0 \\\\ 0, & x<0 \\end{cases} $$\n",
    "\n",
    "and that we apply the non-linearity elementwise on input tensors.\n",
    "\n",
    "Also remember that the gradient of a vector w.r.t. another vector is the Jacobian, a matrix of mixed derivatives:\n",
    "$\\pderiv{a_i}{z_j}$.\n",
    "\n",
    "We have $\\vec{a}=\\mathrm{relu}(\\vec{z})$. Thus,\n",
    "\n",
    "$$\n",
    "\\pderiv{\\vec{a}}{\\vec{z}}=\\mathrm{diag}(\\mathbb{1}[\\vec{z}>0]).\n",
    "$$\n"
   ]
  },
  {
   "cell_type": "markdown",
   "metadata": {
    "slideshow": {
     "slide_type": "subslide"
    }
   },
   "source": [
    "And so,\n",
    "$$\n",
    "\\begin{align}\n",
    "&\\pderiv{\\ell}{\\vec{a}}=\\pderiv{\\vec{\\hat y}}{\\vec{a}}\\pderiv{\\ell}{\\vec{\\hat y}}\n",
    "=\\mattr{W}_2(\\vec{\\hat y}-\\vec{y})\\\\\n",
    "&\\pderiv{\\ell}{\\vec{z}}=\\pderiv{\\vec{a}}{\\vec{z}}\\pderiv{\\ell}{\\vec{a}}\n",
    "=\\mathrm{diag}(\\mathbb{1}[\\vec{z}>0])\\mattr{W}_2(\\vec{\\hat y}-\\vec{y})\\\\\n",
    "(\\ast)~~&\\pderiv{\\ell}{\\mat{W}_1}=\\pderiv{\\ell}{\\vec{z}}\\pderiv{\\vec{z}}{\\mat{W}_1}\n",
    "=\\mathrm{diag}(\\mathbb{1}[\\vec{z}>0])\\mattr{W}_2(\\vec{\\hat y}-\\vec{y})\\vectr{x}\\\\\n",
    "\\end{align}\n",
    "$$"
   ]
  },
  {
   "cell_type": "markdown",
   "metadata": {
    "slideshow": {
     "slide_type": "subslide"
    }
   },
   "source": [
    "For the biases, we can easily see that:\n",
    "$$\n",
    "\\begin{align}\n",
    "(\\ast)~~&\\pderiv{\\ell}{\\vec{b}_2}=\\pderiv{\\vec{\\hat y}}{\\vec{b}_2}\\pderiv{\\ell}{\\vec{\\hat y}}\n",
    "=I_{D_{\\text{out}}} \\pderiv{\\ell}{\\vec{\\hat y}} \\\\\n",
    "(\\ast)~~&\\pderiv{\\ell}{\\vec{b}_1}=\\pderiv{\\vec{z}}{\\vec{b}_1}\\pderiv{\\ell}{\\vec{z}}\n",
    "=I_{H}\\pderiv{\\ell}{\\vec{z}}\\\\\n",
    "\\end{align}\n",
    "$$"
   ]
  },
  {
   "cell_type": "markdown",
   "metadata": {
    "slideshow": {
     "slide_type": "subslide"
    }
   },
   "source": [
    "The final gradients for weight update, including regularization will be\n",
    "\n",
    "$$\n",
    "\\nabla_{\\mat{W}_j}L_{\\mathcal{S}}=\\frac{1}{N}\\sum_{i=1}^{N} \\pderiv{\\ell_i}{\\mat{W}_j} + \\lambda\\mat{W}_j, \\ j=1,2.\n",
    "$$"
   ]
  },
  {
   "cell_type": "markdown",
   "metadata": {
    "slideshow": {
     "slide_type": "subslide"
    }
   },
   "source": [
    "Let's implement it from scratch using just `numpy`."
   ]
  },
  {
   "cell_type": "code",
   "execution_count": 6,
   "metadata": {
    "execution": {
     "iopub.execute_input": "2021-05-06T06:05:50.765583Z",
     "iopub.status.busy": "2021-05-06T06:05:50.765098Z",
     "iopub.status.idle": "2021-05-06T06:05:50.793785Z",
     "shell.execute_reply": "2021-05-06T06:05:50.794381Z"
    },
    "slideshow": {
     "slide_type": "subslide"
    }
   },
   "outputs": [],
   "source": [
    "# A simple MLP with one hidden layer\n",
    "\n",
    "# N: batch size\n",
    "# D_in: number of features\n",
    "N, D_in =  64, 10\n",
    "# H: hidden-layer\n",
    "# D_out: output dimension\n",
    "H, D_out =  100, 1\n",
    "\n",
    "# Random input data\n",
    "X = np.random.randn(N, D_in)\n",
    "y = np.random.randn(N, D_out)\n",
    "\n",
    "# Model weights and biases\n",
    "wstd = 0.01\n",
    "W1 = np.random.randn(H, D_in)*wstd\n",
    "b1 = np.random.randn(H,)*wstd + 0.1\n",
    "W2 = np.random.randn(D_out, H)*wstd\n",
    "b2 = np.random.randn(D_out,)*wstd + 0.1\n",
    "\n",
    "reg_lambda = 0.5\n",
    "learning_rate = 1e-3"
   ]
  },
  {
   "cell_type": "code",
   "execution_count": 7,
   "metadata": {
    "execution": {
     "iopub.execute_input": "2021-05-06T06:05:50.799749Z",
     "iopub.status.busy": "2021-05-06T06:05:50.799193Z",
     "iopub.status.idle": "2021-05-06T06:05:50.925423Z",
     "shell.execute_reply": "2021-05-06T06:05:50.925994Z"
    },
    "scrolled": true,
    "slideshow": {
     "slide_type": "subslide"
    }
   },
   "outputs": [
    {
     "name": "stdout",
     "output_type": "stream",
     "text": [
      ".........................................................................................................................................................................................................................................................."
     ]
    }
   ],
   "source": [
    "losses = []\n",
    "for epoch in range(250):\n",
    "    # Forward pass, hidden layer: A = relu(X W1 + b1), Shape: (N, H)\n",
    "    Z = X.dot(W1.T) + b1\n",
    "    A = np.maximum(Z, 0)\n",
    "    \n",
    "    # Forward pass, output layer: Y_hat = A W2 + b2, Shape: (N, D_out)\n",
    "    Y_hat = A.dot(W2.T) + b2\n",
    "    \n",
    "    # Loss calculation (MSE)\n",
    "    loss = np.mean((Y_hat - y) ** 2); losses.append(loss) # (N, D_out)\n",
    "    \n",
    "    # Backward pass:  Output layer\n",
    "    d_Y_hat = (1./N) * (Y_hat - y)     # (N, D_out)\n",
    "    d_W2 = d_Y_hat.T.dot(A)            # (D_out, H)\n",
    "    d_A = d_Y_hat.dot(W2)              # (N, H)\n",
    "    d_b2 = np.sum(d_Y_hat, axis=0)     # (D_out,)\n",
    "    \n",
    "    # Backward pass: Hidden layer\n",
    "    d_Z = d_A * np.array(Z > 0, dtype=np.float)  # (N, H)\n",
    "    d_W1 = d_Z.T.dot(X)                          # (H, D_in)\n",
    "    d_b1 = np.sum(d_Z, axis=0)                   # (H,)\n",
    "    \n",
    "    # Backward pass: Regularization term\n",
    "    d_W2 += reg_lambda * W2\n",
    "    d_W1 += reg_lambda * W1\n",
    "    \n",
    "    # Gradient descent step\n",
    "    W2 -= d_W2 * learning_rate; b2 -= d_b2 * learning_rate\n",
    "    W1 -= d_W1 * learning_rate; b1 -= d_b1 * learning_rate\n",
    "    print('.', end='')"
   ]
  },
  {
   "cell_type": "code",
   "execution_count": 8,
   "metadata": {
    "execution": {
     "iopub.execute_input": "2021-05-06T06:05:50.929259Z",
     "iopub.status.busy": "2021-05-06T06:05:50.928652Z",
     "iopub.status.idle": "2021-05-06T06:05:51.053249Z",
     "shell.execute_reply": "2021-05-06T06:05:51.053843Z"
    },
    "slideshow": {
     "slide_type": "subslide"
    }
   },
   "outputs": [
    {
     "data": {
      "image/png": "[encoded data removed]",
      "text/plain": [
       "<Figure size 720x360 with 1 Axes>"
      ]
     },
     "metadata": {
      "needs_background": "light"
     },
     "output_type": "display_data"
    }
   ],
   "source": [
    "# Plot losses\n",
    "_, ax = plt.subplots(figsize=(10,5))\n",
    "ax.plot(losses)\n",
    "ax.set_ylabel('MSE loss'); ax.set_xlabel('Epoch');"
   ]
  },
  {
   "cell_type": "markdown",
   "metadata": {
    "slideshow": {
     "slide_type": "subslide"
    }
   },
   "source": [
    "Note that this implementation is not ideal, as it's:"
   ]
  },
  {
   "cell_type": "markdown",
   "metadata": {
    "slideshow": {
     "slide_type": "fragment"
    }
   },
   "source": [
    "- Non modular (hard to switch components)\n",
    "- Hard to extend (e.g. to add layers)\n",
    "- Error prone (hard-coded manual calculations)"
   ]
  },
  {
   "cell_type": "markdown",
   "metadata": {
    "slideshow": {
     "slide_type": "fragment"
    }
   },
   "source": [
    "But it works!\n",
    "- In HW2, you'll implement a from scratch MLP that addresses these concerns.\n",
    "- And now, we'll see how to address these issues using PyTorch's API."
   ]
  },
  {
   "cell_type": "markdown",
   "metadata": {
    "slideshow": {
     "slide_type": "slide"
    }
   },
   "source": [
    "## Part 2: N-Layer MLP using PyTorch"
   ]
  },
  {
   "cell_type": "markdown",
   "metadata": {
    "slideshow": {
     "slide_type": "fragment"
    }
   },
   "source": [
    "Let's create all our usual components:\n",
    "- Dataset\n",
    "- Model\n",
    "- Loss function\n",
    "- Optimizer\n",
    "\n",
    "But this time we'll create a modular implementation where each of these components is separate and can be changed independently of the others."
   ]
  },
  {
   "cell_type": "markdown",
   "metadata": {
    "slideshow": {
     "slide_type": "subslide"
    }
   },
   "source": [
    "### Dataset"
   ]
  },
  {
   "cell_type": "markdown",
   "metadata": {
    "slideshow": {
     "slide_type": "fragment"
    }
   },
   "source": [
    "As in the previous tutorial we'll tackle an image classification task, the MNIST database of handwritten digits."
   ]
  },
  {
   "cell_type": "code",
   "execution_count": 9,
   "metadata": {
    "execution": {
     "iopub.execute_input": "2021-05-06T06:05:51.057759Z",
     "iopub.status.busy": "2021-05-06T06:05:51.057036Z",
     "iopub.status.idle": "2021-05-06T06:05:51.122188Z",
     "shell.execute_reply": "2021-05-06T06:05:51.122511Z"
    },
    "slideshow": {
     "slide_type": "subslide"
    }
   },
   "outputs": [],
   "source": [
    "import torch\n",
    "import torch.utils.data\n",
    "import torchvision\n",
    "import torchvision.transforms\n",
    "\n",
    "root_dir = os.path.expanduser('~/.pytorch-datasets/')"
   ]
  },
  {
   "cell_type": "code",
   "execution_count": 10,
   "metadata": {
    "execution": {
     "iopub.execute_input": "2021-05-06T06:05:51.128526Z",
     "iopub.status.busy": "2021-05-06T06:05:51.128053Z",
     "iopub.status.idle": "2021-05-06T06:05:51.184958Z",
     "shell.execute_reply": "2021-05-06T06:05:51.185529Z"
    },
    "slideshow": {
     "slide_type": "subslide"
    }
   },
   "outputs": [
    {
     "name": "stdout",
     "output_type": "stream",
     "text": [
      "x0: torch.Size([1, 28, 28]), y0: 5\n"
     ]
    }
   ],
   "source": [
    "tf_ds = torchvision.transforms.ToTensor()\n",
    "\n",
    "batch_size = 512\n",
    "train_size = batch_size * 10\n",
    "test_size = batch_size * 2\n",
    "\n",
    "# Datasets and loaders\n",
    "ds_train = torchvision.datasets.MNIST(root=root_dir, download=True, train=True, transform=tf_ds)\n",
    "dl_train = torch.utils.data.DataLoader(ds_train, batch_size,\n",
    "                                       sampler=torch.utils.data.SubsetRandomSampler(range(0,train_size)))\n",
    "ds_test =  torchvision.datasets.MNIST(root=root_dir, download=True, train=False, transform=tf_ds)\n",
    "dl_test = torch.utils.data.DataLoader(ds_test, batch_size,\n",
    "                                       sampler=torch.utils.data.SubsetRandomSampler(range(0,test_size)))\n",
    "\n",
    "x0, y0 = ds_train[0]\n",
    "n_features = torch.numel(x0)\n",
    "n_classes = 10\n",
    "\n",
    "print(f'x0: {x0.shape}, y0: {y0}')"
   ]
  },
  {
   "cell_type": "code",
   "execution_count": 14,
   "metadata": {
    "execution": {
     "iopub.execute_input": "2021-05-06T06:05:51.188929Z",
     "iopub.status.busy": "2021-05-06T06:05:51.188421Z",
     "iopub.status.idle": "2021-05-06T06:05:51.488462Z",
     "shell.execute_reply": "2021-05-06T06:05:51.488953Z"
    },
    "slideshow": {
     "slide_type": "subslide"
    }
   },
   "outputs": [
    {
     "ename": "ModuleNotFoundError",
     "evalue": "No module named 'plot_utils'",
     "output_type": "error",
     "traceback": [
      "\u001b[1;31m---------------------------------------------------------------------------\u001b[0m",
      "\u001b[1;31mModuleNotFoundError\u001b[0m                       Traceback (most recent call last)",
      "\u001b[1;32m<ipython-input-14-87ad2a74ad47>\u001b[0m in \u001b[0;36m<module>\u001b[1;34m\u001b[0m\n\u001b[0;32m      1\u001b[0m \u001b[1;32mimport\u001b[0m \u001b[0msys\u001b[0m\u001b[1;33m\u001b[0m\u001b[1;33m\u001b[0m\u001b[0m\n\u001b[0;32m      2\u001b[0m \u001b[0msys\u001b[0m\u001b[1;33m.\u001b[0m\u001b[0mpath\u001b[0m\u001b[1;33m.\u001b[0m\u001b[0mappend\u001b[0m\u001b[1;33m(\u001b[0m\u001b[1;34m'.'\u001b[0m\u001b[1;33m)\u001b[0m\u001b[1;33m\u001b[0m\u001b[1;33m\u001b[0m\u001b[0m\n\u001b[1;32m----> 3\u001b[1;33m \u001b[1;32mimport\u001b[0m \u001b[0mplot_utils\u001b[0m \u001b[1;32mas\u001b[0m \u001b[0mplot_utils\u001b[0m\u001b[1;33m\u001b[0m\u001b[1;33m\u001b[0m\u001b[0m\n\u001b[0m\u001b[0;32m      4\u001b[0m \u001b[1;31m# Show first few samples\u001b[0m\u001b[1;33m\u001b[0m\u001b[1;33m\u001b[0m\u001b[1;33m\u001b[0m\u001b[0m\n\u001b[0;32m      5\u001b[0m \u001b[0mprint\u001b[0m\u001b[1;33m(\u001b[0m\u001b[1;34mf'x0: {x0.shape}, y0: {y0}'\u001b[0m\u001b[1;33m)\u001b[0m\u001b[1;33m\u001b[0m\u001b[1;33m\u001b[0m\u001b[0m\n",
      "\u001b[1;31mModuleNotFoundError\u001b[0m: No module named 'plot_utils'"
     ]
    }
   ],
   "source": [
    "import sys\n",
    "sys.path.append('.')\n",
    "import plot_utils as plot_utils\n",
    "# Show first few samples\n",
    "print(f'x0: {x0.shape}, y0: {y0}')\n",
    "plot_utils.dataset_first_n(ds_train, 10, cmap='gray', show_classes=True);"
   ]
  },
  {
   "cell_type": "markdown",
   "metadata": {
    "slideshow": {
     "slide_type": "subslide"
    }
   },
   "source": [
    "### Model Implementation"
   ]
  },
  {
   "cell_type": "markdown",
   "metadata": {
    "slideshow": {
     "slide_type": "fragment"
    }
   },
   "source": [
    "- The `torch.nn` module contains building blocks such as neural network layers,\n",
    "  loss functions, activations and more.\n",
    "- In this section, we'll see various parts of the `torch.nn` API.\n",
    "- We'll use `nn.Linear` which implements a single MLP layer.\n",
    "- We'll implement our model as a subclass of `nn.Module`, which means:\n",
    "    - Any tensors we set as properties will be registered as model parameters.\n",
    "    - We can nest `nn.Modules` and get all model parameters from the top-level `nn.Module`.\n",
    "    - Can be used as a function if we implement the `forward()` method."
   ]
  },
  {
   "cell_type": "markdown",
   "metadata": {
    "slideshow": {
     "slide_type": "subslide"
    }
   },
   "source": [
    "To understand `nn.Module`, lets look at a very basic one: the **fully-connected** layer."
   ]
  },
  {
   "cell_type": "code",
   "execution_count": 16,
   "metadata": {
    "execution": {
     "iopub.execute_input": "2021-05-06T06:05:51.492641Z",
     "iopub.status.busy": "2021-05-06T06:05:51.492155Z",
     "iopub.status.idle": "2021-05-06T06:05:51.520279Z",
     "shell.execute_reply": "2021-05-06T06:05:51.520839Z"
    },
    "slideshow": {
     "slide_type": "fragment"
    }
   },
   "outputs": [
    {
     "data": {
      "text/plain": [
       "tensor([[0.3923, 0.7557, 0.7745, 0.0300, 0.7477]], grad_fn=<AddmmBackward>)"
      ]
     },
     "execution_count": 16,
     "metadata": {},
     "output_type": "execute_result"
    }
   ],
   "source": [
    "import torch.nn as nn\n",
    "\n",
    "fc = nn.Linear(in_features=3, out_features=5, bias=True)\n",
    "\n",
    "# Input tensor with 10 samples of 3 features\n",
    "t = torch.randn(1, 3)\n",
    "\n",
    "# Forward pass, notice that grad_fn exists\n",
    "fc(t)"
   ]
  },
  {
   "cell_type": "markdown",
   "metadata": {
    "slideshow": {
     "slide_type": "subslide"
    }
   },
   "source": [
    "`nn.Modules` have registered **parameters**, which are tensors which `require_grad`."
   ]
  },
  {
   "cell_type": "code",
   "execution_count": 17,
   "metadata": {
    "execution": {
     "iopub.execute_input": "2021-05-06T06:05:51.523614Z",
     "iopub.status.busy": "2021-05-06T06:05:51.523140Z",
     "iopub.status.idle": "2021-05-06T06:05:51.550562Z",
     "shell.execute_reply": "2021-05-06T06:05:51.551115Z"
    },
    "slideshow": {
     "slide_type": "fragment"
    }
   },
   "outputs": [
    {
     "name": "stdout",
     "output_type": "stream",
     "text": [
      "Parameter #0 of shape torch.Size([5, 3]):\n",
      "tensor([[ 0.4414,  0.4792, -0.1353],\n",
      "        [ 0.5304, -0.1265,  0.1165],\n",
      "        [-0.2811,  0.3391,  0.5090],\n",
      "        [-0.4236,  0.5018,  0.1081],\n",
      "        [ 0.4266,  0.0782,  0.2784]])\n",
      "\n",
      "Parameter #1 of shape torch.Size([5]):\n",
      "tensor([-0.0815,  0.4451,  0.0853, -0.2695,  0.1472])\n",
      "\n"
     ]
    }
   ],
   "source": [
    "# Note parameter shapes\n",
    "for i, param in enumerate(fc.parameters()):\n",
    "    print(f\"Parameter #{i} of shape {param.shape}:\\n{param.data}\\n\")"
   ]
  },
  {
   "cell_type": "markdown",
   "metadata": {
    "slideshow": {
     "slide_type": "subslide"
    }
   },
   "source": [
    "We can create custom `nn.Module`s with arbitrary logic. \n",
    "\n",
    "Let's recreate a fully-connected layer ourselves:"
   ]
  },
  {
   "cell_type": "code",
   "execution_count": 24,
   "metadata": {
    "execution": {
     "iopub.execute_input": "2021-05-06T06:05:51.555214Z",
     "iopub.status.busy": "2021-05-06T06:05:51.554725Z",
     "iopub.status.idle": "2021-05-06T06:05:51.581317Z",
     "shell.execute_reply": "2021-05-06T06:05:51.581882Z"
    },
    "slideshow": {
     "slide_type": "fragment"
    }
   },
   "outputs": [],
   "source": [
    "class MyFullyConnectedLayer(nn.Module):\n",
    "    \n",
    "    def __init__(self, in_features, out_features):\n",
    "        super().__init__() # don't forget this!\n",
    "        \n",
    "        # nn.Parameter just marks W,b for inclusion in list of parameters\n",
    "        self.W = nn.Parameter(torch.randn(out_features, in_features, requires_grad=False))\n",
    "        self.b = nn.Parameter(torch.randn(out_features, requires_grad=True))\n",
    "                \n",
    "    def forward(self, x):\n",
    "        # x assumed to be (N, in_features)\n",
    "        z = torch.matmul(x, self.W.transpose(0, 1)) + self.b\n",
    "        \n",
    "        # Our custom FC layer multiplies all outputs by 3 for no good reason\n",
    "        return 3 * z"
   ]
  },
  {
   "cell_type": "code",
   "execution_count": 25,
   "metadata": {
    "execution": {
     "iopub.execute_input": "2021-05-06T06:05:51.584813Z",
     "iopub.status.busy": "2021-05-06T06:05:51.584336Z",
     "iopub.status.idle": "2021-05-06T06:05:51.610648Z",
     "shell.execute_reply": "2021-05-06T06:05:51.611204Z"
    },
    "slideshow": {
     "slide_type": "subslide"
    }
   },
   "outputs": [],
   "source": [
    "myfc = MyFullyConnectedLayer(in_features=3, out_features=5)"
   ]
  },
  {
   "cell_type": "code",
   "execution_count": 21,
   "metadata": {
    "execution": {
     "iopub.execute_input": "2021-05-06T06:05:51.614053Z",
     "iopub.status.busy": "2021-05-06T06:05:51.613580Z",
     "iopub.status.idle": "2021-05-06T06:05:51.641014Z",
     "shell.execute_reply": "2021-05-06T06:05:51.641566Z"
    },
    "slideshow": {
     "slide_type": "fragment"
    }
   },
   "outputs": [
    {
     "data": {
      "text/plain": [
       "tensor([[-2.0717,  3.1339,  4.3401,  4.5292,  0.9648]], grad_fn=<MulBackward0>)"
      ]
     },
     "execution_count": 21,
     "metadata": {},
     "output_type": "execute_result"
    }
   ],
   "source": [
    "myfc(t)"
   ]
  },
  {
   "cell_type": "code",
   "execution_count": 22,
   "metadata": {
    "execution": {
     "iopub.execute_input": "2021-05-06T06:05:51.644410Z",
     "iopub.status.busy": "2021-05-06T06:05:51.643920Z",
     "iopub.status.idle": "2021-05-06T06:05:51.671299Z",
     "shell.execute_reply": "2021-05-06T06:05:51.671807Z"
    },
    "slideshow": {
     "slide_type": "subslide"
    }
   },
   "outputs": [
    {
     "data": {
      "text/plain": [
       "[Parameter containing:\n",
       " tensor([[-1.6898, -0.9890,  0.9580],\n",
       "         [ 1.3221,  0.8172, -0.7658],\n",
       "         [-0.7506,  1.3525,  0.6863],\n",
       "         [-0.3278,  0.7950,  0.2815],\n",
       "         [ 0.0562,  0.5227, -0.2384]], requires_grad=True),\n",
       " Parameter containing:\n",
       " tensor([-0.0499,  0.5263, -0.0085,  0.7291,  0.1331], requires_grad=True)]"
      ]
     },
     "execution_count": 22,
     "metadata": {},
     "output_type": "execute_result"
    }
   ],
   "source": [
    "list(myfc.parameters())"
   ]
  },
  {
   "cell_type": "markdown",
   "metadata": {
    "slideshow": {
     "slide_type": "subslide"
    }
   },
   "source": [
    "Quick visualization of our custom module's **computation graph**:"
   ]
  },
  {
   "cell_type": "code",
   "execution_count": 26,
   "metadata": {
    "execution": {
     "iopub.execute_input": "2021-05-06T06:05:51.674956Z",
     "iopub.status.busy": "2021-05-06T06:05:51.674474Z",
     "iopub.status.idle": "2021-05-06T06:05:51.793273Z",
     "shell.execute_reply": "2021-05-06T06:05:51.793925Z"
    },
    "slideshow": {
     "slide_type": "fragment"
    }
   },
   "outputs": [
    {
     "data": {
      "image/svg+xml": [
       "<?xml version=\"1.0\" encoding=\"UTF-8\" standalone=\"no\"?>\r\n",
       "<!DOCTYPE svg PUBLIC \"-//W3C//DTD SVG 1.1//EN\"\r\n",
       " \"http://www.w3.org/Graphics/SVG/1.1/DTD/svg11.dtd\">\r\n",
       "<!-- Generated by graphviz version 2.38.0 (20140413.2041)\r\n",
       " -->\r\n",
       "<!-- Title: %3 Pages: 1 -->\r\n",
       "<svg width=\"228pt\" height=\"391pt\"\r\n",
       " viewBox=\"0.00 0.00 228.00 391.00\" xmlns=\"http://www.w3.org/2000/svg\" xmlns:xlink=\"http://www.w3.org/1999/xlink\">\r\n",
       "<g id=\"graph0\" class=\"graph\" transform=\"scale(1 1) rotate(0) translate(4 387)\">\r\n",
       "<title>%3</title>\r\n",
       "<polygon fill=\"white\" stroke=\"none\" points=\"-4,4 -4,-387 224,-387 224,4 -4,4\"/>\r\n",
       "<!-- 1893775094208 -->\r\n",
       "<g id=\"node1\" class=\"node\"><title>1893775094208</title>\r\n",
       "<polygon fill=\"#caff70\" stroke=\"black\" points=\"145,-31 86,-31 86,-0 145,-0 145,-31\"/>\r\n",
       "<text text-anchor=\"middle\" x=\"115.5\" y=\"-7\" font-family=\"monospace\" font-size=\"10.00\"> (1, 5)</text>\r\n",
       "</g>\r\n",
       "<!-- 1893775241072 -->\r\n",
       "<g id=\"node2\" class=\"node\"><title>1893775241072</title>\r\n",
       "<polygon fill=\"lightgrey\" stroke=\"black\" points=\"160,-86 71,-86 71,-67 160,-67 160,-86\"/>\r\n",
       "<text text-anchor=\"middle\" x=\"115.5\" y=\"-74\" font-family=\"monospace\" font-size=\"10.00\">MulBackward0</text>\r\n",
       "</g>\r\n",
       "<!-- 1893775241072&#45;&gt;1893775094208 -->\r\n",
       "<g id=\"edge8\" class=\"edge\"><title>1893775241072&#45;&gt;1893775094208</title>\r\n",
       "<path fill=\"none\" stroke=\"black\" d=\"M115.5,-66.7943C115.5,-60.0669 115.5,-50.404 115.5,-41.3425\"/>\r\n",
       "<polygon fill=\"black\" stroke=\"black\" points=\"119,-41.1932 115.5,-31.1933 112,-41.1933 119,-41.1932\"/>\r\n",
       "</g>\r\n",
       "<!-- 1893775240832 -->\r\n",
       "<g id=\"node3\" class=\"node\"><title>1893775240832</title>\r\n",
       "<polygon fill=\"lightgrey\" stroke=\"black\" points=\"160,-141 71,-141 71,-122 160,-122 160,-141\"/>\r\n",
       "<text text-anchor=\"middle\" x=\"115.5\" y=\"-129\" font-family=\"monospace\" font-size=\"10.00\">AddBackward0</text>\r\n",
       "</g>\r\n",
       "<!-- 1893775240832&#45;&gt;1893775241072 -->\r\n",
       "<g id=\"edge1\" class=\"edge\"><title>1893775240832&#45;&gt;1893775241072</title>\r\n",
       "<path fill=\"none\" stroke=\"black\" d=\"M115.5,-121.748C115.5,-114.802 115.5,-104.845 115.5,-96.1349\"/>\r\n",
       "<polygon fill=\"black\" stroke=\"black\" points=\"119,-96.089 115.5,-86.089 112,-96.0891 119,-96.089\"/>\r\n",
       "</g>\r\n",
       "<!-- 1893775241168 -->\r\n",
       "<g id=\"node4\" class=\"node\"><title>1893775241168</title>\r\n",
       "<polygon fill=\"lightgrey\" stroke=\"black\" points=\"101,-196 24,-196 24,-177 101,-177 101,-196\"/>\r\n",
       "<text text-anchor=\"middle\" x=\"62.5\" y=\"-184\" font-family=\"monospace\" font-size=\"10.00\">MmBackward</text>\r\n",
       "</g>\r\n",
       "<!-- 1893775241168&#45;&gt;1893775240832 -->\r\n",
       "<g id=\"edge2\" class=\"edge\"><title>1893775241168&#45;&gt;1893775240832</title>\r\n",
       "<path fill=\"none\" stroke=\"black\" d=\"M71.2519,-176.748C78.9697,-169.03 90.4047,-157.595 99.7165,-148.283\"/>\r\n",
       "<polygon fill=\"black\" stroke=\"black\" points=\"102.315,-150.635 106.911,-141.089 97.365,-145.685 102.315,-150.635\"/>\r\n",
       "</g>\r\n",
       "<!-- 1893775239152 -->\r\n",
       "<g id=\"node5\" class=\"node\"><title>1893775239152</title>\r\n",
       "<polygon fill=\"lightgrey\" stroke=\"black\" points=\"125,-256.5 0,-256.5 0,-237.5 125,-237.5 125,-256.5\"/>\r\n",
       "<text text-anchor=\"middle\" x=\"62.5\" y=\"-244.5\" font-family=\"monospace\" font-size=\"10.00\">TransposeBackward0</text>\r\n",
       "</g>\r\n",
       "<!-- 1893775239152&#45;&gt;1893775241168 -->\r\n",
       "<g id=\"edge3\" class=\"edge\"><title>1893775239152&#45;&gt;1893775241168</title>\r\n",
       "<path fill=\"none\" stroke=\"black\" d=\"M62.5,-237.368C62.5,-229.246 62.5,-216.807 62.5,-206.385\"/>\r\n",
       "<polygon fill=\"black\" stroke=\"black\" points=\"66.0001,-206.167 62.5,-196.167 59.0001,-206.167 66.0001,-206.167\"/>\r\n",
       "</g>\r\n",
       "<!-- 1893775240976 -->\r\n",
       "<g id=\"node6\" class=\"node\"><title>1893775240976</title>\r\n",
       "<polygon fill=\"lightgrey\" stroke=\"black\" points=\"113,-317 12,-317 12,-298 113,-298 113,-317\"/>\r\n",
       "<text text-anchor=\"middle\" x=\"62.5\" y=\"-305\" font-family=\"monospace\" font-size=\"10.00\">AccumulateGrad</text>\r\n",
       "</g>\r\n",
       "<!-- 1893775240976&#45;&gt;1893775239152 -->\r\n",
       "<g id=\"edge4\" class=\"edge\"><title>1893775240976&#45;&gt;1893775239152</title>\r\n",
       "<path fill=\"none\" stroke=\"black\" d=\"M62.5,-297.868C62.5,-289.746 62.5,-277.307 62.5,-266.885\"/>\r\n",
       "<polygon fill=\"black\" stroke=\"black\" points=\"66.0001,-266.667 62.5,-256.667 59.0001,-266.667 66.0001,-266.667\"/>\r\n",
       "</g>\r\n",
       "<!-- 1893774493056 -->\r\n",
       "<g id=\"node7\" class=\"node\"><title>1893774493056</title>\r\n",
       "<polygon fill=\"lightblue\" stroke=\"black\" points=\"92,-383 33,-383 33,-353 92,-353 92,-383\"/>\r\n",
       "<text text-anchor=\"middle\" x=\"62.5\" y=\"-371\" font-family=\"monospace\" font-size=\"10.00\">W</text>\r\n",
       "<text text-anchor=\"middle\" x=\"62.5\" y=\"-360\" font-family=\"monospace\" font-size=\"10.00\"> (5, 3)</text>\r\n",
       "</g>\r\n",
       "<!-- 1893774493056&#45;&gt;1893775240976 -->\r\n",
       "<g id=\"edge5\" class=\"edge\"><title>1893774493056&#45;&gt;1893775240976</title>\r\n",
       "<path fill=\"none\" stroke=\"black\" d=\"M62.5,-352.839C62.5,-345.214 62.5,-335.704 62.5,-327.45\"/>\r\n",
       "<polygon fill=\"black\" stroke=\"black\" points=\"66.0001,-327.266 62.5,-317.266 59.0001,-327.266 66.0001,-327.266\"/>\r\n",
       "</g>\r\n",
       "<!-- 1893775241024 -->\r\n",
       "<g id=\"node8\" class=\"node\"><title>1893775241024</title>\r\n",
       "<polygon fill=\"lightgrey\" stroke=\"black\" points=\"220,-196 119,-196 119,-177 220,-177 220,-196\"/>\r\n",
       "<text text-anchor=\"middle\" x=\"169.5\" y=\"-184\" font-family=\"monospace\" font-size=\"10.00\">AccumulateGrad</text>\r\n",
       "</g>\r\n",
       "<!-- 1893775241024&#45;&gt;1893775240832 -->\r\n",
       "<g id=\"edge6\" class=\"edge\"><title>1893775241024&#45;&gt;1893775240832</title>\r\n",
       "<path fill=\"none\" stroke=\"black\" d=\"M160.583,-176.748C152.72,-169.03 141.069,-157.595 131.581,-148.283\"/>\r\n",
       "<polygon fill=\"black\" stroke=\"black\" points=\"133.84,-145.596 124.251,-141.089 128.936,-150.592 133.84,-145.596\"/>\r\n",
       "</g>\r\n",
       "<!-- 1893774760192 -->\r\n",
       "<g id=\"node9\" class=\"node\"><title>1893774760192</title>\r\n",
       "<polygon fill=\"lightblue\" stroke=\"black\" points=\"197.5,-262 143.5,-262 143.5,-232 197.5,-232 197.5,-262\"/>\r\n",
       "<text text-anchor=\"middle\" x=\"170.5\" y=\"-250\" font-family=\"monospace\" font-size=\"10.00\">b</text>\r\n",
       "<text text-anchor=\"middle\" x=\"170.5\" y=\"-239\" font-family=\"monospace\" font-size=\"10.00\"> (5)</text>\r\n",
       "</g>\r\n",
       "<!-- 1893774760192&#45;&gt;1893775241024 -->\r\n",
       "<g id=\"edge7\" class=\"edge\"><title>1893774760192&#45;&gt;1893775241024</title>\r\n",
       "<path fill=\"none\" stroke=\"black\" d=\"M170.258,-231.839C170.128,-224.214 169.965,-214.704 169.824,-206.45\"/>\r\n",
       "<polygon fill=\"black\" stroke=\"black\" points=\"173.32,-206.205 169.65,-196.266 166.321,-206.324 173.32,-206.205\"/>\r\n",
       "</g>\r\n",
       "</g>\r\n",
       "</svg>\r\n"
      ],
      "text/plain": [
       "<graphviz.dot.Digraph at 0x1b8edccea00>"
      ]
     },
     "execution_count": 26,
     "metadata": {},
     "output_type": "execute_result"
    }
   ],
   "source": [
    "import torchviz\n",
    "torchviz.make_dot(myfc(t), params=dict(W=myfc.W, b=myfc.b))"
   ]
  },
  {
   "cell_type": "markdown",
   "metadata": {
    "slideshow": {
     "slide_type": "subslide"
    }
   },
   "source": [
    "Now that we know about `nn.Module`s, lets create an fairly-general MLP for multiclass classification."
   ]
  },
  {
   "cell_type": "code",
   "execution_count": 27,
   "metadata": {
    "execution": {
     "iopub.execute_input": "2021-05-06T06:05:51.801400Z",
     "iopub.status.busy": "2021-05-06T06:05:51.800819Z",
     "iopub.status.idle": "2021-05-06T06:05:51.833955Z",
     "shell.execute_reply": "2021-05-06T06:05:51.834336Z"
    },
    "slideshow": {
     "slide_type": "subslide"
    }
   },
   "outputs": [],
   "source": [
    "class MLP(torch.nn.Module):\n",
    "    NLS = {'relu': torch.nn.ReLU, 'tanh': nn.Tanh, 'sigmoid': nn.Sigmoid, 'softmax': nn.Softmax, 'logsoftmax': nn.LogSoftmax}\n",
    "\n",
    "    def __init__(self, D_in: int, hidden_dims: Sequence[int], D_out: int, nonlin='relu'):\n",
    "        super().__init__()\n",
    "        \n",
    "        all_dims = [D_in, *hidden_dims, D_out]\n",
    "        non_linearity = MLP.NLS[nonlin]\n",
    "        layers = []\n",
    "        \n",
    "        for in_dim, out_dim in zip(all_dims[:-1], all_dims[1:]):\n",
    "            layers += [\n",
    "                nn.Linear(in_dim, out_dim, bias=True),\n",
    "                non_linearity()\n",
    "            ]\n",
    "        \n",
    "        # Sequential is a container for layers\n",
    "        self.fc_layers = nn.Sequential(*layers[:-1])\n",
    "        \n",
    "        # Output non-linearity\n",
    "        self.log_softmax = nn.LogSoftmax(dim=1)\n",
    "\n",
    "    def forward(self, x):\n",
    "        x = torch.reshape(x, (x.shape[0], -1))\n",
    "        z = self.fc_layers(x)\n",
    "        y_pred = self.log_softmax(z)\n",
    "        # Output is always log-probability\n",
    "        return y_pred"
   ]
  },
  {
   "cell_type": "code",
   "execution_count": 28,
   "metadata": {
    "execution": {
     "iopub.execute_input": "2021-05-06T06:05:51.837660Z",
     "iopub.status.busy": "2021-05-06T06:05:51.837141Z",
     "iopub.status.idle": "2021-05-06T06:05:51.864715Z",
     "shell.execute_reply": "2021-05-06T06:05:51.865228Z"
    },
    "slideshow": {
     "slide_type": "subslide"
    }
   },
   "outputs": [
    {
     "name": "stdout",
     "output_type": "stream",
     "text": [
      "MLP(\n",
      "  (fc_layers): Sequential(\n",
      "    (0): Linear(in_features=784, out_features=32, bias=True)\n",
      "    (1): Tanh()\n",
      "    (2): Linear(in_features=32, out_features=64, bias=True)\n",
      "    (3): Tanh()\n",
      "    (4): Linear(in_features=64, out_features=128, bias=True)\n",
      "    (5): Tanh()\n",
      "    (6): Linear(in_features=128, out_features=64, bias=True)\n",
      "    (7): Tanh()\n",
      "    (8): Linear(in_features=64, out_features=10, bias=True)\n",
      "  )\n",
      "  (log_softmax): LogSoftmax(dim=1)\n",
      ")\n"
     ]
    }
   ],
   "source": [
    "# Create an instance of the model: 5-layer MLP\n",
    "mlp5 = MLP(D_in=n_features, hidden_dims=[32, 64, 128, 64], D_out=n_classes, nonlin='tanh')\n",
    "\n",
    "print(mlp5)"
   ]
  },
  {
   "cell_type": "code",
   "execution_count": 29,
   "metadata": {
    "execution": {
     "iopub.execute_input": "2021-05-06T06:05:51.868232Z",
     "iopub.status.busy": "2021-05-06T06:05:51.867753Z",
     "iopub.status.idle": "2021-05-06T06:05:51.895960Z",
     "shell.execute_reply": "2021-05-06T06:05:51.896670Z"
    },
    "slideshow": {
     "slide_type": "fragment"
    }
   },
   "outputs": [
    {
     "name": "stdout",
     "output_type": "stream",
     "text": [
      "number of parameter tensors: 10\n"
     ]
    }
   ],
   "source": [
    "# Parameter tensors in nested nn.Modules are automatically discovered.\n",
    "print(f'number of parameter tensors: {len(list(mlp5.parameters()))}')"
   ]
  },
  {
   "cell_type": "code",
   "execution_count": 30,
   "metadata": {
    "execution": {
     "iopub.execute_input": "2021-05-06T06:05:51.900699Z",
     "iopub.status.busy": "2021-05-06T06:05:51.900139Z",
     "iopub.status.idle": "2021-05-06T06:05:51.928199Z",
     "shell.execute_reply": "2021-05-06T06:05:51.928711Z"
    },
    "slideshow": {
     "slide_type": "fragment"
    }
   },
   "outputs": [
    {
     "name": "stdout",
     "output_type": "stream",
     "text": [
      "number of parameters: 44458\n"
     ]
    }
   ],
   "source": [
    "print(f'number of parameters: {np.sum([torch.numel(p) for p in mlp5.parameters()])}')"
   ]
  },
  {
   "cell_type": "code",
   "execution_count": 31,
   "metadata": {
    "execution": {
     "iopub.execute_input": "2021-05-06T06:05:51.932129Z",
     "iopub.status.busy": "2021-05-06T06:05:51.931582Z",
     "iopub.status.idle": "2021-05-06T06:05:51.961558Z",
     "shell.execute_reply": "2021-05-06T06:05:51.962101Z"
    },
    "scrolled": false,
    "slideshow": {
     "slide_type": "subslide"
    }
   },
   "outputs": [
    {
     "name": "stdout",
     "output_type": "stream",
     "text": [
      "x0.shape=torch.Size([1, 28, 28])\n",
      "\n",
      "y_hat0.shape=torch.Size([1, 10])\n",
      "\n",
      "y_hat0=tensor([[-2.3386, -2.3962, -2.2378, -2.1579, -2.4067, -2.2850, -2.3669, -2.1454,\n",
      "         -2.3853, -2.3490]], grad_fn=<LogSoftmaxBackward>)\n"
     ]
    }
   ],
   "source": [
    "# Test a forward pass\n",
    "y_hat0 = mlp5(x0)\n",
    "\n",
    "print(f'{x0.shape=}\\n')\n",
    "print(f'{y_hat0.shape=}\\n')\n",
    "print(f'{y_hat0=}')"
   ]
  },
  {
   "cell_type": "markdown",
   "metadata": {
    "slideshow": {
     "slide_type": "subslide"
    }
   },
   "source": [
    "Quick visualization of our full MLP's **computation graph**:"
   ]
  },
  {
   "cell_type": "code",
   "execution_count": 32,
   "metadata": {
    "execution": {
     "iopub.execute_input": "2021-05-06T06:05:51.965171Z",
     "iopub.status.busy": "2021-05-06T06:05:51.964693Z",
     "iopub.status.idle": "2021-05-06T06:05:52.025504Z",
     "shell.execute_reply": "2021-05-06T06:05:52.026023Z"
    },
    "scrolled": false,
    "slideshow": {
     "slide_type": "subslide"
    }
   },
   "outputs": [
    {
     "data": {
      "image/svg+xml": [
       "<?xml version=\"1.0\" encoding=\"UTF-8\" standalone=\"no\"?>\r\n",
       "<!DOCTYPE svg PUBLIC \"-//W3C//DTD SVG 1.1//EN\"\r\n",
       " \"http://www.w3.org/Graphics/SVG/1.1/DTD/svg11.dtd\">\r\n",
       "<!-- Generated by graphviz version 2.38.0 (20140413.2041)\r\n",
       " -->\r\n",
       "<!-- Title: %3 Pages: 1 -->\r\n",
       "<svg width=\"511pt\" height=\"864pt\"\r\n",
       " viewBox=\"0.00 0.00 511.00 864.00\" xmlns=\"http://www.w3.org/2000/svg\" xmlns:xlink=\"http://www.w3.org/1999/xlink\">\r\n",
       "<g id=\"graph0\" class=\"graph\" transform=\"scale(1 1) rotate(0) translate(4 860)\">\r\n",
       "<title>%3</title>\r\n",
       "<polygon fill=\"white\" stroke=\"none\" points=\"-4,4 -4,-860 507,-860 507,4 -4,4\"/>\r\n",
       "<!-- 1893774719104 -->\r\n",
       "<g id=\"node1\" class=\"node\"><title>1893774719104</title>\r\n",
       "<polygon fill=\"#caff70\" stroke=\"black\" points=\"283,-31 218,-31 218,-0 283,-0 283,-31\"/>\r\n",
       "<text text-anchor=\"middle\" x=\"250.5\" y=\"-7\" font-family=\"monospace\" font-size=\"10.00\"> (1, 10)</text>\r\n",
       "</g>\r\n",
       "<!-- 1893775238864 -->\r\n",
       "<g id=\"node2\" class=\"node\"><title>1893775238864</title>\r\n",
       "<polygon fill=\"lightgrey\" stroke=\"black\" points=\"313,-86 188,-86 188,-67 313,-67 313,-86\"/>\r\n",
       "<text text-anchor=\"middle\" x=\"250.5\" y=\"-74\" font-family=\"monospace\" font-size=\"10.00\">LogSoftmaxBackward</text>\r\n",
       "</g>\r\n",
       "<!-- 1893775238864&#45;&gt;1893774719104 -->\r\n",
       "<g id=\"edge35\" class=\"edge\"><title>1893775238864&#45;&gt;1893774719104</title>\r\n",
       "<path fill=\"none\" stroke=\"black\" d=\"M250.5,-66.7943C250.5,-60.0669 250.5,-50.404 250.5,-41.3425\"/>\r\n",
       "<polygon fill=\"black\" stroke=\"black\" points=\"254,-41.1932 250.5,-31.1933 247,-41.1933 254,-41.1932\"/>\r\n",
       "</g>\r\n",
       "<!-- 1893775240352 -->\r\n",
       "<g id=\"node3\" class=\"node\"><title>1893775240352</title>\r\n",
       "<polygon fill=\"lightgrey\" stroke=\"black\" points=\"298,-141 203,-141 203,-122 298,-122 298,-141\"/>\r\n",
       "<text text-anchor=\"middle\" x=\"250.5\" y=\"-129\" font-family=\"monospace\" font-size=\"10.00\">AddmmBackward</text>\r\n",
       "</g>\r\n",
       "<!-- 1893775240352&#45;&gt;1893775238864 -->\r\n",
       "<g id=\"edge1\" class=\"edge\"><title>1893775240352&#45;&gt;1893775238864</title>\r\n",
       "<path fill=\"none\" stroke=\"black\" d=\"M250.5,-121.748C250.5,-114.802 250.5,-104.845 250.5,-96.1349\"/>\r\n",
       "<polygon fill=\"black\" stroke=\"black\" points=\"254,-96.089 250.5,-86.089 247,-96.0891 254,-96.089\"/>\r\n",
       "</g>\r\n",
       "<!-- 1893775239872 -->\r\n",
       "<g id=\"node4\" class=\"node\"><title>1893775239872</title>\r\n",
       "<polygon fill=\"lightgrey\" stroke=\"black\" points=\"184,-196 83,-196 83,-177 184,-177 184,-196\"/>\r\n",
       "<text text-anchor=\"middle\" x=\"133.5\" y=\"-184\" font-family=\"monospace\" font-size=\"10.00\">AccumulateGrad</text>\r\n",
       "</g>\r\n",
       "<!-- 1893775239872&#45;&gt;1893775240352 -->\r\n",
       "<g id=\"edge2\" class=\"edge\"><title>1893775239872&#45;&gt;1893775240352</title>\r\n",
       "<path fill=\"none\" stroke=\"black\" d=\"M152.298,-176.985C171.12,-168.459 200.323,-155.23 221.996,-145.412\"/>\r\n",
       "<polygon fill=\"black\" stroke=\"black\" points=\"223.695,-148.485 231.36,-141.17 220.807,-142.109 223.695,-148.485\"/>\r\n",
       "</g>\r\n",
       "<!-- 1893774756224 -->\r\n",
       "<g id=\"node5\" class=\"node\"><title>1893774756224</title>\r\n",
       "<polygon fill=\"lightblue\" stroke=\"black\" points=\"185,-262 72,-262 72,-232 185,-232 185,-262\"/>\r\n",
       "<text text-anchor=\"middle\" x=\"128.5\" y=\"-250\" font-family=\"monospace\" font-size=\"10.00\">fc_layers.8.bias</text>\r\n",
       "<text text-anchor=\"middle\" x=\"128.5\" y=\"-239\" font-family=\"monospace\" font-size=\"10.00\"> (10)</text>\r\n",
       "</g>\r\n",
       "<!-- 1893774756224&#45;&gt;1893775239872 -->\r\n",
       "<g id=\"edge3\" class=\"edge\"><title>1893774756224&#45;&gt;1893775239872</title>\r\n",
       "<path fill=\"none\" stroke=\"black\" d=\"M129.71,-231.839C130.362,-224.214 131.175,-214.704 131.88,-206.45\"/>\r\n",
       "<polygon fill=\"black\" stroke=\"black\" points=\"135.386,-206.528 132.751,-196.266 128.412,-205.932 135.386,-206.528\"/>\r\n",
       "</g>\r\n",
       "<!-- 1893775240400 -->\r\n",
       "<g id=\"node6\" class=\"node\"><title>1893775240400</title>\r\n",
       "<polygon fill=\"lightgrey\" stroke=\"black\" points=\"295,-196 206,-196 206,-177 295,-177 295,-196\"/>\r\n",
       "<text text-anchor=\"middle\" x=\"250.5\" y=\"-184\" font-family=\"monospace\" font-size=\"10.00\">TanhBackward</text>\r\n",
       "</g>\r\n",
       "<!-- 1893775240400&#45;&gt;1893775240352 -->\r\n",
       "<g id=\"edge4\" class=\"edge\"><title>1893775240400&#45;&gt;1893775240352</title>\r\n",
       "<path fill=\"none\" stroke=\"black\" d=\"M250.5,-176.748C250.5,-169.802 250.5,-159.845 250.5,-151.135\"/>\r\n",
       "<polygon fill=\"black\" stroke=\"black\" points=\"254,-151.089 250.5,-141.089 247,-151.089 254,-151.089\"/>\r\n",
       "</g>\r\n",
       "<!-- 1893775239440 -->\r\n",
       "<g id=\"node7\" class=\"node\"><title>1893775239440</title>\r\n",
       "<polygon fill=\"lightgrey\" stroke=\"black\" points=\"298,-256.5 203,-256.5 203,-237.5 298,-237.5 298,-256.5\"/>\r\n",
       "<text text-anchor=\"middle\" x=\"250.5\" y=\"-244.5\" font-family=\"monospace\" font-size=\"10.00\">AddmmBackward</text>\r\n",
       "</g>\r\n",
       "<!-- 1893775239440&#45;&gt;1893775240400 -->\r\n",
       "<g id=\"edge5\" class=\"edge\"><title>1893775239440&#45;&gt;1893775240400</title>\r\n",
       "<path fill=\"none\" stroke=\"black\" d=\"M250.5,-237.368C250.5,-229.246 250.5,-216.807 250.5,-206.385\"/>\r\n",
       "<polygon fill=\"black\" stroke=\"black\" points=\"254,-206.167 250.5,-196.167 247,-206.167 254,-206.167\"/>\r\n",
       "</g>\r\n",
       "<!-- 1893775240208 -->\r\n",
       "<g id=\"node8\" class=\"node\"><title>1893775240208</title>\r\n",
       "<polygon fill=\"lightgrey\" stroke=\"black\" points=\"159,-322.5 58,-322.5 58,-303.5 159,-303.5 159,-322.5\"/>\r\n",
       "<text text-anchor=\"middle\" x=\"108.5\" y=\"-310.5\" font-family=\"monospace\" font-size=\"10.00\">AccumulateGrad</text>\r\n",
       "</g>\r\n",
       "<!-- 1893775240208&#45;&gt;1893775239440 -->\r\n",
       "<g id=\"edge6\" class=\"edge\"><title>1893775240208&#45;&gt;1893775239440</title>\r\n",
       "<path fill=\"none\" stroke=\"black\" d=\"M127.651,-303.369C151.894,-292.442 193.871,-273.523 221.913,-260.884\"/>\r\n",
       "<polygon fill=\"black\" stroke=\"black\" points=\"223.52,-263.999 231.199,-256.699 220.644,-257.617 223.52,-263.999\"/>\r\n",
       "</g>\r\n",
       "<!-- 1893774731200 -->\r\n",
       "<g id=\"node9\" class=\"node\"><title>1893774731200</title>\r\n",
       "<polygon fill=\"lightblue\" stroke=\"black\" points=\"161,-394 48,-394 48,-364 161,-364 161,-394\"/>\r\n",
       "<text text-anchor=\"middle\" x=\"104.5\" y=\"-382\" font-family=\"monospace\" font-size=\"10.00\">fc_layers.6.bias</text>\r\n",
       "<text text-anchor=\"middle\" x=\"104.5\" y=\"-371\" font-family=\"monospace\" font-size=\"10.00\"> (64)</text>\r\n",
       "</g>\r\n",
       "<!-- 1893774731200&#45;&gt;1893775240208 -->\r\n",
       "<g id=\"edge7\" class=\"edge\"><title>1893774731200&#45;&gt;1893775240208</title>\r\n",
       "<path fill=\"none\" stroke=\"black\" d=\"M105.388,-363.796C105.956,-354.699 106.701,-342.788 107.319,-332.897\"/>\r\n",
       "<polygon fill=\"black\" stroke=\"black\" points=\"110.817,-333.043 107.947,-322.844 103.83,-332.606 110.817,-333.043\"/>\r\n",
       "</g>\r\n",
       "<!-- 1893775240448 -->\r\n",
       "<g id=\"node10\" class=\"node\"><title>1893775240448</title>\r\n",
       "<polygon fill=\"lightgrey\" stroke=\"black\" points=\"271,-322.5 182,-322.5 182,-303.5 271,-303.5 271,-322.5\"/>\r\n",
       "<text text-anchor=\"middle\" x=\"226.5\" y=\"-310.5\" font-family=\"monospace\" font-size=\"10.00\">TanhBackward</text>\r\n",
       "</g>\r\n",
       "<!-- 1893775240448&#45;&gt;1893775239440 -->\r\n",
       "<g id=\"edge8\" class=\"edge\"><title>1893775240448&#45;&gt;1893775239440</title>\r\n",
       "<path fill=\"none\" stroke=\"black\" d=\"M229.737,-303.369C233.26,-293.974 238.998,-278.671 243.551,-266.531\"/>\r\n",
       "<polygon fill=\"black\" stroke=\"black\" points=\"246.926,-267.497 247.161,-256.905 240.372,-265.04 246.926,-267.497\"/>\r\n",
       "</g>\r\n",
       "<!-- 1893775239152 -->\r\n",
       "<g id=\"node11\" class=\"node\"><title>1893775239152</title>\r\n",
       "<polygon fill=\"lightgrey\" stroke=\"black\" points=\"274,-388.5 179,-388.5 179,-369.5 274,-369.5 274,-388.5\"/>\r\n",
       "<text text-anchor=\"middle\" x=\"226.5\" y=\"-376.5\" font-family=\"monospace\" font-size=\"10.00\">AddmmBackward</text>\r\n",
       "</g>\r\n",
       "<!-- 1893775239152&#45;&gt;1893775240448 -->\r\n",
       "<g id=\"edge9\" class=\"edge\"><title>1893775239152&#45;&gt;1893775240448</title>\r\n",
       "<path fill=\"none\" stroke=\"black\" d=\"M226.5,-369.369C226.5,-360.164 226.5,-345.287 226.5,-333.271\"/>\r\n",
       "<polygon fill=\"black\" stroke=\"black\" points=\"230,-332.905 226.5,-322.905 223,-332.905 230,-332.905\"/>\r\n",
       "</g>\r\n",
       "<!-- 1893775240976 -->\r\n",
       "<g id=\"node12\" class=\"node\"><title>1893775240976</title>\r\n",
       "<polygon fill=\"lightgrey\" stroke=\"black\" points=\"135,-454.5 34,-454.5 34,-435.5 135,-435.5 135,-454.5\"/>\r\n",
       "<text text-anchor=\"middle\" x=\"84.5\" y=\"-442.5\" font-family=\"monospace\" font-size=\"10.00\">AccumulateGrad</text>\r\n",
       "</g>\r\n",
       "<!-- 1893775240976&#45;&gt;1893775239152 -->\r\n",
       "<g id=\"edge10\" class=\"edge\"><title>1893775240976&#45;&gt;1893775239152</title>\r\n",
       "<path fill=\"none\" stroke=\"black\" d=\"M103.651,-435.369C127.894,-424.442 169.871,-405.523 197.913,-392.884\"/>\r\n",
       "<polygon fill=\"black\" stroke=\"black\" points=\"199.52,-395.999 207.199,-388.699 196.644,-389.617 199.52,-395.999\"/>\r\n",
       "</g>\r\n",
       "<!-- 1893774732480 -->\r\n",
       "<g id=\"node13\" class=\"node\"><title>1893774732480</title>\r\n",
       "<polygon fill=\"lightblue\" stroke=\"black\" points=\"137,-526 24,-526 24,-496 137,-496 137,-526\"/>\r\n",
       "<text text-anchor=\"middle\" x=\"80.5\" y=\"-514\" font-family=\"monospace\" font-size=\"10.00\">fc_layers.4.bias</text>\r\n",
       "<text text-anchor=\"middle\" x=\"80.5\" y=\"-503\" font-family=\"monospace\" font-size=\"10.00\"> (128)</text>\r\n",
       "</g>\r\n",
       "<!-- 1893774732480&#45;&gt;1893775240976 -->\r\n",
       "<g id=\"edge11\" class=\"edge\"><title>1893774732480&#45;&gt;1893775240976</title>\r\n",
       "<path fill=\"none\" stroke=\"black\" d=\"M81.3877,-495.796C81.9563,-486.699 82.7007,-474.788 83.319,-464.897\"/>\r\n",
       "<polygon fill=\"black\" stroke=\"black\" points=\"86.8165,-465.043 83.9472,-454.844 79.8302,-464.606 86.8165,-465.043\"/>\r\n",
       "</g>\r\n",
       "<!-- 1893775241072 -->\r\n",
       "<g id=\"node14\" class=\"node\"><title>1893775241072</title>\r\n",
       "<polygon fill=\"lightgrey\" stroke=\"black\" points=\"247,-454.5 158,-454.5 158,-435.5 247,-435.5 247,-454.5\"/>\r\n",
       "<text text-anchor=\"middle\" x=\"202.5\" y=\"-442.5\" font-family=\"monospace\" font-size=\"10.00\">TanhBackward</text>\r\n",
       "</g>\r\n",
       "<!-- 1893775241072&#45;&gt;1893775239152 -->\r\n",
       "<g id=\"edge12\" class=\"edge\"><title>1893775241072&#45;&gt;1893775239152</title>\r\n",
       "<path fill=\"none\" stroke=\"black\" d=\"M205.737,-435.369C209.26,-425.974 214.998,-410.671 219.551,-398.531\"/>\r\n",
       "<polygon fill=\"black\" stroke=\"black\" points=\"222.926,-399.497 223.161,-388.905 216.372,-397.04 222.926,-399.497\"/>\r\n",
       "</g>\r\n",
       "<!-- 1893775240832 -->\r\n",
       "<g id=\"node15\" class=\"node\"><title>1893775240832</title>\r\n",
       "<polygon fill=\"lightgrey\" stroke=\"black\" points=\"250,-520.5 155,-520.5 155,-501.5 250,-501.5 250,-520.5\"/>\r\n",
       "<text text-anchor=\"middle\" x=\"202.5\" y=\"-508.5\" font-family=\"monospace\" font-size=\"10.00\">AddmmBackward</text>\r\n",
       "</g>\r\n",
       "<!-- 1893775240832&#45;&gt;1893775241072 -->\r\n",
       "<g id=\"edge13\" class=\"edge\"><title>1893775240832&#45;&gt;1893775241072</title>\r\n",
       "<path fill=\"none\" stroke=\"black\" d=\"M202.5,-501.369C202.5,-492.164 202.5,-477.287 202.5,-465.271\"/>\r\n",
       "<polygon fill=\"black\" stroke=\"black\" points=\"206,-464.905 202.5,-454.905 199,-464.905 206,-464.905\"/>\r\n",
       "</g>\r\n",
       "<!-- 1893775239776 -->\r\n",
       "<g id=\"node16\" class=\"node\"><title>1893775239776</title>\r\n",
       "<polygon fill=\"lightgrey\" stroke=\"black\" points=\"111,-586.5 10,-586.5 10,-567.5 111,-567.5 111,-586.5\"/>\r\n",
       "<text text-anchor=\"middle\" x=\"60.5\" y=\"-574.5\" font-family=\"monospace\" font-size=\"10.00\">AccumulateGrad</text>\r\n",
       "</g>\r\n",
       "<!-- 1893775239776&#45;&gt;1893775240832 -->\r\n",
       "<g id=\"edge14\" class=\"edge\"><title>1893775239776&#45;&gt;1893775240832</title>\r\n",
       "<path fill=\"none\" stroke=\"black\" d=\"M79.6508,-567.369C103.894,-556.442 145.871,-537.523 173.913,-524.884\"/>\r\n",
       "<polygon fill=\"black\" stroke=\"black\" points=\"175.52,-527.999 183.199,-520.699 172.644,-521.617 175.52,-527.999\"/>\r\n",
       "</g>\r\n",
       "<!-- 1893775115456 -->\r\n",
       "<g id=\"node17\" class=\"node\"><title>1893775115456</title>\r\n",
       "<polygon fill=\"lightblue\" stroke=\"black\" points=\"113,-658 0,-658 0,-628 113,-628 113,-658\"/>\r\n",
       "<text text-anchor=\"middle\" x=\"56.5\" y=\"-646\" font-family=\"monospace\" font-size=\"10.00\">fc_layers.2.bias</text>\r\n",
       "<text text-anchor=\"middle\" x=\"56.5\" y=\"-635\" font-family=\"monospace\" font-size=\"10.00\"> (64)</text>\r\n",
       "</g>\r\n",
       "<!-- 1893775115456&#45;&gt;1893775239776 -->\r\n",
       "<g id=\"edge15\" class=\"edge\"><title>1893775115456&#45;&gt;1893775239776</title>\r\n",
       "<path fill=\"none\" stroke=\"black\" d=\"M57.3877,-627.796C57.9563,-618.699 58.7007,-606.788 59.319,-596.897\"/>\r\n",
       "<polygon fill=\"black\" stroke=\"black\" points=\"62.8165,-597.043 59.9472,-586.844 55.8302,-596.606 62.8165,-597.043\"/>\r\n",
       "</g>\r\n",
       "<!-- 1893775238768 -->\r\n",
       "<g id=\"node18\" class=\"node\"><title>1893775238768</title>\r\n",
       "<polygon fill=\"lightgrey\" stroke=\"black\" points=\"223,-586.5 134,-586.5 134,-567.5 223,-567.5 223,-586.5\"/>\r\n",
       "<text text-anchor=\"middle\" x=\"178.5\" y=\"-574.5\" font-family=\"monospace\" font-size=\"10.00\">TanhBackward</text>\r\n",
       "</g>\r\n",
       "<!-- 1893775238768&#45;&gt;1893775240832 -->\r\n",
       "<g id=\"edge16\" class=\"edge\"><title>1893775238768&#45;&gt;1893775240832</title>\r\n",
       "<path fill=\"none\" stroke=\"black\" d=\"M181.737,-567.369C185.26,-557.974 190.998,-542.671 195.551,-530.531\"/>\r\n",
       "<polygon fill=\"black\" stroke=\"black\" points=\"198.926,-531.497 199.161,-520.905 192.372,-529.04 198.926,-531.497\"/>\r\n",
       "</g>\r\n",
       "<!-- 1893775240304 -->\r\n",
       "<g id=\"node19\" class=\"node\"><title>1893775240304</title>\r\n",
       "<polygon fill=\"lightgrey\" stroke=\"black\" points=\"226,-652.5 131,-652.5 131,-633.5 226,-633.5 226,-652.5\"/>\r\n",
       "<text text-anchor=\"middle\" x=\"178.5\" y=\"-640.5\" font-family=\"monospace\" font-size=\"10.00\">AddmmBackward</text>\r\n",
       "</g>\r\n",
       "<!-- 1893775240304&#45;&gt;1893775238768 -->\r\n",
       "<g id=\"edge17\" class=\"edge\"><title>1893775240304&#45;&gt;1893775238768</title>\r\n",
       "<path fill=\"none\" stroke=\"black\" d=\"M178.5,-633.369C178.5,-624.164 178.5,-609.287 178.5,-597.271\"/>\r\n",
       "<polygon fill=\"black\" stroke=\"black\" points=\"182,-596.905 178.5,-586.905 175,-596.905 182,-596.905\"/>\r\n",
       "</g>\r\n",
       "<!-- 1893775238960 -->\r\n",
       "<g id=\"node20\" class=\"node\"><title>1893775238960</title>\r\n",
       "<polygon fill=\"lightgrey\" stroke=\"black\" points=\"115,-718.5 14,-718.5 14,-699.5 115,-699.5 115,-718.5\"/>\r\n",
       "<text text-anchor=\"middle\" x=\"64.5\" y=\"-706.5\" font-family=\"monospace\" font-size=\"10.00\">AccumulateGrad</text>\r\n",
       "</g>\r\n",
       "<!-- 1893775238960&#45;&gt;1893775240304 -->\r\n",
       "<g id=\"edge18\" class=\"edge\"><title>1893775238960&#45;&gt;1893775240304</title>\r\n",
       "<path fill=\"none\" stroke=\"black\" d=\"M79.8745,-699.369C98.9125,-688.681 131.572,-670.345 154.06,-657.721\"/>\r\n",
       "<polygon fill=\"black\" stroke=\"black\" points=\"155.998,-660.646 163.005,-652.699 152.572,-654.542 155.998,-660.646\"/>\r\n",
       "</g>\r\n",
       "<!-- 1893775117888 -->\r\n",
       "<g id=\"node21\" class=\"node\"><title>1893775117888</title>\r\n",
       "<polygon fill=\"lightblue\" stroke=\"black\" points=\"116,-790 3,-790 3,-760 116,-760 116,-790\"/>\r\n",
       "<text text-anchor=\"middle\" x=\"59.5\" y=\"-778\" font-family=\"monospace\" font-size=\"10.00\">fc_layers.0.bias</text>\r\n",
       "<text text-anchor=\"middle\" x=\"59.5\" y=\"-767\" font-family=\"monospace\" font-size=\"10.00\"> (32)</text>\r\n",
       "</g>\r\n",
       "<!-- 1893775117888&#45;&gt;1893775238960 -->\r\n",
       "<g id=\"edge19\" class=\"edge\"><title>1893775117888&#45;&gt;1893775238960</title>\r\n",
       "<path fill=\"none\" stroke=\"black\" d=\"M60.6097,-759.796C61.3204,-750.699 62.2509,-738.788 63.0237,-728.897\"/>\r\n",
       "<polygon fill=\"black\" stroke=\"black\" points=\"66.5194,-729.087 63.809,-718.844 59.5407,-728.541 66.5194,-729.087\"/>\r\n",
       "</g>\r\n",
       "<!-- 1893775239296 -->\r\n",
       "<g id=\"node22\" class=\"node\"><title>1893775239296</title>\r\n",
       "<polygon fill=\"lightgrey\" stroke=\"black\" points=\"214,-718.5 143,-718.5 143,-699.5 214,-699.5 214,-718.5\"/>\r\n",
       "<text text-anchor=\"middle\" x=\"178.5\" y=\"-706.5\" font-family=\"monospace\" font-size=\"10.00\">TBackward</text>\r\n",
       "</g>\r\n",
       "<!-- 1893775239296&#45;&gt;1893775240304 -->\r\n",
       "<g id=\"edge20\" class=\"edge\"><title>1893775239296&#45;&gt;1893775240304</title>\r\n",
       "<path fill=\"none\" stroke=\"black\" d=\"M178.5,-699.369C178.5,-690.164 178.5,-675.287 178.5,-663.271\"/>\r\n",
       "<polygon fill=\"black\" stroke=\"black\" points=\"182,-662.905 178.5,-652.905 175,-662.905 182,-662.905\"/>\r\n",
       "</g>\r\n",
       "<!-- 1893830366640 -->\r\n",
       "<g id=\"node23\" class=\"node\"><title>1893830366640</title>\r\n",
       "<polygon fill=\"lightgrey\" stroke=\"black\" points=\"235,-784.5 134,-784.5 134,-765.5 235,-765.5 235,-784.5\"/>\r\n",
       "<text text-anchor=\"middle\" x=\"184.5\" y=\"-772.5\" font-family=\"monospace\" font-size=\"10.00\">AccumulateGrad</text>\r\n",
       "</g>\r\n",
       "<!-- 1893830366640&#45;&gt;1893775239296 -->\r\n",
       "<g id=\"edge21\" class=\"edge\"><title>1893830366640&#45;&gt;1893775239296</title>\r\n",
       "<path fill=\"none\" stroke=\"black\" d=\"M183.691,-765.369C182.819,-756.069 181.404,-740.979 180.272,-728.9\"/>\r\n",
       "<polygon fill=\"black\" stroke=\"black\" points=\"183.753,-728.535 179.335,-718.905 176.784,-729.188 183.753,-728.535\"/>\r\n",
       "</g>\r\n",
       "<!-- 1893774740992 -->\r\n",
       "<g id=\"node24\" class=\"node\"><title>1893774740992</title>\r\n",
       "<polygon fill=\"lightblue\" stroke=\"black\" points=\"247,-856 122,-856 122,-826 247,-826 247,-856\"/>\r\n",
       "<text text-anchor=\"middle\" x=\"184.5\" y=\"-844\" font-family=\"monospace\" font-size=\"10.00\">fc_layers.0.weight</text>\r\n",
       "<text text-anchor=\"middle\" x=\"184.5\" y=\"-833\" font-family=\"monospace\" font-size=\"10.00\"> (32, 784)</text>\r\n",
       "</g>\r\n",
       "<!-- 1893774740992&#45;&gt;1893830366640 -->\r\n",
       "<g id=\"edge22\" class=\"edge\"><title>1893774740992&#45;&gt;1893830366640</title>\r\n",
       "<path fill=\"none\" stroke=\"black\" d=\"M184.5,-825.796C184.5,-816.699 184.5,-804.788 184.5,-794.897\"/>\r\n",
       "<polygon fill=\"black\" stroke=\"black\" points=\"188,-794.844 184.5,-784.844 181,-794.844 188,-794.844\"/>\r\n",
       "</g>\r\n",
       "<!-- 1893775240736 -->\r\n",
       "<g id=\"node25\" class=\"node\"><title>1893775240736</title>\r\n",
       "<polygon fill=\"lightgrey\" stroke=\"black\" points=\"312,-586.5 241,-586.5 241,-567.5 312,-567.5 312,-586.5\"/>\r\n",
       "<text text-anchor=\"middle\" x=\"276.5\" y=\"-574.5\" font-family=\"monospace\" font-size=\"10.00\">TBackward</text>\r\n",
       "</g>\r\n",
       "<!-- 1893775240736&#45;&gt;1893775240832 -->\r\n",
       "<g id=\"edge23\" class=\"edge\"><title>1893775240736&#45;&gt;1893775240832</title>\r\n",
       "<path fill=\"none\" stroke=\"black\" d=\"M266.52,-567.369C254.78,-557.215 235.059,-540.159 220.601,-527.655\"/>\r\n",
       "<polygon fill=\"black\" stroke=\"black\" points=\"222.65,-524.8 212.797,-520.905 218.071,-530.094 222.65,-524.8\"/>\r\n",
       "</g>\r\n",
       "<!-- 1893775239728 -->\r\n",
       "<g id=\"node26\" class=\"node\"><title>1893775239728</title>\r\n",
       "<polygon fill=\"lightgrey\" stroke=\"black\" points=\"345,-652.5 244,-652.5 244,-633.5 345,-633.5 345,-652.5\"/>\r\n",
       "<text text-anchor=\"middle\" x=\"294.5\" y=\"-640.5\" font-family=\"monospace\" font-size=\"10.00\">AccumulateGrad</text>\r\n",
       "</g>\r\n",
       "<!-- 1893775239728&#45;&gt;1893775240736 -->\r\n",
       "<g id=\"edge24\" class=\"edge\"><title>1893775239728&#45;&gt;1893775240736</title>\r\n",
       "<path fill=\"none\" stroke=\"black\" d=\"M292.072,-633.369C289.457,-624.069 285.213,-608.979 281.816,-596.9\"/>\r\n",
       "<polygon fill=\"black\" stroke=\"black\" points=\"285.081,-595.584 279.005,-586.905 278.343,-597.479 285.081,-595.584\"/>\r\n",
       "</g>\r\n",
       "<!-- 1893775118080 -->\r\n",
       "<g id=\"node27\" class=\"node\"><title>1893775118080</title>\r\n",
       "<polygon fill=\"lightblue\" stroke=\"black\" points=\"357,-724 232,-724 232,-694 357,-694 357,-724\"/>\r\n",
       "<text text-anchor=\"middle\" x=\"294.5\" y=\"-712\" font-family=\"monospace\" font-size=\"10.00\">fc_layers.2.weight</text>\r\n",
       "<text text-anchor=\"middle\" x=\"294.5\" y=\"-701\" font-family=\"monospace\" font-size=\"10.00\"> (64, 32)</text>\r\n",
       "</g>\r\n",
       "<!-- 1893775118080&#45;&gt;1893775239728 -->\r\n",
       "<g id=\"edge25\" class=\"edge\"><title>1893775118080&#45;&gt;1893775239728</title>\r\n",
       "<path fill=\"none\" stroke=\"black\" d=\"M294.5,-693.796C294.5,-684.699 294.5,-672.788 294.5,-662.897\"/>\r\n",
       "<polygon fill=\"black\" stroke=\"black\" points=\"298,-662.844 294.5,-652.844 291,-662.844 298,-662.844\"/>\r\n",
       "</g>\r\n",
       "<!-- 1893775241168 -->\r\n",
       "<g id=\"node28\" class=\"node\"><title>1893775241168</title>\r\n",
       "<polygon fill=\"lightgrey\" stroke=\"black\" points=\"336,-454.5 265,-454.5 265,-435.5 336,-435.5 336,-454.5\"/>\r\n",
       "<text text-anchor=\"middle\" x=\"300.5\" y=\"-442.5\" font-family=\"monospace\" font-size=\"10.00\">TBackward</text>\r\n",
       "</g>\r\n",
       "<!-- 1893775241168&#45;&gt;1893775239152 -->\r\n",
       "<g id=\"edge26\" class=\"edge\"><title>1893775241168&#45;&gt;1893775239152</title>\r\n",
       "<path fill=\"none\" stroke=\"black\" d=\"M290.52,-435.369C278.78,-425.215 259.059,-408.159 244.601,-395.655\"/>\r\n",
       "<polygon fill=\"black\" stroke=\"black\" points=\"246.65,-392.8 236.797,-388.905 242.071,-398.094 246.65,-392.8\"/>\r\n",
       "</g>\r\n",
       "<!-- 1893775239104 -->\r\n",
       "<g id=\"node29\" class=\"node\"><title>1893775239104</title>\r\n",
       "<polygon fill=\"lightgrey\" stroke=\"black\" points=\"418,-520.5 317,-520.5 317,-501.5 418,-501.5 418,-520.5\"/>\r\n",
       "<text text-anchor=\"middle\" x=\"367.5\" y=\"-508.5\" font-family=\"monospace\" font-size=\"10.00\">AccumulateGrad</text>\r\n",
       "</g>\r\n",
       "<!-- 1893775239104&#45;&gt;1893775241168 -->\r\n",
       "<g id=\"edge27\" class=\"edge\"><title>1893775239104&#45;&gt;1893775241168</title>\r\n",
       "<path fill=\"none\" stroke=\"black\" d=\"M358.464,-501.369C347.934,-491.31 330.312,-474.477 317.257,-462.007\"/>\r\n",
       "<polygon fill=\"black\" stroke=\"black\" points=\"319.471,-459.282 309.823,-454.905 314.636,-464.343 319.471,-459.282\"/>\r\n",
       "</g>\r\n",
       "<!-- 1893775117696 -->\r\n",
       "<g id=\"node30\" class=\"node\"><title>1893775117696</title>\r\n",
       "<polygon fill=\"lightblue\" stroke=\"black\" points=\"455,-592 330,-592 330,-562 455,-562 455,-592\"/>\r\n",
       "<text text-anchor=\"middle\" x=\"392.5\" y=\"-580\" font-family=\"monospace\" font-size=\"10.00\">fc_layers.4.weight</text>\r\n",
       "<text text-anchor=\"middle\" x=\"392.5\" y=\"-569\" font-family=\"monospace\" font-size=\"10.00\"> (128, 64)</text>\r\n",
       "</g>\r\n",
       "<!-- 1893775117696&#45;&gt;1893775239104 -->\r\n",
       "<g id=\"edge28\" class=\"edge\"><title>1893775117696&#45;&gt;1893775239104</title>\r\n",
       "<path fill=\"none\" stroke=\"black\" d=\"M386.952,-561.796C383.322,-552.504 378.545,-540.275 374.633,-530.261\"/>\r\n",
       "<polygon fill=\"black\" stroke=\"black\" points=\"377.853,-528.885 370.955,-520.844 371.333,-531.432 377.853,-528.885\"/>\r\n",
       "</g>\r\n",
       "<!-- 1893775239248 -->\r\n",
       "<g id=\"node31\" class=\"node\"><title>1893775239248</title>\r\n",
       "<polygon fill=\"lightgrey\" stroke=\"black\" points=\"360,-322.5 289,-322.5 289,-303.5 360,-303.5 360,-322.5\"/>\r\n",
       "<text text-anchor=\"middle\" x=\"324.5\" y=\"-310.5\" font-family=\"monospace\" font-size=\"10.00\">TBackward</text>\r\n",
       "</g>\r\n",
       "<!-- 1893775239248&#45;&gt;1893775239440 -->\r\n",
       "<g id=\"edge29\" class=\"edge\"><title>1893775239248&#45;&gt;1893775239440</title>\r\n",
       "<path fill=\"none\" stroke=\"black\" d=\"M314.52,-303.369C302.78,-293.215 283.059,-276.159 268.601,-263.655\"/>\r\n",
       "<polygon fill=\"black\" stroke=\"black\" points=\"270.65,-260.8 260.797,-256.905 266.071,-266.094 270.65,-260.8\"/>\r\n",
       "</g>\r\n",
       "<!-- 1893775238720 -->\r\n",
       "<g id=\"node32\" class=\"node\"><title>1893775238720</title>\r\n",
       "<polygon fill=\"lightgrey\" stroke=\"black\" points=\"442,-388.5 341,-388.5 341,-369.5 442,-369.5 442,-388.5\"/>\r\n",
       "<text text-anchor=\"middle\" x=\"391.5\" y=\"-376.5\" font-family=\"monospace\" font-size=\"10.00\">AccumulateGrad</text>\r\n",
       "</g>\r\n",
       "<!-- 1893775238720&#45;&gt;1893775239248 -->\r\n",
       "<g id=\"edge30\" class=\"edge\"><title>1893775238720&#45;&gt;1893775239248</title>\r\n",
       "<path fill=\"none\" stroke=\"black\" d=\"M382.464,-369.369C371.934,-359.31 354.312,-342.477 341.257,-330.007\"/>\r\n",
       "<polygon fill=\"black\" stroke=\"black\" points=\"343.471,-327.282 333.823,-322.905 338.636,-332.343 343.471,-327.282\"/>\r\n",
       "</g>\r\n",
       "<!-- 1893774761408 -->\r\n",
       "<g id=\"node33\" class=\"node\"><title>1893774761408</title>\r\n",
       "<polygon fill=\"lightblue\" stroke=\"black\" points=\"479,-460 354,-460 354,-430 479,-430 479,-460\"/>\r\n",
       "<text text-anchor=\"middle\" x=\"416.5\" y=\"-448\" font-family=\"monospace\" font-size=\"10.00\">fc_layers.6.weight</text>\r\n",
       "<text text-anchor=\"middle\" x=\"416.5\" y=\"-437\" font-family=\"monospace\" font-size=\"10.00\"> (64, 128)</text>\r\n",
       "</g>\r\n",
       "<!-- 1893774761408&#45;&gt;1893775238720 -->\r\n",
       "<g id=\"edge31\" class=\"edge\"><title>1893774761408&#45;&gt;1893775238720</title>\r\n",
       "<path fill=\"none\" stroke=\"black\" d=\"M410.952,-429.796C407.322,-420.504 402.545,-408.275 398.633,-398.261\"/>\r\n",
       "<polygon fill=\"black\" stroke=\"black\" points=\"401.853,-396.885 394.955,-388.844 395.333,-399.432 401.853,-396.885\"/>\r\n",
       "</g>\r\n",
       "<!-- 1893775239632 -->\r\n",
       "<g id=\"node34\" class=\"node\"><title>1893775239632</title>\r\n",
       "<polygon fill=\"lightgrey\" stroke=\"black\" points=\"417,-196 346,-196 346,-177 417,-177 417,-196\"/>\r\n",
       "<text text-anchor=\"middle\" x=\"381.5\" y=\"-184\" font-family=\"monospace\" font-size=\"10.00\">TBackward</text>\r\n",
       "</g>\r\n",
       "<!-- 1893775239632&#45;&gt;1893775240352 -->\r\n",
       "<g id=\"edge32\" class=\"edge\"><title>1893775239632&#45;&gt;1893775240352</title>\r\n",
       "<path fill=\"none\" stroke=\"black\" d=\"M360.453,-176.985C339.094,-168.343 305.795,-154.871 281.435,-145.016\"/>\r\n",
       "<polygon fill=\"black\" stroke=\"black\" points=\"282.513,-141.676 271.93,-141.17 279.888,-148.165 282.513,-141.676\"/>\r\n",
       "</g>\r\n",
       "<!-- 1893775241024 -->\r\n",
       "<g id=\"node35\" class=\"node\"><title>1893775241024</title>\r\n",
       "<polygon fill=\"lightgrey\" stroke=\"black\" points=\"466,-256.5 365,-256.5 365,-237.5 466,-237.5 466,-256.5\"/>\r\n",
       "<text text-anchor=\"middle\" x=\"415.5\" y=\"-244.5\" font-family=\"monospace\" font-size=\"10.00\">AccumulateGrad</text>\r\n",
       "</g>\r\n",
       "<!-- 1893775241024&#45;&gt;1893775239632 -->\r\n",
       "<g id=\"edge33\" class=\"edge\"><title>1893775241024&#45;&gt;1893775239632</title>\r\n",
       "<path fill=\"none\" stroke=\"black\" d=\"M410.483,-237.368C405.562,-228.9 397.914,-215.741 391.709,-205.066\"/>\r\n",
       "<polygon fill=\"black\" stroke=\"black\" points=\"394.588,-203.054 386.537,-196.167 388.536,-206.572 394.588,-203.054\"/>\r\n",
       "</g>\r\n",
       "<!-- 1893774755264 -->\r\n",
       "<g id=\"node36\" class=\"node\"><title>1893774755264</title>\r\n",
       "<polygon fill=\"lightblue\" stroke=\"black\" points=\"503,-328 378,-328 378,-298 503,-298 503,-328\"/>\r\n",
       "<text text-anchor=\"middle\" x=\"440.5\" y=\"-316\" font-family=\"monospace\" font-size=\"10.00\">fc_layers.8.weight</text>\r\n",
       "<text text-anchor=\"middle\" x=\"440.5\" y=\"-305\" font-family=\"monospace\" font-size=\"10.00\"> (10, 64)</text>\r\n",
       "</g>\r\n",
       "<!-- 1893774755264&#45;&gt;1893775241024 -->\r\n",
       "<g id=\"edge34\" class=\"edge\"><title>1893774755264&#45;&gt;1893775241024</title>\r\n",
       "<path fill=\"none\" stroke=\"black\" d=\"M434.952,-297.796C431.322,-288.504 426.545,-276.275 422.633,-266.261\"/>\r\n",
       "<polygon fill=\"black\" stroke=\"black\" points=\"425.853,-264.885 418.955,-256.844 419.333,-267.432 425.853,-264.885\"/>\r\n",
       "</g>\r\n",
       "</g>\r\n",
       "</svg>\r\n"
      ],
      "text/plain": [
       "<graphviz.dot.Digraph at 0x1b8edcce9a0>"
      ]
     },
     "execution_count": 32,
     "metadata": {},
     "output_type": "execute_result"
    }
   ],
   "source": [
    "torchviz.make_dot(mlp5(x0), params=dict(mlp5.named_parameters()))"
   ]
  },
  {
   "cell_type": "markdown",
   "metadata": {
    "slideshow": {
     "slide_type": "subslide"
    }
   },
   "source": [
    "### Loss and Optimizer"
   ]
  },
  {
   "cell_type": "markdown",
   "metadata": {
    "slideshow": {
     "slide_type": "fragment"
    }
   },
   "source": [
    "For the loss function, we'll use PyTorch's built in negative log-likelihood loss since our model outputs probabilities."
   ]
  },
  {
   "cell_type": "code",
   "execution_count": 33,
   "metadata": {
    "execution": {
     "iopub.execute_input": "2021-05-06T06:05:52.029870Z",
     "iopub.status.busy": "2021-05-06T06:05:52.029381Z",
     "iopub.status.idle": "2021-05-06T06:05:52.059506Z",
     "shell.execute_reply": "2021-05-06T06:05:52.060056Z"
    },
    "slideshow": {
     "slide_type": "subslide"
    }
   },
   "outputs": [
    {
     "data": {
      "text/plain": [
       "tensor(2.1579, grad_fn=<NllLossBackward>)"
      ]
     },
     "execution_count": 33,
     "metadata": {},
     "output_type": "execute_result"
    }
   ],
   "source": [
    "import torch.optim\n",
    "\n",
    "# Loss:\n",
    "# Note: NLLLoss assumes *log*-probabilities (given by our LogSoftmax layer)\n",
    "loss_fn = nn.NLLLoss()\n",
    "\n",
    "# Fake ground-truth labels\n",
    "# Notice that we don't need to 1-hot encode them!\n",
    "yt = torch.randint(low=0, high=n_classes, size=(y_hat0.shape[0],))\n",
    "\n",
    "# Try out the loss\n",
    "loss_fn(y_hat0, yt) "
   ]
  },
  {
   "cell_type": "markdown",
   "metadata": {
    "slideshow": {
     "slide_type": "subslide"
    }
   },
   "source": [
    "Note that `nn.NLLLoss(y_hat, y)` assumes that $\\hat{\\vec{y}}^{(i)}=\\log\\left(\\mathrm{softmax}\\left(\\vec{z}^{(i)}\\right)\\right)$, where $\\vec{z}^{(i)}\\in\\set{R}^C$ contains the raw scores for input $\\vec{x}^{(i)}$, and therefore it simply computes:\n",
    "\n",
    "$$\n",
    "L_{\\mathrm{NLL}}\n",
    "= \\sum_{i=1}^{N} -\\left[\\hat{\\vec{y}}^{(i)}\\right]_{y^{(i)}}\n",
    "= \\sum_{i=1}^{N} -\\left[ \\log\\left(\\mathrm{softmax}\\left(\\vec{z}^{(i)}\\right)\\right) \\right]_{y^{(i)}}\n",
    "$$\n",
    "\n",
    "where $y^{(i)}\\in\\left\\{0,1,\\dots,C-1\\right\\}$ is the ground-truth class label of for sample $i$."
   ]
  },
  {
   "cell_type": "markdown",
   "metadata": {
    "slideshow": {
     "slide_type": "subslide"
    }
   },
   "source": [
    "As for the optimization scheme, we'll use a built in SGD optimizer from the `torch.optim` module.\n",
    "We will see that the semantics of using it are similar to the simple optimizer we implemented last tutorial.\n",
    "\n",
    "We won't need to calculate the loss gradient this time, as we'll use `autograd` for automatic differentiation."
   ]
  },
  {
   "cell_type": "code",
   "execution_count": 34,
   "metadata": {
    "execution": {
     "iopub.execute_input": "2021-05-06T06:05:52.063675Z",
     "iopub.status.busy": "2021-05-06T06:05:52.063193Z",
     "iopub.status.idle": "2021-05-06T06:05:52.097596Z",
     "shell.execute_reply": "2021-05-06T06:05:52.096943Z"
    },
    "slideshow": {
     "slide_type": "fragment"
    }
   },
   "outputs": [],
   "source": [
    "torch.manual_seed(42)\n",
    "\n",
    "# Model for training\n",
    "model = MLP(D_in=n_features, hidden_dims=[32, 32, 32], D_out=n_classes, nonlin='relu')\n",
    "\n",
    "# Optimizer over our model's parameters\n",
    "optimizer = torch.optim.SGD(params=model.parameters(), lr=5e-2, weight_decay=0.01, momentum=0.9)"
   ]
  },
  {
   "cell_type": "markdown",
   "metadata": {
    "slideshow": {
     "slide_type": "subslide"
    }
   },
   "source": [
    "### Training loop"
   ]
  },
  {
   "cell_type": "markdown",
   "metadata": {
    "slideshow": {
     "slide_type": "fragment"
    }
   },
   "source": [
    "This time we'll train over lazy-loaded batches from our data loader.\n",
    "\n",
    "Notice that except from our model's `__init__()` and `__forward()__`, we're using PyTorch facilities for the entire training implementation."
   ]
  },
  {
   "cell_type": "code",
   "execution_count": 35,
   "metadata": {
    "execution": {
     "iopub.execute_input": "2021-05-06T06:05:52.102057Z",
     "iopub.status.busy": "2021-05-06T06:05:52.101567Z",
     "iopub.status.idle": "2021-05-06T06:05:56.017546Z",
     "shell.execute_reply": "2021-05-06T06:05:56.018062Z"
    },
    "slideshow": {
     "slide_type": "subslide"
    }
   },
   "outputs": [
    {
     "name": "stdout",
     "output_type": "stream",
     "text": [
      "Epoch #1: Avg. loss=2.305134344100952\n",
      "Epoch #2: Avg. loss=2.2864507913589476\n",
      "Epoch #3: Avg. loss=2.256749725341797\n",
      "Epoch #4: Avg. loss=2.1769882917404173\n",
      "Epoch #5: Avg. loss=1.9311089515686035\n",
      "Epoch #6: Avg. loss=1.4161056518554687\n",
      "Epoch #7: Avg. loss=0.9191414058208466\n",
      "Epoch #8: Avg. loss=0.6763370990753174\n",
      "Epoch #9: Avg. loss=0.5613922148942947\n",
      "Epoch #10: Avg. loss=0.5014606863260269\n"
     ]
    }
   ],
   "source": [
    "num_epochs = 10\n",
    "for epoch_idx in range(num_epochs):\n",
    "    total_loss = 0\n",
    "    \n",
    "    for batch_idx, (X, y) in enumerate(dl_train):\n",
    "        # Forward pass\n",
    "        y_pred = model(X)\n",
    "\n",
    "        # Compute loss\n",
    "        loss = loss_fn(y_pred, y)\n",
    "        total_loss += loss.item()\n",
    "\n",
    "        # Backward pass\n",
    "        optimizer.zero_grad() # Zero gradients of all parameters\n",
    "        loss.backward()       # Run backprop algorithms to calculate gradients\n",
    "        \n",
    "        # Optimization step\n",
    "        optimizer.step()      # Use gradients to update model parameters\n",
    "        \n",
    "    print(f'Epoch #{epoch_idx+1}: Avg. loss={total_loss/len(dl_train)}')"
   ]
  },
  {
   "cell_type": "markdown",
   "metadata": {
    "slideshow": {
     "slide_type": "subslide"
    }
   },
   "source": [
    "Using the basic PyTorch building blocks we have arrived at a much more robust implementation:\n",
    "- Easy to change architecture: layers and activation functions\n",
    "- Easy to change loss\n",
    "- Easy to change optimization method\n",
    "- No need for manual gradient derivations"
   ]
  },
  {
   "cell_type": "markdown",
   "metadata": {
    "slideshow": {
     "slide_type": "subslide"
    }
   },
   "source": [
    "#### Thanks!"
   ]
  },
  {
   "cell_type": "markdown",
   "metadata": {
    "slideshow": {
     "slide_type": "skip"
    }
   },
   "source": [
    "**Credits**\n",
    "\n",
    "This tutorial was written by [Aviv A. Rosenberg](https://avivr.net).<br>\n",
    "To re-use, please provide attribution and link to the original.\n",
    "\n",
    "Some images in this tutorial were taken and/or adapted from the following sources:\n",
    "\n",
    "- MartinThoma [CC0], via Wikimedia Commons https://commons.wikimedia.org/wiki/File:Perceptron-unit.svg\n",
    "- Pattern Recognition and Machine Learning, C. M. Bishop, Springer, 2006\n",
    "- Sebastian Raschka https://sebastianraschka.com/Articles/2015_singlelayer_neurons.html\n",
    "- Favio Vázquez https://towardsdatascience.com/a-conversation-about-deep-learning-9a915983107\n",
    "- Fundamentals of Deep Learning, Nikhil Buduma, Oreilly 2017"
   ]
  }
 ],
 "metadata": {
  "celltoolbar": "Slideshow",
  "kernelspec": {
   "display_name": "Python 3",
   "language": "python",
   "name": "python3"
  },
  "language_info": {
   "codemirror_mode": {
    "name": "ipython",
    "version": 3
   },
   "file_extension": ".py",
   "mimetype": "text/x-python",
   "name": "python",
   "nbconvert_exporter": "python",
   "pygments_lexer": "ipython3",
   "version": "3.8.6"
  }
 },
 "nbformat": 4,
 "nbformat_minor": 4
}
