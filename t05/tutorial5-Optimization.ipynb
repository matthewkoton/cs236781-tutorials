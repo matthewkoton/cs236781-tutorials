{
 "cells": [
  {
   "cell_type": "markdown",
   "metadata": {
    "slideshow": {
     "slide_type": "slide"
    }
   },
   "source": [
    "$$\n",
    "\\newcommand{\\mat}[1]{\\boldsymbol {#1}}\n",
    "\\newcommand{\\mattr}[1]{\\boldsymbol {#1}^\\top}\n",
    "\\newcommand{\\matinv}[1]{\\boldsymbol {#1}^{-1}}\n",
    "\\newcommand{\\vec}[1]{\\boldsymbol {#1}}\n",
    "\\newcommand{\\vectr}[1]{\\boldsymbol {#1}^\\top}\n",
    "\\newcommand{\\rvar}[1]{\\mathrm {#1}}\n",
    "\\newcommand{\\rvec}[1]{\\boldsymbol{\\mathrm{#1}}}\n",
    "\\newcommand{\\diag}{\\mathop{\\mathrm {diag}}}\n",
    "\\newcommand{\\set}[1]{\\mathbb {#1}}\n",
    "\\newcommand{\\norm}[1]{\\left\\lVert#1\\right\\rVert}\n",
    "\\newcommand{\\pderiv}[2]{\\frac{\\partial #1}{\\partial #2}}\n",
    "\\newcommand{\\bb}[1]{\\boldsymbol{#1}}\n",
    "\\newcommand{\\ip}[3]{\\left<#1,#2\\right>_{#3}}\n",
    "\\newcommand{\\E}[2][]{\\mathbb{E}_{#1}\\left[#2\\right]}\n",
    "$$\n",
    "\n",
    "# CS236781: Deep Learning\n",
    "# Tutorial 5: Optimization"
   ]
  },
  {
   "cell_type": "markdown",
   "metadata": {
    "slideshow": {
     "slide_type": "subslide"
    }
   },
   "source": [
    "## Introduction\n",
    "\n",
    "In this tutorial, we will cover:\n",
    "\n",
    "- Descent-based optimization\n",
    "- Back-propagation\n",
    "- Automatic differentiation\n",
    "- PyTorch backward functions\n",
    "- Bi-level differentiable optimization\n",
    "- Example: Time-series prediction with CNNs (self stufy)"
   ]
  },
  {
   "cell_type": "code",
   "execution_count": 1,
   "metadata": {
    "execution": {
     "iopub.execute_input": "2022-03-24T07:23:47.387152Z",
     "iopub.status.busy": "2022-03-24T07:23:47.386369Z",
     "iopub.status.idle": "2022-03-24T07:23:48.647689Z",
     "shell.execute_reply": "2022-03-24T07:23:48.647385Z"
    },
    "slideshow": {
     "slide_type": "subslide"
    }
   },
   "outputs": [],
   "source": [
    "# Setup\n",
    "%matplotlib inline\n",
    "import os\n",
    "import sys\n",
    "import time\n",
    "import torch\n",
    "import matplotlib.pyplot as plt"
   ]
  },
  {
   "cell_type": "code",
   "execution_count": 2,
   "metadata": {
    "execution": {
     "iopub.execute_input": "2022-03-24T07:23:48.649726Z",
     "iopub.status.busy": "2022-03-24T07:23:48.649604Z",
     "iopub.status.idle": "2022-03-24T07:23:48.663523Z",
     "shell.execute_reply": "2022-03-24T07:23:48.663216Z"
    },
    "slideshow": {
     "slide_type": "fragment"
    }
   },
   "outputs": [],
   "source": [
    "plt.rcParams['font.size'] = 14\n",
    "data_dir = os.path.expanduser('~/.pytorch-datasets')\n",
    "device = torch.device('cuda' if torch.cuda.is_available() else 'cpu')"
   ]
  },
  {
   "cell_type": "markdown",
   "metadata": {
    "slideshow": {
     "slide_type": "slide"
    }
   },
   "source": [
    "## Theory Reminders"
   ]
  },
  {
   "cell_type": "markdown",
   "metadata": {
    "slideshow": {
     "slide_type": "subslide"
    }
   },
   "source": [
    "### Descent-based optimization"
   ]
  },
  {
   "cell_type": "markdown",
   "metadata": {
    "slideshow": {
     "slide_type": "subslide"
    }
   },
   "source": [
    "As we have seen, training deep neural network is performed iteratively using descent-based optimization."
   ]
  },
  {
   "cell_type": "markdown",
   "metadata": {
    "slideshow": {
     "slide_type": "subslide"
    }
   },
   "source": [
    "The general scheme is,\n",
    "\n",
    "1. Initialize parameters to some $\\vec{\\Theta}^0 \\in \\set{R}^P$, and set $k\\leftarrow 0$.\n",
    "2. While not converged:\n",
    "    1. Choose a direction $\\vec{d}^k\\in\\set{R}^P$\n",
    "    2. Choose a step size $\\eta_k\\in\\set{R}$\n",
    "    3. Update: $\\vec{\\Theta}^{k+1} \\leftarrow \\vec{\\Theta}^k + \\eta_k \\vec{d}^k$\n",
    "    4. $k\\leftarrow k+1$\n"
   ]
  },
  {
   "cell_type": "markdown",
   "metadata": {
    "slideshow": {
     "slide_type": "subslide"
    }
   },
   "source": [
    "Which descent direction to choose?"
   ]
  },
  {
   "cell_type": "markdown",
   "metadata": {
    "slideshow": {
     "slide_type": "fragment"
    }
   },
   "source": [
    "The one which maximally decreases the loss function $L(\\vec{\\Theta})$:\n",
    "\n",
    "$$\n",
    "\\vec{d} =\\arg\\min_{\\vec{d'}} L(\\vec{\\Theta}+\\vec{d'})-L(\\vec{\\Theta})\n",
    "\\approx\n",
    "\\arg\\min_{\\vec{d'}}\\nabla L(\\vec{\\Theta})^\\top\\vec{d'}, \\\n",
    "\\mathrm{s.t.} \\norm{\\vec{d}}_p=1\n",
    "$$"
   ]
  },
  {
   "cell_type": "markdown",
   "metadata": {
    "slideshow": {
     "slide_type": "skip"
    }
   },
   "source": [
    "Choice of norm determines $\\vec{d}$. For example,\n",
    "- $p=1$: Coordinate descent: direction of the largest gradient component.\n",
    "- $p=2$: Gradient descent: $\\vec{d}=-\\nabla L(\\vec{\\Theta})$.\n",
    "\n",
    "|$p=1$|$p=2$|\n",
    "|---|---|\n",
    "|<img src=\"https://upload.wikimedia.org/wikipedia/commons/e/e3/Coordinate_descent.svg\" width=\"300\" /> | <img src=\"https://upload.wikimedia.org/wikipedia/commons/f/ff/Gradient_descent.svg\" width=\"300\" />| "
   ]
  },
  {
   "cell_type": "markdown",
   "metadata": {
    "slideshow": {
     "slide_type": "subslide"
    }
   },
   "source": [
    "#### Drawbacks and mitigations?"
   ]
  },
  {
   "cell_type": "markdown",
   "metadata": {
    "slideshow": {
     "slide_type": "subslide"
    }
   },
   "source": [
    "**Susceptible to initialization**\n",
    "\n",
    "Initializing near local minima can prevent finding better ones.\n",
    "\n",
    "<center><img src=\"imgs/sgd-init.png\" width=\"600\" /></center>"
   ]
  },
  {
   "cell_type": "markdown",
   "metadata": {
    "slideshow": {
     "slide_type": "subslide"
    }
   },
   "source": [
    "Can use **stochastic** gradient descent to get a different loss surface every iteration."
   ]
  },
  {
   "cell_type": "markdown",
   "metadata": {
    "slideshow": {
     "slide_type": "fragment"
    }
   },
   "source": [
    "Why is it called stochastic?"
   ]
  },
  {
   "cell_type": "markdown",
   "metadata": {
    "slideshow": {
     "slide_type": "fragment"
    }
   },
   "source": [
    "In mini-batch **stochastic** gradient descent, only one or a few samples are considered at each optimization step, selected by random sampling (ideally iid from $\\mathcal{D}$)."
   ]
  },
  {
   "cell_type": "markdown",
   "metadata": {
    "slideshow": {
     "slide_type": "subslide"
    }
   },
   "source": [
    "So, the effective loss surface is stochastic!\n",
    "Intuitively, this aids in convergence to a better solution because it prevents getting stuck in bad local minimal.\n",
    "\n",
    "<center><img src=\"imgs/sgd-loss.png\" width=\"500\" /></center>"
   ]
  },
  {
   "cell_type": "markdown",
   "metadata": {
    "slideshow": {
     "slide_type": "subslide"
    }
   },
   "source": [
    "**Sensitive to learning rate**\n",
    "\n",
    "<center><img src=\"imgs/sgd-lr.png\" width=\"800\"/></center>"
   ]
  },
  {
   "cell_type": "markdown",
   "metadata": {
    "slideshow": {
     "slide_type": "subslide"
    }
   },
   "source": [
    "- Line search (1D minimization):\n",
    "$$\n",
    "\\eta_k = \\arg\\min_{\\eta'} L(\\vec{\\Theta}^k+\\eta'\\vec{d}^k)\n",
    "$$\n",
    "\n",
    "- Adaptive LR optimizers, e.g. Adam\n",
    "\n",
    "- LR scheduling\n",
    "<center><img src=\"imgs/sgd-lr-schedule.png\" width=\"400\"/></center>"
   ]
  },
  {
   "cell_type": "markdown",
   "metadata": {
    "slideshow": {
     "slide_type": "subslide"
    }
   },
   "source": [
    "**Zig-zags in narrow \"ravines\"**\n",
    "\n",
    "<center><img src=\"imgs/sgd-zigzag.png\" width=\"300\"/></center>"
   ]
  },
  {
   "cell_type": "markdown",
   "metadata": {
    "slideshow": {
     "slide_type": "subslide"
    }
   },
   "source": [
    "- Momentum: Use previous gradients to build \"speed\" in the common direction and cancel-out oscillations in opposite directions.\n",
    "\n",
    "- BatchNorm: Normalizes activations to zero-mean and unit variance (may reduce curvature)\n",
    "\n",
    "- Second-order methods: Use quadratic local approximation of the loss surface, instead of linear.\n",
    "    - Newton's method: $\\vec{d}_k=\\mat{H}_k^{-1}\\vec{g}_k = \\nabla^2 L(\\vec{\\Theta}_k)^{-1}\\nabla L(\\vec{\\Theta}_k)$.\n",
    "    - Quasi-Newton methods which use some estimate of the Hessian based on first-order information (e.g. BFGS)."
   ]
  },
  {
   "cell_type": "markdown",
   "metadata": {
    "slideshow": {
     "slide_type": "subslide"
    }
   },
   "source": [
    "### The back-propagation algorithm"
   ]
  },
  {
   "cell_type": "markdown",
   "metadata": {
    "slideshow": {
     "slide_type": "fragment"
    }
   },
   "source": [
    "All the above optimization methods have a crucial thing in common: They require calculation of gradients of the loss w.r.t. to the parameters.\n",
    "\n",
    "In practical settings when training neural networks we have many different parameters tensors we would like to update separately. Thus, we require the gradient of the loss w.r.t. each of them."
   ]
  },
  {
   "cell_type": "markdown",
   "metadata": {
    "slideshow": {
     "slide_type": "subslide"
    }
   },
   "source": [
    "Back-propagation is an efficient way to calculate these gradients using the chain rule.\n",
    "\n",
    "We represent the application of a model to its inputs as a **computation graph**: nodes represent variables and edges represent functions.\n",
    "\n",
    "For example, a simple linear regression model can be represented as:\n",
    "\n",
    "<center><img src=\"imgs/backprop-graph.png\" width=\"400\"/></center>"
   ]
  },
  {
   "cell_type": "markdown",
   "metadata": {
    "slideshow": {
     "slide_type": "subslide"
    }
   },
   "source": [
    "Imagine that in this graph we have $N$ variables $\\vec{v}^i,\\ 1\\leq i \\leq N$  and functions $f_i$ which compute them from other variables.\n",
    "\n",
    "The graph is directional, thus assume $\\vec{v}^1, \\vec{v}^2,\\dots,\\vec{v}^N$ represents a topological order of the graph (parents before children), where $\\vec{v}^N=L$ is the final objective value.\n",
    "\n",
    "Define also the notation $\\delta\\vec{v}\\triangleq \\pderiv{L}{\\vec{v}}$."
   ]
  },
  {
   "cell_type": "markdown",
   "metadata": {
    "slideshow": {
     "slide_type": "subslide"
    }
   },
   "source": [
    "The forward pass can therefore be written as:\n",
    "\n",
    "1. For $i=1,2,\\dots,N$:\n",
    "  1. Graph parents of current node: $$\\mathcal{P}_i \\leftarrow \\left\\{\\vec{v}^j ~\\middle\\vert~ \\vec{v}^j \\text{ parent of } \\vec{v}^i\\right\\}$$ \n",
    "  2. Evaluate function at current node: $$\\vec{v}^i\\leftarrow f_i(\\mathcal{P}_i)$$"
   ]
  },
  {
   "cell_type": "markdown",
   "metadata": {
    "slideshow": {
     "slide_type": "subslide"
    }
   },
   "source": [
    "And in the backward pass we traverse the graph in reverse and apply the chain rule:\n",
    "\n",
    "1. Set $\\delta\\vec{v}^N=1$.\n",
    "2. For $i=N,N-1,\\dots,1$:\n",
    "  1. Graph children of current node: $$\\mathcal{C}_i \\leftarrow \\left\\{\\vec{v}^j ~\\middle\\vert~ \\vec{v}^j \\text{ child of } \\vec{v}^i\\right\\}$$  \n",
    "  2. Chain rule: $$\\delta\\vec{v}^i\\leftarrow \\sum_{\\vec{v}^j\\in\\mathcal{C}_i} \\delta\\vec{v}^j\\pderiv{\\vec{v}^j}{\\vec{v}^i}$$\n",
    "  \n",
    "Notes:\n",
    "1. The expression $\\delta\\vec{v}^j\\pderiv{\\vec{v}^j}{\\vec{v}^i}$ is a \"vector\"-Jacobian product (VJP).\n",
    "2. When a computation node's output is used by more than one other node (more than one child in the graph), we sum the incoming gradients from these children. This again arises directly from the chain rule."
   ]
  },
  {
   "cell_type": "markdown",
   "metadata": {
    "slideshow": {
     "slide_type": "subslide"
    }
   },
   "source": [
    "Backpropagation easily lends itself to a modular and efficient implementation.\n"
   ]
  },
  {
   "cell_type": "markdown",
   "metadata": {
    "slideshow": {
     "slide_type": "fragment"
    }
   },
   "source": [
    "Modularity:\n",
    "- Nodes in the computation graph only need to know how to calculate their own derivatives.\n",
    "- This is then passed to the parent nodes, which can do the same.\n",
    "\n",
    "<center><img src=\"imgs/backprop-modular.png\" width=\"700\"/></center>\n",
    "\n",
    "(in the figure, $\\bar{z}$ means $\\delta z$ in our notation)"
   ]
  },
  {
   "cell_type": "markdown",
   "metadata": {
    "slideshow": {
     "slide_type": "subslide"
    }
   },
   "source": [
    "Efficiency:\n",
    "\n",
    "- Only need to compute each $\\delta\\vec{v}^i$ once.\n",
    "- No need to construct the Jacobian, instead calculate the VJP directly since that's what we actually need."
   ]
  },
  {
   "cell_type": "markdown",
   "metadata": {
    "slideshow": {
     "slide_type": "fragment"
    }
   },
   "source": [
    "Modern automatic-differentiation packages such as PyTorch's `autograd` utilize exactly these tricks to implement backprop in an extremely powerful way."
   ]
  },
  {
   "cell_type": "markdown",
   "metadata": {
    "slideshow": {
     "slide_type": "slide"
    }
   },
   "source": [
    "## Part 1: Custom automatic differentiation with PyTorch"
   ]
  },
  {
   "cell_type": "markdown",
   "metadata": {
    "slideshow": {
     "slide_type": "subslide"
    }
   },
   "source": [
    "We'll now learn how to extend PyTorch's `autograd` by defining our own custom nodes in the computation graph.\n",
    "\n",
    "Lets first introduce a cousin of ReLU, the Exponential-Linear Unit (ELU) activation function:\n",
    "\n",
    "$$\n",
    "f(z) =\n",
    "\\begin{cases}\n",
    "z, & z > 0\\\\\n",
    "\\alpha \\left(e^{z}-1\\right) & z \\leq 0\n",
    "\\end{cases}\n",
    "$$"
   ]
  },
  {
   "cell_type": "markdown",
   "metadata": {
    "slideshow": {
     "slide_type": "fragment"
    }
   },
   "source": [
    "We'll pretend PyTorch does not include this activation function and implement a custom version ourselves."
   ]
  },
  {
   "cell_type": "code",
   "execution_count": 3,
   "metadata": {
    "execution": {
     "iopub.execute_input": "2022-03-24T07:23:48.666677Z",
     "iopub.status.busy": "2022-03-24T07:23:48.666557Z",
     "iopub.status.idle": "2022-03-24T07:23:48.680672Z",
     "shell.execute_reply": "2022-03-24T07:23:48.680387Z"
    },
    "slideshow": {
     "slide_type": "subslide"
    }
   },
   "outputs": [],
   "source": [
    "import torch\n",
    "import torch.autograd as autograd\n",
    "import torchviz\n",
    "\n",
    "from torch import Tensor"
   ]
  },
  {
   "cell_type": "markdown",
   "metadata": {
    "slideshow": {
     "slide_type": "subslide"
    }
   },
   "source": [
    "First, we'll implement just the actual computation as a standalone function so that we can reuse it later."
   ]
  },
  {
   "cell_type": "code",
   "execution_count": 4,
   "metadata": {
    "execution": {
     "iopub.execute_input": "2022-03-24T07:23:48.682439Z",
     "iopub.status.busy": "2022-03-24T07:23:48.682357Z",
     "iopub.status.idle": "2022-03-24T07:23:48.694998Z",
     "shell.execute_reply": "2022-03-24T07:23:48.694696Z"
    },
    "slideshow": {
     "slide_type": "fragment"
    }
   },
   "outputs": [],
   "source": [
    "def elu_forward(z: Tensor, alpha: float):\n",
    "    elu_positive = z\n",
    "    elu_negative = alpha * (torch.exp(z) - 1)\n",
    "    elu_output = torch.where(z>0, elu_positive, elu_negative)\n",
    "    return elu_output"
   ]
  },
  {
   "cell_type": "markdown",
   "metadata": {
    "slideshow": {
     "slide_type": "subslide"
    }
   },
   "source": [
    "A quick visualization to see what it looks like:"
   ]
  },
  {
   "cell_type": "code",
   "execution_count": 5,
   "metadata": {
    "execution": {
     "iopub.execute_input": "2022-03-24T07:23:48.696783Z",
     "iopub.status.busy": "2022-03-24T07:23:48.696703Z",
     "iopub.status.idle": "2022-03-24T07:23:48.796005Z",
     "shell.execute_reply": "2022-03-24T07:23:48.795710Z"
    },
    "slideshow": {
     "slide_type": "fragment"
    }
   },
   "outputs": [
    {
     "data": {
      "image/png": "[encoded data removed]",
      "text/plain": [
       "<Figure size 432x288 with 1 Axes>"
      ]
     },
     "metadata": {
      "needs_background": "light"
     },
     "output_type": "display_data"
    }
   ],
   "source": [
    "z = torch.linspace(-5, 5, steps=1000)\n",
    "plt.plot(z.numpy(), torch.relu(z).numpy(), label='ReLU(z)', linewidth=5);\n",
    "plt.plot(z.numpy(), elu_forward(z, alpha=.5).numpy(), label='ELU(z)', linewidth=2); plt.legend(); plt.grid();"
   ]
  },
  {
   "cell_type": "markdown",
   "metadata": {
    "slideshow": {
     "slide_type": "subslide"
    }
   },
   "source": [
    "Now we'll wrap it as an `nn.Module` so that we can use it as a layer in a model."
   ]
  },
  {
   "cell_type": "code",
   "execution_count": 6,
   "metadata": {
    "execution": {
     "iopub.execute_input": "2022-03-24T07:23:48.798087Z",
     "iopub.status.busy": "2022-03-24T07:23:48.797964Z",
     "iopub.status.idle": "2022-03-24T07:23:48.812370Z",
     "shell.execute_reply": "2022-03-24T07:23:48.812085Z"
    },
    "slideshow": {
     "slide_type": "fragment"
    }
   },
   "outputs": [],
   "source": [
    "class ELU(torch.nn.Module):\n",
    "    \"\"\" ELU Activation layer \"\"\"\n",
    "    \n",
    "    def __init__(self, alpha: float = 0.1):\n",
    "        super().__init__()\n",
    "        self.alpha = alpha\n",
    "    \n",
    "    def forward(self, z: Tensor):\n",
    "        return elu_forward(z, self.alpha)\n",
    "    "
   ]
  },
  {
   "cell_type": "markdown",
   "metadata": {
    "slideshow": {
     "slide_type": "subslide"
    }
   },
   "source": [
    "And as usual, we can look at the resulting computation graph."
   ]
  },
  {
   "cell_type": "code",
   "execution_count": 7,
   "metadata": {
    "execution": {
     "iopub.execute_input": "2022-03-24T07:23:48.814314Z",
     "iopub.status.busy": "2022-03-24T07:23:48.814211Z",
     "iopub.status.idle": "2022-03-24T07:23:48.864982Z",
     "shell.execute_reply": "2022-03-24T07:23:48.864545Z"
    },
    "slideshow": {
     "slide_type": "fragment"
    }
   },
   "outputs": [
    {
     "data": {
      "image/svg+xml": [
       "<?xml version=\"1.0\" encoding=\"UTF-8\" standalone=\"no\"?>\n",
       "<!DOCTYPE svg PUBLIC \"-//W3C//DTD SVG 1.1//EN\"\n",
       " \"http://www.w3.org/Graphics/SVG/1.1/DTD/svg11.dtd\">\n",
       "<!-- Generated by graphviz version 2.42.3 (20191010.1750)\n",
       " -->\n",
       "<!-- Title: %3 Pages: 1 -->\n",
       "<svg width=\"136pt\" height=\"372pt\"\n",
       " viewBox=\"0.00 0.00 136.43 372.00\" xmlns=\"http://www.w3.org/2000/svg\" xmlns:xlink=\"http://www.w3.org/1999/xlink\">\n",
       "<g id=\"graph0\" class=\"graph\" transform=\"scale(1 1) rotate(0) translate(4 368)\">\n",
       "<title>%3</title>\n",
       "<polygon fill=\"white\" stroke=\"transparent\" points=\"-4,4 -4,-368 132.43,-368 132.43,4 -4,4\"/>\n",
       "<!-- 140237544850352 -->\n",
       "<g id=\"node1\" class=\"node\">\n",
       "<title>140237544850352</title>\n",
       "<polygon fill=\"#caff70\" stroke=\"black\" points=\"77.8,-30 23.8,-30 23.8,0 77.8,0 77.8,-30\"/>\n",
       "<text text-anchor=\"middle\" x=\"50.8\" y=\"-6\" font-family=\"monospace\" font-size=\"10.00\"> (6)</text>\n",
       "</g>\n",
       "<!-- 140237536865728 -->\n",
       "<g id=\"node2\" class=\"node\">\n",
       "<title>140237536865728</title>\n",
       "<polygon fill=\"lightgrey\" stroke=\"black\" points=\"101.39,-84 0.2,-84 0.2,-66 101.39,-66 101.39,-84\"/>\n",
       "<text text-anchor=\"middle\" x=\"50.8\" y=\"-72\" font-family=\"monospace\" font-size=\"10.00\">SWhereBackward0</text>\n",
       "</g>\n",
       "<!-- 140237536865728&#45;&gt;140237544850352 -->\n",
       "<g id=\"edge7\" class=\"edge\">\n",
       "<title>140237536865728&#45;&gt;140237544850352</title>\n",
       "<path fill=\"none\" stroke=\"black\" d=\"M50.8,-65.94C50.8,-59.31 50.8,-49.57 50.8,-40.45\"/>\n",
       "<polygon fill=\"black\" stroke=\"black\" points=\"54.3,-40.24 50.8,-30.24 47.3,-40.24 54.3,-40.24\"/>\n",
       "</g>\n",
       "<!-- 140237536865872 -->\n",
       "<g id=\"node3\" class=\"node\">\n",
       "<title>140237536865872</title>\n",
       "<polygon fill=\"lightgrey\" stroke=\"black\" points=\"96.27,-300 5.32,-300 5.32,-282 96.27,-282 96.27,-300\"/>\n",
       "<text text-anchor=\"middle\" x=\"50.8\" y=\"-288\" font-family=\"monospace\" font-size=\"10.00\">AccumulateGrad</text>\n",
       "</g>\n",
       "<!-- 140237536865872&#45;&gt;140237536865728 -->\n",
       "<g id=\"edge1\" class=\"edge\">\n",
       "<title>140237536865872&#45;&gt;140237536865728</title>\n",
       "<path fill=\"none\" stroke=\"black\" d=\"M47.08,-281.78C43.37,-273.09 37.93,-258.9 35.8,-246 26.64,-190.75 26.64,-175.25 35.8,-120 37.28,-111.03 40.36,-101.44 43.35,-93.5\"/>\n",
       "<polygon fill=\"black\" stroke=\"black\" points=\"46.6,-94.81 47.08,-84.22 40.1,-92.2 46.6,-94.81\"/>\n",
       "</g>\n",
       "<!-- 140237544861856 -->\n",
       "<g id=\"node7\" class=\"node\">\n",
       "<title>140237544861856</title>\n",
       "<polygon fill=\"lightgrey\" stroke=\"black\" points=\"127,-246 44.6,-246 44.6,-228 127,-228 127,-246\"/>\n",
       "<text text-anchor=\"middle\" x=\"85.8\" y=\"-234\" font-family=\"monospace\" font-size=\"10.00\">ExpBackward0</text>\n",
       "</g>\n",
       "<!-- 140237536865872&#45;&gt;140237544861856 -->\n",
       "<g id=\"edge6\" class=\"edge\">\n",
       "<title>140237536865872&#45;&gt;140237544861856</title>\n",
       "<path fill=\"none\" stroke=\"black\" d=\"M56.26,-281.88C61.17,-274.59 68.51,-263.68 74.65,-254.56\"/>\n",
       "<polygon fill=\"black\" stroke=\"black\" points=\"77.57,-256.49 80.25,-246.24 71.76,-252.58 77.57,-256.49\"/>\n",
       "</g>\n",
       "<!-- 140237318391184 -->\n",
       "<g id=\"node4\" class=\"node\">\n",
       "<title>140237318391184</title>\n",
       "<polygon fill=\"lightblue\" stroke=\"black\" points=\"77.8,-364 23.8,-364 23.8,-336 77.8,-336 77.8,-364\"/>\n",
       "<text text-anchor=\"middle\" x=\"50.8\" y=\"-352\" font-family=\"monospace\" font-size=\"10.00\">z</text>\n",
       "<text text-anchor=\"middle\" x=\"50.8\" y=\"-342\" font-family=\"monospace\" font-size=\"10.00\"> (6)</text>\n",
       "</g>\n",
       "<!-- 140237318391184&#45;&gt;140237536865872 -->\n",
       "<g id=\"edge2\" class=\"edge\">\n",
       "<title>140237318391184&#45;&gt;140237536865872</title>\n",
       "<path fill=\"none\" stroke=\"black\" d=\"M50.8,-335.78C50.8,-328.18 50.8,-318.53 50.8,-310.22\"/>\n",
       "<polygon fill=\"black\" stroke=\"black\" points=\"54.3,-310.05 50.8,-300.05 47.3,-310.05 54.3,-310.05\"/>\n",
       "</g>\n",
       "<!-- 140237536865392 -->\n",
       "<g id=\"node5\" class=\"node\">\n",
       "<title>140237536865392</title>\n",
       "<polygon fill=\"lightgrey\" stroke=\"black\" points=\"126.38,-138 45.21,-138 45.21,-120 126.38,-120 126.38,-138\"/>\n",
       "<text text-anchor=\"middle\" x=\"85.8\" y=\"-126\" font-family=\"monospace\" font-size=\"10.00\">MulBackward0</text>\n",
       "</g>\n",
       "<!-- 140237536865392&#45;&gt;140237536865728 -->\n",
       "<g id=\"edge3\" class=\"edge\">\n",
       "<title>140237536865392&#45;&gt;140237536865728</title>\n",
       "<path fill=\"none\" stroke=\"black\" d=\"M80.33,-119.88C75.42,-112.59 68.08,-101.68 61.94,-92.56\"/>\n",
       "<polygon fill=\"black\" stroke=\"black\" points=\"64.83,-90.58 56.34,-84.24 59.02,-94.49 64.83,-90.58\"/>\n",
       "</g>\n",
       "<!-- 140237543622928 -->\n",
       "<g id=\"node6\" class=\"node\">\n",
       "<title>140237543622928</title>\n",
       "<polygon fill=\"lightgrey\" stroke=\"black\" points=\"128.56,-192 45.03,-192 45.03,-174 128.56,-174 128.56,-192\"/>\n",
       "<text text-anchor=\"middle\" x=\"86.8\" y=\"-180\" font-family=\"monospace\" font-size=\"10.00\">SubBackward0</text>\n",
       "</g>\n",
       "<!-- 140237543622928&#45;&gt;140237536865392 -->\n",
       "<g id=\"edge4\" class=\"edge\">\n",
       "<title>140237543622928&#45;&gt;140237536865392</title>\n",
       "<path fill=\"none\" stroke=\"black\" d=\"M86.64,-173.88C86.51,-167.05 86.32,-157.03 86.15,-148.29\"/>\n",
       "<polygon fill=\"black\" stroke=\"black\" points=\"89.65,-148.17 85.95,-138.24 82.65,-148.31 89.65,-148.17\"/>\n",
       "</g>\n",
       "<!-- 140237544861856&#45;&gt;140237543622928 -->\n",
       "<g id=\"edge5\" class=\"edge\">\n",
       "<title>140237544861856&#45;&gt;140237543622928</title>\n",
       "<path fill=\"none\" stroke=\"black\" d=\"M85.95,-227.88C86.08,-221.05 86.28,-211.03 86.44,-202.29\"/>\n",
       "<polygon fill=\"black\" stroke=\"black\" points=\"89.94,-202.31 86.64,-192.24 82.95,-202.17 89.94,-202.31\"/>\n",
       "</g>\n",
       "</g>\n",
       "</svg>\n"
      ],
      "text/plain": [
       "<graphviz.dot.Digraph at 0x7f8b990a6880>"
      ]
     },
     "execution_count": 7,
     "metadata": {},
     "output_type": "execute_result"
    }
   ],
   "source": [
    "elu = ELU(alpha=0.5)\n",
    "z = torch.tensor([-2., -1, 0, 1, 2, 3], requires_grad=True)\n",
    "torchviz.make_dot(elu(z), params=dict(z=z))"
   ]
  },
  {
   "cell_type": "markdown",
   "metadata": {
    "slideshow": {
     "slide_type": "subslide"
    }
   },
   "source": [
    "We can see that the computation graph accurately represents the various basic mathematical operations performed by our `elu_forward` function.\n",
    "\n",
    "But what if we want to define the entire ELU operarion as one node in the graph?\n",
    "This can be useful e.g. for performance reasons or if pytorch can't differentiate through our layer.\n",
    "\n",
    "How can we accomplish this?"
   ]
  },
  {
   "cell_type": "markdown",
   "metadata": {
    "slideshow": {
     "slide_type": "subslide"
    }
   },
   "source": [
    "The solution is to use a lower-level PyTorch API, `autograd.Function`\n",
    "which allows us to define a function in terms of both it's forwards pass\n",
    "(the regular output computation), and it's **backward** pass\n",
    "(the gradient w.r.t. all its inputs).\n"
   ]
  },
  {
   "cell_type": "markdown",
   "metadata": {
    "slideshow": {
     "slide_type": "fragment"
    }
   },
   "source": [
    "From the PyTorch docs:\n",
    "    \n",
    ">Every operation performed on `Tensors`s creates a new `Function` object, that performs the computation, and records that it happened. The history is retained in the form of a DAG of functions, with edges denoting data dependencies (input <- output). Then, when backward is called, the graph is processed in the topological ordering, by calling `backward()` methods of each `Function` object, and passing returned gradients on to next `Function`s.\n",
    "\n"
   ]
  },
  {
   "cell_type": "markdown",
   "metadata": {
    "slideshow": {
     "slide_type": "subslide"
    }
   },
   "source": [
    "The API of an `autograd.Function` is:\n",
    "\n",
    "```python\n",
    "class MyCustomFunction(autograd.Function):\n",
    "    \n",
    "    @staticmethod\n",
    "    def forward(context, *inputs: Tensor, **kw):\n",
    "        ...\n",
    "    \n",
    "    @staticmethod\n",
    "    def backward(context, *grad_outputs: Tensor) -> Sequence[Tensor]:\n",
    "        ...\n",
    "```\n",
    "\n",
    "1. What do you think `grad_outputs` contains?\n",
    "2. What does `backward()` need to return?\n",
    "3. Why do we need a `context`?"
   ]
  },
  {
   "cell_type": "markdown",
   "metadata": {
    "slideshow": {
     "slide_type": "subslide"
    }
   },
   "source": [
    "To implement the ELU as an `autograd.Function`, we'll first calculate the simple analytic derivative of the ELU function:\n",
    "$$\n",
    "\\pderiv{f(z)}{z} = f'(z) = \n",
    "\\begin{cases}\n",
    "1, & z > 0\\\\\n",
    "\\alpha e^{z} & z \\leq 0\n",
    "\\end{cases}\n",
    "$$"
   ]
  },
  {
   "cell_type": "markdown",
   "metadata": {
    "slideshow": {
     "slide_type": "subslide"
    }
   },
   "source": [
    "Next, we need to figure out how to compute the vector-Jacobian product efficiently.\n",
    "Note that for any **elementwise** operation, $\\vec{y}=f(\\vec{x}),\\ f:\\set{R}^n\\rightarrow\\set{R}^n$, we can write the Jacobian as\n",
    "\n",
    "$$\n",
    "\\pderiv{\\vec{y}}{\\vec{x}} = \\pmatrix{\n",
    "\\ddots & \\vdots & \\\\\n",
    "\\cdots & \\pderiv{y_i}{x_j} & \\cdots \\\\\n",
    "& \\vdots & \\ddots\\\\\n",
    "}\n",
    "=\n",
    "\\pmatrix{\n",
    "f'(x_1) &  &  \\\\\n",
    "  & f'(x_i) &  \\\\\n",
    "& & f'(x_n)\\\\\n",
    "}\n",
    "= \\diag\\{{f'(\\vec{x})}\\}\n",
    "$$\n",
    "\n",
    "And it follows that the VJP can be computed simply:\n",
    "$$\n",
    "\\delta \\vec{x} = \\delta{\\vec{y}}\\pderiv{\\vec{y}}{\\vec{x}} = \\delta{\\vec{y}} \\odot f'(\\vec{x}).\n",
    "$$"
   ]
  },
  {
   "cell_type": "markdown",
   "metadata": {
    "slideshow": {
     "slide_type": "subslide"
    }
   },
   "source": [
    "Now, equipped with the expression for the VJP, we can proceed to implement the `Function` object representing ELU."
   ]
  },
  {
   "cell_type": "code",
   "execution_count": 8,
   "metadata": {
    "execution": {
     "iopub.execute_input": "2022-03-24T07:23:48.867866Z",
     "iopub.status.busy": "2022-03-24T07:23:48.867691Z",
     "iopub.status.idle": "2022-03-24T07:23:48.886059Z",
     "shell.execute_reply": "2022-03-24T07:23:48.885782Z"
    },
    "slideshow": {
     "slide_type": "subslide"
    }
   },
   "outputs": [],
   "source": [
    "class ELUFunction(autograd.Function):\n",
    "    \n",
    "    @staticmethod\n",
    "    def forward(ctx, z: Tensor, alpha: float):\n",
    "        elu = elu_forward(z, alpha) # Regular forward pass computation from before\n",
    "        ctx.save_for_backward(z)    # Tensors should be saved using this method\n",
    "        ctx.alpha = alpha           # other properties can be saved like so\n",
    "        return elu\n",
    "    \n",
    "    @staticmethod\n",
    "    def backward(ctx, grad_output):\n",
    "        z, = ctx.saved_tensors      # Validates that no in-place modifications happened on saved tensors\n",
    "        alpha = ctx.alpha\n",
    "        \n",
    "        # Calculate diagonal of d(elu(z))/dz\n",
    "        grad_positive = torch.ones_like(z)\n",
    "        grad_negative = alpha * torch.exp(z)\n",
    "        \n",
    "        # Note: This is not the full Jacobian, d(elu(z))/dz, it's the diagonal\n",
    "        grad_elu = torch.where(z>0, grad_positive, grad_negative)\n",
    "        \n",
    "        # Gradient of the loss w.r.t. our output\n",
    "        δ_elu = grad_output\n",
    "        \n",
    "        # Calcualte δz = d(elu(z))/dz * δ_elu\n",
    "        # Note: elementwise multiplication equivalant to vector-Jacobian product\n",
    "        δz = grad_elu * δ_elu\n",
    "        return δz, None"
   ]
  },
  {
   "cell_type": "markdown",
   "metadata": {
    "slideshow": {
     "slide_type": "subslide"
    }
   },
   "source": [
    "We can now use this custom `Function` either directly or as part of a layer.\n",
    "\n",
    "For example, here's an ELU layer using our custom backward:"
   ]
  },
  {
   "cell_type": "code",
   "execution_count": 9,
   "metadata": {
    "execution": {
     "iopub.execute_input": "2022-03-24T07:23:48.887908Z",
     "iopub.status.busy": "2022-03-24T07:23:48.887817Z",
     "iopub.status.idle": "2022-03-24T07:23:48.900187Z",
     "shell.execute_reply": "2022-03-24T07:23:48.899913Z"
    },
    "slideshow": {
     "slide_type": "fragment"
    }
   },
   "outputs": [],
   "source": [
    "class ELUCustom(torch.nn.Module):\n",
    "    \"\"\" ELU Layer with a custom backward pass \"\"\"\n",
    "    \n",
    "    def __init__(self, alpha: float = 0.1):\n",
    "        super().__init__()\n",
    "        self.alpha = alpha\n",
    "    \n",
    "    def forward(self, z: Tensor):\n",
    "        # Function.apply() invokesa the forward pass with a new context\n",
    "        # and updates the computation graph of the inputs\n",
    "        return ELUFunction.apply(z, self.alpha)"
   ]
  },
  {
   "cell_type": "code",
   "execution_count": 10,
   "metadata": {
    "execution": {
     "iopub.execute_input": "2022-03-24T07:23:48.901872Z",
     "iopub.status.busy": "2022-03-24T07:23:48.901792Z",
     "iopub.status.idle": "2022-03-24T07:23:48.946886Z",
     "shell.execute_reply": "2022-03-24T07:23:48.946514Z"
    },
    "slideshow": {
     "slide_type": "subslide"
    }
   },
   "outputs": [
    {
     "data": {
      "image/svg+xml": [
       "<?xml version=\"1.0\" encoding=\"UTF-8\" standalone=\"no\"?>\n",
       "<!DOCTYPE svg PUBLIC \"-//W3C//DTD SVG 1.1//EN\"\n",
       " \"http://www.w3.org/Graphics/SVG/1.1/DTD/svg11.dtd\">\n",
       "<!-- Generated by graphviz version 2.42.3 (20191010.1750)\n",
       " -->\n",
       "<!-- Title: %3 Pages: 1 -->\n",
       "<svg width=\"149pt\" height=\"210pt\"\n",
       " viewBox=\"0.00 0.00 149.10 210.00\" xmlns=\"http://www.w3.org/2000/svg\" xmlns:xlink=\"http://www.w3.org/1999/xlink\">\n",
       "<g id=\"graph0\" class=\"graph\" transform=\"scale(1 1) rotate(0) translate(4 206)\">\n",
       "<title>%3</title>\n",
       "<polygon fill=\"white\" stroke=\"transparent\" points=\"-4,4 -4,-206 145.1,-206 145.1,4 -4,4\"/>\n",
       "<!-- 140237544881024 -->\n",
       "<g id=\"node1\" class=\"node\">\n",
       "<title>140237544881024</title>\n",
       "<polygon fill=\"#caff70\" stroke=\"black\" points=\"85.86,-30 31.86,-30 31.86,0 85.86,0 85.86,-30\"/>\n",
       "<text text-anchor=\"middle\" x=\"58.86\" y=\"-6\" font-family=\"monospace\" font-size=\"10.00\"> (6)</text>\n",
       "</g>\n",
       "<!-- 140237318430784 -->\n",
       "<g id=\"node2\" class=\"node\">\n",
       "<title>140237318430784</title>\n",
       "<polygon fill=\"lightgrey\" stroke=\"black\" points=\"117.57,-84 0.14,-84 0.14,-66 117.57,-66 117.57,-84\"/>\n",
       "<text text-anchor=\"middle\" x=\"58.86\" y=\"-72\" font-family=\"monospace\" font-size=\"10.00\">ELUFunctionBackward</text>\n",
       "</g>\n",
       "<!-- 140237318430784&#45;&gt;140237544881024 -->\n",
       "<g id=\"edge4\" class=\"edge\">\n",
       "<title>140237318430784&#45;&gt;140237544881024</title>\n",
       "<path fill=\"none\" stroke=\"black\" d=\"M58.86,-65.94C58.86,-59.31 58.86,-49.57 58.86,-40.45\"/>\n",
       "<polygon fill=\"black\" stroke=\"black\" points=\"62.36,-40.24 58.86,-30.24 55.36,-40.24 62.36,-40.24\"/>\n",
       "</g>\n",
       "<!-- 140237544865600 -->\n",
       "<g id=\"node3\" class=\"node\">\n",
       "<title>140237544865600</title>\n",
       "<polygon fill=\"lightgrey\" stroke=\"black\" points=\"141.34,-138 50.38,-138 50.38,-120 141.34,-120 141.34,-138\"/>\n",
       "<text text-anchor=\"middle\" x=\"95.86\" y=\"-126\" font-family=\"monospace\" font-size=\"10.00\">AccumulateGrad</text>\n",
       "</g>\n",
       "<!-- 140237544865600&#45;&gt;140237318430784 -->\n",
       "<g id=\"edge1\" class=\"edge\">\n",
       "<title>140237544865600&#45;&gt;140237318430784</title>\n",
       "<path fill=\"none\" stroke=\"black\" d=\"M90.08,-119.88C84.89,-112.59 77.13,-101.68 70.64,-92.56\"/>\n",
       "<polygon fill=\"black\" stroke=\"black\" points=\"73.37,-90.36 64.72,-84.24 67.67,-94.42 73.37,-90.36\"/>\n",
       "</g>\n",
       "<!-- 140237543719216 -->\n",
       "<g id=\"node4\" class=\"node\">\n",
       "<title>140237543719216</title>\n",
       "<polygon fill=\"orange\" stroke=\"black\" points=\"85.86,-202 31.86,-202 31.86,-174 85.86,-174 85.86,-202\"/>\n",
       "<text text-anchor=\"middle\" x=\"58.86\" y=\"-190\" font-family=\"monospace\" font-size=\"10.00\">z</text>\n",
       "<text text-anchor=\"middle\" x=\"58.86\" y=\"-180\" font-family=\"monospace\" font-size=\"10.00\"> (6)</text>\n",
       "</g>\n",
       "<!-- 140237543719216&#45;&gt;140237318430784 -->\n",
       "<g id=\"edge3\" class=\"edge\">\n",
       "<title>140237543719216&#45;&gt;140237318430784</title>\n",
       "<path fill=\"none\" stroke=\"black\" d=\"M51.99,-173.76C45.86,-160.33 38.34,-138.88 41.86,-120 43.55,-110.93 47.04,-101.33 50.43,-93.41\"/>\n",
       "<polygon fill=\"black\" stroke=\"black\" points=\"53.68,-94.72 54.65,-84.17 47.31,-91.81 53.68,-94.72\"/>\n",
       "</g>\n",
       "<!-- 140237543719216&#45;&gt;140237544865600 -->\n",
       "<g id=\"edge2\" class=\"edge\">\n",
       "<title>140237543719216&#45;&gt;140237544865600</title>\n",
       "<path fill=\"none\" stroke=\"black\" d=\"M67.44,-173.78C72.71,-165.66 79.5,-155.2 85.12,-146.54\"/>\n",
       "<polygon fill=\"black\" stroke=\"black\" points=\"88.13,-148.34 90.63,-138.05 82.25,-144.53 88.13,-148.34\"/>\n",
       "</g>\n",
       "</g>\n",
       "</svg>\n"
      ],
      "text/plain": [
       "<graphviz.dot.Digraph at 0x7f8b990bb610>"
      ]
     },
     "execution_count": 10,
     "metadata": {},
     "output_type": "execute_result"
    }
   ],
   "source": [
    "elu_custom = ELUCustom(alpha=0.5)\n",
    "z = torch.tensor([-2., -1, 0, 1, 2, 3], requires_grad=True)\n",
    "torchviz.make_dot(elu_custom(z), params=dict(z=z))"
   ]
  },
  {
   "cell_type": "markdown",
   "metadata": {
    "slideshow": {
     "slide_type": "subslide"
    }
   },
   "source": [
    "This only tested the forward pass. Let's now put our custom layer in the context of a larger model and see that we can backprop through it."
   ]
  },
  {
   "cell_type": "code",
   "execution_count": 11,
   "metadata": {
    "execution": {
     "iopub.execute_input": "2022-03-24T07:23:48.948926Z",
     "iopub.status.busy": "2022-03-24T07:23:48.948834Z",
     "iopub.status.idle": "2022-03-24T07:23:48.973562Z",
     "shell.execute_reply": "2022-03-24T07:23:48.973292Z"
    },
    "slideshow": {
     "slide_type": "fragment"
    }
   },
   "outputs": [
    {
     "data": {
      "text/plain": [
       "Sequential(\n",
       "  (0): Linear(in_features=512, out_features=1024, bias=True)\n",
       "  (1): ELUCustom()\n",
       "  (2): Linear(in_features=1024, out_features=1024, bias=True)\n",
       "  (3): ELUCustom()\n",
       "  (4): Linear(in_features=1024, out_features=10, bias=True)\n",
       "  (5): Softmax(dim=1)\n",
       ")"
      ]
     },
     "execution_count": 11,
     "metadata": {},
     "output_type": "execute_result"
    }
   ],
   "source": [
    "elu_mlp = torch.nn.Sequential(\n",
    "    torch.nn.Linear(in_features=512, out_features=1024),\n",
    "    ELUCustom(alpha=0.01),\n",
    "    torch.nn.Linear(in_features=1024, out_features=1024),\n",
    "    ELUCustom(alpha=0.01),\n",
    "    torch.nn.Linear(in_features=1024, out_features=10),\n",
    "    torch.nn.Softmax(dim=1)\n",
    ")\n",
    "\n",
    "elu_mlp"
   ]
  },
  {
   "cell_type": "code",
   "execution_count": 12,
   "metadata": {
    "execution": {
     "iopub.execute_input": "2022-03-24T07:23:48.975273Z",
     "iopub.status.busy": "2022-03-24T07:23:48.975170Z",
     "iopub.status.idle": "2022-03-24T07:23:49.028692Z",
     "shell.execute_reply": "2022-03-24T07:23:49.028110Z"
    },
    "scrolled": false,
    "slideshow": {
     "slide_type": "subslide"
    }
   },
   "outputs": [
    {
     "data": {
      "image/svg+xml": [
       "<?xml version=\"1.0\" encoding=\"UTF-8\" standalone=\"no\"?>\n",
       "<!DOCTYPE svg PUBLIC \"-//W3C//DTD SVG 1.1//EN\"\n",
       " \"http://www.w3.org/Graphics/SVG/1.1/DTD/svg11.dtd\">\n",
       "<!-- Generated by graphviz version 2.42.3 (20191010.1750)\n",
       " -->\n",
       "<!-- Title: %3 Pages: 1 -->\n",
       "<svg width=\"472pt\" height=\"642pt\"\n",
       " viewBox=\"0.00 0.00 472.48 642.00\" xmlns=\"http://www.w3.org/2000/svg\" xmlns:xlink=\"http://www.w3.org/1999/xlink\">\n",
       "<g id=\"graph0\" class=\"graph\" transform=\"scale(1 1) rotate(0) translate(4 638)\">\n",
       "<title>%3</title>\n",
       "<polygon fill=\"white\" stroke=\"transparent\" points=\"-4,4 -4,-638 468.48,-638 468.48,4 -4,4\"/>\n",
       "<!-- 140237544880944 -->\n",
       "<g id=\"node1\" class=\"node\">\n",
       "<title>140237544880944</title>\n",
       "<polygon fill=\"#caff70\" stroke=\"black\" points=\"318.24,-30 264.24,-30 264.24,0 318.24,0 318.24,-30\"/>\n",
       "<text text-anchor=\"middle\" x=\"291.24\" y=\"-6\" font-family=\"monospace\" font-size=\"10.00\"> ()</text>\n",
       "</g>\n",
       "<!-- 140237318447840 -->\n",
       "<g id=\"node2\" class=\"node\">\n",
       "<title>140237318447840</title>\n",
       "<polygon fill=\"lightgrey\" stroke=\"black\" points=\"336.72,-84 245.76,-84 245.76,-66 336.72,-66 336.72,-84\"/>\n",
       "<text text-anchor=\"middle\" x=\"291.24\" y=\"-72\" font-family=\"monospace\" font-size=\"10.00\">MeanBackward0</text>\n",
       "</g>\n",
       "<!-- 140237318447840&#45;&gt;140237544880944 -->\n",
       "<g id=\"edge26\" class=\"edge\">\n",
       "<title>140237318447840&#45;&gt;140237544880944</title>\n",
       "<path fill=\"none\" stroke=\"black\" d=\"M291.24,-65.94C291.24,-59.31 291.24,-49.57 291.24,-40.45\"/>\n",
       "<polygon fill=\"black\" stroke=\"black\" points=\"294.74,-40.24 291.24,-30.24 287.74,-40.24 294.74,-40.24\"/>\n",
       "</g>\n",
       "<!-- 140237318448320 -->\n",
       "<g id=\"node3\" class=\"node\">\n",
       "<title>140237318448320</title>\n",
       "<polygon fill=\"lightgrey\" stroke=\"black\" points=\"342.39,-138 240.09,-138 240.09,-120 342.39,-120 342.39,-138\"/>\n",
       "<text text-anchor=\"middle\" x=\"291.24\" y=\"-126\" font-family=\"monospace\" font-size=\"10.00\">SoftmaxBackward0</text>\n",
       "</g>\n",
       "<!-- 140237318448320&#45;&gt;140237318447840 -->\n",
       "<g id=\"edge1\" class=\"edge\">\n",
       "<title>140237318448320&#45;&gt;140237318447840</title>\n",
       "<path fill=\"none\" stroke=\"black\" d=\"M291.24,-119.88C291.24,-113.05 291.24,-103.03 291.24,-94.29\"/>\n",
       "<polygon fill=\"black\" stroke=\"black\" points=\"294.74,-94.24 291.24,-84.24 287.74,-94.24 294.74,-94.24\"/>\n",
       "</g>\n",
       "<!-- 140237318448032 -->\n",
       "<g id=\"node4\" class=\"node\">\n",
       "<title>140237318448032</title>\n",
       "<polygon fill=\"lightgrey\" stroke=\"black\" points=\"341.16,-192 241.32,-192 241.32,-174 341.16,-174 341.16,-192\"/>\n",
       "<text text-anchor=\"middle\" x=\"291.24\" y=\"-180\" font-family=\"monospace\" font-size=\"10.00\">AddmmBackward0</text>\n",
       "</g>\n",
       "<!-- 140237318448032&#45;&gt;140237318448320 -->\n",
       "<g id=\"edge2\" class=\"edge\">\n",
       "<title>140237318448032&#45;&gt;140237318448320</title>\n",
       "<path fill=\"none\" stroke=\"black\" d=\"M291.24,-173.88C291.24,-167.05 291.24,-157.03 291.24,-148.29\"/>\n",
       "<polygon fill=\"black\" stroke=\"black\" points=\"294.74,-148.24 291.24,-138.24 287.74,-148.24 294.74,-148.24\"/>\n",
       "</g>\n",
       "<!-- 140237318448560 -->\n",
       "<g id=\"node5\" class=\"node\">\n",
       "<title>140237318448560</title>\n",
       "<polygon fill=\"lightgrey\" stroke=\"black\" points=\"199.72,-246 108.76,-246 108.76,-228 199.72,-228 199.72,-246\"/>\n",
       "<text text-anchor=\"middle\" x=\"154.24\" y=\"-234\" font-family=\"monospace\" font-size=\"10.00\">AccumulateGrad</text>\n",
       "</g>\n",
       "<!-- 140237318448560&#45;&gt;140237318448032 -->\n",
       "<g id=\"edge3\" class=\"edge\">\n",
       "<title>140237318448560&#45;&gt;140237318448032</title>\n",
       "<path fill=\"none\" stroke=\"black\" d=\"M175.34,-227.99C198.11,-219.35 234.56,-205.51 260.51,-195.67\"/>\n",
       "<polygon fill=\"black\" stroke=\"black\" points=\"261.78,-198.93 269.88,-192.11 259.29,-192.38 261.78,-198.93\"/>\n",
       "</g>\n",
       "<!-- 140237318460176 -->\n",
       "<g id=\"node6\" class=\"node\">\n",
       "<title>140237318460176</title>\n",
       "<polygon fill=\"lightblue\" stroke=\"black\" points=\"154.24,-311 100.24,-311 100.24,-283 154.24,-283 154.24,-311\"/>\n",
       "<text text-anchor=\"middle\" x=\"127.24\" y=\"-299\" font-family=\"monospace\" font-size=\"10.00\">4.bias</text>\n",
       "<text text-anchor=\"middle\" x=\"127.24\" y=\"-289\" font-family=\"monospace\" font-size=\"10.00\"> (10)</text>\n",
       "</g>\n",
       "<!-- 140237318460176&#45;&gt;140237318448560 -->\n",
       "<g id=\"edge4\" class=\"edge\">\n",
       "<title>140237318460176&#45;&gt;140237318448560</title>\n",
       "<path fill=\"none\" stroke=\"black\" d=\"M133.37,-282.84C137.12,-274.77 141.98,-264.33 146.06,-255.56\"/>\n",
       "<polygon fill=\"black\" stroke=\"black\" points=\"149.34,-256.81 150.39,-246.27 142.99,-253.86 149.34,-256.81\"/>\n",
       "</g>\n",
       "<!-- 140237317922320 -->\n",
       "<g id=\"node7\" class=\"node\">\n",
       "<title>140237317922320</title>\n",
       "<polygon fill=\"lightgrey\" stroke=\"black\" points=\"349.95,-246 232.52,-246 232.52,-228 349.95,-228 349.95,-246\"/>\n",
       "<text text-anchor=\"middle\" x=\"291.24\" y=\"-234\" font-family=\"monospace\" font-size=\"10.00\">ELUFunctionBackward</text>\n",
       "</g>\n",
       "<!-- 140237317922320&#45;&gt;140237318448032 -->\n",
       "<g id=\"edge5\" class=\"edge\">\n",
       "<title>140237317922320&#45;&gt;140237318448032</title>\n",
       "<path fill=\"none\" stroke=\"black\" d=\"M291.24,-227.88C291.24,-221.05 291.24,-211.03 291.24,-202.29\"/>\n",
       "<polygon fill=\"black\" stroke=\"black\" points=\"294.74,-202.24 291.24,-192.24 287.74,-202.24 294.74,-202.24\"/>\n",
       "</g>\n",
       "<!-- 140237318448656 -->\n",
       "<g id=\"node8\" class=\"node\">\n",
       "<title>140237318448656</title>\n",
       "<polygon fill=\"lightgrey\" stroke=\"black\" points=\"272.16,-306 172.32,-306 172.32,-288 272.16,-288 272.16,-306\"/>\n",
       "<text text-anchor=\"middle\" x=\"222.24\" y=\"-294\" font-family=\"monospace\" font-size=\"10.00\">AddmmBackward0</text>\n",
       "</g>\n",
       "<!-- 140237318448656&#45;&gt;140237317922320 -->\n",
       "<g id=\"edge6\" class=\"edge\">\n",
       "<title>140237318448656&#45;&gt;140237317922320</title>\n",
       "<path fill=\"none\" stroke=\"black\" d=\"M231.83,-287.94C242.53,-278.95 260.05,-264.22 273.3,-253.08\"/>\n",
       "<polygon fill=\"black\" stroke=\"black\" points=\"275.88,-255.49 281.28,-246.37 271.37,-250.13 275.88,-255.49\"/>\n",
       "</g>\n",
       "<!-- 140237318448800 -->\n",
       "<g id=\"node9\" class=\"node\">\n",
       "<title>140237318448800</title>\n",
       "<polygon fill=\"lightgrey\" stroke=\"black\" points=\"130.72,-371 39.76,-371 39.76,-353 130.72,-353 130.72,-371\"/>\n",
       "<text text-anchor=\"middle\" x=\"85.24\" y=\"-359\" font-family=\"monospace\" font-size=\"10.00\">AccumulateGrad</text>\n",
       "</g>\n",
       "<!-- 140237318448800&#45;&gt;140237318448656 -->\n",
       "<g id=\"edge7\" class=\"edge\">\n",
       "<title>140237318448800&#45;&gt;140237318448656</title>\n",
       "<path fill=\"none\" stroke=\"black\" d=\"M102.87,-352.89C126.3,-342.12 167.91,-322.98 195.29,-310.39\"/>\n",
       "<polygon fill=\"black\" stroke=\"black\" points=\"197.05,-313.43 204.68,-306.08 194.13,-307.07 197.05,-313.43\"/>\n",
       "</g>\n",
       "<!-- 140237318459936 -->\n",
       "<g id=\"node10\" class=\"node\">\n",
       "<title>140237318459936</title>\n",
       "<polygon fill=\"lightblue\" stroke=\"black\" points=\"85.24,-441 31.24,-441 31.24,-413 85.24,-413 85.24,-441\"/>\n",
       "<text text-anchor=\"middle\" x=\"58.24\" y=\"-429\" font-family=\"monospace\" font-size=\"10.00\">2.bias</text>\n",
       "<text text-anchor=\"middle\" x=\"58.24\" y=\"-419\" font-family=\"monospace\" font-size=\"10.00\"> (1024)</text>\n",
       "</g>\n",
       "<!-- 140237318459936&#45;&gt;140237318448800 -->\n",
       "<g id=\"edge8\" class=\"edge\">\n",
       "<title>140237318459936&#45;&gt;140237318448800</title>\n",
       "<path fill=\"none\" stroke=\"black\" d=\"M63.83,-412.95C67.86,-403.54 73.35,-390.74 77.76,-380.46\"/>\n",
       "<polygon fill=\"black\" stroke=\"black\" points=\"80.99,-381.8 81.71,-371.23 74.56,-379.04 80.99,-381.8\"/>\n",
       "</g>\n",
       "<!-- 140237317922112 -->\n",
       "<g id=\"node11\" class=\"node\">\n",
       "<title>140237317922112</title>\n",
       "<polygon fill=\"lightgrey\" stroke=\"black\" points=\"279.95,-371 162.52,-371 162.52,-353 279.95,-353 279.95,-371\"/>\n",
       "<text text-anchor=\"middle\" x=\"221.24\" y=\"-359\" font-family=\"monospace\" font-size=\"10.00\">ELUFunctionBackward</text>\n",
       "</g>\n",
       "<!-- 140237317922112&#45;&gt;140237318448656 -->\n",
       "<g id=\"edge9\" class=\"edge\">\n",
       "<title>140237317922112&#45;&gt;140237318448656</title>\n",
       "<path fill=\"none\" stroke=\"black\" d=\"M221.37,-352.76C221.52,-343.56 221.76,-328.38 221.95,-316.33\"/>\n",
       "<polygon fill=\"black\" stroke=\"black\" points=\"225.45,-316.09 222.11,-306.04 218.45,-315.98 225.45,-316.09\"/>\n",
       "</g>\n",
       "<!-- 140237318448848 -->\n",
       "<g id=\"node12\" class=\"node\">\n",
       "<title>140237318448848</title>\n",
       "<polygon fill=\"lightgrey\" stroke=\"black\" points=\"203.16,-436 103.32,-436 103.32,-418 203.16,-418 203.16,-436\"/>\n",
       "<text text-anchor=\"middle\" x=\"153.24\" y=\"-424\" font-family=\"monospace\" font-size=\"10.00\">AddmmBackward0</text>\n",
       "</g>\n",
       "<!-- 140237318448848&#45;&gt;140237317922112 -->\n",
       "<g id=\"edge10\" class=\"edge\">\n",
       "<title>140237318448848&#45;&gt;140237317922112</title>\n",
       "<path fill=\"none\" stroke=\"black\" d=\"M162.13,-417.76C172.98,-407.71 191.54,-390.51 204.98,-378.07\"/>\n",
       "<polygon fill=\"black\" stroke=\"black\" points=\"207.6,-380.4 212.56,-371.04 202.85,-375.27 207.6,-380.4\"/>\n",
       "</g>\n",
       "<!-- 140237318449088 -->\n",
       "<g id=\"node13\" class=\"node\">\n",
       "<title>140237318449088</title>\n",
       "<polygon fill=\"lightgrey\" stroke=\"black\" points=\"90.72,-501 -0.24,-501 -0.24,-483 90.72,-483 90.72,-501\"/>\n",
       "<text text-anchor=\"middle\" x=\"45.24\" y=\"-489\" font-family=\"monospace\" font-size=\"10.00\">AccumulateGrad</text>\n",
       "</g>\n",
       "<!-- 140237318449088&#45;&gt;140237318448848 -->\n",
       "<g id=\"edge11\" class=\"edge\">\n",
       "<title>140237318449088&#45;&gt;140237318448848</title>\n",
       "<path fill=\"none\" stroke=\"black\" d=\"M59.36,-482.76C77.49,-472.19 109.17,-453.71 130.66,-441.17\"/>\n",
       "<polygon fill=\"black\" stroke=\"black\" points=\"132.58,-444.1 139.46,-436.04 129.06,-438.05 132.58,-444.1\"/>\n",
       "</g>\n",
       "<!-- 140237318459776 -->\n",
       "<g id=\"node14\" class=\"node\">\n",
       "<title>140237318459776</title>\n",
       "<polygon fill=\"lightblue\" stroke=\"black\" points=\"72.24,-570 18.24,-570 18.24,-542 72.24,-542 72.24,-570\"/>\n",
       "<text text-anchor=\"middle\" x=\"45.24\" y=\"-558\" font-family=\"monospace\" font-size=\"10.00\">0.bias</text>\n",
       "<text text-anchor=\"middle\" x=\"45.24\" y=\"-548\" font-family=\"monospace\" font-size=\"10.00\"> (1024)</text>\n",
       "</g>\n",
       "<!-- 140237318459776&#45;&gt;140237318449088 -->\n",
       "<g id=\"edge12\" class=\"edge\">\n",
       "<title>140237318459776&#45;&gt;140237318449088</title>\n",
       "<path fill=\"none\" stroke=\"black\" d=\"M45.24,-541.85C45.24,-532.96 45.24,-521.1 45.24,-511.29\"/>\n",
       "<polygon fill=\"black\" stroke=\"black\" points=\"48.74,-511.02 45.24,-501.02 41.74,-511.02 48.74,-511.02\"/>\n",
       "</g>\n",
       "<!-- 140237318449040 -->\n",
       "<g id=\"node15\" class=\"node\">\n",
       "<title>140237318449040</title>\n",
       "<polygon fill=\"lightgrey\" stroke=\"black\" points=\"198.72,-501 107.76,-501 107.76,-483 198.72,-483 198.72,-501\"/>\n",
       "<text text-anchor=\"middle\" x=\"153.24\" y=\"-489\" font-family=\"monospace\" font-size=\"10.00\">AccumulateGrad</text>\n",
       "</g>\n",
       "<!-- 140237318449040&#45;&gt;140237318448848 -->\n",
       "<g id=\"edge13\" class=\"edge\">\n",
       "<title>140237318449040&#45;&gt;140237318448848</title>\n",
       "<path fill=\"none\" stroke=\"black\" d=\"M153.24,-482.76C153.24,-473.56 153.24,-458.38 153.24,-446.33\"/>\n",
       "<polygon fill=\"black\" stroke=\"black\" points=\"156.74,-446.04 153.24,-436.04 149.74,-446.04 156.74,-446.04\"/>\n",
       "</g>\n",
       "<!-- 140237544878704 -->\n",
       "<g id=\"node16\" class=\"node\">\n",
       "<title>140237544878704</title>\n",
       "<polygon fill=\"lightblue\" stroke=\"black\" points=\"182.54,-570 123.94,-570 123.94,-542 182.54,-542 182.54,-570\"/>\n",
       "<text text-anchor=\"middle\" x=\"153.24\" y=\"-558\" font-family=\"monospace\" font-size=\"10.00\">x</text>\n",
       "<text text-anchor=\"middle\" x=\"153.24\" y=\"-548\" font-family=\"monospace\" font-size=\"10.00\"> (10, 512)</text>\n",
       "</g>\n",
       "<!-- 140237544878704&#45;&gt;140237318449040 -->\n",
       "<g id=\"edge14\" class=\"edge\">\n",
       "<title>140237544878704&#45;&gt;140237318449040</title>\n",
       "<path fill=\"none\" stroke=\"black\" d=\"M153.24,-541.85C153.24,-532.96 153.24,-521.1 153.24,-511.29\"/>\n",
       "<polygon fill=\"black\" stroke=\"black\" points=\"156.74,-511.02 153.24,-501.02 149.74,-511.02 156.74,-511.02\"/>\n",
       "</g>\n",
       "<!-- 140237318448944 -->\n",
       "<g id=\"node17\" class=\"node\">\n",
       "<title>140237318448944</title>\n",
       "<polygon fill=\"lightgrey\" stroke=\"black\" points=\"287.82,-501 216.66,-501 216.66,-483 287.82,-483 287.82,-501\"/>\n",
       "<text text-anchor=\"middle\" x=\"252.24\" y=\"-489\" font-family=\"monospace\" font-size=\"10.00\">TBackward0</text>\n",
       "</g>\n",
       "<!-- 140237318448944&#45;&gt;140237318448848 -->\n",
       "<g id=\"edge15\" class=\"edge\">\n",
       "<title>140237318448944&#45;&gt;140237318448848</title>\n",
       "<path fill=\"none\" stroke=\"black\" d=\"M239.3,-482.76C222.83,-472.28 194.16,-454.04 174.47,-441.51\"/>\n",
       "<polygon fill=\"black\" stroke=\"black\" points=\"176.19,-438.45 165.87,-436.04 172.43,-444.36 176.19,-438.45\"/>\n",
       "</g>\n",
       "<!-- 140237318449376 -->\n",
       "<g id=\"node18\" class=\"node\">\n",
       "<title>140237318449376</title>\n",
       "<polygon fill=\"lightgrey\" stroke=\"black\" points=\"297.72,-565 206.76,-565 206.76,-547 297.72,-547 297.72,-565\"/>\n",
       "<text text-anchor=\"middle\" x=\"252.24\" y=\"-553\" font-family=\"monospace\" font-size=\"10.00\">AccumulateGrad</text>\n",
       "</g>\n",
       "<!-- 140237318449376&#45;&gt;140237318448944 -->\n",
       "<g id=\"edge16\" class=\"edge\">\n",
       "<title>140237318449376&#45;&gt;140237318448944</title>\n",
       "<path fill=\"none\" stroke=\"black\" d=\"M252.24,-546.89C252.24,-537.94 252.24,-523.23 252.24,-511.43\"/>\n",
       "<polygon fill=\"black\" stroke=\"black\" points=\"255.74,-511.31 252.24,-501.31 248.74,-511.31 255.74,-511.31\"/>\n",
       "</g>\n",
       "<!-- 140237544850112 -->\n",
       "<g id=\"node19\" class=\"node\">\n",
       "<title>140237544850112</title>\n",
       "<polygon fill=\"lightblue\" stroke=\"black\" points=\"287.16,-634 217.31,-634 217.31,-606 287.16,-606 287.16,-634\"/>\n",
       "<text text-anchor=\"middle\" x=\"252.24\" y=\"-622\" font-family=\"monospace\" font-size=\"10.00\">0.weight</text>\n",
       "<text text-anchor=\"middle\" x=\"252.24\" y=\"-612\" font-family=\"monospace\" font-size=\"10.00\"> (1024, 512)</text>\n",
       "</g>\n",
       "<!-- 140237544850112&#45;&gt;140237318449376 -->\n",
       "<g id=\"edge17\" class=\"edge\">\n",
       "<title>140237544850112&#45;&gt;140237318449376</title>\n",
       "<path fill=\"none\" stroke=\"black\" d=\"M252.24,-605.85C252.24,-596.96 252.24,-585.1 252.24,-575.29\"/>\n",
       "<polygon fill=\"black\" stroke=\"black\" points=\"255.74,-575.02 252.24,-565.02 248.74,-575.02 255.74,-575.02\"/>\n",
       "</g>\n",
       "<!-- 140237544881344 -->\n",
       "<g id=\"node20\" class=\"node\">\n",
       "<title>140237544881344</title>\n",
       "<polygon fill=\"orange\" stroke=\"black\" points=\"285.6,-442 220.87,-442 220.87,-412 285.6,-412 285.6,-442\"/>\n",
       "<text text-anchor=\"middle\" x=\"253.24\" y=\"-418\" font-family=\"monospace\" font-size=\"10.00\"> (10, 1024)</text>\n",
       "</g>\n",
       "<!-- 140237544881344&#45;&gt;140237317922112 -->\n",
       "<g id=\"edge18\" class=\"edge\">\n",
       "<title>140237544881344&#45;&gt;140237317922112</title>\n",
       "<path fill=\"none\" stroke=\"black\" d=\"M245.98,-411.7C241.27,-402.44 235.11,-390.3 230.11,-380.46\"/>\n",
       "<polygon fill=\"black\" stroke=\"black\" points=\"233.08,-378.59 225.43,-371.26 226.84,-381.76 233.08,-378.59\"/>\n",
       "</g>\n",
       "<!-- 140237318448752 -->\n",
       "<g id=\"node21\" class=\"node\">\n",
       "<title>140237318448752</title>\n",
       "<polygon fill=\"lightgrey\" stroke=\"black\" points=\"369.82,-371 298.66,-371 298.66,-353 369.82,-353 369.82,-371\"/>\n",
       "<text text-anchor=\"middle\" x=\"334.24\" y=\"-359\" font-family=\"monospace\" font-size=\"10.00\">TBackward0</text>\n",
       "</g>\n",
       "<!-- 140237318448752&#45;&gt;140237318448656 -->\n",
       "<g id=\"edge19\" class=\"edge\">\n",
       "<title>140237318448752&#45;&gt;140237318448656</title>\n",
       "<path fill=\"none\" stroke=\"black\" d=\"M319.6,-352.76C300.71,-342.14 267.65,-323.54 245.35,-311\"/>\n",
       "<polygon fill=\"black\" stroke=\"black\" points=\"246.96,-307.89 236.53,-306.04 243.53,-313.99 246.96,-307.89\"/>\n",
       "</g>\n",
       "<!-- 140237318449280 -->\n",
       "<g id=\"node22\" class=\"node\">\n",
       "<title>140237318449280</title>\n",
       "<polygon fill=\"lightgrey\" stroke=\"black\" points=\"393.72,-436 302.76,-436 302.76,-418 393.72,-418 393.72,-436\"/>\n",
       "<text text-anchor=\"middle\" x=\"348.24\" y=\"-424\" font-family=\"monospace\" font-size=\"10.00\">AccumulateGrad</text>\n",
       "</g>\n",
       "<!-- 140237318449280&#45;&gt;140237318448752 -->\n",
       "<g id=\"edge20\" class=\"edge\">\n",
       "<title>140237318449280&#45;&gt;140237318448752</title>\n",
       "<path fill=\"none\" stroke=\"black\" d=\"M346.41,-417.76C344.34,-408.47 340.92,-393.07 338.23,-380.96\"/>\n",
       "<polygon fill=\"black\" stroke=\"black\" points=\"341.61,-380.04 336.03,-371.04 334.78,-381.56 341.61,-380.04\"/>\n",
       "</g>\n",
       "<!-- 140237544849552 -->\n",
       "<g id=\"node23\" class=\"node\">\n",
       "<title>140237544849552</title>\n",
       "<polygon fill=\"lightblue\" stroke=\"black\" points=\"386.23,-506 310.25,-506 310.25,-478 386.23,-478 386.23,-506\"/>\n",
       "<text text-anchor=\"middle\" x=\"348.24\" y=\"-494\" font-family=\"monospace\" font-size=\"10.00\">2.weight</text>\n",
       "<text text-anchor=\"middle\" x=\"348.24\" y=\"-484\" font-family=\"monospace\" font-size=\"10.00\"> (1024, 1024)</text>\n",
       "</g>\n",
       "<!-- 140237544849552&#45;&gt;140237318449280 -->\n",
       "<g id=\"edge21\" class=\"edge\">\n",
       "<title>140237544849552&#45;&gt;140237318449280</title>\n",
       "<path fill=\"none\" stroke=\"black\" d=\"M348.24,-477.95C348.24,-468.83 348.24,-456.54 348.24,-446.43\"/>\n",
       "<polygon fill=\"black\" stroke=\"black\" points=\"351.74,-446.23 348.24,-436.23 344.74,-446.23 351.74,-446.23\"/>\n",
       "</g>\n",
       "<!-- 140237318460016 -->\n",
       "<g id=\"node24\" class=\"node\">\n",
       "<title>140237318460016</title>\n",
       "<polygon fill=\"orange\" stroke=\"black\" points=\"354.6,-312 289.87,-312 289.87,-282 354.6,-282 354.6,-312\"/>\n",
       "<text text-anchor=\"middle\" x=\"322.24\" y=\"-288\" font-family=\"monospace\" font-size=\"10.00\"> (10, 1024)</text>\n",
       "</g>\n",
       "<!-- 140237318460016&#45;&gt;140237317922320 -->\n",
       "<g id=\"edge22\" class=\"edge\">\n",
       "<title>140237318460016&#45;&gt;140237317922320</title>\n",
       "<path fill=\"none\" stroke=\"black\" d=\"M314.73,-281.96C310.41,-273.86 304.93,-263.62 300.36,-255.07\"/>\n",
       "<polygon fill=\"black\" stroke=\"black\" points=\"303.33,-253.19 295.52,-246.02 297.15,-256.49 303.33,-253.19\"/>\n",
       "</g>\n",
       "<!-- 140237318447696 -->\n",
       "<g id=\"node25\" class=\"node\">\n",
       "<title>140237318447696</title>\n",
       "<polygon fill=\"lightgrey\" stroke=\"black\" points=\"446.82,-246 375.66,-246 375.66,-228 446.82,-228 446.82,-246\"/>\n",
       "<text text-anchor=\"middle\" x=\"411.24\" y=\"-234\" font-family=\"monospace\" font-size=\"10.00\">TBackward0</text>\n",
       "</g>\n",
       "<!-- 140237318447696&#45;&gt;140237318448032 -->\n",
       "<g id=\"edge23\" class=\"edge\">\n",
       "<title>140237318447696&#45;&gt;140237318448032</title>\n",
       "<path fill=\"none\" stroke=\"black\" d=\"M392.75,-227.99C373.17,-219.5 342,-206 319.37,-196.19\"/>\n",
       "<polygon fill=\"black\" stroke=\"black\" points=\"320.51,-192.87 309.94,-192.11 317.73,-199.29 320.51,-192.87\"/>\n",
       "</g>\n",
       "<!-- 140237318449184 -->\n",
       "<g id=\"node26\" class=\"node\">\n",
       "<title>140237318449184</title>\n",
       "<polygon fill=\"lightgrey\" stroke=\"black\" points=\"464.72,-306 373.76,-306 373.76,-288 464.72,-288 464.72,-306\"/>\n",
       "<text text-anchor=\"middle\" x=\"419.24\" y=\"-294\" font-family=\"monospace\" font-size=\"10.00\">AccumulateGrad</text>\n",
       "</g>\n",
       "<!-- 140237318449184&#45;&gt;140237318447696 -->\n",
       "<g id=\"edge24\" class=\"edge\">\n",
       "<title>140237318449184&#45;&gt;140237318447696</title>\n",
       "<path fill=\"none\" stroke=\"black\" d=\"M418.13,-287.94C417,-279.8 415.23,-266.97 413.77,-256.35\"/>\n",
       "<polygon fill=\"black\" stroke=\"black\" points=\"417.23,-255.8 412.39,-246.37 410.29,-256.76 417.23,-255.8\"/>\n",
       "</g>\n",
       "<!-- 140237318460096 -->\n",
       "<g id=\"node27\" class=\"node\">\n",
       "<title>140237318460096</title>\n",
       "<polygon fill=\"lightblue\" stroke=\"black\" points=\"452.6,-376 387.87,-376 387.87,-348 452.6,-348 452.6,-376\"/>\n",
       "<text text-anchor=\"middle\" x=\"420.24\" y=\"-364\" font-family=\"monospace\" font-size=\"10.00\">4.weight</text>\n",
       "<text text-anchor=\"middle\" x=\"420.24\" y=\"-354\" font-family=\"monospace\" font-size=\"10.00\"> (10, 1024)</text>\n",
       "</g>\n",
       "<!-- 140237318460096&#45;&gt;140237318449184 -->\n",
       "<g id=\"edge25\" class=\"edge\">\n",
       "<title>140237318460096&#45;&gt;140237318449184</title>\n",
       "<path fill=\"none\" stroke=\"black\" d=\"M420.03,-347.95C419.89,-338.83 419.69,-326.54 419.53,-316.43\"/>\n",
       "<polygon fill=\"black\" stroke=\"black\" points=\"423.03,-316.17 419.37,-306.23 416.03,-316.28 423.03,-316.17\"/>\n",
       "</g>\n",
       "</g>\n",
       "</svg>\n"
      ],
      "text/plain": [
       "<graphviz.dot.Digraph at 0x7f8b8b8ce490>"
      ]
     },
     "execution_count": 12,
     "metadata": {},
     "output_type": "execute_result"
    }
   ],
   "source": [
    "x = torch.randn(10, 512, requires_grad=True)\n",
    "torchviz.make_dot(elu_mlp(x).mean(), params=dict(list(elu_mlp.named_parameters()) + [('x', x)]))"
   ]
  },
  {
   "cell_type": "markdown",
   "metadata": {
    "slideshow": {
     "slide_type": "subslide"
    }
   },
   "source": [
    "Let's run the backward pass and make sure we have gradients on all parameter tensors."
   ]
  },
  {
   "cell_type": "code",
   "execution_count": 13,
   "metadata": {
    "execution": {
     "iopub.execute_input": "2022-03-24T07:23:49.031408Z",
     "iopub.status.busy": "2022-03-24T07:23:49.031218Z",
     "iopub.status.idle": "2022-03-24T07:23:49.064705Z",
     "shell.execute_reply": "2022-03-24T07:23:49.064398Z"
    },
    "slideshow": {
     "slide_type": "fragment"
    }
   },
   "outputs": [
    {
     "name": "stdout",
     "output_type": "stream",
     "text": [
      "0.weight 2.1810672024002997e-07\n",
      "0.bias 8.488709291043506e-09\n",
      "2.weight 2.8359423254187277e-07\n",
      "2.bias 1.8296777426485278e-08\n",
      "4.weight 2.634928648603818e-07\n",
      "4.bias 3.7974928090989124e-08\n"
     ]
    }
   ],
   "source": [
    "l = torch.sum(elu_mlp(torch.randn(10, 512, requires_grad=True)))\n",
    "l.backward()\n",
    "\n",
    "for name, param in elu_mlp.named_parameters():\n",
    "    print(f\"{name} {torch.norm(param.grad).item()}\")"
   ]
  },
  {
   "cell_type": "markdown",
   "metadata": {
    "slideshow": {
     "slide_type": "slide"
    }
   },
   "source": [
    "## Part 2: Differentiable Optimization"
   ]
  },
  {
   "cell_type": "markdown",
   "metadata": {
    "slideshow": {
     "slide_type": "fragment"
    }
   },
   "source": [
    "Now we'll tackle a more interesting use-case for defining our custom backward functions: differentiating though an inner (unconstrained) optimization problem."
   ]
  },
  {
   "cell_type": "markdown",
   "metadata": {
    "slideshow": {
     "slide_type": "subslide"
    }
   },
   "source": [
    "What if we want to solve an inner optimization problem as part of our model, while the parameters of the inner problem are also optimized by the end-to-end optimization of the entire model?\n",
    "\n",
    "<center><img src=\"imgs/bilevel.png\" width=\"600\"/></center>\n",
    "\n",
    "Training such a network end-to-end means we're trying to find:\n",
    "\n",
    "$$\n",
    "\\begin{align}\n",
    "\\vec{\\Theta}^\\ast\n",
    "&=\n",
    "\\arg\\min_{\\vec{\\Theta}} \\E[(\\vec{x},\\vec{y})\\sim D]{\\mathcal{L}(\\vec{y}, \\hat{\\vec{y}})}\\\\\n",
    "&=\n",
    "\\arg\\min_{\\vec{\\Theta}} \\E[(\\vec{x},\\vec{y})\\sim D]{\n",
    "\\mathcal{L}(\\vec{y}, \\arg\\min_{\\vec{y'}} f(\\vec{y'}, h_{\\vec{\\Theta}}(\\vec{x}) )\n",
    "}\n",
    "\\end{align}\n",
    "$$\n",
    "\n",
    "This type of setting is also known as a bi-level optimization problem."
   ]
  },
  {
   "cell_type": "markdown",
   "metadata": {
    "slideshow": {
     "slide_type": "subslide"
    }
   },
   "source": [
    "From the perspective of the inner problem, $\\vec{z}$ is a \"fixed\" parameter. \n",
    "\n",
    "However, from the perspective of end-to-end training, we're optimizing $\\vec{\\Theta}$ in order to reduce the final loss.\n",
    "\n",
    "Therefore, we can view this as learning to parameterize the inner task."
   ]
  },
  {
   "cell_type": "markdown",
   "metadata": {
    "slideshow": {
     "slide_type": "fragment"
    }
   },
   "source": [
    "What do we need in order to train such a model end-to-end?"
   ]
  },
  {
   "cell_type": "markdown",
   "metadata": {
    "slideshow": {
     "slide_type": "subslide"
    }
   },
   "source": [
    "As usual, we must find a way to calculate a VJP, in this case:\n",
    "$$\n",
    "\\delta \\vec{z} = \\pderiv{\\hat{\\vec{y}}}{\\vec{z}}\\ \\delta\\hat{\\vec{y}}.\n",
    "$$\n",
    "\n",
    "But how can we $\\pderiv{\\hat{\\vec{y}}}{\\vec{z}}$ when $\\hat{\\vec{y}}$ is itself the solution of an optimization problem?"
   ]
  },
  {
   "cell_type": "markdown",
   "metadata": {
    "slideshow": {
     "slide_type": "subslide"
    }
   },
   "source": [
    "Assume that $\\vec{y}=\\arg\\min_{\\vec{y}'}f(\\vec{y}', \\vec{z})$.\n",
    "\n",
    "Since $\\vec{y}$ is a minimizer of the function $f$, the necessary optimality condition\n",
    "must hold: $$\\nabla_{y}f(y, z)=0.$$\n",
    "\n",
    "If we then perturb $\\vec{z}$ by $d\\vec{z}$, we'll get a slightly different minimizer, $\\vec{y}+d\\vec{y}$. Thus also,\n",
    "\n",
    "$$\\nabla_{y}f(y+dy, z+dz)=0.$$"
   ]
  },
  {
   "cell_type": "markdown",
   "metadata": {
    "slideshow": {
     "slide_type": "subslide"
    }
   },
   "source": [
    "We can take a first-order Taylor expansion of $\\nabla_{y}f$ around the point $(y, z)$:\n",
    "\n",
    "$$\n",
    "\\nabla_{y}f(y+dy, z+dz) \\approx \\nabla_{y}f(y, z) + \\nabla^{2}_{yy}f(y,z)dy + \\nabla^{2}_{yz}f(y, z)dz = 0.\n",
    "$$\n",
    "\n",
    "Since $\\nabla_{y}f(y, z)=0$, we rearrange to obtain:\n",
    "\n",
    "$$\n",
    "\\nabla^{2}_{yy}f(y,z)dy = -\\nabla^{2}_{yz}f(y, z)dz.\n",
    "$$"
   ]
  },
  {
   "cell_type": "markdown",
   "metadata": {
    "slideshow": {
     "slide_type": "subslide"
    }
   },
   "source": [
    "We'll denote the Hessian as $\\mat{K}=\\nabla^{2}_{yy}f(y,z)$ and mixed second derivatives as $\\mat{R}=\\nabla^{2}_{yz}f(y, z)$. We then obtain,\n",
    "\n",
    "$$\n",
    "\\mat{K}d\\vec{y}=-\\mat{R}d\\vec{z}\\Longrightarrow d\\vec{y}=-\\mat{K}^{-1}\\mat{R}d\\vec{z}.\n",
    "$$"
   ]
  },
  {
   "cell_type": "markdown",
   "metadata": {
    "slideshow": {
     "slide_type": "subslide"
    }
   },
   "source": [
    "The above equation means that we have found a linear relationship between the change in the function value, $d\\vec{y}$, and the change in the argument value, $d\\vec{z}$.\n",
    "This linear relationship must be, by definition, related to the gradient of $\\vec{y}$ w.r.t. $\\vec{z}$.\n",
    "\n",
    "Writing the above as an inner product, we have $$d\\vec{y}=\\ip{-\\mattr{R}\\mat{K^{-T}}}{d\\vec{z}}{}.$$\n",
    "\n",
    "Note that $\\mat{K}$ is a Hessian, therefore symmetric and we can drop the transpose.\n",
    "\n",
    "Finally, by the (\"outer\") definition of the gradient we see that $$\\pderiv{\\vec{y}}{\\vec{z}}=-\\mattr{R}\\mat{K^{-1}}.$$"
   ]
  },
  {
   "cell_type": "markdown",
   "metadata": {
    "slideshow": {
     "slide_type": "subslide"
    }
   },
   "source": [
    "Now back to our VJP: we need \n",
    "$$\n",
    "\\delta \\vec{z} =  \\pderiv{\\vec{y}}{\\vec{z}} \\delta\\vec{y} =\\mattr{R}\\mat{K^{-1}}\\delta\\vec{y}.\n",
    "$$\n",
    "\n",
    "We'll do the calculation in two steps:\n",
    "1. Calculate $\\delta\\vec{u}=\\mat{K}^{-1}\\delta\\vec{y}$: Equivalent to solving the linear system $\\mat{K}\\delta\\vec{u}=\\delta\\vec{y}$ (instead of inverting $\\mat{K}$).\n",
    "2. Calculate $\\delta\\vec{z} = -\\mat{R}^\\top \\delta\\vec{u}$."
   ]
  },
  {
   "cell_type": "markdown",
   "metadata": {
    "slideshow": {
     "slide_type": "subslide"
    }
   },
   "source": [
    "Finally, based on this, we have a way to implement such an inner-optimization layer:\n",
    "\n",
    "**Forward pass**: Compute the optimal solution of the inner problem, either with a some solver or even a closed-form expression.\n",
    "\n",
    "**Backward pass**: Calculate $\\delta\\vec{z}$ using the two-step procedure described above."
   ]
  },
  {
   "cell_type": "markdown",
   "metadata": {
    "slideshow": {
     "slide_type": "fragment"
    }
   },
   "source": [
    "Note that it's also possible to develop these expression for the constrained optimization case, by using the KKT conditions. Here we considered only the unconstrained optimality condition."
   ]
  },
  {
   "cell_type": "markdown",
   "metadata": {
    "slideshow": {
     "slide_type": "subslide"
    }
   },
   "source": [
    "### Implementation"
   ]
  },
  {
   "cell_type": "markdown",
   "metadata": {
    "slideshow": {
     "slide_type": "subslide"
    }
   },
   "source": [
    "Before implementing the argmin layer, we need some required helpers."
   ]
  },
  {
   "cell_type": "markdown",
   "metadata": {
    "slideshow": {
     "slide_type": "fragment"
    }
   },
   "source": [
    "First, let's implement a helper to calculate an approximated least-squares solution to a linear system of equations $\\mat{A}\\vec{x}=\\vec{b}$.\n",
    "The built-in `torch.solve()` only supports a square matrix A."
   ]
  },
  {
   "cell_type": "code",
   "execution_count": 14,
   "metadata": {
    "execution": {
     "iopub.execute_input": "2022-03-24T07:23:49.067459Z",
     "iopub.status.busy": "2022-03-24T07:23:49.067343Z",
     "iopub.status.idle": "2022-03-24T07:23:49.080789Z",
     "shell.execute_reply": "2022-03-24T07:23:49.080494Z"
    },
    "slideshow": {
     "slide_type": "subslide"
    }
   },
   "outputs": [],
   "source": [
    "def solve_ls(A: Tensor, b: Tensor, abs: float = 1e-6, rel: float = 1e-6) -> Tensor:\n",
    "    # Solves the system A x = b in a least-squares sense using SVD, and returns x\n",
    "    U, S, V = torch.svd(A)\n",
    "    th = max(rel * S[0].item(), abs)\n",
    "    # Clip singular values\n",
    "    Sinv = torch.where(S >= th, 1.0 / S, torch.zeros_like(S))\n",
    "    return V @ torch.diag(Sinv) @ (U.transpose(1, 0) @ b)"
   ]
  },
  {
   "cell_type": "markdown",
   "metadata": {
    "slideshow": {
     "slide_type": "subslide"
    }
   },
   "source": [
    "Quick test for solve:"
   ]
  },
  {
   "cell_type": "code",
   "execution_count": 15,
   "metadata": {
    "execution": {
     "iopub.execute_input": "2022-03-24T07:23:49.082789Z",
     "iopub.status.busy": "2022-03-24T07:23:49.082663Z",
     "iopub.status.idle": "2022-03-24T07:23:49.379606Z",
     "shell.execute_reply": "2022-03-24T07:23:49.379292Z"
    },
    "slideshow": {
     "slide_type": "fragment"
    }
   },
   "outputs": [],
   "source": [
    "from sklearn.datasets import make_regression\n",
    "from sklearn.preprocessing import StandardScaler\n",
    "\n",
    "dtype = torch.float64\n",
    "torch.set_default_dtype(dtype)\n",
    "\n",
    "# Create a simple regression problem\n",
    "N, D = 1000, 20\n",
    "\n",
    "X, y, w_gt = make_regression(\n",
    "    n_samples=N, n_features=D, coef=True, random_state=42, bias=10, noise=1,\n",
    ")\n",
    "X = StandardScaler().fit_transform(X)\n",
    "\n",
    "X, y, w_gt = [ torch.from_numpy(t).to(dtype) for t in [X, y, w_gt] ]\n",
    "\n",
    "# Solve it and check the solution is close to the ground-truth\n",
    "w_hat = solve_ls(X, y)\n",
    "assert torch.allclose(w_hat, w_gt, rtol=0.1, atol=0.1)"
   ]
  },
  {
   "cell_type": "markdown",
   "metadata": {
    "slideshow": {
     "slide_type": "subslide"
    }
   },
   "source": [
    "Notice that in the formulation we used, we considered only one variables vector, $\\vec{y}$, one parameters vector, $\\vec{z}$, and moreover we treated them both as 1d vectors.\n",
    "\n",
    "In practice, however, when implementing deep neural networks, we deal with many different parameters tensors, virtually all of which high-dimensional.\n",
    "\n",
    "In this tutorial, we'll deal with the case of one variable tensor (of any shape) and any number of parameter tensors (of any shape). It's simple to use the approach here to extend to multiple variables as well."
   ]
  },
  {
   "cell_type": "code",
   "execution_count": 16,
   "metadata": {
    "execution": {
     "iopub.execute_input": "2022-03-24T07:23:49.381765Z",
     "iopub.status.busy": "2022-03-24T07:23:49.381655Z",
     "iopub.status.idle": "2022-03-24T07:23:49.400230Z",
     "shell.execute_reply": "2022-03-24T07:23:49.399912Z"
    },
    "slideshow": {
     "slide_type": "subslide"
    }
   },
   "outputs": [],
   "source": [
    "def flatten(*z: Tensor):\n",
    "    # Flattens a sequence of tensors into one \"long\" tensor of shape (N,)\n",
    "    # Note: cat & reshape maintain differentiability!\n",
    "    flat_z = torch.cat([z_.reshape(-1) for z_ in z], dim=0)\n",
    "    return flat_z\n",
    "\n",
    "def unflatten_like(t_flat: Tensor, *z: Tensor):\n",
    "    # Un-flattens a \"long\" tensor into a sequence of multiple tensors of arbitrary shape\n",
    "    t_flat = t_flat.reshape(-1) # make sure it's 1d\n",
    "    ts = []\n",
    "    offset = 0\n",
    "    for z_ in z:\n",
    "        numel = z_.numel()\n",
    "        ts.append(\n",
    "            t_flat[offset:offset+numel].reshape_as(z_)\n",
    "        )\n",
    "        offset += numel\n",
    "    assert offset == t_flat.numel()\n",
    "    \n",
    "    return tuple(ts)"
   ]
  },
  {
   "cell_type": "markdown",
   "metadata": {
    "slideshow": {
     "slide_type": "subslide"
    }
   },
   "source": [
    "Quick test for `flatten`/`unflatten`:"
   ]
  },
  {
   "cell_type": "code",
   "execution_count": 17,
   "metadata": {
    "execution": {
     "iopub.execute_input": "2022-03-24T07:23:49.402190Z",
     "iopub.status.busy": "2022-03-24T07:23:49.402075Z",
     "iopub.status.idle": "2022-03-24T07:23:49.418934Z",
     "shell.execute_reply": "2022-03-24T07:23:49.418650Z"
    },
    "slideshow": {
     "slide_type": "fragment"
    }
   },
   "outputs": [],
   "source": [
    "t1, t2 = torch.randn(3, 5), torch.randn(2, 4)\n",
    "t_flat = flatten(t1, t2)\n",
    "assert t_flat.shape == (t1.numel() + t2.numel(),)\n",
    "\n",
    "t1_, t2_ = unflatten_like(t_flat, t1, t2)\n",
    "assert torch.allclose(t1, t1_)\n",
    "assert torch.allclose(t2, t2_)"
   ]
  },
  {
   "cell_type": "markdown",
   "metadata": {
    "slideshow": {
     "slide_type": "subslide"
    }
   },
   "source": [
    "Now, finally, we're equipped to write an `autograd.Function` which implements differentiable optimization!\n",
    "\n",
    "Our goal is to implement a differentiable layer that can solve an arbitrary (unconstrained) optimization problem, defined by some objective function, `obj_fun`, for some vector-valued optimization variable (`y`), and produce gradients w.r.t. the parameters (`z`) of those problems:\n",
    "\n",
    "\n",
    "```python\n",
    "class ArgMinFunction(autograd.Function):\n",
    "    @staticmethod\n",
    "    def forward(ctx, obj_fun, y, *z):\n",
    "        return argmin_forward(ctx, obj_fun, y, *z)\n",
    "    \n",
    "    @staticmethod\n",
    "    def backward(ctx, grad_output):\n",
    "        return argmin_backward(ctx, grad_output)\n",
    "```"
   ]
  },
  {
   "cell_type": "markdown",
   "metadata": {
    "slideshow": {
     "slide_type": "subslide"
    }
   },
   "source": [
    "Let's start with the forward pass.\n",
    "Here we simply need to solve an unconstrained optimization problem specified in terms of an *objective function*, *variables* (just one supported) and *parameters*. Notice that our implementation will support any objective funciton.\n",
    "\n",
    "We'll use the LBFGS algorithm (a quasi-Newton method as seen in the lectures) as a general purpose solver, but in practice you can use any solver."
   ]
  },
  {
   "cell_type": "code",
   "execution_count": 18,
   "metadata": {
    "execution": {
     "iopub.execute_input": "2022-03-24T07:23:49.420904Z",
     "iopub.status.busy": "2022-03-24T07:23:49.420771Z",
     "iopub.status.idle": "2022-03-24T07:23:49.438330Z",
     "shell.execute_reply": "2022-03-24T07:23:49.438055Z"
    },
    "slideshow": {
     "slide_type": "subslide"
    }
   },
   "outputs": [],
   "source": [
    "from torch.optim import LBFGS\n",
    "\n",
    "def argmin_forward(ctx, obj_fun, y, *z):\n",
    "    # Calculates forward pass though argmin layer: returns y_argmin\n",
    "    # obj_fun(y, *z) evaluates the optimization objective we want to minimize\n",
    "    \n",
    "    # Note: solving for y, treating the z's as constants\n",
    "    optimizer = LBFGS(params=(y,), lr=0.9, max_iter=1000)\n",
    "\n",
    "    # Closure for LBFGS which evaluates the loss and calcualtes\n",
    "    # gradients of the variables.\n",
    "    def _optimizer_step():\n",
    "        # zero gradients\n",
    "        y.grad = torch.zeros_like(y)\n",
    "            \n",
    "        # evaluate loss\n",
    "        f = obj_fun(y, *z)\n",
    "        \n",
    "        # Calculate gradients\n",
    "        # Note: not calling backward() because we don't want to compute\n",
    "        # gradients for anything except y\n",
    "        δy = autograd.grad(f, (y,), create_graph=False)[0]\n",
    "        y.grad += δy\n",
    "        \n",
    "        return f\n",
    "\n",
    "    # Solve the optimization problem - will evaluate closure multiple times until convergence\n",
    "    f_min = optimizer.step(_optimizer_step,)\n",
    "    y_argmin = y # Note: y was modified in place\n",
    "\n",
    "    ctx.save_for_backward(y_argmin, *z)\n",
    "    ctx.obj_fun = obj_fun\n",
    "\n",
    "    return y_argmin"
   ]
  },
  {
   "cell_type": "markdown",
   "metadata": {
    "slideshow": {
     "slide_type": "subslide"
    }
   },
   "source": [
    "Now the backward pass.\n",
    "Here we use the two-step procedure shown above, to calculate $\\delta\\vec{z}$.\n",
    "\n",
    "We'll need to calculate the Hessians\n",
    "$\\mat{K}=\\nabla^{2}_{yy}f(y,z)$\n",
    "and $\\mat{R}=\\nabla^{2}_{yz}f(y, z)$,\n",
    "but luckily autograd can calculate this (by a second automatic differentiation).\n",
    "\n",
    "The only complication is the shapes of $\\vec{y}$ and $\\vec{z}$, but we'll flatten them with our helpers."
   ]
  },
  {
   "cell_type": "code",
   "execution_count": 19,
   "metadata": {
    "execution": {
     "iopub.execute_input": "2022-03-24T07:23:49.440048Z",
     "iopub.status.busy": "2022-03-24T07:23:49.439931Z",
     "iopub.status.idle": "2022-03-24T07:23:49.458857Z",
     "shell.execute_reply": "2022-03-24T07:23:49.458565Z"
    },
    "slideshow": {
     "slide_type": "subslide"
    }
   },
   "outputs": [],
   "source": [
    "from torch.autograd.functional import hessian\n",
    "\n",
    "def argmin_backward(ctx, grad_output):\n",
    "    y_argmin, *z = ctx.saved_tensors\n",
    "    obj_fun = ctx.obj_fun\n",
    "    \n",
    "    flat_y = flatten(y_argmin)\n",
    "    flat_z = flatten(*z)\n",
    "    \n",
    "    # Wrap objective function so that we can call it with flat tensors\n",
    "    def obj_fun_flat(flat_y, flat_z):\n",
    "        y = unflatten_like(flat_y, y_argmin)\n",
    "        zs = unflatten_like(flat_z, *z)\n",
    "        return obj_fun(*y, *zs)\n",
    "    \n",
    "    # Compute the Hessians on flattened y and z\n",
    "    H = hessian(obj_fun_flat, inputs=(flat_y, flat_z), create_graph=False)\n",
    "    Hyy = K = H[0][0]\n",
    "    Hyz = R = H[0][1]\n",
    "\n",
    "    # Now we need to calculate δz = -R^T K^-1 δy\n",
    "    # 1. Solve system for δu: K δu = δy\n",
    "    δy = grad_output\n",
    "    δy = torch.reshape(δy, (-1, 1))\n",
    "    δu = solve_ls(K, δy) # solve_ls(A, b) solves A x = b\n",
    "\n",
    "    # 2. Calculate δz = -R^T δu\n",
    "    δz_flat = -R.transpose(0, 1) @ δu\n",
    "    \n",
    "    # Extract gradient of each individual z\n",
    "    δz = unflatten_like(δz_flat, *z)\n",
    "    δy = torch.reshape(δy, y_argmin.shape)\n",
    "    \n",
    "    return None, δy, *δz  # backward's outputs must correspond to forward's inputs"
   ]
  },
  {
   "cell_type": "markdown",
   "metadata": {
    "slideshow": {
     "slide_type": "subslide"
    }
   },
   "source": [
    "We now wrap these functions in a `autograd.Function` class and obtain the differentiable layer we wanted:"
   ]
  },
  {
   "cell_type": "code",
   "execution_count": 20,
   "metadata": {
    "execution": {
     "iopub.execute_input": "2022-03-24T07:23:49.460677Z",
     "iopub.status.busy": "2022-03-24T07:23:49.460596Z",
     "iopub.status.idle": "2022-03-24T07:23:49.477379Z",
     "shell.execute_reply": "2022-03-24T07:23:49.477004Z"
    },
    "slideshow": {
     "slide_type": "fragment"
    }
   },
   "outputs": [],
   "source": [
    "class ArgMinFunction(autograd.Function):\n",
    "    @staticmethod\n",
    "    def forward(ctx, obj_fun, y, *z):\n",
    "        return argmin_forward(ctx, obj_fun, y, *z)\n",
    "    \n",
    "    @staticmethod\n",
    "    def backward(ctx, grad_output):\n",
    "        return argmin_backward(ctx, grad_output)"
   ]
  },
  {
   "cell_type": "markdown",
   "metadata": {
    "slideshow": {
     "slide_type": "subslide"
    }
   },
   "source": [
    "Let's run a quick test for `argmin_forward`: Can we solve the simple regression problem from before?"
   ]
  },
  {
   "cell_type": "code",
   "execution_count": 21,
   "metadata": {
    "execution": {
     "iopub.execute_input": "2022-03-24T07:23:49.479272Z",
     "iopub.status.busy": "2022-03-24T07:23:49.479164Z",
     "iopub.status.idle": "2022-03-24T07:23:49.505745Z",
     "shell.execute_reply": "2022-03-24T07:23:49.505458Z"
    },
    "slideshow": {
     "slide_type": "subslide"
    }
   },
   "outputs": [
    {
     "data": {
      "text/plain": [
       "tensor([-1.2346e+00,  4.1897e+00, -9.6076e-02, -2.3082e-02, -3.0409e-01,\n",
       "        -1.0217e-03, -1.3882e+00, -2.1605e-02, -3.8375e-02,  9.3112e-03,\n",
       "        -6.9765e-01, -5.1266e-01, -2.2289e-02, -2.3652e-02,  5.7396e-03,\n",
       "         7.6026e-01, -1.8786e-02,  1.3196e-01,  4.3375e-05, -3.2390e-03],\n",
       "       grad_fn=<SubBackward0>)"
      ]
     },
     "execution_count": 21,
     "metadata": {},
     "output_type": "execute_result"
    }
   ],
   "source": [
    "# Define a simple linear regression objective with l1 and l2 regularization\n",
    "# (just to test more than one z)\n",
    "def obj_fun(w: Tensor, l1: Tensor, l2: Tensor):\n",
    "    loss = torch.mean((X @ w - y)**2)\n",
    "    reg1 = l1 * torch.mean(torch.abs(w))\n",
    "    reg2 = l2 * torch.mean(w ** 2)\n",
    "    return torch.sum(loss + reg1 + reg2)\n",
    "\n",
    "# Optimization variable - init to random noise\n",
    "w = torch.randn_like(w_gt)*0.1\n",
    "w.requires_grad = True\n",
    "\n",
    "# Optimization problem parameters\n",
    "l1 = torch.randn(1, 1, requires_grad=True)\n",
    "l2 = torch.randn(1, 1, requires_grad=True)\n",
    "\n",
    "# Function.apply() invokes the forward pass\n",
    "w_hat_argmin = ArgMinFunction.apply(obj_fun, w, l1, l2)\n",
    "\n",
    "assert torch.allclose(w_hat_argmin, w_gt, rtol=0.2, atol=3)\n",
    "w_gt-w_hat_argmin"
   ]
  },
  {
   "cell_type": "markdown",
   "metadata": {
    "slideshow": {
     "slide_type": "subslide"
    }
   },
   "source": [
    "Quick test for `argmin_backward`: Do we get gradients on our $\\vec{z}$s ?"
   ]
  },
  {
   "cell_type": "code",
   "execution_count": 22,
   "metadata": {
    "execution": {
     "iopub.execute_input": "2022-03-24T07:23:49.507769Z",
     "iopub.status.busy": "2022-03-24T07:23:49.507640Z",
     "iopub.status.idle": "2022-03-24T07:23:49.527643Z",
     "shell.execute_reply": "2022-03-24T07:23:49.527368Z"
    },
    "slideshow": {
     "slide_type": "subslide"
    }
   },
   "outputs": [
    {
     "name": "stdout",
     "output_type": "stream",
     "text": [
      "loss=tensor(25.6968, grad_fn=<MeanBackward0>)\n",
      "\n",
      "w.grad=tensor([-6.7178e-05, -3.6865e-05,  3.4647e-05, -6.1958e-02, -1.0752e-05,\n",
      "        -2.8637e-03,  3.7755e-06, -6.1995e-02, -6.9965e-05, -1.8564e-05,\n",
      "        -6.2705e-05,  9.4835e-05, -6.1887e-02,  1.0211e-06, -4.7480e-05,\n",
      "        -5.3427e-05,  3.1789e-05,  1.1999e-04,  4.7791e-04, -7.2800e-02])\n",
      "l1.grad=None\n",
      "l2.grad=None\n",
      "\n",
      "w.grad=tensor([ 0.0499,  0.0500,  0.0500, -0.0120,  0.0500,  0.0471,  0.0500, -0.0120,\n",
      "         0.0499,  0.0500,  0.0499,  0.0501, -0.0119,  0.0500,  0.0500,  0.0499,\n",
      "         0.0500,  0.0501,  0.0505, -0.0228])\n",
      "l1.grad=tensor([[-0.0196]])\n",
      "l2.grad=tensor([[-1.3549]])\n"
     ]
    }
   ],
   "source": [
    "loss = torch.mean(w_hat_argmin)\n",
    "print(f'{loss=}\\n')\n",
    "\n",
    "# Before backward: z (l1 & l2) gradients should be None\n",
    "print(f'{w.grad=}')\n",
    "print(f'{l1.grad=}')\n",
    "print(f'{l2.grad=}\\n')\n",
    "\n",
    "loss.backward()\n",
    "print(f'{w.grad=}')\n",
    "print(f'{l1.grad=}')\n",
    "print(f'{l2.grad=}')"
   ]
  },
  {
   "cell_type": "markdown",
   "metadata": {
    "slideshow": {
     "slide_type": "subslide"
    }
   },
   "source": [
    "### Example"
   ]
  },
  {
   "cell_type": "markdown",
   "metadata": {
    "slideshow": {
     "slide_type": "fragment"
    }
   },
   "source": [
    "Let's demonstrate how to use our `ArgMinFunction` in the context of a model.\n",
    "\n",
    "We'll tackle the task of **time-series prediction**, by applying linear regression on a learned, non-linear representation of the inputs."
   ]
  },
  {
   "cell_type": "markdown",
   "metadata": {
    "slideshow": {
     "slide_type": "fragment"
    }
   },
   "source": [
    "We'll implement the following model:"
   ]
  },
  {
   "cell_type": "markdown",
   "metadata": {
    "slideshow": {
     "slide_type": "subslide"
    }
   },
   "source": [
    "<center><img src=\"imgs/enc-pred-dec.png\" width=\"1100\"/></center>"
   ]
  },
  {
   "cell_type": "markdown",
   "metadata": {
    "slideshow": {
     "slide_type": "fragment"
    }
   },
   "source": [
    "Notes:\n",
    "\n",
    "1. The encoder and decoder will be simple 1D CNNs.\n",
    "2. The encoder calculates some non-linear embedding of the input while the decoder maps an embedding back to the input space.\n",
    "3. The predictor applies linear regression to try fit optimal weights for predict the last part of the embedding, $\\vec{Y}_e$ from the first part, $\\vec{X}_e$ (\"post-diction\"):\n",
    "    1. Postdiction: $\\vec{w}^\\ast=\\arg\\min_{\\vec{w}} \\norm{\\vec{X}_e\\vec{w}-\\vec{Y}_e}^2+\\lambda\\norm{\\vec{w}}^2$\n",
    "    2. Prediction: $\\hat{\\vec{Y}}_e=\\vec{Z}_e\\vec{w}^\\ast$ where $\\vec{Z}_e$ is the last part of the embedding with the same length as $\\vec{X}_e$."
   ]
  },
  {
   "cell_type": "markdown",
   "metadata": {
    "slideshow": {
     "slide_type": "subslide"
    }
   },
   "source": [
    "Let's load some data: We'll use a open dataset from Kaggle, containing 12 years of daily stock price data from equities included in the Dow Jones Industrial Average (DJIA).\n",
    "\n",
    "You can obtain this dataset [here](https://www.kaggle.com/szrlee/stock-time-series-20050101-to-20171231)."
   ]
  },
  {
   "cell_type": "code",
   "execution_count": 23,
   "metadata": {
    "execution": {
     "iopub.execute_input": "2022-03-24T07:23:49.529686Z",
     "iopub.status.busy": "2022-03-24T07:23:49.529570Z",
     "iopub.status.idle": "2022-03-24T07:23:49.755399Z",
     "shell.execute_reply": "2022-03-24T07:23:49.755132Z"
    },
    "slideshow": {
     "slide_type": "subslide"
    }
   },
   "outputs": [
    {
     "data": {
      "text/plain": [
       "(93612, 7)"
      ]
     },
     "execution_count": 23,
     "metadata": {},
     "output_type": "execute_result"
    }
   ],
   "source": [
    "import pandas as pd\n",
    "import numpy as np\n",
    "import matplotlib.dates as mdates\n",
    "from datetime import datetime\n",
    "\n",
    "df = pd.read_csv(\"DJIA_30/all_stocks_2006-01-01_to_2018-01-01.csv.gz\", compression='gzip')\n",
    "df.shape"
   ]
  },
  {
   "cell_type": "code",
   "execution_count": 24,
   "metadata": {
    "execution": {
     "iopub.execute_input": "2022-03-24T07:23:49.757262Z",
     "iopub.status.busy": "2022-03-24T07:23:49.757156Z",
     "iopub.status.idle": "2022-03-24T07:23:50.468264Z",
     "shell.execute_reply": "2022-03-24T07:23:50.467915Z"
    },
    "slideshow": {
     "slide_type": "subslide"
    }
   },
   "outputs": [
    {
     "data": {
      "image/png": "[encoded data removed]",
      "text/plain": [
       "<Figure size 864x432 with 1 Axes>"
      ]
     },
     "metadata": {
      "needs_background": "light"
     },
     "output_type": "display_data"
    }
   ],
   "source": [
    "# Plot some stocks\n",
    "stock_names = [\"AAPL\", \"GOOGL\", \"MSFT\", \"AMZN\"]\n",
    "\n",
    "fig, ax = plt.subplots(1, 1, figsize=(12, 6))\n",
    "ax.xaxis.set_major_locator(mdates.YearLocator())\n",
    "ax.xaxis.set_major_formatter(mdates.DateFormatter('%Y'))\n",
    "ax.xaxis.set_minor_locator(mdates.MonthLocator())\n",
    "for stock_name in stock_names:\n",
    "    df_stock = df[df['Name'] == stock_name]\n",
    "    df_stock_dates = [datetime.strptime(d,'%Y-%m-%d').date() for d in df_stock['Date']]\n",
    "    ax.plot(df_stock_dates, df_stock['Close'], label=stock_name)\n",
    "ax.set_ylabel('Close Price ($)'); ax.legend();"
   ]
  },
  {
   "cell_type": "markdown",
   "metadata": {
    "slideshow": {
     "slide_type": "subslide"
    }
   },
   "source": [
    "Let's do some minimal processing to make the data useable:\n",
    "\n",
    "1. Split the data into segments of a fixed number of days.\n",
    "2. Split each secment into a BASE ($\\vec{X}$) and a TARGET ($\\vec{Y}$).\n",
    "3. Split all segments into a training and test set."
   ]
  },
  {
   "cell_type": "code",
   "execution_count": 25,
   "metadata": {
    "execution": {
     "iopub.execute_input": "2022-03-24T07:23:50.470476Z",
     "iopub.status.busy": "2022-03-24T07:23:50.470355Z",
     "iopub.status.idle": "2022-03-24T07:23:50.497423Z",
     "shell.execute_reply": "2022-03-24T07:23:50.497092Z"
    },
    "slideshow": {
     "slide_type": "subslide"
    }
   },
   "outputs": [
    {
     "name": "stdout",
     "output_type": "stream",
     "text": [
      "X_train.shape=torch.Size([210, 1, 30])\n",
      "Y_train.shape=torch.Size([210, 1, 10])\n",
      "\n",
      "\n",
      "X_test.shape=torch.Size([91, 1, 30])\n",
      "Y_test.shape=torch.Size([91, 1, 10])\n"
     ]
    }
   ],
   "source": [
    "SEG_LEN = 40\n",
    "SEG_BASE = 30\n",
    "SEG_TARGET = SEG_LEN - SEG_BASE\n",
    "\n",
    "# Filter out only selected stocks\n",
    "df = df[df['Name'].isin(stock_names)]\n",
    "# Split into segments of SEG_LEN days\n",
    "X = torch.tensor(df['Close'].values, dtype=dtype)\n",
    "X = X[0:SEG_LEN*(X.shape[0]//SEG_LEN)]\n",
    "X = torch.reshape(X, (-1, 1, SEG_LEN)) # adding channel dimension\n",
    "\n",
    "# Train-test split\n",
    "test_ratio = 0.3\n",
    "N = X.shape[0]\n",
    "N_train = int(N * (1-test_ratio))\n",
    "idxs = torch.randperm(X.shape[0],)\n",
    "X_train, X_test = X[idxs[:N_train]], X[idxs[N_train:]]\n",
    "\n",
    "# Split out target segment at the end\n",
    "X_train, Y_train = X_train[..., :SEG_BASE], X_train[..., SEG_BASE:]\n",
    "X_test, Y_test = X_test[..., :SEG_BASE], X_test[..., SEG_BASE:]\n",
    "\n",
    "print(f\"{X_train.shape=}\\n{Y_train.shape=}\\n\\n\")\n",
    "print(f\"{X_test.shape=}\\n{Y_test.shape=}\")"
   ]
  },
  {
   "cell_type": "markdown",
   "metadata": {
    "slideshow": {
     "slide_type": "subslide"
    }
   },
   "source": [
    "We can plot some random BASE and TARGET pairs."
   ]
  },
  {
   "cell_type": "code",
   "execution_count": 26,
   "metadata": {
    "execution": {
     "iopub.execute_input": "2022-03-24T07:23:50.499805Z",
     "iopub.status.busy": "2022-03-24T07:23:50.499670Z",
     "iopub.status.idle": "2022-03-24T07:23:50.604903Z",
     "shell.execute_reply": "2022-03-24T07:23:50.604411Z"
    },
    "slideshow": {
     "slide_type": "fragment"
    }
   },
   "outputs": [
    {
     "data": {
      "image/png": "[encoded data removed]",
      "text/plain": [
       "<Figure size 864x432 with 1 Axes>"
      ]
     },
     "metadata": {
      "needs_background": "light"
     },
     "output_type": "display_data"
    }
   ],
   "source": [
    "np.random.seed(42)\n",
    "fig, ax = plt.subplots(1, 1, figsize=(12, 6))\n",
    "idx_perm = np.random.permutation(range(N_train))\n",
    "for i in range(10):\n",
    "    ax.plot(range(SEG_BASE), X_train[idx_perm[i], 0, :])\n",
    "    ax.plot(range(SEG_BASE, SEG_LEN), Y_train[idx_perm[i], 0, :])\n",
    "ax.axvline(x=SEG_BASE, color='k', linestyle=\":\", linewidth=\"5\")\n",
    "ax.grid();"
   ]
  },
  {
   "cell_type": "markdown",
   "metadata": {
    "slideshow": {
     "slide_type": "subslide"
    }
   },
   "source": [
    "We'll expose the processed data to PyTorch `DalaLoader`s via the `TensorDataset` class."
   ]
  },
  {
   "cell_type": "code",
   "execution_count": 27,
   "metadata": {
    "execution": {
     "iopub.execute_input": "2022-03-24T07:23:50.606922Z",
     "iopub.status.busy": "2022-03-24T07:23:50.606810Z",
     "iopub.status.idle": "2022-03-24T07:23:50.627885Z",
     "shell.execute_reply": "2022-03-24T07:23:50.627516Z"
    },
    "slideshow": {
     "slide_type": "subslide"
    }
   },
   "outputs": [],
   "source": [
    "from torch.utils.data import TensorDataset, DataLoader\n",
    "\n",
    "BATCH_SIZE = 8\n",
    "\n",
    "dl_train, dl_test = [\n",
    "    DataLoader(TensorDataset(X, Y), batch_size=BATCH_SIZE, shuffle=True)   \n",
    "    for X, Y in [(X_train, Y_train), (X_test, Y_test)]\n",
    "]\n"
   ]
  },
  {
   "cell_type": "markdown",
   "metadata": {
    "slideshow": {
     "slide_type": "subslide"
    }
   },
   "source": [
    "Both the encoder and decoder will use the same model, a 1D CNN."
   ]
  },
  {
   "cell_type": "code",
   "execution_count": 28,
   "metadata": {
    "execution": {
     "iopub.execute_input": "2022-03-24T07:23:50.630132Z",
     "iopub.status.busy": "2022-03-24T07:23:50.630008Z",
     "iopub.status.idle": "2022-03-24T07:23:50.652431Z",
     "shell.execute_reply": "2022-03-24T07:23:50.652087Z"
    },
    "slideshow": {
     "slide_type": "subslide"
    }
   },
   "outputs": [],
   "source": [
    "class EncDec(torch.nn.Module):\n",
    "    def __init__(self, channels=[1, 4, 8], out_nl=True):\n",
    "        super().__init__()\n",
    "        layers = []\n",
    "        channel_pairs = zip(channels[:-1], channels[1:])\n",
    "        for in_channels, out_channels in channel_pairs:\n",
    "            layers.extend([\n",
    "                \n",
    "                torch.nn.Conv1d(\n",
    "                    in_channels, out_channels, kernel_size=5, padding=2, bias=True\n",
    "                ),\n",
    "                \n",
    "                ELUCustom(alpha=0.5),\n",
    "                \n",
    "                torch.nn.BatchNorm1d(num_features=out_channels, affine=True),\n",
    "            ])\n",
    "        if not out_nl:\n",
    "            layers = layers[:-1]\n",
    "            \n",
    "        self.layers = torch.nn.Sequential(*layers)\n",
    "        \n",
    "    def forward(self, x):\n",
    "        return self.layers(x)"
   ]
  },
  {
   "cell_type": "code",
   "execution_count": 29,
   "metadata": {
    "execution": {
     "iopub.execute_input": "2022-03-24T07:23:50.654741Z",
     "iopub.status.busy": "2022-03-24T07:23:50.654620Z",
     "iopub.status.idle": "2022-03-24T07:23:50.676841Z",
     "shell.execute_reply": "2022-03-24T07:23:50.676548Z"
    },
    "slideshow": {
     "slide_type": "subslide"
    }
   },
   "outputs": [
    {
     "data": {
      "text/plain": [
       "EncDec(\n",
       "  (layers): Sequential(\n",
       "    (0): Conv1d(1, 4, kernel_size=(5,), stride=(1,), padding=(2,))\n",
       "    (1): ELUCustom()\n",
       "    (2): BatchNorm1d(4, eps=1e-05, momentum=0.1, affine=True, track_running_stats=True)\n",
       "    (3): Conv1d(4, 8, kernel_size=(5,), stride=(1,), padding=(2,))\n",
       "    (4): ELUCustom()\n",
       "    (5): BatchNorm1d(8, eps=1e-05, momentum=0.1, affine=True, track_running_stats=True)\n",
       "  )\n",
       ")"
      ]
     },
     "execution_count": 29,
     "metadata": {},
     "output_type": "execute_result"
    }
   ],
   "source": [
    "enc = EncDec(channels=[1, 4, 8], out_nl=True)\n",
    "enc"
   ]
  },
  {
   "cell_type": "markdown",
   "metadata": {
    "slideshow": {
     "slide_type": "subslide"
    }
   },
   "source": [
    "Test encoder forward pass:"
   ]
  },
  {
   "cell_type": "code",
   "execution_count": 30,
   "metadata": {
    "execution": {
     "iopub.execute_input": "2022-03-24T07:23:50.678757Z",
     "iopub.status.busy": "2022-03-24T07:23:50.678655Z",
     "iopub.status.idle": "2022-03-24T07:23:50.727234Z",
     "shell.execute_reply": "2022-03-24T07:23:50.726906Z"
    },
    "slideshow": {
     "slide_type": "fragment"
    }
   },
   "outputs": [
    {
     "name": "stdout",
     "output_type": "stream",
     "text": [
      "x0.shape=torch.Size([8, 1, 30])\n",
      "\n",
      "enc(x0).shape=torch.Size([8, 8, 30])\n",
      "\n"
     ]
    },
    {
     "name": "stderr",
     "output_type": "stream",
     "text": [
      "[W NNPACK.cpp:79] Could not initialize NNPACK! Reason: Unsupported hardware.\n"
     ]
    }
   ],
   "source": [
    "x0, y0 = next(iter(dl_train))\n",
    "print(f\"{x0.shape=}\\n\")\n",
    "print(f\"{enc(x0).shape=}\\n\")"
   ]
  },
  {
   "cell_type": "markdown",
   "metadata": {
    "slideshow": {
     "slide_type": "subslide"
    }
   },
   "source": [
    "Now, our regression layer will use the custom `ArgMinFunction` to solve an optimization problem during the forward pass.\n",
    "\n",
    "Recall from the above definitions:\n",
    "\n",
    "- The predictor applies linear regression to try fit optimal weights for predict the last part of the embedding, $\\vec{Y}_e$ from the first part, $\\vec{X}_e$ (\"post-diction\"):\n",
    "    1. Postdiction: $\\vec{w}^\\ast=\\arg\\min_{\\vec{w}} \\norm{\\vec{X}_e\\vec{w}-\\vec{Y}_e}^2+\\lambda\\norm{\\vec{w}}^2$\n",
    "    2. Prediction: $\\hat{\\vec{Y}}_e=\\vec{Z}_e\\vec{w}^\\ast$ where $\\vec{Z}_e$ is the last part of the embedding with the same length as $\\vec{X}_e$."
   ]
  },
  {
   "cell_type": "code",
   "execution_count": 31,
   "metadata": {
    "execution": {
     "iopub.execute_input": "2022-03-24T07:23:50.729123Z",
     "iopub.status.busy": "2022-03-24T07:23:50.729003Z",
     "iopub.status.idle": "2022-03-24T07:23:50.751388Z",
     "shell.execute_reply": "2022-03-24T07:23:50.751112Z"
    },
    "slideshow": {
     "slide_type": "subslide"
    }
   },
   "outputs": [],
   "source": [
    "class PredictorArgMinLayer(torch.nn.Module):\n",
    "    def __init__(self, in_features: int, out_features: int):\n",
    "        super().__init__()\n",
    "        self.prediction_len = in_features - out_features\n",
    "        self.prediction_target_len = out_features\n",
    "        \n",
    "        # We'll train both W and lambda\n",
    "        self.w = torch.nn.Parameter(torch.randn(\n",
    "            self.prediction_target_len, self.prediction_len, requires_grad=True,\n",
    "        ))\n",
    "        self.reg_lambda = torch.nn.Parameter(torch.tensor([1.], requires_grad=True))\n",
    "    \n",
    "    @staticmethod\n",
    "    def obj_fun(w: Tensor, x: Tensor, y: Tensor, reg_lambda: Tensor):\n",
    "        # Objective function performing linear regression\n",
    "        xw = torch.matmul(x, w.T)\n",
    "        loss = torch.mean((xw - y)**2)\n",
    "        reg = reg_lambda * torch.mean(w ** 2)\n",
    "        return torch.sum(loss + reg)\n",
    "        \n",
    "    def forward(self, x):\n",
    "        # Postdiction\n",
    "        # X = | ------ X_e ------ | -- Y_e -- |\n",
    "        x_post = x[..., :self.prediction_len] # X_e\n",
    "        y_post = x[..., self.prediction_len:] # Y_e\n",
    "        w_opt = ArgMinFunction.apply(self.obj_fun, self.w, x_post, y_post, self.reg_lambda)\n",
    "        \n",
    "        # Prediction\n",
    "        # X = | --------- | ------ Z_e ------ |\n",
    "        x_pred = x[..., -self.prediction_len:] # Z_e in the text\n",
    "        \n",
    "        return torch.matmul(x_pred, w_opt.T)"
   ]
  },
  {
   "cell_type": "markdown",
   "metadata": {
    "slideshow": {
     "slide_type": "subslide"
    }
   },
   "source": [
    "Finally, we'll create a model containing the full architecture of encoder, predictor and decoder."
   ]
  },
  {
   "cell_type": "code",
   "execution_count": 32,
   "metadata": {
    "execution": {
     "iopub.execute_input": "2022-03-24T07:23:50.753321Z",
     "iopub.status.busy": "2022-03-24T07:23:50.753215Z",
     "iopub.status.idle": "2022-03-24T07:23:50.772760Z",
     "shell.execute_reply": "2022-03-24T07:23:50.772463Z"
    },
    "slideshow": {
     "slide_type": "subslide"
    }
   },
   "outputs": [],
   "source": [
    "from typing import List\n",
    "\n",
    "class EncPredictorDec(torch.nn.Module):\n",
    "    def __init__(\n",
    "        self, in_features: int, postdiction_length: int,\n",
    "        encoder_channels: List[int], decoder_channels: List[int]=None\n",
    "    ):\n",
    "        super().__init__()\n",
    "        \n",
    "        if decoder_channels is None:\n",
    "            decoder_channels = list(reversed(encoder_channels))\n",
    "            \n",
    "        self.enc = EncDec(encoder_channels, out_nl=True)\n",
    "        self.dec = EncDec(decoder_channels, out_nl=False)\n",
    "        self.pred = PredictorArgMinLayer(in_features, postdiction_length)\n",
    "        self.postdiction_length = postdiction_length\n",
    "        \n",
    "    def forward(self, x: Tensor):\n",
    "        # Calculate embeding\n",
    "        x_emb = self.enc(x)\n",
    "        \n",
    "        # Postdict then predict\n",
    "        y_hat_emb = self.pred(x_emb)\n",
    "        \n",
    "        # Decode back to input space\n",
    "        y_hat = self.dec(y_hat_emb)\n",
    "        return y_hat"
   ]
  },
  {
   "cell_type": "markdown",
   "metadata": {
    "slideshow": {
     "slide_type": "subslide"
    }
   },
   "source": [
    "Time to train! Notes:\n",
    "\n",
    "1. Here we define the \"outer\" optimizer which performs the end-to-end optimization.\n",
    "2. We'll demonstrate how to employ simple a simple decaying learning rate schedule."
   ]
  },
  {
   "cell_type": "code",
   "execution_count": 33,
   "metadata": {
    "execution": {
     "iopub.execute_input": "2022-03-24T07:23:50.774611Z",
     "iopub.status.busy": "2022-03-24T07:23:50.774521Z",
     "iopub.status.idle": "2022-03-24T07:23:50.794792Z",
     "shell.execute_reply": "2022-03-24T07:23:50.794476Z"
    },
    "slideshow": {
     "slide_type": "slide"
    }
   },
   "outputs": [
    {
     "name": "stdout",
     "output_type": "stream",
     "text": [
      "EncPredictorDec(\n",
      "  (enc): EncDec(\n",
      "    (layers): Sequential(\n",
      "      (0): Conv1d(1, 4, kernel_size=(5,), stride=(1,), padding=(2,))\n",
      "      (1): ELUCustom()\n",
      "      (2): BatchNorm1d(4, eps=1e-05, momentum=0.1, affine=True, track_running_stats=True)\n",
      "      (3): Conv1d(4, 8, kernel_size=(5,), stride=(1,), padding=(2,))\n",
      "      (4): ELUCustom()\n",
      "      (5): BatchNorm1d(8, eps=1e-05, momentum=0.1, affine=True, track_running_stats=True)\n",
      "      (6): Conv1d(8, 16, kernel_size=(5,), stride=(1,), padding=(2,))\n",
      "      (7): ELUCustom()\n",
      "      (8): BatchNorm1d(16, eps=1e-05, momentum=0.1, affine=True, track_running_stats=True)\n",
      "    )\n",
      "  )\n",
      "  (dec): EncDec(\n",
      "    (layers): Sequential(\n",
      "      (0): Conv1d(16, 8, kernel_size=(5,), stride=(1,), padding=(2,))\n",
      "      (1): ELUCustom()\n",
      "      (2): BatchNorm1d(8, eps=1e-05, momentum=0.1, affine=True, track_running_stats=True)\n",
      "      (3): Conv1d(8, 4, kernel_size=(5,), stride=(1,), padding=(2,))\n",
      "      (4): ELUCustom()\n",
      "      (5): BatchNorm1d(4, eps=1e-05, momentum=0.1, affine=True, track_running_stats=True)\n",
      "      (6): Conv1d(4, 1, kernel_size=(5,), stride=(1,), padding=(2,))\n",
      "      (7): ELUCustom()\n",
      "    )\n",
      "  )\n",
      "  (pred): PredictorArgMinLayer()\n",
      ")\n"
     ]
    }
   ],
   "source": [
    "torch.manual_seed(42)\n",
    "\n",
    "model = EncPredictorDec(\n",
    "    in_features=SEG_BASE, postdiction_length=SEG_TARGET,\n",
    "    encoder_channels=[1, 4, 8, 16]\n",
    ")\n",
    "print(model)\n",
    "\n",
    "loss_fn = torch.nn.MSELoss()\n",
    "\n",
    "# End-to-end optimizer\n",
    "#optimizer = torch.optim.SGD(model.parameters(), lr=1e-8, momentum=0.9, nesterov=True)\n",
    "optimizer = torch.optim.AdamW(model.parameters(), lr=1e-4, eps=1e-5)\n",
    "\n",
    "# Decay learning rate each epoch\n",
    "scheduler = torch.optim.lr_scheduler.ExponentialLR(optimizer, gamma=0.9)"
   ]
  },
  {
   "cell_type": "code",
   "execution_count": 34,
   "metadata": {
    "execution": {
     "iopub.execute_input": "2022-03-24T07:23:50.796546Z",
     "iopub.status.busy": "2022-03-24T07:23:50.796443Z",
     "iopub.status.idle": "2022-03-24T07:23:50.815814Z",
     "shell.execute_reply": "2022-03-24T07:23:50.815544Z"
    },
    "slideshow": {
     "slide_type": "subslide"
    }
   },
   "outputs": [],
   "source": [
    "from tqdm.auto import tqdm\n",
    "\n",
    "def run_epoch(model, dl, epoch_idx, max_batches, train=True):\n",
    "    desc = f'Epoch #{epoch_idx:02d}: {\"Training\" if train else \"Evaluating\"} '\n",
    "    losses = []\n",
    "    pbar = tqdm(dl, desc=desc)\n",
    "    for i, (x, y) in enumerate(pbar):\n",
    "        y_pred = model(x)\n",
    "        loss = loss_fn(y, y_pred)\n",
    "        \n",
    "        if train:\n",
    "            optimizer.zero_grad()\n",
    "            loss.backward()\n",
    "            optimizer.step()\n",
    "        \n",
    "        losses.append(loss.item())\n",
    "        pbar.desc = desc + f\"[loss={loss.item():.3f}]\"\n",
    "        if max_batches and i >= max_batches:\n",
    "            break\n",
    "    pbar.desc = desc + f\"avg. loss = {np.mean(losses)}\"\n",
    "    pbar.update()"
   ]
  },
  {
   "cell_type": "code",
   "execution_count": 35,
   "metadata": {
    "execution": {
     "iopub.execute_input": "2022-03-24T07:23:50.817505Z",
     "iopub.status.busy": "2022-03-24T07:23:50.817427Z",
     "iopub.status.idle": "2022-03-24T07:24:15.591821Z",
     "shell.execute_reply": "2022-03-24T07:24:15.591420Z"
    },
    "slideshow": {
     "slide_type": "subslide"
    }
   },
   "outputs": [
    {
     "data": {
      "application/vnd.jupyter.widget-view+json": {
       "model_id": "0226521e80ee4c1aa6bcbdef0baf9acc",
       "version_major": 2,
       "version_minor": 0
      },
      "text/plain": [
       "Epoch #00: Training :   0%|          | 0/27 [00:00<?, ?it/s]"
      ]
     },
     "metadata": {},
     "output_type": "display_data"
    },
    {
     "data": {
      "application/vnd.jupyter.widget-view+json": {
       "model_id": "a507e1ace93a46a9ade138d1036ac31d",
       "version_major": 2,
       "version_minor": 0
      },
      "text/plain": [
       "Epoch #00: Evaluating :   0%|          | 0/12 [00:00<?, ?it/s]"
      ]
     },
     "metadata": {},
     "output_type": "display_data"
    }
   ],
   "source": [
    "num_epochs = 1\n",
    "max_batches = None\n",
    "\n",
    "for epoch in range(num_epochs):\n",
    "    run_epoch(model, dl_train, epoch, max_batches, train=True)\n",
    "    with torch.no_grad():\n",
    "        run_epoch(model, dl_test, epoch, max_batches, train=False)\n",
    "    scheduler.step()"
   ]
  },
  {
   "cell_type": "markdown",
   "metadata": {
    "slideshow": {
     "slide_type": "subslide"
    }
   },
   "source": [
    "#### Thanks!"
   ]
  },
  {
   "cell_type": "markdown",
   "metadata": {
    "slideshow": {
     "slide_type": "skip"
    }
   },
   "source": [
    "**Credits**\n",
    "\n",
    "This tutorial was written by [Aviv A. Rosenberg](https://avivr.net).<br>\n",
    "To re-use, please provide attribution and link to the original.\n",
    "\n",
    "Some images in this tutorial were taken and/or adapted from the following sources:\n",
    "\n",
    "- Dr. Roger Grosse, UToronto, cs321\n",
    "- Fundamentals of Deep Learning, Nikhil Buduma, Oreilly 2017\n"
   ]
  }
 ],
 "metadata": {
  "celltoolbar": "Slideshow",
  "kernelspec": {
   "display_name": "Python 3 (ipykernel)",
   "language": "python",
   "name": "python3"
  },
  "language_info": {
   "codemirror_mode": {
    "name": "ipython",
    "version": 3
   },
   "file_extension": ".py",
   "mimetype": "text/x-python",
   "name": "python",
   "nbconvert_exporter": "python",
   "pygments_lexer": "ipython3",
   "version": "3.8.12"
  },
  "toc-autonumbering": false,
  "toc-showcode": false,
  "toc-showmarkdowntxt": false
 },
 "nbformat": 4,
 "nbformat_minor": 4
}
