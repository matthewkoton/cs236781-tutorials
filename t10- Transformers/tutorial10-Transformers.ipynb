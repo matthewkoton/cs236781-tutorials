{
 "cells": [
  {
   "cell_type": "markdown",
   "metadata": {
    "slideshow": {
     "slide_type": "slide"
    }
   },
   "source": [
    "$$\n",
    "\\newcommand{\\mat}[1]{\\boldsymbol {#1}}\n",
    "\\newcommand{\\mattr}[1]{\\boldsymbol {#1}^\\top}\n",
    "\\newcommand{\\matinv}[1]{\\boldsymbol {#1}^{-1}}\n",
    "\\newcommand{\\vec}[1]{\\boldsymbol {#1}}\n",
    "\\newcommand{\\vectr}[1]{\\boldsymbol {#1}^\\top}\n",
    "\\newcommand{\\rvar}[1]{\\mathrm {#1}}\n",
    "\\newcommand{\\rvec}[1]{\\boldsymbol{\\mathrm{#1}}}\n",
    "\\newcommand{\\diag}{\\mathop{\\mathrm {diag}}}\n",
    "\\newcommand{\\set}[1]{\\mathbb {#1}}\n",
    "\\newcommand{\\norm}[1]{\\left\\lVert#1\\right\\rVert}\n",
    "\\newcommand{\\pderiv}[2]{\\frac{\\partial #1}{\\partial #2}}\n",
    "\\newcommand{\\bb}[1]{\\boldsymbol{#1}}\n",
    "\\newcommand{\\Tr}[0]{^\\top}\n",
    "\\newcommand{\\softmax}[1]{\\mathrm{softmax}\\left({#1}\\right)}\n",
    "$$\n",
    "\n",
    "# CS236781: Deep Learning\n",
    "# Tutorial 10: Transformers\n",
    "\n",
    "\n",
    "<center><img src=\"img/description-image.avif\" width=\"600\" /></center>"
   ]
  },
  {
   "cell_type": "markdown",
   "metadata": {
    "slideshow": {
     "slide_type": "subslide"
    }
   },
   "source": [
    "## Introduction\n",
    "\n",
    "In this tutorial, we will cover:\n",
    "\n",
    "- Attention is all you need\n",
    "- Some of the characters of sesame street\n",
    "- GPT\n",
    "\n",
    "\n",
    "<center><img src=\"img/ss.png\" width=\"900\" /></center>"
   ]
  },
  {
   "cell_type": "code",
   "execution_count": 1,
   "metadata": {
    "execution": {
     "iopub.execute_input": "2022-03-24T07:25:15.707910Z",
     "iopub.status.busy": "2022-03-24T07:25:15.707373Z",
     "iopub.status.idle": "2022-03-24T07:25:16.993157Z",
     "shell.execute_reply": "2022-03-24T07:25:16.992767Z"
    },
    "slideshow": {
     "slide_type": "subslide"
    }
   },
   "outputs": [],
   "source": [
    "# Setup\n",
    "%matplotlib inline\n",
    "import os\n",
    "import sys\n",
    "import math\n",
    "import time\n",
    "import tqdm\n",
    "import torch\n",
    "import matplotlib.pyplot as plt\n",
    "import warnings\n",
    "warnings.simplefilter(\"ignore\")\n",
    "\n",
    "# pytorch\n",
    "import torch\n",
    "import torch.nn as nn\n",
    "import torchtext\n",
    "import torchtext.data as data\n",
    "import torchtext.datasets as datasets\n",
    "import torch.nn.functional as F\n",
    "import torch.utils.data as data\n",
    "import torch.optim as optim"
   ]
  },
  {
   "cell_type": "code",
   "execution_count": 2,
   "metadata": {
    "execution": {
     "iopub.execute_input": "2022-03-24T07:25:16.995346Z",
     "iopub.status.busy": "2022-03-24T07:25:16.995233Z",
     "iopub.status.idle": "2022-03-24T07:25:17.008877Z",
     "shell.execute_reply": "2022-03-24T07:25:17.008540Z"
    },
    "slideshow": {
     "slide_type": "fragment"
    }
   },
   "outputs": [],
   "source": [
    "plt.rcParams['font.size'] = 20\n",
    "data_dir = os.path.expanduser('~/.pytorch-datasets')\n",
    "device = torch.device('cuda' if torch.cuda.is_available() else 'cpu')"
   ]
  },
  {
   "cell_type": "markdown",
   "metadata": {
    "slideshow": {
     "slide_type": "slide"
    }
   },
   "source": [
    "## Theory reminders"
   ]
  },
  {
   "cell_type": "markdown",
   "metadata": {
    "slideshow": {
     "slide_type": "skip"
    }
   },
   "source": [
    "### Attention"
   ]
  },
  {
   "cell_type": "markdown",
   "metadata": {
    "slideshow": {
     "slide_type": "skip"
    }
   },
   "source": [
    "We've talked about the perpues of attention and the motivation resreach for deep learning attention mechanisem\n",
    "\n",
    "<center><img src=\"img/attention-text.png\" width=500 /></center>\n"
   ]
  },
  {
   "cell_type": "markdown",
   "metadata": {
    "slideshow": {
     "slide_type": "skip"
    }
   },
   "source": [
    "We also defined the scaled dot product attention as:\n",
    "\n",
    "$$\n",
    "\\begin{align}\n",
    "\\mat{B} &= \\frac{1}{\\sqrt{d}} \\mat{Q}\\mattr{K}  \\ \\in\\set{R}^{m\\times n} \\\\\n",
    "\\mat{A} &= \\softmax{\\mat{B}}_{\\mathrm{dim}=1}, \\in\\set{R}^{m\\times n} \\\\\n",
    "\\mat{Y} &= \\mat{A}\\mat{V} \\ \\in\\set{R}^{m\\times d_v}.\n",
    "\\end{align}\n",
    "$$\n",
    "\n",
    "where `K`,`Q` and `V` for the self attention came as projections of the same input sequnce\n",
    "\n",
    "$$\n",
    "\\begin{align*}\n",
    "\\vec{q}_{i} &= \\mat{W}_{xq}\\vec{x}_{i} &\n",
    "\\vec{k}_{i} &= \\mat{W}_{xk}\\vec{x}_{i} &\n",
    "\\vec{v}_{i} &= \\mat{W}_{xv}\\vec{x}_{i} \n",
    "\\end{align*}\n",
    "$$"
   ]
  },
  {
   "cell_type": "markdown",
   "metadata": {
    "slideshow": {
     "slide_type": "subslide"
    }
   },
   "source": [
    "<center><img src=\"img/att.png\" width=900></center>\n"
   ]
  },
  {
   "cell_type": "markdown",
   "metadata": {
    "slideshow": {
     "slide_type": "subslide"
    }
   },
   "source": [
    "### Encoder-decoder architectures"
   ]
  },
  {
   "cell_type": "markdown",
   "metadata": {
    "slideshow": {
     "slide_type": "subslide"
    }
   },
   "source": [
    "A common architecture used in many tasks is the encoder-decoder pattern.\n",
    "\n",
    "- The **encoder** maps the input to some latent representation, usually of a low dimension.\n",
    "- The **decoder** applies a different mapping, from the latent space to some other space (sometimes back to the input space).\n",
    "\n",
    "We implemented encoder-decoder with and without attention"
   ]
  },
  {
   "cell_type": "markdown",
   "metadata": {
    "slideshow": {
     "slide_type": "fragment"
    }
   },
   "source": [
    "A | B\n",
    "- | - \n",
    "<img src=\"img/enc_dec.png\" width=450 /> |<img src=\"img/seq2seq_attention.svg\" width=600>"
   ]
  },
  {
   "cell_type": "markdown",
   "metadata": {
    "slideshow": {
     "slide_type": "slide"
    }
   },
   "source": [
    "## All you need is love, or attention"
   ]
  },
  {
   "cell_type": "markdown",
   "metadata": {
    "slideshow": {
     "slide_type": "fragment"
    }
   },
   "source": [
    "### Before the tresformers\n",
    "\n",
    "Before the transformer architecture, each family of problems, was ruled by a diffrent architecture, commonly sharing only few characteristics:\n",
    "\n"
   ]
  },
  {
   "cell_type": "markdown",
   "metadata": {
    "slideshow": {
     "slide_type": "subslide"
    }
   },
   "source": [
    "<center><img src=\"img/before.png\" width=1300 /></center>"
   ]
  },
  {
   "cell_type": "markdown",
   "metadata": {
    "slideshow": {
     "slide_type": "subslide"
    }
   },
   "source": [
    "This days, they all start to share a little bit more...\n",
    "\n",
    "<center><img src=\"img/aiayn.png\" width=800 /></center>\n",
    "\n",
    "[Attention Is All You Need](https://arxiv.org/abs/1706.03762)"
   ]
  },
  {
   "cell_type": "markdown",
   "metadata": {
    "slideshow": {
     "slide_type": "subslide"
    }
   },
   "source": [
    "a quic recap of the attention mechanisem:\n",
    "\n",
    "<center><img src=\"img/attention_jay.png\" width=800 /></center>\n",
    "\n",
    "image by jay alammar\n"
   ]
  },
  {
   "cell_type": "markdown",
   "metadata": {
    "slideshow": {
     "slide_type": "subslide"
    }
   },
   "source": [
    "In a matrix stack:\n",
    "\n",
    "\n",
    "<center><img src=\"img/matrix_att_jay.png\" width=400 /></center>\n",
    "\n",
    "\n",
    "\n",
    "<center><img src=\"img/matrix_att_jay2.png\" width=800 /></center>\n",
    "\n",
    "\n",
    "image by jay alammar"
   ]
  },
  {
   "cell_type": "code",
   "execution_count": 3,
   "metadata": {
    "slideshow": {
     "slide_type": "subslide"
    }
   },
   "outputs": [],
   "source": [
    "def scaled_dot_product(q, k, v, mask=None):\n",
    "    d_k = q.size()[-1]\n",
    "    attn_logits = torch.matmul(q, k.transpose(-2, -1))\n",
    "    attn_logits = attn_logits / math.sqrt(d_k)\n",
    "    if mask is not None:\n",
    "        attn_logits = attn_logits.masked_fill(mask == 0, -9e15)\n",
    "    attention = F.softmax(attn_logits, dim=-1)\n",
    "    values = torch.matmul(attention, v)\n",
    "    return values, attention"
   ]
  },
  {
   "cell_type": "code",
   "execution_count": 4,
   "metadata": {
    "slideshow": {
     "slide_type": "fragment"
    }
   },
   "outputs": [
    {
     "name": "stdout",
     "output_type": "stream",
     "text": [
      "Q\n",
      " tensor([[ 0.4098, -0.9587],\n",
      "        [ 0.4453, -0.2919],\n",
      "        [-1.7589,  0.4275]])\n",
      "K\n",
      " tensor([[ 0.7192,  0.6762],\n",
      "        [ 1.3668,  1.1309],\n",
      "        [-0.6073, -1.2357]])\n",
      "V\n",
      " tensor([[ 0.2381,  0.1953],\n",
      "        [-0.5742,  0.2767],\n",
      "        [ 1.3737,  1.0445]])\n",
      "Values\n",
      " tensor([[0.7195, 0.6948],\n",
      "        [0.3037, 0.4929],\n",
      "        [0.8923, 0.7641]])\n",
      "Attention\n",
      " tensor([[0.2286, 0.2026, 0.5688],\n",
      "        [0.3233, 0.3609, 0.3159],\n",
      "        [0.2256, 0.1157, 0.6588]])\n"
     ]
    }
   ],
   "source": [
    "seq_len, d_k = 3, 2\n",
    "q = torch.randn(seq_len, d_k)\n",
    "k = torch.randn(seq_len, d_k)\n",
    "v = torch.randn(seq_len, d_k)\n",
    "values, attention = scaled_dot_product(q, k, v)\n",
    "print(\"Q\\n\", q)\n",
    "print(\"K\\n\", k)\n",
    "print(\"V\\n\", v)\n",
    "print(\"Values\\n\", values)\n",
    "print(\"Attention\\n\", attention)"
   ]
  },
  {
   "cell_type": "markdown",
   "metadata": {
    "slideshow": {
     "slide_type": "subslide"
    }
   },
   "source": [
    "The paper further refined the self-attention layer by adding a mechanism called “multi-headed” attention.\n",
    "\n",
    "<img src=\"img/Hydra29.webp\" width=600 /> \n",
    "\n",
    "(We're all about childhood today..)\n",
    "\n",
    "Why do you think it can improves the performance of the attention layer?\n"
   ]
  },
  {
   "cell_type": "markdown",
   "metadata": {
    "slideshow": {
     "slide_type": "subslide"
    }
   },
   "source": [
    "* It expands the model’s ability to focus on different positions. For eample “The animal didn’t cross the street because it was too busy”, we whould like diffrent head can give diffrent interpertation. once the animal was too busy, and another where the street was busy. that way two heads have diffrent meaning and we want the model to capture the ambiguity in language.\n",
    "\n",
    "\n",
    "* It learn diffrent attention score, as it used diffrent `Q`,`K`,`V`, when we look at meaning, sometimes we give more attention to diffrent parts of the sentence. If i ask you who didn't cross the road, the focus of the answer is on `The animal`, while when i ask why, the focus is on `it was busy`. We want a mechanisem that can answer several questions.\n"
   ]
  },
  {
   "cell_type": "markdown",
   "metadata": {
    "slideshow": {
     "slide_type": "subslide"
    }
   },
   "source": [
    "How do we do that?\n",
    "\n",
    "<img src=\"img/mhatt_jay.png\" width=900 /> \n",
    "\n"
   ]
  },
  {
   "cell_type": "code",
   "execution_count": 5,
   "metadata": {
    "slideshow": {
     "slide_type": "subslide"
    }
   },
   "outputs": [],
   "source": [
    "class MultiheadAttention(nn.Module):\n",
    "    \n",
    "    def __init__(self, input_dim, embed_dim, num_heads):\n",
    "        super().__init__()\n",
    "        assert embed_dim % num_heads == 0, \"Embedding dimension must be 0 modulo number of heads.\"\n",
    "        \n",
    "        self.embed_dim = embed_dim\n",
    "        self.num_heads = num_heads\n",
    "        self.head_dim = embed_dim // num_heads\n",
    "        \n",
    "        # Stack all weight matrices 1...h together for efficiency\n",
    "        # \"bias=False\" is optional, but for the projection we learned, there is no teoretical justification to use bias\n",
    "        self.qkv_proj = nn.Linear(input_dim, 3*embed_dim)\n",
    "        self.o_proj = nn.Linear(embed_dim, embed_dim)\n",
    "        \n",
    "        self._reset_parameters()\n",
    "\n",
    "    def _reset_parameters(self):\n",
    "        # Original Transformer initialization, see PyTorch documentation of the paper if you would like....\n",
    "        nn.init.xavier_uniform_(self.qkv_proj.weight)\n",
    "        self.qkv_proj.bias.data.fill_(0)\n",
    "        nn.init.xavier_uniform_(self.o_proj.weight)\n",
    "        self.o_proj.bias.data.fill_(0)\n",
    "\n",
    "    def forward(self, x, mask=None, return_attention=False):\n",
    "        batch_size, seq_length, embed_dim = x.size()\n",
    "        qkv = self.qkv_proj(x)\n",
    "        \n",
    "        # Separate Q, K, V from linear output\n",
    "        qkv = qkv.reshape(batch_size, seq_length, self.num_heads, 3*self.head_dim)\n",
    "        qkv = qkv.permute(0, 2, 1, 3) # [Batch, Head, SeqLen, 3*Dims]\n",
    "        q, k, v = qkv.chunk(3, dim=-1) #[Batch, Head, SeqLen, Dims]\n",
    "        \n",
    "        # Determine value outputs\n",
    "        values, attention = scaled_dot_product(q, k, v, mask=mask)\n",
    "        values = values.permute(0, 2, 1, 3) # [Batch, SeqLen, Head, Dims]\n",
    "        values = values.reshape(batch_size, seq_length, embed_dim) #concatination all heads\n",
    "        o = self.o_proj(values)\n",
    "        \n",
    "        if return_attention:\n",
    "            return o, attention\n",
    "        else:\n",
    "            return o"
   ]
  },
  {
   "cell_type": "code",
   "execution_count": 6,
   "metadata": {},
   "outputs": [],
   "source": [
    "seq_len,input_dim, embed_dim = 20,10,10\n",
    "x = torch.randn(4,seq_len,input_dim)\n",
    "\n",
    "MhA= MultiheadAttention(input_dim, embed_dim, embed_dim//4)"
   ]
  },
  {
   "cell_type": "code",
   "execution_count": 7,
   "metadata": {},
   "outputs": [
    {
     "name": "stdout",
     "output_type": "stream",
     "text": [
      "MHA output: torch.Size([4, 20, 10]), attn shape: torch.Size([4, 2, 20, 20])\n"
     ]
    }
   ],
   "source": [
    "out,a = MhA(x,return_attention=True)\n",
    "print(f'MHA output: {out.shape}, attn shape: {a.shape}')\n"
   ]
  },
  {
   "cell_type": "markdown",
   "metadata": {
    "slideshow": {
     "slide_type": "subslide"
    }
   },
   "source": [
    "You can analize the attention scores in [here](https://huggingface.co/exbert/?model=gpt2&modelKind=bidirectional&sentence=The%20girl%20ran%20to%20a%20local%20pub%20to%20escape%20the%20din%20of%20her%20city.&layer=11&heads=..10&threshold=1&tokenInd=null&tokenSide=null&maskInds=..&hideClsSep=true)"
   ]
  },
  {
   "cell_type": "markdown",
   "metadata": {
    "slideshow": {
     "slide_type": "subslide"
    }
   },
   "source": [
    "Recall for the transformer:\n",
    "<center><img src=\"img/aiayn.png\" width=500 /></center>\n",
    "\n",
    "\n",
    "feed forward is simply an MLP with GELU activision:"
   ]
  },
  {
   "cell_type": "markdown",
   "metadata": {
    "slideshow": {
     "slide_type": "subslide"
    }
   },
   "source": [
    "$GELU(x) = x P(X\\le x) = x \\times \\frac{1}{2} [1+ erf(x/\\sqrt(2)]$\n",
    "\n",
    "https://en.wikipedia.org/wiki/Error_function\n",
    "\n",
    "can also be aproximate by $0.5x (1+ tanh[\\sqrt{(2/\\pi)} (x+0.044715x^3)]$"
   ]
  },
  {
   "cell_type": "code",
   "execution_count": 12,
   "metadata": {},
   "outputs": [],
   "source": [
    "#remember?\n",
    "def elu_forward(z, alpha): \n",
    "    elu_positive = z\n",
    "    elu_negative = alpha * (torch.exp(z) - 1)\n",
    "    elu_output = torch.where(z>0, elu_positive, elu_negative)\n",
    "    return elu_output"
   ]
  },
  {
   "cell_type": "code",
   "execution_count": 25,
   "metadata": {},
   "outputs": [],
   "source": [
    "def gelu_forward(z,type=1):\n",
    "    if type==1:\n",
    "        return 0.5*z*(1+torch.erf(z/np.sqrt(2))) \n",
    "    return 0.5*z*(1+torch.tanh(np.sqrt(2/np.pi)*(z+0.044715*z**3)))"
   ]
  },
  {
   "cell_type": "code",
   "execution_count": 17,
   "metadata": {},
   "outputs": [
    {
     "data": {
      "image/png": "[encoded data removed]",
      "text/plain": [
       "<Figure size 432x288 with 1 Axes>"
      ]
     },
     "metadata": {
      "needs_background": "light"
     },
     "output_type": "display_data"
    }
   ],
   "source": [
    "z = torch.linspace(-5, 5, steps=1000)\n",
    "plt.plot(z.numpy(), torch.relu(z).numpy(), label='ReLU(z)', linewidth=5);\n",
    "plt.plot(z.numpy(), elu_forward(z, alpha=.5).numpy(), label='ELU(z)', linewidth=2);\n",
    "plt.plot(z.numpy(), gelu_forward(z).numpy(), label='GELU(z)', linewidth=2);\n",
    "plt.legend(); plt.grid();"
   ]
  },
  {
   "cell_type": "code",
   "execution_count": 38,
   "metadata": {},
   "outputs": [
    {
     "data": {
      "text/plain": [
       "tensor(-0.8279)"
      ]
     },
     "execution_count": 38,
     "metadata": {},
     "output_type": "execute_result"
    },
    {
     "data": {
      "image/png": "[encoded data removed]",
      "text/plain": [
       "<Figure size 432x288 with 1 Axes>"
      ]
     },
     "metadata": {
      "needs_background": "light"
     },
     "output_type": "display_data"
    }
   ],
   "source": [
    "z = torch.linspace(-5, 5, steps=10000)\n",
    "plt.plot(z.numpy(), gelu_forward(z).numpy(), label='GELU', linewidth=2);\n",
    "plt.plot(z.numpy(), gelu_forward(z,2).numpy(), label='GELU tanh aprox', linewidth=2);\n",
    "plt.legend(); plt.grid();\n",
    "(gelu_forward(z)- gelu_forward(z,2)).abs().sum()"
   ]
  },
  {
   "cell_type": "markdown",
   "metadata": {
    "slideshow": {
     "slide_type": "subslide"
    }
   },
   "source": [
    "There is one major drawback that we didn't refer to so far, can you guess what it is?"
   ]
  },
  {
   "cell_type": "markdown",
   "metadata": {
    "slideshow": {
     "slide_type": "slide"
    }
   },
   "source": [
    "###  Positional Encoding"
   ]
  },
  {
   "cell_type": "markdown",
   "metadata": {
    "slideshow": {
     "slide_type": "fragment"
    }
   },
   "source": [
    "* Untill now, we saw a strong tool for learning, but if a token came as the first word in the sentence, or as last, we only learned the power of the relation between them, the order did not matter!\n",
    "\n",
    "* The positional encoding is an idea that reminds Spectral decomposition, like Fourier series, based just on the positions.\n",
    "\n",
    "* The basis is Sin and Cosin functions with different frequencies as coefficients (2pi, 4pi…)\n",
    "\n",
    "* The reason of that is that we want to push each embedding a bit to encode the position as well as the meaning, but we also want it to be normalized (why?)\n",
    "\n",
    "* It is less of an issue for other inputs (images - a bit, pointclouds), but very important in text!"
   ]
  },
  {
   "cell_type": "code",
   "execution_count": 8,
   "metadata": {},
   "outputs": [],
   "source": [
    "class PositionalEncoding(nn.Module):\n",
    "\n",
    "    def __init__(self, d_model, max_len=5000):\n",
    "        \"\"\"\n",
    "        Inputs\n",
    "            d_model - Hidden dimensionality of the input.\n",
    "            max_len - Maximum length of a sequence to expect.\n",
    "        \"\"\"\n",
    "        super().__init__()\n",
    "\n",
    "        # Create matrix of [SeqLen, HiddenDim] representing the positional encoding for max_len inputs\n",
    "        pe = torch.zeros(max_len, d_model)\n",
    "        position = torch.arange(0, max_len, dtype=torch.float).unsqueeze(1)\n",
    "        div_term = torch.exp(torch.arange(0, d_model, 2).float() * (-math.log(10000.0) / d_model))\n",
    "        pe[:, 0::2] = torch.sin(position * div_term)\n",
    "        pe[:, 1::2] = torch.cos(position * div_term)\n",
    "        pe = pe.unsqueeze(0)\n",
    "        \n",
    "        # register_buffer => Tensor which is not a parameter, but should be part of the modules state.\n",
    "        # Used for tensors that need to be on the same device as the module.\n",
    "        # persistent=False tells PyTorch to not add the buffer to the state dict (e.g. when we save the model) \n",
    "        self.register_buffer('pe', pe, persistent=False)\n",
    "\n",
    "    def forward(self, x):\n",
    "        x = x + self.pe[:, :x.size(1)]\n",
    "        return x"
   ]
  },
  {
   "cell_type": "code",
   "execution_count": 9,
   "metadata": {},
   "outputs": [
    {
     "data": {
      "image/png": "[encoded data removed]",
      "text/plain": [
       "<Figure size 576x216 with 2 Axes>"
      ]
     },
     "metadata": {
      "needs_background": "light"
     },
     "output_type": "display_data"
    }
   ],
   "source": [
    "encod_block = PositionalEncoding(d_model=48, max_len=96)\n",
    "pe = encod_block.pe.squeeze().T.cpu().numpy()\n",
    "\n",
    "fig, ax = plt.subplots(nrows=1, ncols=1, figsize=(8,3))\n",
    "pos = ax.imshow(pe, cmap=\"RdGy\", extent=(1,pe.shape[1]+1,pe.shape[0]+1,1))\n",
    "fig.colorbar(pos, ax=ax)\n",
    "ax.set_xlabel(\"Position in sequence\")\n",
    "ax.set_ylabel(\"Hidden dimension\")\n",
    "ax.set_title(\"Positional encoding over hidden dimensions\")\n",
    "ax.set_xticks([1]+[i*10 for i in range(1,1+pe.shape[1]//10)])\n",
    "ax.set_yticks([1]+[i*10 for i in range(1,1+pe.shape[0]//10)])\n",
    "plt.show()"
   ]
  },
  {
   "cell_type": "code",
   "execution_count": 10,
   "metadata": {},
   "outputs": [
    {
     "data": {
      "image/png": "[encoded data removed]",
      "text/plain": [
       "<Figure size 864x288 with 4 Axes>"
      ]
     },
     "metadata": {},
     "output_type": "display_data"
    }
   ],
   "source": [
    "#!pip install seaborn #- if it's not part of the requrement file\n",
    "import seaborn as sns\n",
    "import numpy as np\n",
    "sns.set_theme()\n",
    "fig, ax = plt.subplots(2, 2, figsize=(12,4))\n",
    "ax = [a for a_list in ax for a in a_list]\n",
    "for i in range(len(ax)):\n",
    "    ax[i].plot(np.arange(1,17), pe[i,:16], color=f'C{i}', marker=\"o\", markersize=6, markeredgecolor=\"black\")\n",
    "    ax[i].set_title(f\"Encoding in hidden dimension {i+1}\")\n",
    "    ax[i].set_xlabel(\"Position in sequence\", fontsize=10)\n",
    "    ax[i].set_ylabel(\"Positional encoding\", fontsize=10)\n",
    "    ax[i].set_xticks(np.arange(1,17))\n",
    "    ax[i].tick_params(axis='both', which='major', labelsize=10)\n",
    "    ax[i].tick_params(axis='both', which='minor', labelsize=8)\n",
    "    ax[i].set_ylim(-1.2, 1.2)\n",
    "fig.subplots_adjust(hspace=0.8)\n",
    "sns.reset_orig()\n",
    "plt.show()"
   ]
  },
  {
   "cell_type": "markdown",
   "metadata": {
    "slideshow": {
     "slide_type": "skip"
    }
   },
   "source": [
    "## Ways to use it in NLP"
   ]
  },
  {
   "cell_type": "markdown",
   "metadata": {
    "slideshow": {
     "slide_type": "subslide"
    }
   },
   "source": [
    "* **G**enerative **P**re**T**raining (GPT):  **Encoder only!**. Generate text, stories using nothing but initial tokens.\n",
    "<br>\n",
    "<br>\n",
    "<br>\n",
    "*  **B**idirectional **E**ncoder **R**epresentations from **T**ransformers (BERT): **Decoder only!** mask prediction over one sequnce, can be use for error fixing, wordtune/gramerly etc.. \n",
    "<br>\n",
    "<br>\n",
    "<br>\n",
    "* **T**ext-**T**o-**T**ext **T**ransfer **T**ransformer (T5): Translation, summerization, question answering and so on.\n"
   ]
  },
  {
   "cell_type": "markdown",
   "metadata": {
    "slideshow": {
     "slide_type": "subslide"
    }
   },
   "source": [
    "<center><img src=\"img/bayer.png\" width=1400 /></center>\n"
   ]
  },
  {
   "cell_type": "markdown",
   "metadata": {
    "slideshow": {
     "slide_type": "slide"
    }
   },
   "source": [
    "## BRRT"
   ]
  },
  {
   "cell_type": "markdown",
   "metadata": {
    "slideshow": {
     "slide_type": "subslide"
    }
   },
   "source": [
    "<center><img src=\"img/bert.png\" width=900 /></center>\n",
    "\n",
    "Uses pre-training of semi (self) supervision of two tasks:\n",
    "\n",
    "1. masked prediction: mask out 15% of the tokens and predict them using bi-directional encoding of the sentense.\n",
    "\n",
    "make use of the spacial token `[MASK]` istead of some of the inputs\n",
    "\n",
    "2. NSP: Next sentence prediction: predict if the next sentence come after the current one or not.\n",
    "\n",
    "sentences of the same paragraph comes one after the other with a seperation of the special token `[SEP]`"
   ]
  },
  {
   "cell_type": "markdown",
   "metadata": {
    "slideshow": {
     "slide_type": "slide"
    }
   },
   "source": [
    "## GPT"
   ]
  },
  {
   "cell_type": "markdown",
   "metadata": {
    "slideshow": {
     "slide_type": "subslide"
    }
   },
   "source": [
    "<center><img src=\"img/train.png\" width=900 /></center>\n"
   ]
  },
  {
   "cell_type": "markdown",
   "metadata": {
    "slideshow": {
     "slide_type": "subslide"
    }
   },
   "source": [
    "What's next? i call it The **moor's law of parameters**:\n",
    "\n",
    "\n",
    "\n",
    "\n",
    "<center><img src=\"img/dnns-13.jpg.webp\" width=1000 /></center>\n"
   ]
  },
  {
   "cell_type": "markdown",
   "metadata": {
    "slideshow": {
     "slide_type": "subslide"
    }
   },
   "source": [
    "Let's try to work with something that is way to big to train here, but we can play with a pre-trained version: GPT2:\n",
    "\n",
    "<center><img src=\"img/gpt2.png\" width=1000 /></center>\n"
   ]
  },
  {
   "cell_type": "code",
   "execution_count": 39,
   "metadata": {
    "slideshow": {
     "slide_type": "skip"
    }
   },
   "outputs": [
    {
     "name": "stdout",
     "output_type": "stream",
     "text": [
      "Collecting transformers\n",
      "  Downloading transformers-4.25.1-py3-none-any.whl (5.8 MB)\n",
      "Requirement already satisfied: numpy>=1.17 in c:\\users\\moshe\\anaconda3\\envs\\cs3600-tut\\lib\\site-packages (from transformers) (1.19.2)\n",
      "Requirement already satisfied: tqdm>=4.27 in c:\\users\\moshe\\anaconda3\\envs\\cs3600-tut\\lib\\site-packages (from transformers) (4.59.0)\n",
      "Collecting huggingface-hub<1.0,>=0.10.0\n",
      "  Downloading huggingface_hub-0.11.1-py3-none-any.whl (182 kB)\n",
      "Collecting filelock\n",
      "  Downloading filelock-3.9.0-py3-none-any.whl (9.7 kB)\n",
      "Collecting pyyaml>=5.1\n",
      "  Downloading PyYAML-6.0-cp38-cp38-win_amd64.whl (155 kB)\n",
      "Requirement already satisfied: regex!=2019.12.17 in c:\\users\\moshe\\anaconda3\\envs\\cs3600-tut\\lib\\site-packages (from transformers) (2021.4.4)\n",
      "Requirement already satisfied: packaging>=20.0 in c:\\users\\moshe\\anaconda3\\envs\\cs3600-tut\\lib\\site-packages (from transformers) (20.9)\n",
      "Requirement already satisfied: requests in c:\\users\\moshe\\anaconda3\\envs\\cs3600-tut\\lib\\site-packages (from transformers) (2.25.1)\n",
      "Collecting tokenizers!=0.11.3,<0.14,>=0.11.1\n",
      "  Downloading tokenizers-0.13.2-cp38-cp38-win_amd64.whl (3.3 MB)\n",
      "Requirement already satisfied: typing-extensions>=3.7.4.3 in c:\\users\\moshe\\anaconda3\\envs\\cs3600-tut\\lib\\site-packages (from huggingface-hub<1.0,>=0.10.0->transformers) (4.2.0)\n",
      "Requirement already satisfied: pyparsing>=2.0.2 in c:\\users\\moshe\\anaconda3\\envs\\cs3600-tut\\lib\\site-packages (from packaging>=20.0->transformers) (2.4.7)\n",
      "Requirement already satisfied: chardet<5,>=3.0.2 in c:\\users\\moshe\\anaconda3\\envs\\cs3600-tut\\lib\\site-packages (from requests->transformers) (4.0.0)\n",
      "Requirement already satisfied: idna<3,>=2.5 in c:\\users\\moshe\\anaconda3\\envs\\cs3600-tut\\lib\\site-packages (from requests->transformers) (2.10)\n",
      "Requirement already satisfied: certifi>=2017.4.17 in c:\\users\\moshe\\anaconda3\\envs\\cs3600-tut\\lib\\site-packages (from requests->transformers) (2021.10.8)\n",
      "Requirement already satisfied: urllib3<1.27,>=1.21.1 in c:\\users\\moshe\\anaconda3\\envs\\cs3600-tut\\lib\\site-packages (from requests->transformers) (1.26.4)\n",
      "Installing collected packages: pyyaml, filelock, tokenizers, huggingface-hub, transformers\n",
      "Successfully installed filelock-3.9.0 huggingface-hub-0.11.1 pyyaml-6.0 tokenizers-0.13.2 transformers-4.25.1\n"
     ]
    }
   ],
   "source": [
    "!pip install transformers"
   ]
  },
  {
   "cell_type": "code",
   "execution_count": 40,
   "metadata": {},
   "outputs": [
    {
     "data": {
      "application/vnd.jupyter.widget-view+json": {
       "model_id": "166bd6911a934def8acda650ee20c7c8",
       "version_major": 2,
       "version_minor": 0
      },
      "text/plain": [
       "Downloading:   0%|          | 0.00/665 [00:00<?, ?B/s]"
      ]
     },
     "metadata": {},
     "output_type": "display_data"
    },
    {
     "data": {
      "application/vnd.jupyter.widget-view+json": {
       "model_id": "77712aae50a24d498e089288806e1f3c",
       "version_major": 2,
       "version_minor": 0
      },
      "text/plain": [
       "Downloading:   0%|          | 0.00/548M [00:00<?, ?B/s]"
      ]
     },
     "metadata": {},
     "output_type": "display_data"
    },
    {
     "data": {
      "application/vnd.jupyter.widget-view+json": {
       "model_id": "5688376edfe14747aa2cd6c3c464b7d8",
       "version_major": 2,
       "version_minor": 0
      },
      "text/plain": [
       "Downloading:   0%|          | 0.00/1.04M [00:00<?, ?B/s]"
      ]
     },
     "metadata": {},
     "output_type": "display_data"
    },
    {
     "data": {
      "application/vnd.jupyter.widget-view+json": {
       "model_id": "c5ff3329426346c78a752a6fb2d07d9c",
       "version_major": 2,
       "version_minor": 0
      },
      "text/plain": [
       "Downloading:   0%|          | 0.00/456k [00:00<?, ?B/s]"
      ]
     },
     "metadata": {},
     "output_type": "display_data"
    },
    {
     "data": {
      "application/vnd.jupyter.widget-view+json": {
       "model_id": "1a474b1935d340a4997072c044786638",
       "version_major": 2,
       "version_minor": 0
      },
      "text/plain": [
       "Downloading:   0%|          | 0.00/1.36M [00:00<?, ?B/s]"
      ]
     },
     "metadata": {},
     "output_type": "display_data"
    }
   ],
   "source": [
    "from transformers import pipeline, set_seed\n",
    "generator = pipeline('text-generation', model='gpt2')\n",
    "set_seed(42)"
   ]
  },
  {
   "cell_type": "code",
   "execution_count": 45,
   "metadata": {},
   "outputs": [
    {
     "name": "stderr",
     "output_type": "stream",
     "text": [
      "Setting `pad_token_id` to `eos_token_id`:50256 for open-end generation.\n"
     ]
    }
   ],
   "source": [
    "completes = generator(\"if i had a nickel for every time a student asked me \", max_length=50, num_return_sequences=5)"
   ]
  },
  {
   "cell_type": "code",
   "execution_count": 46,
   "metadata": {},
   "outputs": [
    {
     "name": "stdout",
     "output_type": "stream",
     "text": [
      "===generated sentence number 0: ===\n",
      " if i had a nickel for every time a student asked me  - you have not been able to get a nickel for anything.  It has never been more than 20 cents, so in a nutshell, your money just isn't there.\n",
      "\n",
      "\n",
      "===generated sentence number 1: ===\n",
      " if i had a nickel for every time a student asked me izakaya and i had a nickel for every time a student pointed out that it's not a nickel because they don't have time or money for textbooks, and if I asked them\n",
      "\n",
      "\n",
      "===generated sentence number 2: ===\n",
      " if i had a nickel for every time a student asked me  why I was selling \"coupons\", and then asked for a 'goodie'.\n",
      "My first attempt at'sell a goodie' came out the other day when I\n",
      "\n",
      "\n",
      "===generated sentence number 3: ===\n",
      " if i had a nickel for every time a student asked me  to change my credit score.  And yet here I am.  I was so excited to get started in the first semester of the year that I didn't even talk\n",
      "\n",
      "\n",
      "===generated sentence number 4: ===\n",
      " if i had a nickel for every time a student asked me  to write my own book to do something, well, I did write a book about that for a while. As far as I'm aware, there is no way I could have\n",
      "\n",
      "\n"
     ]
    }
   ],
   "source": [
    "for i, sentence in enumerate(completes):\n",
    "    print(f'===generated sentence number {i}: ===')\n",
    "    print(' ' + sentence['generated_text']+ '\\n\\n')"
   ]
  },
  {
   "cell_type": "markdown",
   "metadata": {
    "slideshow": {
     "slide_type": "subslide"
    }
   },
   "source": [
    "We can also explore some of the biases of the LLMs, since they are trained in a self-supervised fashion, the biases are just what can be found online:"
   ]
  },
  {
   "cell_type": "code",
   "execution_count": 51,
   "metadata": {},
   "outputs": [
    {
     "name": "stderr",
     "output_type": "stream",
     "text": [
      "Setting `pad_token_id` to `eos_token_id`:50256 for open-end generation.\n"
     ]
    },
    {
     "data": {
      "text/plain": [
       "[{'generated_text': 'This man worked as a barista. What a'},\n",
       " {'generated_text': 'This man worked as a lawyer for President Nixon,'},\n",
       " {'generated_text': 'This man worked as a manger.\\n\\n'},\n",
       " {'generated_text': 'This man worked as a security guard in a field'},\n",
       " {'generated_text': 'This man worked as a bartender at a hotel in'}]"
      ]
     },
     "execution_count": 51,
     "metadata": {},
     "output_type": "execute_result"
    }
   ],
   "source": [
    "generator(\"This man worked as a\", max_length=10, num_return_sequences=5)"
   ]
  },
  {
   "cell_type": "code",
   "execution_count": 50,
   "metadata": {},
   "outputs": [
    {
     "name": "stderr",
     "output_type": "stream",
     "text": [
      "Setting `pad_token_id` to `eos_token_id`:50256 for open-end generation.\n"
     ]
    },
    {
     "data": {
      "text/plain": [
       "[{'generated_text': \"This woman worked as a maid in the company's\"},\n",
       " {'generated_text': 'This woman worked as a housekeeper, and was'},\n",
       " {'generated_text': 'This woman worked as a delivery girl.'},\n",
       " {'generated_text': 'This woman worked as a waitress at a restaurant for'},\n",
       " {'generated_text': 'This woman worked as a \"nursery supervisor'}]"
      ]
     },
     "execution_count": 50,
     "metadata": {},
     "output_type": "execute_result"
    }
   ],
   "source": [
    "generator(\"This woman worked as a\", max_length=10, num_return_sequences=5)"
   ]
  },
  {
   "cell_type": "markdown",
   "metadata": {
    "slideshow": {
     "slide_type": "subslide"
    }
   },
   "source": [
    "#### Thanks for your attention (**stagadish**)"
   ]
  },
  {
   "cell_type": "markdown",
   "metadata": {
    "slideshow": {
     "slide_type": "skip"
    }
   },
   "source": [
    "**Credits**\n",
    "\n",
    "This tutorial was written by Moshe Kimhi .<br>\n",
    "To re-use, please provide attribution and link to the original.\n",
    "\n",
    "Some images in this tutorial were taken and/or adapted from the following sources:\n",
    "\n",
    "- Jay Alammar blog - https://jalammar.github.io/illustrated-transformer/\n",
    "- Attention is all you need paper - https://arxiv.org/abs/1706.03762\n",
    "- Lucas Beyer - transformer presentation"
   ]
  },
  {
   "cell_type": "code",
   "execution_count": null,
   "metadata": {},
   "outputs": [],
   "source": []
  }
 ],
 "metadata": {
  "celltoolbar": "Slideshow",
  "kernelspec": {
   "display_name": "Python 3",
   "language": "python",
   "name": "python3"
  },
  "language_info": {
   "codemirror_mode": {
    "name": "ipython",
    "version": 3
   },
   "file_extension": ".py",
   "mimetype": "text/x-python",
   "name": "python",
   "nbconvert_exporter": "python",
   "pygments_lexer": "ipython3",
   "version": "3.8.6"
  },
  "rise": {
   "scroll": true
  },
  "toc-autonumbering": false
 },
 "nbformat": 4,
 "nbformat_minor": 4
}
