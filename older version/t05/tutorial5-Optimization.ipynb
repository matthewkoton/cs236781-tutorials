{
 "cells": [
  {
   "cell_type": "markdown",
   "metadata": {
    "slideshow": {
     "slide_type": "slide"
    }
   },
   "source": [
    "$$\n",
    "\\newcommand{\\mat}[1]{\\boldsymbol {#1}}\n",
    "\\newcommand{\\mattr}[1]{\\boldsymbol {#1}^\\top}\n",
    "\\newcommand{\\matinv}[1]{\\boldsymbol {#1}^{-1}}\n",
    "\\newcommand{\\vec}[1]{\\boldsymbol {#1}}\n",
    "\\newcommand{\\vectr}[1]{\\boldsymbol {#1}^\\top}\n",
    "\\newcommand{\\rvar}[1]{\\mathrm {#1}}\n",
    "\\newcommand{\\rvec}[1]{\\boldsymbol{\\mathrm{#1}}}\n",
    "\\newcommand{\\diag}{\\mathop{\\mathrm {diag}}}\n",
    "\\newcommand{\\set}[1]{\\mathbb {#1}}\n",
    "\\newcommand{\\norm}[1]{\\left\\lVert#1\\right\\rVert}\n",
    "\\newcommand{\\pderiv}[2]{\\frac{\\partial #1}{\\partial #2}}\n",
    "\\newcommand{\\bb}[1]{\\boldsymbol{#1}}\n",
    "\\newcommand{\\ip}[3]{\\left<#1,#2\\right>_{#3}}\n",
    "\\newcommand{\\E}[2][]{\\mathbb{E}_{#1}\\left[#2\\right]}\n",
    "$$\n",
    "\n",
    "# CS236781: Deep Learning\n",
    "# Tutorial 5: Optimization"
   ]
  },
  {
   "cell_type": "markdown",
   "metadata": {
    "slideshow": {
     "slide_type": "subslide"
    }
   },
   "source": [
    "## Introduction\n",
    "\n",
    "In this tutorial, we will cover:\n",
    "\n",
    "- Descent-based optimization\n",
    "- Back-propagation\n",
    "- Automatic differentiation\n",
    "- PyTorch backward functions\n",
    "- Bi-level differentiable optimization\n",
    "- Example: Time-series prediction with CNNs (self stufy)"
   ]
  },
  {
   "cell_type": "code",
   "execution_count": 1,
   "metadata": {
    "execution": {
     "iopub.execute_input": "2022-03-24T07:23:47.387152Z",
     "iopub.status.busy": "2022-03-24T07:23:47.386369Z",
     "iopub.status.idle": "2022-03-24T07:23:48.647689Z",
     "shell.execute_reply": "2022-03-24T07:23:48.647385Z"
    },
    "slideshow": {
     "slide_type": "subslide"
    }
   },
   "outputs": [],
   "source": [
    "# Setup\n",
    "%matplotlib inline\n",
    "import os\n",
    "import sys\n",
    "import time\n",
    "import torch\n",
    "import matplotlib.pyplot as plt"
   ]
  },
  {
   "cell_type": "code",
   "execution_count": 2,
   "metadata": {
    "execution": {
     "iopub.execute_input": "2022-03-24T07:23:48.649726Z",
     "iopub.status.busy": "2022-03-24T07:23:48.649604Z",
     "iopub.status.idle": "2022-03-24T07:23:48.663523Z",
     "shell.execute_reply": "2022-03-24T07:23:48.663216Z"
    },
    "slideshow": {
     "slide_type": "fragment"
    }
   },
   "outputs": [],
   "source": [
    "plt.rcParams['font.size'] = 14\n",
    "data_dir = os.path.expanduser('~/.pytorch-datasets')\n",
    "device = torch.device('cuda' if torch.cuda.is_available() else 'cpu')"
   ]
  },
  {
   "cell_type": "markdown",
   "metadata": {
    "slideshow": {
     "slide_type": "slide"
    }
   },
   "source": [
    "## Theory Reminders"
   ]
  },
  {
   "cell_type": "markdown",
   "metadata": {
    "slideshow": {
     "slide_type": "subslide"
    }
   },
   "source": [
    "### Descent-based optimization"
   ]
  },
  {
   "cell_type": "markdown",
   "metadata": {
    "slideshow": {
     "slide_type": "subslide"
    }
   },
   "source": [
    "As we have seen, training deep neural network is performed iteratively using descent-based optimization."
   ]
  },
  {
   "cell_type": "markdown",
   "metadata": {
    "slideshow": {
     "slide_type": "subslide"
    }
   },
   "source": [
    "The general scheme is,\n",
    "\n",
    "1. Initialize parameters to some $\\vec{\\Theta}^0 \\in \\set{R}^P$, and set $k\\leftarrow 0$.\n",
    "2. While not converged:\n",
    "    1. Choose a direction $\\vec{d}^k\\in\\set{R}^P$\n",
    "    2. Choose a step size $\\eta_k\\in\\set{R}$\n",
    "    3. Update: $\\vec{\\Theta}^{k+1} \\leftarrow \\vec{\\Theta}^k + \\eta_k \\vec{d}^k$\n",
    "    4. $k\\leftarrow k+1$\n"
   ]
  },
  {
   "cell_type": "markdown",
   "metadata": {
    "slideshow": {
     "slide_type": "subslide"
    }
   },
   "source": [
    "Which descent direction to choose?"
   ]
  },
  {
   "cell_type": "markdown",
   "metadata": {
    "slideshow": {
     "slide_type": "fragment"
    }
   },
   "source": [
    "The one which maximally decreases the loss function $L(\\vec{\\Theta})$:\n",
    "\n",
    "$$\n",
    "\\vec{d} =\\arg\\min_{\\vec{d'}} L(\\vec{\\Theta}+\\vec{d'})-L(\\vec{\\Theta})\n",
    "\\approx\n",
    "\\arg\\min_{\\vec{d'}}\\nabla L(\\vec{\\Theta})^\\top\\vec{d'}, \\\n",
    "\\mathrm{s.t.} \\norm{\\vec{d}}_p=1\n",
    "$$"
   ]
  },
  {
   "cell_type": "markdown",
   "metadata": {
    "slideshow": {
     "slide_type": "skip"
    }
   },
   "source": [
    "Choice of norm determines $\\vec{d}$. For example,\n",
    "- $p=1$: Coordinate descent: direction of the largest gradient component.\n",
    "- $p=2$: Gradient descent: $\\vec{d}=-\\nabla L(\\vec{\\Theta})$.\n",
    "\n",
    "|$p=1$|$p=2$|\n",
    "|---|---|\n",
    "|<img src=\"https://upload.wikimedia.org/wikipedia/commons/e/e3/Coordinate_descent.svg\" width=\"300\" /> | <img src=\"https://upload.wikimedia.org/wikipedia/commons/f/ff/Gradient_descent.svg\" width=\"300\" />| "
   ]
  },
  {
   "cell_type": "markdown",
   "metadata": {
    "slideshow": {
     "slide_type": "subslide"
    }
   },
   "source": [
    "#### Drawbacks and mitigations?"
   ]
  },
  {
   "cell_type": "markdown",
   "metadata": {
    "slideshow": {
     "slide_type": "subslide"
    }
   },
   "source": [
    "**Susceptible to initialization**\n",
    "\n",
    "Initializing near local minima can prevent finding better ones.\n",
    "\n",
    "<center><img src=\"imgs/sgd-init.png\" width=\"600\" /></center>"
   ]
  },
  {
   "cell_type": "markdown",
   "metadata": {
    "slideshow": {
     "slide_type": "subslide"
    }
   },
   "source": [
    "Can use **stochastic** gradient descent to get a different loss surface every iteration."
   ]
  },
  {
   "cell_type": "markdown",
   "metadata": {
    "slideshow": {
     "slide_type": "fragment"
    }
   },
   "source": [
    "Why is it called stochastic?"
   ]
  },
  {
   "cell_type": "markdown",
   "metadata": {
    "slideshow": {
     "slide_type": "fragment"
    }
   },
   "source": [
    "In mini-batch **stochastic** gradient descent, only one or a few samples are considered at each optimization step, selected by random sampling (ideally iid from $\\mathcal{D}$)."
   ]
  },
  {
   "cell_type": "markdown",
   "metadata": {
    "slideshow": {
     "slide_type": "subslide"
    }
   },
   "source": [
    "So, the effective loss surface is stochastic!\n",
    "Intuitively, this aids in convergence to a better solution because it prevents getting stuck in bad local minimal.\n",
    "\n",
    "<center><img src=\"imgs/sgd-loss.png\" width=\"500\" /></center>"
   ]
  },
  {
   "cell_type": "markdown",
   "metadata": {
    "slideshow": {
     "slide_type": "subslide"
    }
   },
   "source": [
    "**Sensitive to learning rate**\n",
    "\n",
    "<center><img src=\"imgs/sgd-lr.png\" width=\"800\"/></center>"
   ]
  },
  {
   "cell_type": "markdown",
   "metadata": {
    "slideshow": {
     "slide_type": "subslide"
    }
   },
   "source": [
    "- Line search (1D minimization):\n",
    "$$\n",
    "\\eta_k = \\arg\\min_{\\eta'} L(\\vec{\\Theta}^k+\\eta'\\vec{d}^k)\n",
    "$$\n",
    "\n",
    "- Adaptive LR optimizers, e.g. Adam\n",
    "\n",
    "- LR scheduling\n",
    "<center><img src=\"imgs/sgd-lr-schedule.png\" width=\"400\"/></center>"
   ]
  },
  {
   "cell_type": "markdown",
   "metadata": {
    "slideshow": {
     "slide_type": "subslide"
    }
   },
   "source": [
    "**Zig-zags in narrow \"ravines\"**\n",
    "\n",
    "<center><img src=\"imgs/sgd-zigzag.png\" width=\"300\"/></center>"
   ]
  },
  {
   "cell_type": "markdown",
   "metadata": {
    "slideshow": {
     "slide_type": "subslide"
    }
   },
   "source": [
    "- Momentum: Use previous gradients to build \"speed\" in the common direction and cancel-out oscillations in opposite directions.\n",
    "\n",
    "- BatchNorm: Normalizes activations to zero-mean and unit variance (may reduce curvature)\n",
    "\n",
    "- Second-order methods: Use quadratic local approximation of the loss surface, instead of linear.\n",
    "    - Newton's method: $\\vec{d}_k=\\mat{H}_k^{-1}\\vec{g}_k = \\nabla^2 L(\\vec{\\Theta}_k)^{-1}\\nabla L(\\vec{\\Theta}_k)$.\n",
    "    - Quasi-Newton methods which use some estimate of the Hessian based on first-order information (e.g. BFGS)."
   ]
  },
  {
   "cell_type": "markdown",
   "metadata": {
    "slideshow": {
     "slide_type": "subslide"
    }
   },
   "source": [
    "### The back-propagation algorithm"
   ]
  },
  {
   "cell_type": "markdown",
   "metadata": {
    "slideshow": {
     "slide_type": "fragment"
    }
   },
   "source": [
    "All the above optimization methods have a crucial thing in common: They require calculation of gradients of the loss w.r.t. to the parameters.\n",
    "\n",
    "In practical settings when training neural networks we have many different parameters tensors we would like to update separately. Thus, we require the gradient of the loss w.r.t. each of them."
   ]
  },
  {
   "cell_type": "markdown",
   "metadata": {
    "slideshow": {
     "slide_type": "subslide"
    }
   },
   "source": [
    "Back-propagation is an efficient way to calculate these gradients using the chain rule.\n",
    "\n",
    "We represent the application of a model to its inputs as a **computation graph**: nodes represent variables and edges represent functions.\n",
    "\n",
    "For example, a simple linear regression model can be represented as:\n",
    "\n",
    "<center><img src=\"imgs/backprop-graph.png\" width=\"400\"/></center>"
   ]
  },
  {
   "cell_type": "markdown",
   "metadata": {
    "slideshow": {
     "slide_type": "subslide"
    }
   },
   "source": [
    "Imagine that in this graph we have $N$ variables $\\vec{v}^i,\\ 1\\leq i \\leq N$  and functions $f_i$ which compute them from other variables.\n",
    "\n",
    "The graph is directional, thus assume $\\vec{v}^1, \\vec{v}^2,\\dots,\\vec{v}^N$ represents a topological order of the graph (parents before children), where $\\vec{v}^N=L$ is the final objective value.\n",
    "\n",
    "Define also the notation $\\delta\\vec{v}\\triangleq \\pderiv{L}{\\vec{v}}$."
   ]
  },
  {
   "cell_type": "markdown",
   "metadata": {
    "slideshow": {
     "slide_type": "subslide"
    }
   },
   "source": [
    "The forward pass can therefore be written as:\n",
    "\n",
    "1. For $i=1,2,\\dots,N$:\n",
    "  1. Graph parents of current node: $$\\mathcal{P}_i \\leftarrow \\left\\{\\vec{v}^j ~\\middle\\vert~ \\vec{v}^j \\text{ parent of } \\vec{v}^i\\right\\}$$ \n",
    "  2. Evaluate function at current node: $$\\vec{v}^i\\leftarrow f_i(\\mathcal{P}_i)$$"
   ]
  },
  {
   "cell_type": "markdown",
   "metadata": {
    "slideshow": {
     "slide_type": "subslide"
    }
   },
   "source": [
    "And in the backward pass we traverse the graph in reverse and apply the chain rule:\n",
    "\n",
    "1. Set $\\delta\\vec{v}^N=1$.\n",
    "2. For $i=N,N-1,\\dots,1$:\n",
    "  1. Graph children of current node: $$\\mathcal{C}_i \\leftarrow \\left\\{\\vec{v}^j ~\\middle\\vert~ \\vec{v}^j \\text{ child of } \\vec{v}^i\\right\\}$$  \n",
    "  2. Chain rule: $$\\delta\\vec{v}^i\\leftarrow \\sum_{\\vec{v}^j\\in\\mathcal{C}_i} \\delta\\vec{v}^j\\pderiv{\\vec{v}^j}{\\vec{v}^i}$$\n",
    "  \n",
    "Notes:\n",
    "1. The expression $\\delta\\vec{v}^j\\pderiv{\\vec{v}^j}{\\vec{v}^i}$ is a \"vector\"-Jacobian product (VJP).\n",
    "2. When a computation node's output is used by more than one other node (more than one child in the graph), we sum the incoming gradients from these children. This again arises directly from the chain rule."
   ]
  },
  {
   "cell_type": "markdown",
   "metadata": {
    "slideshow": {
     "slide_type": "subslide"
    }
   },
   "source": [
    "Backpropagation easily lends itself to a modular and efficient implementation.\n"
   ]
  },
  {
   "cell_type": "markdown",
   "metadata": {
    "slideshow": {
     "slide_type": "fragment"
    }
   },
   "source": [
    "Modularity:\n",
    "- Nodes in the computation graph only need to know how to calculate their own derivatives.\n",
    "- This is then passed to the parent nodes, which can do the same.\n",
    "\n",
    "<center><img src=\"imgs/backprop-modular.png\" width=\"700\"/></center>\n",
    "\n",
    "(in the figure, $\\bar{z}$ means $\\delta z$ in our notation)"
   ]
  },
  {
   "cell_type": "markdown",
   "metadata": {
    "slideshow": {
     "slide_type": "subslide"
    }
   },
   "source": [
    "Efficiency:\n",
    "\n",
    "- Only need to compute each $\\delta\\vec{v}^i$ once.\n",
    "- No need to construct the Jacobian, instead calculate the VJP directly since that's what we actually need."
   ]
  },
  {
   "cell_type": "markdown",
   "metadata": {
    "slideshow": {
     "slide_type": "fragment"
    }
   },
   "source": [
    "Modern automatic-differentiation packages such as PyTorch's `autograd` utilize exactly these tricks to implement backprop in an extremely powerful way."
   ]
  },
  {
   "cell_type": "markdown",
   "metadata": {
    "slideshow": {
     "slide_type": "slide"
    }
   },
   "source": [
    "## Part 1: Custom automatic differentiation with PyTorch"
   ]
  },
  {
   "cell_type": "markdown",
   "metadata": {
    "slideshow": {
     "slide_type": "subslide"
    }
   },
   "source": [
    "We'll now learn how to extend PyTorch's `autograd` by defining our own custom nodes in the computation graph.\n",
    "\n",
    "Lets first introduce a cousin of ReLU, the Exponential-Linear Unit (ELU) activation function:\n",
    "\n",
    "$$\n",
    "f(z) =\n",
    "\\begin{cases}\n",
    "z, & z > 0\\\\\n",
    "\\alpha \\left(e^{z}-1\\right) & z \\leq 0\n",
    "\\end{cases}\n",
    "$$"
   ]
  },
  {
   "cell_type": "markdown",
   "metadata": {
    "slideshow": {
     "slide_type": "fragment"
    }
   },
   "source": [
    "We'll pretend PyTorch does not include this activation function and implement a custom version ourselves."
   ]
  },
  {
   "cell_type": "code",
   "execution_count": 3,
   "metadata": {
    "execution": {
     "iopub.execute_input": "2022-03-24T07:23:48.666677Z",
     "iopub.status.busy": "2022-03-24T07:23:48.666557Z",
     "iopub.status.idle": "2022-03-24T07:23:48.680672Z",
     "shell.execute_reply": "2022-03-24T07:23:48.680387Z"
    },
    "slideshow": {
     "slide_type": "subslide"
    }
   },
   "outputs": [],
   "source": [
    "import torch\n",
    "import torch.autograd as autograd\n",
    "import torchviz\n",
    "\n",
    "from torch import Tensor"
   ]
  },
  {
   "cell_type": "markdown",
   "metadata": {
    "slideshow": {
     "slide_type": "subslide"
    }
   },
   "source": [
    "First, we'll implement just the actual computation as a standalone function so that we can reuse it later."
   ]
  },
  {
   "cell_type": "code",
   "execution_count": 4,
   "metadata": {
    "execution": {
     "iopub.execute_input": "2022-03-24T07:23:48.682439Z",
     "iopub.status.busy": "2022-03-24T07:23:48.682357Z",
     "iopub.status.idle": "2022-03-24T07:23:48.694998Z",
     "shell.execute_reply": "2022-03-24T07:23:48.694696Z"
    },
    "slideshow": {
     "slide_type": "fragment"
    }
   },
   "outputs": [],
   "source": [
    "def elu_forward(z: Tensor, alpha: float):\n",
    "    elu_positive = z\n",
    "    elu_negative = alpha * (torch.exp(z) - 1)\n",
    "    elu_output = torch.where(z>0, elu_positive, elu_negative)\n",
    "    return elu_output"
   ]
  },
  {
   "cell_type": "markdown",
   "metadata": {
    "slideshow": {
     "slide_type": "subslide"
    }
   },
   "source": [
    "A quick visualization to see what it looks like:"
   ]
  },
  {
   "cell_type": "code",
   "execution_count": 5,
   "metadata": {
    "execution": {
     "iopub.execute_input": "2022-03-24T07:23:48.696783Z",
     "iopub.status.busy": "2022-03-24T07:23:48.696703Z",
     "iopub.status.idle": "2022-03-24T07:23:48.796005Z",
     "shell.execute_reply": "2022-03-24T07:23:48.795710Z"
    },
    "slideshow": {
     "slide_type": "fragment"
    }
   },
   "outputs": [
    {
     "data": {
      "image/png": "[encoded data removed]",
      "text/plain": [
       "<Figure size 432x288 with 1 Axes>"
      ]
     },
     "metadata": {
      "needs_background": "light"
     },
     "output_type": "display_data"
    }
   ],
   "source": [
    "z = torch.linspace(-5, 5, steps=1000)\n",
    "plt.plot(z.numpy(), torch.relu(z).numpy(), label='ReLU(z)', linewidth=5);\n",
    "plt.plot(z.numpy(), elu_forward(z, alpha=.5).numpy(), label='ELU(z)', linewidth=2); plt.legend(); plt.grid();"
   ]
  },
  {
   "cell_type": "markdown",
   "metadata": {
    "slideshow": {
     "slide_type": "subslide"
    }
   },
   "source": [
    "Now we'll wrap it as an `nn.Module` so that we can use it as a layer in a model."
   ]
  },
  {
   "cell_type": "code",
   "execution_count": 6,
   "metadata": {
    "execution": {
     "iopub.execute_input": "2022-03-24T07:23:48.798087Z",
     "iopub.status.busy": "2022-03-24T07:23:48.797964Z",
     "iopub.status.idle": "2022-03-24T07:23:48.812370Z",
     "shell.execute_reply": "2022-03-24T07:23:48.812085Z"
    },
    "slideshow": {
     "slide_type": "fragment"
    }
   },
   "outputs": [],
   "source": [
    "class ELU(torch.nn.Module):\n",
    "    \"\"\" ELU Activation layer \"\"\"\n",
    "    \n",
    "    def __init__(self, alpha: float = 0.1):\n",
    "        super().__init__()\n",
    "        self.alpha = alpha\n",
    "    \n",
    "    def forward(self, z: Tensor):\n",
    "        return elu_forward(z, self.alpha)\n",
    "    "
   ]
  },
  {
   "cell_type": "markdown",
   "metadata": {
    "slideshow": {
     "slide_type": "subslide"
    }
   },
   "source": [
    "And as usual, we can look at the resulting computation graph."
   ]
  },
  {
   "cell_type": "code",
   "execution_count": 7,
   "metadata": {
    "execution": {
     "iopub.execute_input": "2022-03-24T07:23:48.814314Z",
     "iopub.status.busy": "2022-03-24T07:23:48.814211Z",
     "iopub.status.idle": "2022-03-24T07:23:48.864982Z",
     "shell.execute_reply": "2022-03-24T07:23:48.864545Z"
    },
    "slideshow": {
     "slide_type": "fragment"
    }
   },
   "outputs": [
    {
     "data": {
      "image/svg+xml": [
       "<?xml version=\"1.0\" encoding=\"UTF-8\" standalone=\"no\"?>\r\n",
       "<!DOCTYPE svg PUBLIC \"-//W3C//DTD SVG 1.1//EN\"\r\n",
       " \"http://www.w3.org/Graphics/SVG/1.1/DTD/svg11.dtd\">\r\n",
       "<!-- Generated by graphviz version 2.38.0 (20140413.2041)\r\n",
       " -->\r\n",
       "<!-- Title: %3 Pages: 1 -->\r\n",
       "<svg width=\"141pt\" height=\"380pt\"\r\n",
       " viewBox=\"0.00 0.00 141.00 380.00\" xmlns=\"http://www.w3.org/2000/svg\" xmlns:xlink=\"http://www.w3.org/1999/xlink\">\r\n",
       "<g id=\"graph0\" class=\"graph\" transform=\"scale(1 1) rotate(0) translate(4 376)\">\r\n",
       "<title>%3</title>\r\n",
       "<polygon fill=\"white\" stroke=\"none\" points=\"-4,4 -4,-376 137,-376 137,4 -4,4\"/>\r\n",
       "<!-- 2219789788224 -->\r\n",
       "<g id=\"node1\" class=\"node\"><title>2219789788224</title>\r\n",
       "<polygon fill=\"#caff70\" stroke=\"black\" points=\"78.5,-31 24.5,-31 24.5,-0 78.5,-0 78.5,-31\"/>\r\n",
       "<text text-anchor=\"middle\" x=\"51.5\" y=\"-7\" font-family=\"monospace\" font-size=\"10.00\"> (6)</text>\r\n",
       "</g>\r\n",
       "<!-- 2219773176944 -->\r\n",
       "<g id=\"node2\" class=\"node\"><title>2219773176944</title>\r\n",
       "<polygon fill=\"lightgrey\" stroke=\"black\" points=\"102,-86 1,-86 1,-67 102,-67 102,-86\"/>\r\n",
       "<text text-anchor=\"middle\" x=\"51.5\" y=\"-74\" font-family=\"monospace\" font-size=\"10.00\">SWhereBackward</text>\r\n",
       "</g>\r\n",
       "<!-- 2219773176944&#45;&gt;2219789788224 -->\r\n",
       "<g id=\"edge7\" class=\"edge\"><title>2219773176944&#45;&gt;2219789788224</title>\r\n",
       "<path fill=\"none\" stroke=\"black\" d=\"M51.5,-66.7943C51.5,-60.0669 51.5,-50.404 51.5,-41.3425\"/>\r\n",
       "<polygon fill=\"black\" stroke=\"black\" points=\"55.0001,-41.1932 51.5,-31.1933 48.0001,-41.1933 55.0001,-41.1932\"/>\r\n",
       "</g>\r\n",
       "<!-- 2219773174544 -->\r\n",
       "<g id=\"node3\" class=\"node\"><title>2219773174544</title>\r\n",
       "<polygon fill=\"lightgrey\" stroke=\"black\" points=\"101,-306 0,-306 0,-287 101,-287 101,-306\"/>\r\n",
       "<text text-anchor=\"middle\" x=\"50.5\" y=\"-294\" font-family=\"monospace\" font-size=\"10.00\">AccumulateGrad</text>\r\n",
       "</g>\r\n",
       "<!-- 2219773174544&#45;&gt;2219773176944 -->\r\n",
       "<g id=\"edge1\" class=\"edge\"><title>2219773174544&#45;&gt;2219773176944</title>\r\n",
       "<path fill=\"none\" stroke=\"black\" d=\"M46.6939,-286.842C43.0304,-278.022 37.7281,-263.853 35.5,-251 33.2509,-238.026 34.0723,-124.318 34.5,-122 36.1694,-112.952 39.5984,-103.364 42.9423,-95.4143\"/>\r\n",
       "<polygon fill=\"black\" stroke=\"black\" points=\"46.2259,-96.6462 47.134,-86.0903 39.8414,-93.7759 46.2259,-96.6462\"/>\r\n",
       "</g>\r\n",
       "<!-- 2219773177808 -->\r\n",
       "<g id=\"node7\" class=\"node\"><title>2219773177808</title>\r\n",
       "<polygon fill=\"lightgrey\" stroke=\"black\" points=\"128,-251 45,-251 45,-232 128,-232 128,-251\"/>\r\n",
       "<text text-anchor=\"middle\" x=\"86.5\" y=\"-239\" font-family=\"monospace\" font-size=\"10.00\">ExpBackward</text>\r\n",
       "</g>\r\n",
       "<!-- 2219773174544&#45;&gt;2219773177808 -->\r\n",
       "<g id=\"edge6\" class=\"edge\"><title>2219773174544&#45;&gt;2219773177808</title>\r\n",
       "<path fill=\"none\" stroke=\"black\" d=\"M56.4447,-286.748C61.4773,-279.339 68.8368,-268.504 75.0135,-259.411\"/>\r\n",
       "<polygon fill=\"black\" stroke=\"black\" points=\"77.9423,-261.328 80.6659,-251.089 72.1518,-257.395 77.9423,-261.328\"/>\r\n",
       "</g>\r\n",
       "<!-- 2219771874240 -->\r\n",
       "<g id=\"node4\" class=\"node\"><title>2219771874240</title>\r\n",
       "<polygon fill=\"lightblue\" stroke=\"black\" points=\"77.5,-372 23.5,-372 23.5,-342 77.5,-342 77.5,-372\"/>\r\n",
       "<text text-anchor=\"middle\" x=\"50.5\" y=\"-360\" font-family=\"monospace\" font-size=\"10.00\">z</text>\r\n",
       "<text text-anchor=\"middle\" x=\"50.5\" y=\"-349\" font-family=\"monospace\" font-size=\"10.00\"> (6)</text>\r\n",
       "</g>\r\n",
       "<!-- 2219771874240&#45;&gt;2219773174544 -->\r\n",
       "<g id=\"edge2\" class=\"edge\"><title>2219771874240&#45;&gt;2219773174544</title>\r\n",
       "<path fill=\"none\" stroke=\"black\" d=\"M50.5,-341.839C50.5,-334.214 50.5,-324.704 50.5,-316.45\"/>\r\n",
       "<polygon fill=\"black\" stroke=\"black\" points=\"54.0001,-316.266 50.5,-306.266 47.0001,-316.266 54.0001,-316.266\"/>\r\n",
       "</g>\r\n",
       "<!-- 2219773177712 -->\r\n",
       "<g id=\"node5\" class=\"node\"><title>2219773177712</title>\r\n",
       "<polygon fill=\"lightgrey\" stroke=\"black\" points=\"133,-141 44,-141 44,-122 133,-122 133,-141\"/>\r\n",
       "<text text-anchor=\"middle\" x=\"88.5\" y=\"-129\" font-family=\"monospace\" font-size=\"10.00\">MulBackward0</text>\r\n",
       "</g>\r\n",
       "<!-- 2219773177712&#45;&gt;2219773176944 -->\r\n",
       "<g id=\"edge3\" class=\"edge\"><title>2219773177712&#45;&gt;2219773176944</title>\r\n",
       "<path fill=\"none\" stroke=\"black\" d=\"M82.3902,-121.748C77.2178,-114.339 69.6539,-103.504 63.3056,-94.4107\"/>\r\n",
       "<polygon fill=\"black\" stroke=\"black\" points=\"66.0902,-92.2851 57.4961,-86.089 60.3505,-96.2921 66.0902,-92.2851\"/>\r\n",
       "</g>\r\n",
       "<!-- 2219773177424 -->\r\n",
       "<g id=\"node6\" class=\"node\"><title>2219773177424</title>\r\n",
       "<polygon fill=\"lightgrey\" stroke=\"black\" points=\"133,-196 44,-196 44,-177 133,-177 133,-196\"/>\r\n",
       "<text text-anchor=\"middle\" x=\"88.5\" y=\"-184\" font-family=\"monospace\" font-size=\"10.00\">SubBackward0</text>\r\n",
       "</g>\r\n",
       "<!-- 2219773177424&#45;&gt;2219773177712 -->\r\n",
       "<g id=\"edge4\" class=\"edge\"><title>2219773177424&#45;&gt;2219773177712</title>\r\n",
       "<path fill=\"none\" stroke=\"black\" d=\"M88.5,-176.748C88.5,-169.802 88.5,-159.845 88.5,-151.135\"/>\r\n",
       "<polygon fill=\"black\" stroke=\"black\" points=\"92.0001,-151.089 88.5,-141.089 85.0001,-151.089 92.0001,-151.089\"/>\r\n",
       "</g>\r\n",
       "<!-- 2219773177808&#45;&gt;2219773177424 -->\r\n",
       "<g id=\"edge5\" class=\"edge\"><title>2219773177808&#45;&gt;2219773177424</title>\r\n",
       "<path fill=\"none\" stroke=\"black\" d=\"M86.8303,-231.748C87.0924,-224.802 87.4681,-214.845 87.7968,-206.135\"/>\r\n",
       "<polygon fill=\"black\" stroke=\"black\" points=\"91.2962,-206.214 88.1759,-196.089 84.3012,-205.95 91.2962,-206.214\"/>\r\n",
       "</g>\r\n",
       "</g>\r\n",
       "</svg>\r\n"
      ],
      "text/plain": [
       "<graphviz.dot.Digraph at 0x204d4caaeb0>"
      ]
     },
     "execution_count": 7,
     "metadata": {},
     "output_type": "execute_result"
    }
   ],
   "source": [
    "elu = ELU(alpha=0.5)\n",
    "z = torch.tensor([-2., -1, 0, 1, 2, 3], requires_grad=True)\n",
    "torchviz.make_dot(elu(z), params=dict(z=z))"
   ]
  },
  {
   "cell_type": "markdown",
   "metadata": {
    "slideshow": {
     "slide_type": "subslide"
    }
   },
   "source": [
    "We can see that the computation graph accurately represents the various basic mathematical operations performed by our `elu_forward` function.\n",
    "\n",
    "But what if we want to define the entire ELU operarion as one node in the graph?\n",
    "This can be useful e.g. for performance reasons or if pytorch can't differentiate through our layer.\n",
    "\n",
    "How can we accomplish this?"
   ]
  },
  {
   "cell_type": "markdown",
   "metadata": {
    "slideshow": {
     "slide_type": "subslide"
    }
   },
   "source": [
    "The solution is to use a lower-level PyTorch API, `autograd.Function`\n",
    "which allows us to define a function in terms of both it's forwards pass\n",
    "(the regular output computation), and it's **backward** pass\n",
    "(the gradient w.r.t. all its inputs).\n"
   ]
  },
  {
   "cell_type": "markdown",
   "metadata": {
    "slideshow": {
     "slide_type": "fragment"
    }
   },
   "source": [
    "From the PyTorch docs:\n",
    "    \n",
    ">Every operation performed on `Tensors`s creates a new `Function` object, that performs the computation, and records that it happened. The history is retained in the form of a DAG of functions, with edges denoting data dependencies (input <- output). Then, when backward is called, the graph is processed in the topological ordering, by calling `backward()` methods of each `Function` object, and passing returned gradients on to next `Function`s.\n",
    "\n"
   ]
  },
  {
   "cell_type": "markdown",
   "metadata": {
    "slideshow": {
     "slide_type": "subslide"
    }
   },
   "source": [
    "The API of an `autograd.Function` is:\n",
    "\n",
    "```python\n",
    "class MyCustomFunction(autograd.Function):\n",
    "    \n",
    "    @staticmethod\n",
    "    def forward(context, *inputs: Tensor, **kw):\n",
    "        ...\n",
    "    \n",
    "    @staticmethod\n",
    "    def backward(context, *grad_outputs: Tensor) -> Sequence[Tensor]:\n",
    "        ...\n",
    "```\n",
    "\n",
    "1. What do you think `grad_outputs` contains?\n",
    "2. What does `backward()` need to return?\n",
    "3. Why do we need a `context`?"
   ]
  },
  {
   "cell_type": "markdown",
   "metadata": {
    "slideshow": {
     "slide_type": "subslide"
    }
   },
   "source": [
    "To implement the ELU as an `autograd.Function`, we'll first calculate the simple analytic derivative of the ELU function:\n",
    "$$\n",
    "\\pderiv{f(z)}{z} = f'(z) = \n",
    "\\begin{cases}\n",
    "1, & z > 0\\\\\n",
    "\\alpha e^{z} & z \\leq 0\n",
    "\\end{cases}\n",
    "$$"
   ]
  },
  {
   "cell_type": "markdown",
   "metadata": {
    "slideshow": {
     "slide_type": "subslide"
    }
   },
   "source": [
    "Next, we need to figure out how to compute the vector-Jacobian product efficiently.\n",
    "Note that for any **elementwise** operation, $\\vec{y}=f(\\vec{x}),\\ f:\\set{R}^n\\rightarrow\\set{R}^n$, we can write the Jacobian as\n",
    "\n",
    "$$\n",
    "\\pderiv{\\vec{y}}{\\vec{x}} = \\pmatrix{\n",
    "\\ddots & \\vdots & \\\\\n",
    "\\cdots & \\pderiv{y_i}{x_j} & \\cdots \\\\\n",
    "& \\vdots & \\ddots\\\\\n",
    "}\n",
    "=\n",
    "\\pmatrix{\n",
    "f'(x_1) &  &  \\\\\n",
    "  & f'(x_i) &  \\\\\n",
    "& & f'(x_n)\\\\\n",
    "}\n",
    "= \\diag\\{{f'(\\vec{x})}\\}\n",
    "$$\n",
    "\n",
    "And it follows that the VJP can be computed simply:\n",
    "$$\n",
    "\\delta \\vec{x} = \\delta{\\vec{y}}\\pderiv{\\vec{y}}{\\vec{x}} = \\delta{\\vec{y}} \\odot f'(\\vec{x}).\n",
    "$$"
   ]
  },
  {
   "cell_type": "markdown",
   "metadata": {
    "slideshow": {
     "slide_type": "subslide"
    }
   },
   "source": [
    "Now, equipped with the expression for the VJP, we can proceed to implement the `Function` object representing ELU."
   ]
  },
  {
   "cell_type": "code",
   "execution_count": 8,
   "metadata": {
    "execution": {
     "iopub.execute_input": "2022-03-24T07:23:48.867866Z",
     "iopub.status.busy": "2022-03-24T07:23:48.867691Z",
     "iopub.status.idle": "2022-03-24T07:23:48.886059Z",
     "shell.execute_reply": "2022-03-24T07:23:48.885782Z"
    },
    "slideshow": {
     "slide_type": "subslide"
    }
   },
   "outputs": [],
   "source": [
    "class ELUFunction(autograd.Function):\n",
    "    \n",
    "    @staticmethod\n",
    "    def forward(ctx, z: Tensor, alpha: float):\n",
    "        elu = elu_forward(z, alpha) # Regular forward pass computation from before\n",
    "        ctx.save_for_backward(z)    # Tensors should be saved using this method\n",
    "        ctx.alpha = alpha           # other properties can be saved like so\n",
    "        return elu\n",
    "    \n",
    "    @staticmethod\n",
    "    def backward(ctx, grad_output):\n",
    "        z, = ctx.saved_tensors      # Validates that no in-place modifications happened on saved tensors\n",
    "        alpha = ctx.alpha\n",
    "        \n",
    "        # Calculate diagonal of d(elu(z))/dz\n",
    "        grad_positive = torch.ones_like(z)\n",
    "        grad_negative = alpha * torch.exp(z)\n",
    "        \n",
    "        # Note: This is not the full Jacobian, d(elu(z))/dz, it's the diagonal\n",
    "        grad_elu = torch.where(z>0, grad_positive, grad_negative)\n",
    "        \n",
    "        # Gradient of the loss w.r.t. our output\n",
    "        δ_elu = grad_output\n",
    "        \n",
    "        # Calcualte δz = d(elu(z))/dz * δ_elu\n",
    "        # Note: elementwise multiplication equivalant to vector-Jacobian product\n",
    "        δz = grad_elu * δ_elu\n",
    "        return δz, None"
   ]
  },
  {
   "cell_type": "markdown",
   "metadata": {
    "slideshow": {
     "slide_type": "subslide"
    }
   },
   "source": [
    "We can now use this custom `Function` either directly or as part of a layer.\n",
    "\n",
    "For example, here's an ELU layer using our custom backward:"
   ]
  },
  {
   "cell_type": "code",
   "execution_count": 9,
   "metadata": {
    "execution": {
     "iopub.execute_input": "2022-03-24T07:23:48.887908Z",
     "iopub.status.busy": "2022-03-24T07:23:48.887817Z",
     "iopub.status.idle": "2022-03-24T07:23:48.900187Z",
     "shell.execute_reply": "2022-03-24T07:23:48.899913Z"
    },
    "slideshow": {
     "slide_type": "fragment"
    }
   },
   "outputs": [],
   "source": [
    "class ELUCustom(torch.nn.Module):\n",
    "    \"\"\" ELU Layer with a custom backward pass \"\"\"\n",
    "    \n",
    "    def __init__(self, alpha: float = 0.1):\n",
    "        super().__init__()\n",
    "        self.alpha = alpha\n",
    "    \n",
    "    def forward(self, z: Tensor):\n",
    "        # Function.apply() invokesa the forward pass with a new context\n",
    "        # and updates the computation graph of the inputs\n",
    "        return ELUFunction.apply(z, self.alpha)"
   ]
  },
  {
   "cell_type": "code",
   "execution_count": 10,
   "metadata": {
    "execution": {
     "iopub.execute_input": "2022-03-24T07:23:48.901872Z",
     "iopub.status.busy": "2022-03-24T07:23:48.901792Z",
     "iopub.status.idle": "2022-03-24T07:23:48.946886Z",
     "shell.execute_reply": "2022-03-24T07:23:48.946514Z"
    },
    "slideshow": {
     "slide_type": "subslide"
    }
   },
   "outputs": [
    {
     "data": {
      "image/svg+xml": [
       "<?xml version=\"1.0\" encoding=\"UTF-8\" standalone=\"no\"?>\r\n",
       "<!DOCTYPE svg PUBLIC \"-//W3C//DTD SVG 1.1//EN\"\r\n",
       " \"http://www.w3.org/Graphics/SVG/1.1/DTD/svg11.dtd\">\r\n",
       "<!-- Generated by graphviz version 2.38.0 (20140413.2041)\r\n",
       " -->\r\n",
       "<!-- Title: %3 Pages: 1 -->\r\n",
       "<svg width=\"182pt\" height=\"227pt\"\r\n",
       " viewBox=\"0.00 0.00 181.50 227.00\" xmlns=\"http://www.w3.org/2000/svg\" xmlns:xlink=\"http://www.w3.org/1999/xlink\">\r\n",
       "<g id=\"graph0\" class=\"graph\" transform=\"scale(1 1) rotate(0) translate(4 223)\">\r\n",
       "<title>%3</title>\r\n",
       "<polygon fill=\"white\" stroke=\"none\" points=\"-4,4 -4,-223 177.5,-223 177.5,4 -4,4\"/>\r\n",
       "<!-- 2219771892608 -->\r\n",
       "<g id=\"node1\" class=\"node\"><title>2219771892608</title>\r\n",
       "<polygon fill=\"#caff70\" stroke=\"black\" points=\"125.5,-31 71.5,-31 71.5,-0 125.5,-0 125.5,-31\"/>\r\n",
       "<text text-anchor=\"middle\" x=\"98.5\" y=\"-7\" font-family=\"monospace\" font-size=\"10.00\"> (6)</text>\r\n",
       "</g>\r\n",
       "<!-- 2219771731680 -->\r\n",
       "<g id=\"node2\" class=\"node\"><title>2219771731680</title>\r\n",
       "<polygon fill=\"lightgrey\" stroke=\"black\" points=\"164,-86 33,-86 33,-67 164,-67 164,-86\"/>\r\n",
       "<text text-anchor=\"middle\" x=\"98.5\" y=\"-74\" font-family=\"monospace\" font-size=\"10.00\">ELUFunctionBackward</text>\r\n",
       "</g>\r\n",
       "<!-- 2219771731680&#45;&gt;2219771892608 -->\r\n",
       "<g id=\"edge4\" class=\"edge\"><title>2219771731680&#45;&gt;2219771892608</title>\r\n",
       "<path fill=\"none\" stroke=\"black\" d=\"M98.5,-66.7943C98.5,-60.0669 98.5,-50.404 98.5,-41.3425\"/>\r\n",
       "<polygon fill=\"black\" stroke=\"black\" points=\"102,-41.1932 98.5,-31.1933 95.0001,-41.1933 102,-41.1932\"/>\r\n",
       "</g>\r\n",
       "<!-- 2219773176368 -->\r\n",
       "<g id=\"node3\" class=\"node\"><title>2219773176368</title>\r\n",
       "<polygon fill=\"lightgrey\" stroke=\"black\" points=\"101,-147 0,-147 0,-128 101,-128 101,-147\"/>\r\n",
       "<text text-anchor=\"middle\" x=\"50.5\" y=\"-135\" font-family=\"monospace\" font-size=\"10.00\">AccumulateGrad</text>\r\n",
       "</g>\r\n",
       "<!-- 2219773176368&#45;&gt;2219771731680 -->\r\n",
       "<g id=\"edge1\" class=\"edge\"><title>2219773176368&#45;&gt;2219771731680</title>\r\n",
       "<path fill=\"none\" stroke=\"black\" d=\"M57.5826,-127.794C64.7435,-118.992 75.9926,-105.165 84.8851,-94.2349\"/>\r\n",
       "<polygon fill=\"black\" stroke=\"black\" points=\"87.7925,-96.2073 91.3884,-86.2414 82.3625,-91.7897 87.7925,-96.2073\"/>\r\n",
       "</g>\r\n",
       "<!-- 2219771750656 -->\r\n",
       "<g id=\"node4\" class=\"node\"><title>2219771750656</title>\r\n",
       "<polygon fill=\"lightblue\" stroke=\"black\" points=\"77.5,-219 23.5,-219 23.5,-189 77.5,-189 77.5,-219\"/>\r\n",
       "<text text-anchor=\"middle\" x=\"50.5\" y=\"-207\" font-family=\"monospace\" font-size=\"10.00\">z</text>\r\n",
       "<text text-anchor=\"middle\" x=\"50.5\" y=\"-196\" font-family=\"monospace\" font-size=\"10.00\"> (6)</text>\r\n",
       "</g>\r\n",
       "<!-- 2219771750656&#45;&gt;2219773176368 -->\r\n",
       "<g id=\"edge2\" class=\"edge\"><title>2219771750656&#45;&gt;2219773176368</title>\r\n",
       "<path fill=\"none\" stroke=\"black\" d=\"M50.5,-188.685C50.5,-179.409 50.5,-167.23 50.5,-157.193\"/>\r\n",
       "<polygon fill=\"black\" stroke=\"black\" points=\"54.0001,-157.04 50.5,-147.04 47.0001,-157.04 54.0001,-157.04\"/>\r\n",
       "</g>\r\n",
       "<!-- 2219771913856 -->\r\n",
       "<g id=\"node5\" class=\"node\"><title>2219771913856</title>\r\n",
       "<polygon fill=\"orange\" stroke=\"black\" points=\"173.5,-153 119.5,-153 119.5,-122 173.5,-122 173.5,-153\"/>\r\n",
       "<text text-anchor=\"middle\" x=\"146.5\" y=\"-129\" font-family=\"monospace\" font-size=\"10.00\"> (6)</text>\r\n",
       "</g>\r\n",
       "<!-- 2219771913856&#45;&gt;2219771731680 -->\r\n",
       "<g id=\"edge3\" class=\"edge\"><title>2219771913856&#45;&gt;2219771731680</title>\r\n",
       "<path fill=\"none\" stroke=\"black\" d=\"M134.635,-121.916C127.805,-113.521 119.197,-102.94 112.095,-94.2111\"/>\r\n",
       "<polygon fill=\"black\" stroke=\"black\" points=\"114.644,-91.7976 105.618,-86.2493 109.214,-96.2153 114.644,-91.7976\"/>\r\n",
       "</g>\r\n",
       "</g>\r\n",
       "</svg>\r\n"
      ],
      "text/plain": [
       "<graphviz.dot.Digraph at 0x204d4caac10>"
      ]
     },
     "execution_count": 10,
     "metadata": {},
     "output_type": "execute_result"
    }
   ],
   "source": [
    "elu_custom = ELUCustom(alpha=0.5)\n",
    "z = torch.tensor([-2., -1, 0, 1, 2, 3], requires_grad=True)\n",
    "torchviz.make_dot(elu_custom(z), params=dict(z=z))"
   ]
  },
  {
   "cell_type": "markdown",
   "metadata": {
    "slideshow": {
     "slide_type": "subslide"
    }
   },
   "source": [
    "This only tested the forward pass. Let's now put our custom layer in the context of a larger model and see that we can backprop through it."
   ]
  },
  {
   "cell_type": "code",
   "execution_count": 11,
   "metadata": {
    "execution": {
     "iopub.execute_input": "2022-03-24T07:23:48.948926Z",
     "iopub.status.busy": "2022-03-24T07:23:48.948834Z",
     "iopub.status.idle": "2022-03-24T07:23:48.973562Z",
     "shell.execute_reply": "2022-03-24T07:23:48.973292Z"
    },
    "slideshow": {
     "slide_type": "fragment"
    }
   },
   "outputs": [
    {
     "data": {
      "text/plain": [
       "Sequential(\n",
       "  (0): Linear(in_features=512, out_features=1024, bias=True)\n",
       "  (1): ELUCustom()\n",
       "  (2): Linear(in_features=1024, out_features=1024, bias=True)\n",
       "  (3): ELUCustom()\n",
       "  (4): Linear(in_features=1024, out_features=10, bias=True)\n",
       "  (5): Softmax(dim=1)\n",
       ")"
      ]
     },
     "execution_count": 11,
     "metadata": {},
     "output_type": "execute_result"
    }
   ],
   "source": [
    "elu_mlp = torch.nn.Sequential(\n",
    "    torch.nn.Linear(in_features=512, out_features=1024),\n",
    "    ELUCustom(alpha=0.01),\n",
    "    torch.nn.Linear(in_features=1024, out_features=1024),\n",
    "    ELUCustom(alpha=0.01),\n",
    "    torch.nn.Linear(in_features=1024, out_features=10),\n",
    "    torch.nn.Softmax(dim=1)\n",
    ")\n",
    "\n",
    "elu_mlp"
   ]
  },
  {
   "cell_type": "code",
   "execution_count": 12,
   "metadata": {
    "execution": {
     "iopub.execute_input": "2022-03-24T07:23:48.975273Z",
     "iopub.status.busy": "2022-03-24T07:23:48.975170Z",
     "iopub.status.idle": "2022-03-24T07:23:49.028692Z",
     "shell.execute_reply": "2022-03-24T07:23:49.028110Z"
    },
    "scrolled": false,
    "slideshow": {
     "slide_type": "subslide"
    }
   },
   "outputs": [
    {
     "data": {
      "image/svg+xml": [
       "<?xml version=\"1.0\" encoding=\"UTF-8\" standalone=\"no\"?>\r\n",
       "<!DOCTYPE svg PUBLIC \"-//W3C//DTD SVG 1.1//EN\"\r\n",
       " \"http://www.w3.org/Graphics/SVG/1.1/DTD/svg11.dtd\">\r\n",
       "<!-- Generated by graphviz version 2.38.0 (20140413.2041)\r\n",
       " -->\r\n",
       "<!-- Title: %3 Pages: 1 -->\r\n",
       "<svg width=\"505pt\" height=\"656pt\"\r\n",
       " viewBox=\"0.00 0.00 505.00 656.00\" xmlns=\"http://www.w3.org/2000/svg\" xmlns:xlink=\"http://www.w3.org/1999/xlink\">\r\n",
       "<g id=\"graph0\" class=\"graph\" transform=\"scale(1 1) rotate(0) translate(4 652)\">\r\n",
       "<title>%3</title>\r\n",
       "<polygon fill=\"white\" stroke=\"none\" points=\"-4,4 -4,-652 501,-652 501,4 -4,4\"/>\r\n",
       "<!-- 2219789896256 -->\r\n",
       "<g id=\"node1\" class=\"node\"><title>2219789896256</title>\r\n",
       "<polygon fill=\"#caff70\" stroke=\"black\" points=\"349.5,-31 295.5,-31 295.5,-0 349.5,-0 349.5,-31\"/>\r\n",
       "<text text-anchor=\"middle\" x=\"322.5\" y=\"-7\" font-family=\"monospace\" font-size=\"10.00\"> ()</text>\r\n",
       "</g>\r\n",
       "<!-- 2219789882128 -->\r\n",
       "<g id=\"node2\" class=\"node\"><title>2219789882128</title>\r\n",
       "<polygon fill=\"lightgrey\" stroke=\"black\" points=\"370,-86 275,-86 275,-67 370,-67 370,-86\"/>\r\n",
       "<text text-anchor=\"middle\" x=\"322.5\" y=\"-74\" font-family=\"monospace\" font-size=\"10.00\">MeanBackward0</text>\r\n",
       "</g>\r\n",
       "<!-- 2219789882128&#45;&gt;2219789896256 -->\r\n",
       "<g id=\"edge26\" class=\"edge\"><title>2219789882128&#45;&gt;2219789896256</title>\r\n",
       "<path fill=\"none\" stroke=\"black\" d=\"M322.5,-66.7943C322.5,-60.0669 322.5,-50.404 322.5,-41.3425\"/>\r\n",
       "<polygon fill=\"black\" stroke=\"black\" points=\"326,-41.1932 322.5,-31.1933 319,-41.1933 326,-41.1932\"/>\r\n",
       "</g>\r\n",
       "<!-- 2219789884432 -->\r\n",
       "<g id=\"node3\" class=\"node\"><title>2219789884432</title>\r\n",
       "<polygon fill=\"lightgrey\" stroke=\"black\" points=\"376,-141 269,-141 269,-122 376,-122 376,-141\"/>\r\n",
       "<text text-anchor=\"middle\" x=\"322.5\" y=\"-129\" font-family=\"monospace\" font-size=\"10.00\">SoftmaxBackward</text>\r\n",
       "</g>\r\n",
       "<!-- 2219789884432&#45;&gt;2219789882128 -->\r\n",
       "<g id=\"edge1\" class=\"edge\"><title>2219789884432&#45;&gt;2219789882128</title>\r\n",
       "<path fill=\"none\" stroke=\"black\" d=\"M322.5,-121.748C322.5,-114.802 322.5,-104.845 322.5,-96.1349\"/>\r\n",
       "<polygon fill=\"black\" stroke=\"black\" points=\"326,-96.089 322.5,-86.089 319,-96.0891 326,-96.089\"/>\r\n",
       "</g>\r\n",
       "<!-- 2219789884960 -->\r\n",
       "<g id=\"node4\" class=\"node\"><title>2219789884960</title>\r\n",
       "<polygon fill=\"lightgrey\" stroke=\"black\" points=\"370,-196 275,-196 275,-177 370,-177 370,-196\"/>\r\n",
       "<text text-anchor=\"middle\" x=\"322.5\" y=\"-184\" font-family=\"monospace\" font-size=\"10.00\">AddmmBackward</text>\r\n",
       "</g>\r\n",
       "<!-- 2219789884960&#45;&gt;2219789884432 -->\r\n",
       "<g id=\"edge2\" class=\"edge\"><title>2219789884960&#45;&gt;2219789884432</title>\r\n",
       "<path fill=\"none\" stroke=\"black\" d=\"M322.5,-176.748C322.5,-169.802 322.5,-159.845 322.5,-151.135\"/>\r\n",
       "<polygon fill=\"black\" stroke=\"black\" points=\"326,-151.089 322.5,-141.089 319,-151.089 326,-151.089\"/>\r\n",
       "</g>\r\n",
       "<!-- 2219789884240 -->\r\n",
       "<g id=\"node5\" class=\"node\"><title>2219789884240</title>\r\n",
       "<polygon fill=\"lightgrey\" stroke=\"black\" points=\"233,-251 132,-251 132,-232 233,-232 233,-251\"/>\r\n",
       "<text text-anchor=\"middle\" x=\"182.5\" y=\"-239\" font-family=\"monospace\" font-size=\"10.00\">AccumulateGrad</text>\r\n",
       "</g>\r\n",
       "<!-- 2219789884240&#45;&gt;2219789884960 -->\r\n",
       "<g id=\"edge3\" class=\"edge\"><title>2219789884240&#45;&gt;2219789884960</title>\r\n",
       "<path fill=\"none\" stroke=\"black\" d=\"M204.993,-231.985C228.022,-223.267 264.04,-209.631 290.131,-199.754\"/>\r\n",
       "<polygon fill=\"black\" stroke=\"black\" points=\"291.484,-202.984 299.597,-196.17 289.006,-196.438 291.484,-202.984\"/>\r\n",
       "</g>\r\n",
       "<!-- 2219789864896 -->\r\n",
       "<g id=\"node6\" class=\"node\"><title>2219789864896</title>\r\n",
       "<polygon fill=\"lightblue\" stroke=\"black\" points=\"207.5,-317 153.5,-317 153.5,-287 207.5,-287 207.5,-317\"/>\r\n",
       "<text text-anchor=\"middle\" x=\"180.5\" y=\"-305\" font-family=\"monospace\" font-size=\"10.00\">4.bias</text>\r\n",
       "<text text-anchor=\"middle\" x=\"180.5\" y=\"-294\" font-family=\"monospace\" font-size=\"10.00\"> (10)</text>\r\n",
       "</g>\r\n",
       "<!-- 2219789864896&#45;&gt;2219789884240 -->\r\n",
       "<g id=\"edge4\" class=\"edge\"><title>2219789864896&#45;&gt;2219789884240</title>\r\n",
       "<path fill=\"none\" stroke=\"black\" d=\"M180.984,-286.839C181.245,-279.214 181.57,-269.704 181.852,-261.45\"/>\r\n",
       "<polygon fill=\"black\" stroke=\"black\" points=\"185.356,-261.38 182.2,-251.266 178.361,-261.14 185.356,-261.38\"/>\r\n",
       "</g>\r\n",
       "<!-- 2219789934656 -->\r\n",
       "<g id=\"node7\" class=\"node\"><title>2219789934656</title>\r\n",
       "<polygon fill=\"lightgrey\" stroke=\"black\" points=\"388,-251 257,-251 257,-232 388,-232 388,-251\"/>\r\n",
       "<text text-anchor=\"middle\" x=\"322.5\" y=\"-239\" font-family=\"monospace\" font-size=\"10.00\">ELUFunctionBackward</text>\r\n",
       "</g>\r\n",
       "<!-- 2219789934656&#45;&gt;2219789884960 -->\r\n",
       "<g id=\"edge5\" class=\"edge\"><title>2219789934656&#45;&gt;2219789884960</title>\r\n",
       "<path fill=\"none\" stroke=\"black\" d=\"M322.5,-231.748C322.5,-224.802 322.5,-214.845 322.5,-206.135\"/>\r\n",
       "<polygon fill=\"black\" stroke=\"black\" points=\"326,-206.089 322.5,-196.089 319,-206.089 326,-206.089\"/>\r\n",
       "</g>\r\n",
       "<!-- 2219789884624 -->\r\n",
       "<g id=\"node8\" class=\"node\"><title>2219789884624</title>\r\n",
       "<polygon fill=\"lightgrey\" stroke=\"black\" points=\"321,-311.5 226,-311.5 226,-292.5 321,-292.5 321,-311.5\"/>\r\n",
       "<text text-anchor=\"middle\" x=\"273.5\" y=\"-299.5\" font-family=\"monospace\" font-size=\"10.00\">AddmmBackward</text>\r\n",
       "</g>\r\n",
       "<!-- 2219789884624&#45;&gt;2219789934656 -->\r\n",
       "<g id=\"edge6\" class=\"edge\"><title>2219789884624&#45;&gt;2219789934656</title>\r\n",
       "<path fill=\"none\" stroke=\"black\" d=\"M280.73,-292.368C288.04,-283.641 299.524,-269.931 308.601,-259.093\"/>\r\n",
       "<polygon fill=\"black\" stroke=\"black\" points=\"311.502,-261.081 315.24,-251.167 306.136,-256.586 311.502,-261.081\"/>\r\n",
       "</g>\r\n",
       "<!-- 2219789885248 -->\r\n",
       "<g id=\"node9\" class=\"node\"><title>2219789885248</title>\r\n",
       "<polygon fill=\"lightgrey\" stroke=\"black\" points=\"101,-377.5 0,-377.5 0,-358.5 101,-358.5 101,-377.5\"/>\r\n",
       "<text text-anchor=\"middle\" x=\"50.5\" y=\"-365.5\" font-family=\"monospace\" font-size=\"10.00\">AccumulateGrad</text>\r\n",
       "</g>\r\n",
       "<!-- 2219789885248&#45;&gt;2219789884624 -->\r\n",
       "<g id=\"edge7\" class=\"edge\"><title>2219789885248&#45;&gt;2219789884624</title>\r\n",
       "<path fill=\"none\" stroke=\"black\" d=\"M80.5748,-358.369C120.17,-347.005 189.889,-326.996 233.785,-314.398\"/>\r\n",
       "<polygon fill=\"black\" stroke=\"black\" points=\"234.9,-317.719 243.546,-311.597 232.969,-310.991 234.9,-317.719\"/>\r\n",
       "</g>\r\n",
       "<!-- 2219789864704 -->\r\n",
       "<g id=\"node10\" class=\"node\"><title>2219789864704</title>\r\n",
       "<polygon fill=\"lightblue\" stroke=\"black\" points=\"80,-449.5 21,-449.5 21,-419.5 80,-419.5 80,-449.5\"/>\r\n",
       "<text text-anchor=\"middle\" x=\"50.5\" y=\"-437.5\" font-family=\"monospace\" font-size=\"10.00\">2.bias</text>\r\n",
       "<text text-anchor=\"middle\" x=\"50.5\" y=\"-426.5\" font-family=\"monospace\" font-size=\"10.00\"> (1024)</text>\r\n",
       "</g>\r\n",
       "<!-- 2219789864704&#45;&gt;2219789885248 -->\r\n",
       "<g id=\"edge8\" class=\"edge\"><title>2219789864704&#45;&gt;2219789885248</title>\r\n",
       "<path fill=\"none\" stroke=\"black\" d=\"M50.5,-419.185C50.5,-409.909 50.5,-397.73 50.5,-387.693\"/>\r\n",
       "<polygon fill=\"black\" stroke=\"black\" points=\"54.0001,-387.54 50.5,-377.54 47.0001,-387.54 54.0001,-387.54\"/>\r\n",
       "</g>\r\n",
       "<!-- 2219771731264 -->\r\n",
       "<g id=\"node11\" class=\"node\"><title>2219771731264</title>\r\n",
       "<polygon fill=\"lightgrey\" stroke=\"black\" points=\"339,-377.5 208,-377.5 208,-358.5 339,-358.5 339,-377.5\"/>\r\n",
       "<text text-anchor=\"middle\" x=\"273.5\" y=\"-365.5\" font-family=\"monospace\" font-size=\"10.00\">ELUFunctionBackward</text>\r\n",
       "</g>\r\n",
       "<!-- 2219771731264&#45;&gt;2219789884624 -->\r\n",
       "<g id=\"edge9\" class=\"edge\"><title>2219771731264&#45;&gt;2219789884624</title>\r\n",
       "<path fill=\"none\" stroke=\"black\" d=\"M273.5,-358.369C273.5,-349.164 273.5,-334.287 273.5,-322.271\"/>\r\n",
       "<polygon fill=\"black\" stroke=\"black\" points=\"277,-321.905 273.5,-311.905 270,-321.905 277,-321.905\"/>\r\n",
       "</g>\r\n",
       "<!-- 2219789885344 -->\r\n",
       "<g id=\"node12\" class=\"node\"><title>2219789885344</title>\r\n",
       "<polygon fill=\"lightgrey\" stroke=\"black\" points=\"315,-444 220,-444 220,-425 315,-425 315,-444\"/>\r\n",
       "<text text-anchor=\"middle\" x=\"267.5\" y=\"-432\" font-family=\"monospace\" font-size=\"10.00\">AddmmBackward</text>\r\n",
       "</g>\r\n",
       "<!-- 2219789885344&#45;&gt;2219771731264 -->\r\n",
       "<g id=\"edge10\" class=\"edge\"><title>2219789885344&#45;&gt;2219771731264</title>\r\n",
       "<path fill=\"none\" stroke=\"black\" d=\"M268.309,-424.801C269.191,-415.324 270.628,-399.879 271.766,-387.638\"/>\r\n",
       "<polygon fill=\"black\" stroke=\"black\" points=\"275.262,-387.842 272.704,-377.561 268.292,-387.194 275.262,-387.842\"/>\r\n",
       "</g>\r\n",
       "<!-- 2219789881840 -->\r\n",
       "<g id=\"node13\" class=\"node\"><title>2219789881840</title>\r\n",
       "<polygon fill=\"lightgrey\" stroke=\"black\" points=\"474,-510.5 373,-510.5 373,-491.5 474,-491.5 474,-510.5\"/>\r\n",
       "<text text-anchor=\"middle\" x=\"423.5\" y=\"-498.5\" font-family=\"monospace\" font-size=\"10.00\">AccumulateGrad</text>\r\n",
       "</g>\r\n",
       "<!-- 2219789881840&#45;&gt;2219789885344 -->\r\n",
       "<g id=\"edge11\" class=\"edge\"><title>2219789881840&#45;&gt;2219789885344</title>\r\n",
       "<path fill=\"none\" stroke=\"black\" d=\"M402.784,-491.435C375.861,-480.303 328.644,-460.781 297.722,-447.996\"/>\r\n",
       "<polygon fill=\"black\" stroke=\"black\" points=\"298.88,-444.687 288.301,-444.101 296.205,-451.156 298.88,-444.687\"/>\r\n",
       "</g>\r\n",
       "<!-- 2219789864640 -->\r\n",
       "<g id=\"node14\" class=\"node\"><title>2219789864640</title>\r\n",
       "<polygon fill=\"lightblue\" stroke=\"black\" points=\"453,-582 394,-582 394,-552 453,-552 453,-582\"/>\r\n",
       "<text text-anchor=\"middle\" x=\"423.5\" y=\"-570\" font-family=\"monospace\" font-size=\"10.00\">0.bias</text>\r\n",
       "<text text-anchor=\"middle\" x=\"423.5\" y=\"-559\" font-family=\"monospace\" font-size=\"10.00\"> (1024)</text>\r\n",
       "</g>\r\n",
       "<!-- 2219789864640&#45;&gt;2219789881840 -->\r\n",
       "<g id=\"edge12\" class=\"edge\"><title>2219789864640&#45;&gt;2219789881840</title>\r\n",
       "<path fill=\"none\" stroke=\"black\" d=\"M423.5,-551.796C423.5,-542.699 423.5,-530.788 423.5,-520.897\"/>\r\n",
       "<polygon fill=\"black\" stroke=\"black\" points=\"427,-520.844 423.5,-510.844 420,-520.844 427,-520.844\"/>\r\n",
       "</g>\r\n",
       "<!-- 2219789884672 -->\r\n",
       "<g id=\"node15\" class=\"node\"><title>2219789884672</title>\r\n",
       "<polygon fill=\"lightgrey\" stroke=\"black\" points=\"266,-510.5 165,-510.5 165,-491.5 266,-491.5 266,-510.5\"/>\r\n",
       "<text text-anchor=\"middle\" x=\"215.5\" y=\"-498.5\" font-family=\"monospace\" font-size=\"10.00\">AccumulateGrad</text>\r\n",
       "</g>\r\n",
       "<!-- 2219789884672&#45;&gt;2219789885344 -->\r\n",
       "<g id=\"edge13\" class=\"edge\"><title>2219789884672&#45;&gt;2219789885344</title>\r\n",
       "<path fill=\"none\" stroke=\"black\" d=\"M222.513,-491.301C230.622,-481.243 244.148,-464.465 254.255,-451.928\"/>\r\n",
       "<polygon fill=\"black\" stroke=\"black\" points=\"257.047,-454.043 260.598,-444.061 251.597,-449.649 257.047,-454.043\"/>\r\n",
       "</g>\r\n",
       "<!-- 2219789864576 -->\r\n",
       "<g id=\"node16\" class=\"node\"><title>2219789864576</title>\r\n",
       "<polygon fill=\"lightblue\" stroke=\"black\" points=\"253,-582 176,-582 176,-552 253,-552 253,-582\"/>\r\n",
       "<text text-anchor=\"middle\" x=\"214.5\" y=\"-570\" font-family=\"monospace\" font-size=\"10.00\">x</text>\r\n",
       "<text text-anchor=\"middle\" x=\"214.5\" y=\"-559\" font-family=\"monospace\" font-size=\"10.00\"> (10, 512)</text>\r\n",
       "</g>\r\n",
       "<!-- 2219789864576&#45;&gt;2219789884672 -->\r\n",
       "<g id=\"edge14\" class=\"edge\"><title>2219789864576&#45;&gt;2219789884672</title>\r\n",
       "<path fill=\"none\" stroke=\"black\" d=\"M214.722,-551.796C214.864,-542.699 215.05,-530.788 215.205,-520.897\"/>\r\n",
       "<polygon fill=\"black\" stroke=\"black\" points=\"218.705,-520.898 215.362,-510.844 211.706,-520.788 218.705,-520.898\"/>\r\n",
       "</g>\r\n",
       "<!-- 2219789885296 -->\r\n",
       "<g id=\"node17\" class=\"node\"><title>2219789885296</title>\r\n",
       "<polygon fill=\"lightgrey\" stroke=\"black\" points=\"355,-510.5 284,-510.5 284,-491.5 355,-491.5 355,-510.5\"/>\r\n",
       "<text text-anchor=\"middle\" x=\"319.5\" y=\"-498.5\" font-family=\"monospace\" font-size=\"10.00\">TBackward</text>\r\n",
       "</g>\r\n",
       "<!-- 2219789885296&#45;&gt;2219789885344 -->\r\n",
       "<g id=\"edge15\" class=\"edge\"><title>2219789885296&#45;&gt;2219789885344</title>\r\n",
       "<path fill=\"none\" stroke=\"black\" d=\"M312.487,-491.301C304.378,-481.243 290.852,-464.465 280.745,-451.928\"/>\r\n",
       "<polygon fill=\"black\" stroke=\"black\" points=\"283.403,-449.649 274.402,-444.061 277.953,-454.043 283.403,-449.649\"/>\r\n",
       "</g>\r\n",
       "<!-- 2219789884480 -->\r\n",
       "<g id=\"node18\" class=\"node\"><title>2219789884480</title>\r\n",
       "<polygon fill=\"lightgrey\" stroke=\"black\" points=\"372,-576.5 271,-576.5 271,-557.5 372,-557.5 372,-576.5\"/>\r\n",
       "<text text-anchor=\"middle\" x=\"321.5\" y=\"-564.5\" font-family=\"monospace\" font-size=\"10.00\">AccumulateGrad</text>\r\n",
       "</g>\r\n",
       "<!-- 2219789884480&#45;&gt;2219789885296 -->\r\n",
       "<g id=\"edge16\" class=\"edge\"><title>2219789884480&#45;&gt;2219789885296</title>\r\n",
       "<path fill=\"none\" stroke=\"black\" d=\"M321.23,-557.369C320.943,-548.164 320.478,-533.287 320.102,-521.271\"/>\r\n",
       "<polygon fill=\"black\" stroke=\"black\" points=\"323.589,-520.791 319.778,-510.905 316.592,-521.01 323.589,-520.791\"/>\r\n",
       "</g>\r\n",
       "<!-- 2219789864512 -->\r\n",
       "<g id=\"node19\" class=\"node\"><title>2219789864512</title>\r\n",
       "<polygon fill=\"lightblue\" stroke=\"black\" points=\"366,-648 277,-648 277,-618 366,-618 366,-648\"/>\r\n",
       "<text text-anchor=\"middle\" x=\"321.5\" y=\"-636\" font-family=\"monospace\" font-size=\"10.00\">0.weight</text>\r\n",
       "<text text-anchor=\"middle\" x=\"321.5\" y=\"-625\" font-family=\"monospace\" font-size=\"10.00\"> (1024, 512)</text>\r\n",
       "</g>\r\n",
       "<!-- 2219789864512&#45;&gt;2219789884480 -->\r\n",
       "<g id=\"edge17\" class=\"edge\"><title>2219789864512&#45;&gt;2219789884480</title>\r\n",
       "<path fill=\"none\" stroke=\"black\" d=\"M321.5,-617.796C321.5,-608.699 321.5,-596.788 321.5,-586.897\"/>\r\n",
       "<polygon fill=\"black\" stroke=\"black\" points=\"325,-586.844 321.5,-576.844 318,-586.844 325,-586.844\"/>\r\n",
       "</g>\r\n",
       "<!-- 2219789862400 -->\r\n",
       "<g id=\"node20\" class=\"node\"><title>2219789862400</title>\r\n",
       "<polygon fill=\"orange\" stroke=\"black\" points=\"416,-450 333,-450 333,-419 416,-419 416,-450\"/>\r\n",
       "<text text-anchor=\"middle\" x=\"374.5\" y=\"-426\" font-family=\"monospace\" font-size=\"10.00\"> (10, 1024)</text>\r\n",
       "</g>\r\n",
       "<!-- 2219789862400&#45;&gt;2219789934656 -->\r\n",
       "<g id=\"edge22\" class=\"edge\"><title>2219789862400&#45;&gt;2219789934656</title>\r\n",
       "<path fill=\"none\" stroke=\"black\" d=\"M370.506,-418.83C361.155,-384.483 337.855,-298.901 327.545,-261.03\"/>\r\n",
       "<polygon fill=\"black\" stroke=\"black\" points=\"330.901,-260.035 324.897,-251.306 324.147,-261.874 330.901,-260.035\"/>\r\n",
       "</g>\r\n",
       "<!-- 2219789862400&#45;&gt;2219771731264 -->\r\n",
       "<g id=\"edge18\" class=\"edge\"><title>2219789862400&#45;&gt;2219771731264</title>\r\n",
       "<path fill=\"none\" stroke=\"black\" d=\"M351.582,-418.864C334.787,-408.139 312.121,-393.664 295.537,-383.073\"/>\r\n",
       "<polygon fill=\"black\" stroke=\"black\" points=\"297.337,-380.07 287.025,-377.637 293.569,-385.969 297.337,-380.07\"/>\r\n",
       "</g>\r\n",
       "<!-- 2219789885152 -->\r\n",
       "<g id=\"node21\" class=\"node\"><title>2219789885152</title>\r\n",
       "<polygon fill=\"lightgrey\" stroke=\"black\" points=\"190,-377.5 119,-377.5 119,-358.5 190,-358.5 190,-377.5\"/>\r\n",
       "<text text-anchor=\"middle\" x=\"154.5\" y=\"-365.5\" font-family=\"monospace\" font-size=\"10.00\">TBackward</text>\r\n",
       "</g>\r\n",
       "<!-- 2219789885152&#45;&gt;2219789884624 -->\r\n",
       "<g id=\"edge19\" class=\"edge\"><title>2219789885152&#45;&gt;2219789884624</title>\r\n",
       "<path fill=\"none\" stroke=\"black\" d=\"M170.549,-358.369C190.511,-347.633 224.819,-329.181 248.302,-316.552\"/>\r\n",
       "<polygon fill=\"black\" stroke=\"black\" points=\"250.176,-319.518 257.325,-311.699 246.86,-313.353 250.176,-319.518\"/>\r\n",
       "</g>\r\n",
       "<!-- 2219789884912 -->\r\n",
       "<g id=\"node22\" class=\"node\"><title>2219789884912</title>\r\n",
       "<polygon fill=\"lightgrey\" stroke=\"black\" points=\"202,-444 101,-444 101,-425 202,-425 202,-444\"/>\r\n",
       "<text text-anchor=\"middle\" x=\"151.5\" y=\"-432\" font-family=\"monospace\" font-size=\"10.00\">AccumulateGrad</text>\r\n",
       "</g>\r\n",
       "<!-- 2219789884912&#45;&gt;2219789885152 -->\r\n",
       "<g id=\"edge20\" class=\"edge\"><title>2219789884912&#45;&gt;2219789885152</title>\r\n",
       "<path fill=\"none\" stroke=\"black\" d=\"M151.905,-424.801C152.345,-415.324 153.064,-399.879 153.633,-387.638\"/>\r\n",
       "<polygon fill=\"black\" stroke=\"black\" points=\"157.133,-387.713 154.102,-377.561 150.141,-387.387 157.133,-387.713\"/>\r\n",
       "</g>\r\n",
       "<!-- 2219771892800 -->\r\n",
       "<g id=\"node23\" class=\"node\"><title>2219771892800</title>\r\n",
       "<polygon fill=\"lightblue\" stroke=\"black\" points=\"147,-516 52,-516 52,-486 147,-486 147,-516\"/>\r\n",
       "<text text-anchor=\"middle\" x=\"99.5\" y=\"-504\" font-family=\"monospace\" font-size=\"10.00\">2.weight</text>\r\n",
       "<text text-anchor=\"middle\" x=\"99.5\" y=\"-493\" font-family=\"monospace\" font-size=\"10.00\"> (1024, 1024)</text>\r\n",
       "</g>\r\n",
       "<!-- 2219771892800&#45;&gt;2219789884912 -->\r\n",
       "<g id=\"edge21\" class=\"edge\"><title>2219771892800&#45;&gt;2219789884912</title>\r\n",
       "<path fill=\"none\" stroke=\"black\" d=\"M111.04,-485.685C119.082,-475.711 129.829,-462.381 138.225,-451.965\"/>\r\n",
       "<polygon fill=\"black\" stroke=\"black\" points=\"141.063,-454.022 144.615,-444.04 135.614,-449.629 141.063,-454.022\"/>\r\n",
       "</g>\r\n",
       "<!-- 2219789885008 -->\r\n",
       "<g id=\"node24\" class=\"node\"><title>2219789885008</title>\r\n",
       "<polygon fill=\"lightgrey\" stroke=\"black\" points=\"480,-251 409,-251 409,-232 480,-232 480,-251\"/>\r\n",
       "<text text-anchor=\"middle\" x=\"444.5\" y=\"-239\" font-family=\"monospace\" font-size=\"10.00\">TBackward</text>\r\n",
       "</g>\r\n",
       "<!-- 2219789885008&#45;&gt;2219789884960 -->\r\n",
       "<g id=\"edge23\" class=\"edge\"><title>2219789885008&#45;&gt;2219789884960</title>\r\n",
       "<path fill=\"none\" stroke=\"black\" d=\"M424.899,-231.985C405.184,-223.42 374.547,-210.11 351.917,-200.28\"/>\r\n",
       "<polygon fill=\"black\" stroke=\"black\" points=\"353.025,-196.945 342.458,-196.17 350.235,-203.365 353.025,-196.945\"/>\r\n",
       "</g>\r\n",
       "<!-- 2219789885200 -->\r\n",
       "<g id=\"node25\" class=\"node\"><title>2219789885200</title>\r\n",
       "<polygon fill=\"lightgrey\" stroke=\"black\" points=\"497,-311.5 396,-311.5 396,-292.5 497,-292.5 497,-311.5\"/>\r\n",
       "<text text-anchor=\"middle\" x=\"446.5\" y=\"-299.5\" font-family=\"monospace\" font-size=\"10.00\">AccumulateGrad</text>\r\n",
       "</g>\r\n",
       "<!-- 2219789885200&#45;&gt;2219789885008 -->\r\n",
       "<g id=\"edge24\" class=\"edge\"><title>2219789885200&#45;&gt;2219789885008</title>\r\n",
       "<path fill=\"none\" stroke=\"black\" d=\"M446.205,-292.368C445.927,-284.246 445.502,-271.807 445.146,-261.385\"/>\r\n",
       "<polygon fill=\"black\" stroke=\"black\" points=\"448.636,-261.042 444.796,-251.167 441.64,-261.281 448.636,-261.042\"/>\r\n",
       "</g>\r\n",
       "<!-- 2219789864768 -->\r\n",
       "<g id=\"node26\" class=\"node\"><title>2219789864768</title>\r\n",
       "<polygon fill=\"lightblue\" stroke=\"black\" points=\"488,-383 405,-383 405,-353 488,-353 488,-383\"/>\r\n",
       "<text text-anchor=\"middle\" x=\"446.5\" y=\"-371\" font-family=\"monospace\" font-size=\"10.00\">4.weight</text>\r\n",
       "<text text-anchor=\"middle\" x=\"446.5\" y=\"-360\" font-family=\"monospace\" font-size=\"10.00\"> (10, 1024)</text>\r\n",
       "</g>\r\n",
       "<!-- 2219789864768&#45;&gt;2219789885200 -->\r\n",
       "<g id=\"edge25\" class=\"edge\"><title>2219789864768&#45;&gt;2219789885200</title>\r\n",
       "<path fill=\"none\" stroke=\"black\" d=\"M446.5,-352.796C446.5,-343.699 446.5,-331.788 446.5,-321.897\"/>\r\n",
       "<polygon fill=\"black\" stroke=\"black\" points=\"450,-321.844 446.5,-311.844 443,-321.844 450,-321.844\"/>\r\n",
       "</g>\r\n",
       "</g>\r\n",
       "</svg>\r\n"
      ],
      "text/plain": [
       "<graphviz.dot.Digraph at 0x204d5c99a60>"
      ]
     },
     "execution_count": 12,
     "metadata": {},
     "output_type": "execute_result"
    }
   ],
   "source": [
    "x = torch.randn(10, 512, requires_grad=True)\n",
    "torchviz.make_dot(elu_mlp(x).mean(), params=dict(list(elu_mlp.named_parameters()) + [('x', x)]))"
   ]
  },
  {
   "cell_type": "markdown",
   "metadata": {
    "slideshow": {
     "slide_type": "subslide"
    }
   },
   "source": [
    "Let's run the backward pass and make sure we have gradients on all parameter tensors."
   ]
  },
  {
   "cell_type": "code",
   "execution_count": 13,
   "metadata": {
    "execution": {
     "iopub.execute_input": "2022-03-24T07:23:49.031408Z",
     "iopub.status.busy": "2022-03-24T07:23:49.031218Z",
     "iopub.status.idle": "2022-03-24T07:23:49.064705Z",
     "shell.execute_reply": "2022-03-24T07:23:49.064398Z"
    },
    "slideshow": {
     "slide_type": "fragment"
    }
   },
   "outputs": [
    {
     "name": "stdout",
     "output_type": "stream",
     "text": [
      "0.weight 2.289160363488918e-07\n",
      "0.bias 8.912128812710307e-09\n",
      "2.weight 3.0707107612215623e-07\n",
      "2.bias 1.9547208296444296e-08\n",
      "4.weight 2.690342739697371e-07\n",
      "4.bias 3.8097546450899245e-08\n"
     ]
    }
   ],
   "source": [
    "l = torch.sum(elu_mlp(torch.randn(10, 512, requires_grad=True)))\n",
    "l.backward()\n",
    "\n",
    "for name, param in elu_mlp.named_parameters():\n",
    "    print(f\"{name} {torch.norm(param.grad).item()}\")"
   ]
  },
  {
   "cell_type": "markdown",
   "metadata": {
    "slideshow": {
     "slide_type": "slide"
    }
   },
   "source": [
    "## Part 2: Differentiable Optimization"
   ]
  },
  {
   "cell_type": "markdown",
   "metadata": {
    "slideshow": {
     "slide_type": "fragment"
    }
   },
   "source": [
    "Now we'll tackle a more interesting use-case for defining our custom backward functions: differentiating though an inner (unconstrained) optimization problem."
   ]
  },
  {
   "cell_type": "markdown",
   "metadata": {
    "slideshow": {
     "slide_type": "subslide"
    }
   },
   "source": [
    "What if we want to solve an inner optimization problem as part of our model, while the parameters of the inner problem are also optimized by the end-to-end optimization of the entire model?\n",
    "\n",
    "<center><img src=\"imgs/bilevel.png\" width=\"600\"/></center>\n",
    "\n",
    "Training such a network end-to-end means we're trying to find:\n",
    "\n",
    "$$\n",
    "\\begin{align}\n",
    "\\vec{\\Theta}^\\ast\n",
    "&=\n",
    "\\arg\\min_{\\vec{\\Theta}} \\E[(\\vec{x},\\vec{y})\\sim D]{\\mathcal{L}(\\vec{y}, \\hat{\\vec{y}})}\\\\\n",
    "&=\n",
    "\\arg\\min_{\\vec{\\Theta}} \\E[(\\vec{x},\\vec{y})\\sim D]{\n",
    "\\mathcal{L}(\\vec{y}, \\arg\\min_{\\vec{y'}} f(\\vec{y'}, h_{\\vec{\\Theta}}(\\vec{x}) )\n",
    "}\n",
    "\\end{align}\n",
    "$$\n",
    "\n",
    "This type of setting is also known as a bi-level optimization problem."
   ]
  },
  {
   "cell_type": "markdown",
   "metadata": {
    "slideshow": {
     "slide_type": "subslide"
    }
   },
   "source": [
    "From the perspective of the inner problem, $\\vec{z}$ is a \"fixed\" parameter. \n",
    "\n",
    "However, from the perspective of end-to-end training, we're optimizing $\\vec{\\Theta}$ in order to reduce the final loss.\n",
    "\n",
    "Therefore, we can view this as learning to parameterize the inner task."
   ]
  },
  {
   "cell_type": "markdown",
   "metadata": {
    "slideshow": {
     "slide_type": "fragment"
    }
   },
   "source": [
    "What do we need in order to train such a model end-to-end?"
   ]
  },
  {
   "cell_type": "markdown",
   "metadata": {
    "slideshow": {
     "slide_type": "subslide"
    }
   },
   "source": [
    "As usual, we must find a way to calculate a VJP, in this case:\n",
    "$$\n",
    "\\delta \\vec{z} = \\pderiv{\\hat{\\vec{y}}}{\\vec{z}}\\ \\delta\\hat{\\vec{y}}.\n",
    "$$\n",
    "\n",
    "But how can we $\\pderiv{\\hat{\\vec{y}}}{\\vec{z}}$ when $\\hat{\\vec{y}}$ is itself the solution of an optimization problem?"
   ]
  },
  {
   "cell_type": "markdown",
   "metadata": {
    "slideshow": {
     "slide_type": "subslide"
    }
   },
   "source": [
    "Assume that $\\vec{y}=\\arg\\min_{\\vec{y}'}f(\\vec{y}', \\vec{z})$.\n",
    "\n",
    "Since $\\vec{y}$ is a minimizer of the function $f$, the necessary optimality condition\n",
    "must hold: $$\\nabla_{y}f(y, z)=0.$$\n",
    "\n",
    "If we then perturb $\\vec{z}$ by $d\\vec{z}$, we'll get a slightly different minimizer, $\\vec{y}+d\\vec{y}$. Thus also,\n",
    "\n",
    "$$\\nabla_{y}f(y+dy, z+dz)=0.$$"
   ]
  },
  {
   "cell_type": "markdown",
   "metadata": {
    "slideshow": {
     "slide_type": "subslide"
    }
   },
   "source": [
    "We can take a first-order Taylor expansion of $\\nabla_{y}f$ around the point $(y, z)$:\n",
    "\n",
    "$$\n",
    "\\nabla_{y}f(y+dy, z+dz) \\approx \\nabla_{y}f(y, z) + \\nabla^{2}_{yy}f(y,z)dy + \\nabla^{2}_{yz}f(y, z)dz = 0.\n",
    "$$\n",
    "\n",
    "Since $\\nabla_{y}f(y, z)=0$, we rearrange to obtain:\n",
    "\n",
    "$$\n",
    "\\nabla^{2}_{yy}f(y,z)dy = -\\nabla^{2}_{yz}f(y, z)dz.\n",
    "$$"
   ]
  },
  {
   "cell_type": "markdown",
   "metadata": {
    "slideshow": {
     "slide_type": "subslide"
    }
   },
   "source": [
    "We'll denote the Hessian as $\\mat{K}=\\nabla^{2}_{yy}f(y,z)$ and mixed second derivatives as $\\mat{R}=\\nabla^{2}_{yz}f(y, z)$. We then obtain,\n",
    "\n",
    "$$\n",
    "\\mat{K}d\\vec{y}=-\\mat{R}d\\vec{z}\\Longrightarrow d\\vec{y}=-\\mat{K}^{-1}\\mat{R}d\\vec{z}.\n",
    "$$"
   ]
  },
  {
   "cell_type": "markdown",
   "metadata": {
    "slideshow": {
     "slide_type": "subslide"
    }
   },
   "source": [
    "The above equation means that we have found a linear relationship between the change in the function value, $d\\vec{y}$, and the change in the argument value, $d\\vec{z}$.\n",
    "This linear relationship must be, by definition, related to the gradient of $\\vec{y}$ w.r.t. $\\vec{z}$.\n",
    "\n",
    "Writing the above as an inner product, we have $$d\\vec{y}=\\ip{-\\mattr{R}\\mat{K^{-T}}}{d\\vec{z}}{}.$$\n",
    "\n",
    "Note that $\\mat{K}$ is a Hessian, therefore symmetric and we can drop the transpose.\n",
    "\n",
    "Finally, by the (\"outer\") definition of the gradient we see that $$\\pderiv{\\vec{y}}{\\vec{z}}=-\\mattr{R}\\mat{K^{-1}}.$$"
   ]
  },
  {
   "cell_type": "markdown",
   "metadata": {
    "slideshow": {
     "slide_type": "subslide"
    }
   },
   "source": [
    "Now back to our VJP: we need \n",
    "$$\n",
    "\\delta \\vec{z} =  \\pderiv{\\vec{y}}{\\vec{z}} \\delta\\vec{y} =\\mattr{R}\\mat{K^{-1}}\\delta\\vec{y}.\n",
    "$$\n",
    "\n",
    "We'll do the calculation in two steps:\n",
    "1. Calculate $\\delta\\vec{u}=\\mat{K}^{-1}\\delta\\vec{y}$: Equivalent to solving the linear system $\\mat{K}\\delta\\vec{u}=\\delta\\vec{y}$ (instead of inverting $\\mat{K}$).\n",
    "2. Calculate $\\delta\\vec{z} = -\\mat{R}^\\top \\delta\\vec{u}$."
   ]
  },
  {
   "cell_type": "markdown",
   "metadata": {
    "slideshow": {
     "slide_type": "subslide"
    }
   },
   "source": [
    "Finally, based on this, we have a way to implement such an inner-optimization layer:\n",
    "\n",
    "**Forward pass**: Compute the optimal solution of the inner problem, either with a some solver or even a closed-form expression.\n",
    "\n",
    "**Backward pass**: Calculate $\\delta\\vec{z}$ using the two-step procedure described above."
   ]
  },
  {
   "cell_type": "markdown",
   "metadata": {
    "slideshow": {
     "slide_type": "fragment"
    }
   },
   "source": [
    "Note that it's also possible to develop these expression for the constrained optimization case, by using the KKT conditions. Here we considered only the unconstrained optimality condition."
   ]
  },
  {
   "cell_type": "markdown",
   "metadata": {
    "slideshow": {
     "slide_type": "subslide"
    }
   },
   "source": [
    "### Implementation"
   ]
  },
  {
   "cell_type": "markdown",
   "metadata": {
    "slideshow": {
     "slide_type": "subslide"
    }
   },
   "source": [
    "Before implementing the argmin layer, we need some required helpers."
   ]
  },
  {
   "cell_type": "markdown",
   "metadata": {
    "slideshow": {
     "slide_type": "fragment"
    }
   },
   "source": [
    "First, let's implement a helper to calculate an approximated least-squares solution to a linear system of equations $\\mat{A}\\vec{x}=\\vec{b}$.\n",
    "The built-in `torch.solve()` only supports a square matrix A."
   ]
  },
  {
   "cell_type": "code",
   "execution_count": 14,
   "metadata": {
    "execution": {
     "iopub.execute_input": "2022-03-24T07:23:49.067459Z",
     "iopub.status.busy": "2022-03-24T07:23:49.067343Z",
     "iopub.status.idle": "2022-03-24T07:23:49.080789Z",
     "shell.execute_reply": "2022-03-24T07:23:49.080494Z"
    },
    "slideshow": {
     "slide_type": "subslide"
    }
   },
   "outputs": [],
   "source": [
    "def solve_ls(A: Tensor, b: Tensor, abs: float = 1e-6, rel: float = 1e-6) -> Tensor:\n",
    "    # Solves the system A x = b in a least-squares sense using SVD, and returns x\n",
    "    U, S, V = torch.svd(A)\n",
    "    th = max(rel * S[0].item(), abs)\n",
    "    # Clip singular values\n",
    "    Sinv = torch.where(S >= th, 1.0 / S, torch.zeros_like(S))\n",
    "    return V @ torch.diag(Sinv) @ (U.transpose(1, 0) @ b)"
   ]
  },
  {
   "cell_type": "markdown",
   "metadata": {
    "slideshow": {
     "slide_type": "subslide"
    }
   },
   "source": [
    "Quick test for solve:"
   ]
  },
  {
   "cell_type": "code",
   "execution_count": 15,
   "metadata": {
    "execution": {
     "iopub.execute_input": "2022-03-24T07:23:49.082789Z",
     "iopub.status.busy": "2022-03-24T07:23:49.082663Z",
     "iopub.status.idle": "2022-03-24T07:23:49.379606Z",
     "shell.execute_reply": "2022-03-24T07:23:49.379292Z"
    },
    "slideshow": {
     "slide_type": "fragment"
    }
   },
   "outputs": [],
   "source": [
    "from sklearn.datasets import make_regression\n",
    "from sklearn.preprocessing import StandardScaler\n",
    "\n",
    "dtype = torch.float64\n",
    "torch.set_default_dtype(dtype)\n",
    "\n",
    "# Create a simple regression problem\n",
    "N, D = 1000, 20\n",
    "\n",
    "X, y, w_gt = make_regression(\n",
    "    n_samples=N, n_features=D, coef=True, random_state=42, bias=10, noise=1,\n",
    ")\n",
    "X = StandardScaler().fit_transform(X)\n",
    "\n",
    "X, y, w_gt = [ torch.from_numpy(t).to(dtype) for t in [X, y, w_gt] ]\n",
    "\n",
    "# Solve it and check the solution is close to the ground-truth\n",
    "w_hat = solve_ls(X, y)\n",
    "assert torch.allclose(w_hat, w_gt, rtol=0.1, atol=0.1)"
   ]
  },
  {
   "cell_type": "markdown",
   "metadata": {
    "slideshow": {
     "slide_type": "subslide"
    }
   },
   "source": [
    "Notice that in the formulation we used, we considered only one variables vector, $\\vec{y}$, one parameters vector, $\\vec{z}$, and moreover we treated them both as 1d vectors.\n",
    "\n",
    "In practice, however, when implementing deep neural networks, we deal with many different parameters tensors, virtually all of which high-dimensional.\n",
    "\n",
    "In this tutorial, we'll deal with the case of one variable tensor (of any shape) and any number of parameter tensors (of any shape). It's simple to use the approach here to extend to multiple variables as well."
   ]
  },
  {
   "cell_type": "code",
   "execution_count": 16,
   "metadata": {
    "execution": {
     "iopub.execute_input": "2022-03-24T07:23:49.381765Z",
     "iopub.status.busy": "2022-03-24T07:23:49.381655Z",
     "iopub.status.idle": "2022-03-24T07:23:49.400230Z",
     "shell.execute_reply": "2022-03-24T07:23:49.399912Z"
    },
    "slideshow": {
     "slide_type": "subslide"
    }
   },
   "outputs": [],
   "source": [
    "def flatten(*z: Tensor):\n",
    "    # Flattens a sequence of tensors into one \"long\" tensor of shape (N,)\n",
    "    # Note: cat & reshape maintain differentiability!\n",
    "    flat_z = torch.cat([z_.reshape(-1) for z_ in z], dim=0)\n",
    "    return flat_z\n",
    "\n",
    "def unflatten_like(t_flat: Tensor, *z: Tensor):\n",
    "    # Un-flattens a \"long\" tensor into a sequence of multiple tensors of arbitrary shape\n",
    "    t_flat = t_flat.reshape(-1) # make sure it's 1d\n",
    "    ts = []\n",
    "    offset = 0\n",
    "    for z_ in z:\n",
    "        numel = z_.numel()\n",
    "        ts.append(\n",
    "            t_flat[offset:offset+numel].reshape_as(z_)\n",
    "        )\n",
    "        offset += numel\n",
    "    assert offset == t_flat.numel()\n",
    "    \n",
    "    return tuple(ts)"
   ]
  },
  {
   "cell_type": "markdown",
   "metadata": {
    "slideshow": {
     "slide_type": "subslide"
    }
   },
   "source": [
    "Quick test for `flatten`/`unflatten`:"
   ]
  },
  {
   "cell_type": "code",
   "execution_count": 17,
   "metadata": {
    "execution": {
     "iopub.execute_input": "2022-03-24T07:23:49.402190Z",
     "iopub.status.busy": "2022-03-24T07:23:49.402075Z",
     "iopub.status.idle": "2022-03-24T07:23:49.418934Z",
     "shell.execute_reply": "2022-03-24T07:23:49.418650Z"
    },
    "slideshow": {
     "slide_type": "fragment"
    }
   },
   "outputs": [],
   "source": [
    "t1, t2 = torch.randn(3, 5), torch.randn(2, 4)\n",
    "t_flat = flatten(t1, t2)\n",
    "assert t_flat.shape == (t1.numel() + t2.numel(),)\n",
    "\n",
    "t1_, t2_ = unflatten_like(t_flat, t1, t2)\n",
    "assert torch.allclose(t1, t1_)\n",
    "assert torch.allclose(t2, t2_)"
   ]
  },
  {
   "cell_type": "markdown",
   "metadata": {
    "slideshow": {
     "slide_type": "subslide"
    }
   },
   "source": [
    "Now, finally, we're equipped to write an `autograd.Function` which implements differentiable optimization!\n",
    "\n",
    "Our goal is to implement a differentiable layer that can solve an arbitrary (unconstrained) optimization problem, defined by some objective function, `obj_fun`, for some vector-valued optimization variable (`y`), and produce gradients w.r.t. the parameters (`z`) of those problems:\n",
    "\n",
    "\n",
    "```python\n",
    "class ArgMinFunction(autograd.Function):\n",
    "    @staticmethod\n",
    "    def forward(ctx, obj_fun, y, *z):\n",
    "        return argmin_forward(ctx, obj_fun, y, *z)\n",
    "    \n",
    "    @staticmethod\n",
    "    def backward(ctx, grad_output):\n",
    "        return argmin_backward(ctx, grad_output)\n",
    "```"
   ]
  },
  {
   "cell_type": "markdown",
   "metadata": {
    "slideshow": {
     "slide_type": "subslide"
    }
   },
   "source": [
    "Let's start with the forward pass.\n",
    "Here we simply need to solve an unconstrained optimization problem specified in terms of an *objective function*, *variables* (just one supported) and *parameters*. Notice that our implementation will support any objective funciton.\n",
    "\n",
    "We'll use the LBFGS algorithm (a quasi-Newton method as seen in the lectures) as a general purpose solver, but in practice you can use any solver."
   ]
  },
  {
   "cell_type": "code",
   "execution_count": 18,
   "metadata": {
    "execution": {
     "iopub.execute_input": "2022-03-24T07:23:49.420904Z",
     "iopub.status.busy": "2022-03-24T07:23:49.420771Z",
     "iopub.status.idle": "2022-03-24T07:23:49.438330Z",
     "shell.execute_reply": "2022-03-24T07:23:49.438055Z"
    },
    "slideshow": {
     "slide_type": "subslide"
    }
   },
   "outputs": [],
   "source": [
    "from torch.optim import LBFGS\n",
    "\n",
    "def argmin_forward(ctx, obj_fun, y, *z):\n",
    "    # Calculates forward pass though argmin layer: returns y_argmin\n",
    "    # obj_fun(y, *z) evaluates the optimization objective we want to minimize\n",
    "    \n",
    "    # Note: solving for y, treating the z's as constants\n",
    "    optimizer = LBFGS(params=(y,), lr=0.9, max_iter=1000)\n",
    "\n",
    "    # Closure for LBFGS which evaluates the loss and calcualtes\n",
    "    # gradients of the variables.\n",
    "    def _optimizer_step():\n",
    "        # zero gradients\n",
    "        y.grad = torch.zeros_like(y)\n",
    "            \n",
    "        # evaluate loss\n",
    "        f = obj_fun(y, *z)\n",
    "        \n",
    "        # Calculate gradients\n",
    "        # Note: not calling backward() because we don't want to compute\n",
    "        # gradients for anything except y\n",
    "        δy = autograd.grad(f, (y,), create_graph=False)[0]\n",
    "        y.grad += δy\n",
    "        \n",
    "        return f\n",
    "\n",
    "    # Solve the optimization problem - will evaluate closure multiple times until convergence\n",
    "    f_min = optimizer.step(_optimizer_step,)\n",
    "    y_argmin = y # Note: y was modified in place\n",
    "\n",
    "    ctx.save_for_backward(y_argmin, *z)\n",
    "    ctx.obj_fun = obj_fun\n",
    "\n",
    "    return y_argmin"
   ]
  },
  {
   "cell_type": "markdown",
   "metadata": {
    "slideshow": {
     "slide_type": "subslide"
    }
   },
   "source": [
    "Now the backward pass.\n",
    "Here we use the two-step procedure shown above, to calculate $\\delta\\vec{z}$.\n",
    "\n",
    "We'll need to calculate the Hessians\n",
    "$\\mat{K}=\\nabla^{2}_{yy}f(y,z)$\n",
    "and $\\mat{R}=\\nabla^{2}_{yz}f(y, z)$,\n",
    "but luckily autograd can calculate this (by a second automatic differentiation).\n",
    "\n",
    "The only complication is the shapes of $\\vec{y}$ and $\\vec{z}$, but we'll flatten them with our helpers."
   ]
  },
  {
   "cell_type": "code",
   "execution_count": 19,
   "metadata": {
    "execution": {
     "iopub.execute_input": "2022-03-24T07:23:49.440048Z",
     "iopub.status.busy": "2022-03-24T07:23:49.439931Z",
     "iopub.status.idle": "2022-03-24T07:23:49.458857Z",
     "shell.execute_reply": "2022-03-24T07:23:49.458565Z"
    },
    "slideshow": {
     "slide_type": "subslide"
    }
   },
   "outputs": [],
   "source": [
    "from torch.autograd.functional import hessian\n",
    "\n",
    "def argmin_backward(ctx, grad_output):\n",
    "    y_argmin, *z = ctx.saved_tensors\n",
    "    obj_fun = ctx.obj_fun\n",
    "    \n",
    "    flat_y = flatten(y_argmin)\n",
    "    flat_z = flatten(*z)\n",
    "    \n",
    "    # Wrap objective function so that we can call it with flat tensors\n",
    "    def obj_fun_flat(flat_y, flat_z):\n",
    "        y = unflatten_like(flat_y, y_argmin)\n",
    "        zs = unflatten_like(flat_z, *z)\n",
    "        return obj_fun(*y, *zs)\n",
    "    \n",
    "    # Compute the Hessians on flattened y and z\n",
    "    H = hessian(obj_fun_flat, inputs=(flat_y, flat_z), create_graph=False)\n",
    "    Hyy = K = H[0][0]\n",
    "    Hyz = R = H[0][1]\n",
    "\n",
    "    # Now we need to calculate δz = -R^T K^-1 δy\n",
    "    # 1. Solve system for δu: K δu = δy\n",
    "    δy = grad_output\n",
    "    δy = torch.reshape(δy, (-1, 1))\n",
    "    δu = solve_ls(K, δy) # solve_ls(A, b) solves A x = b\n",
    "\n",
    "    # 2. Calculate δz = -R^T δu\n",
    "    δz_flat = -R.transpose(0, 1) @ δu\n",
    "    \n",
    "    # Extract gradient of each individual z\n",
    "    δz = unflatten_like(δz_flat, *z)\n",
    "    δy = torch.reshape(δy, y_argmin.shape)\n",
    "    \n",
    "    return None, δy, *δz  # backward's outputs must correspond to forward's inputs"
   ]
  },
  {
   "cell_type": "markdown",
   "metadata": {
    "slideshow": {
     "slide_type": "subslide"
    }
   },
   "source": [
    "We now wrap these functions in a `autograd.Function` class and obtain the differentiable layer we wanted:"
   ]
  },
  {
   "cell_type": "code",
   "execution_count": 20,
   "metadata": {
    "execution": {
     "iopub.execute_input": "2022-03-24T07:23:49.460677Z",
     "iopub.status.busy": "2022-03-24T07:23:49.460596Z",
     "iopub.status.idle": "2022-03-24T07:23:49.477379Z",
     "shell.execute_reply": "2022-03-24T07:23:49.477004Z"
    },
    "slideshow": {
     "slide_type": "fragment"
    }
   },
   "outputs": [],
   "source": [
    "class ArgMinFunction(autograd.Function):\n",
    "    @staticmethod\n",
    "    def forward(ctx, obj_fun, y, *z):\n",
    "        return argmin_forward(ctx, obj_fun, y, *z)\n",
    "    \n",
    "    @staticmethod\n",
    "    def backward(ctx, grad_output):\n",
    "        return argmin_backward(ctx, grad_output)"
   ]
  },
  {
   "cell_type": "markdown",
   "metadata": {
    "slideshow": {
     "slide_type": "subslide"
    }
   },
   "source": [
    "Let's run a quick test for `argmin_forward`: Can we solve the simple regression problem from before?"
   ]
  },
  {
   "cell_type": "code",
   "execution_count": 21,
   "metadata": {
    "execution": {
     "iopub.execute_input": "2022-03-24T07:23:49.479272Z",
     "iopub.status.busy": "2022-03-24T07:23:49.479164Z",
     "iopub.status.idle": "2022-03-24T07:23:49.505745Z",
     "shell.execute_reply": "2022-03-24T07:23:49.505458Z"
    },
    "slideshow": {
     "slide_type": "subslide"
    }
   },
   "outputs": [
    {
     "data": {
      "text/plain": [
       "tensor([ 7.1765e+00,  1.3716e+01,  5.2416e-01, -4.2903e-01,  9.0439e+00,\n",
       "         1.6845e-01,  6.5626e+00,  4.4079e-02,  5.2297e-01, -5.4179e-03,\n",
       "         1.8564e+00,  3.7034e+00, -3.3460e-02,  1.0849e+00,  1.6734e-01,\n",
       "         2.7856e+00,  9.2833e-01,  9.3861e+00, -1.3301e-01,  1.5499e-04],\n",
       "       grad_fn=<SubBackward0>)"
      ]
     },
     "execution_count": 21,
     "metadata": {},
     "output_type": "execute_result"
    }
   ],
   "source": [
    "# Define a simple linear regression objective with l1 and l2 regularization\n",
    "# (just to test more than one z)\n",
    "def obj_fun(w: Tensor, l1: Tensor, l2: Tensor):\n",
    "    loss = torch.mean((X @ w - y)**2)\n",
    "    reg1 = l1 * torch.mean(torch.abs(w))\n",
    "    reg2 = l2 * torch.mean(w ** 2)\n",
    "    return torch.sum(loss + reg1 + reg2)\n",
    "\n",
    "# Optimization variable - init to random noise\n",
    "w = torch.randn_like(w_gt)*0.1\n",
    "w.requires_grad = True\n",
    "\n",
    "# Optimization problem parameters\n",
    "l1 = torch.randn(1, 1, requires_grad=True)\n",
    "l2 = torch.randn(1, 1, requires_grad=True)\n",
    "\n",
    "# Function.apply() invokes the forward pass\n",
    "w_hat_argmin = ArgMinFunction.apply(obj_fun, w, l1, l2)\n",
    "\n",
    "assert torch.allclose(w_hat_argmin, w_gt, rtol=0.2, atol=3)\n",
    "w_gt-w_hat_argmin"
   ]
  },
  {
   "cell_type": "markdown",
   "metadata": {
    "slideshow": {
     "slide_type": "subslide"
    }
   },
   "source": [
    "Quick test for `argmin_backward`: Do we get gradients on our $\\vec{z}$s ?"
   ]
  },
  {
   "cell_type": "code",
   "execution_count": 22,
   "metadata": {
    "execution": {
     "iopub.execute_input": "2022-03-24T07:23:49.507769Z",
     "iopub.status.busy": "2022-03-24T07:23:49.507640Z",
     "iopub.status.idle": "2022-03-24T07:23:49.527643Z",
     "shell.execute_reply": "2022-03-24T07:23:49.527368Z"
    },
    "slideshow": {
     "slide_type": "subslide"
    }
   },
   "outputs": [
    {
     "name": "stdout",
     "output_type": "stream",
     "text": [
      "loss=tensor(22.8789, grad_fn=<MeanBackward0>)\n",
      "\n",
      "w.grad=tensor([ 8.0662e-04,  9.5594e-05,  4.1144e-05, -1.3961e-04, -3.0835e-04,\n",
      "        -1.3596e-04,  1.1566e-04,  1.1260e-01,  4.4421e-05,  6.0599e-03,\n",
      "         4.8989e-04, -3.8302e-04,  1.4068e-03,  2.8836e-04,  5.7945e-04,\n",
      "         4.3337e-04,  1.0508e-03, -4.7097e-04, -5.1959e-04,  2.4888e-02])\n",
      "l1.grad=None\n",
      "l2.grad=None\n",
      "\n",
      "w.grad=tensor([0.0508, 0.0501, 0.0500, 0.0499, 0.0497, 0.0499, 0.0501, 0.1626, 0.0500,\n",
      "        0.0561, 0.0505, 0.0496, 0.0514, 0.0503, 0.0506, 0.0504, 0.0511, 0.0495,\n",
      "        0.0495, 0.0749])\n",
      "l1.grad=tensor([[0.]])\n",
      "l2.grad=tensor([[0.]])\n"
     ]
    }
   ],
   "source": [
    "loss = torch.mean(w_hat_argmin)\n",
    "print(f'{loss=}\\n')\n",
    "\n",
    "# Before backward: z (l1 & l2) gradients should be None\n",
    "print(f'{w.grad=}')\n",
    "print(f'{l1.grad=}')\n",
    "print(f'{l2.grad=}\\n')\n",
    "\n",
    "loss.backward()\n",
    "print(f'{w.grad=}')\n",
    "print(f'{l1.grad=}')\n",
    "print(f'{l2.grad=}')"
   ]
  },
  {
   "cell_type": "markdown",
   "metadata": {
    "slideshow": {
     "slide_type": "subslide"
    }
   },
   "source": [
    "### Example"
   ]
  },
  {
   "cell_type": "markdown",
   "metadata": {
    "slideshow": {
     "slide_type": "fragment"
    }
   },
   "source": [
    "Let's demonstrate how to use our `ArgMinFunction` in the context of a model.\n",
    "\n",
    "We'll tackle the task of **time-series prediction**, by applying linear regression on a learned, non-linear representation of the inputs."
   ]
  },
  {
   "cell_type": "markdown",
   "metadata": {
    "slideshow": {
     "slide_type": "fragment"
    }
   },
   "source": [
    "We'll implement the following model:"
   ]
  },
  {
   "cell_type": "markdown",
   "metadata": {
    "slideshow": {
     "slide_type": "subslide"
    }
   },
   "source": [
    "<center><img src=\"imgs/enc-pred-dec.png\" width=\"1100\"/></center>"
   ]
  },
  {
   "cell_type": "markdown",
   "metadata": {
    "slideshow": {
     "slide_type": "fragment"
    }
   },
   "source": [
    "Notes:\n",
    "\n",
    "1. The encoder and decoder will be simple 1D CNNs.\n",
    "2. The encoder calculates some non-linear embedding of the input while the decoder maps an embedding back to the input space.\n",
    "3. The predictor applies linear regression to try fit optimal weights for predict the last part of the embedding, $\\vec{Y}_e$ from the first part, $\\vec{X}_e$ (\"post-diction\"):\n",
    "    1. Postdiction: $\\vec{w}^\\ast=\\arg\\min_{\\vec{w}} \\norm{\\vec{X}_e\\vec{w}-\\vec{Y}_e}^2+\\lambda\\norm{\\vec{w}}^2$\n",
    "    2. Prediction: $\\hat{\\vec{Y}}_e=\\vec{Z}_e\\vec{w}^\\ast$ where $\\vec{Z}_e$ is the last part of the embedding with the same length as $\\vec{X}_e$."
   ]
  },
  {
   "cell_type": "markdown",
   "metadata": {
    "slideshow": {
     "slide_type": "subslide"
    }
   },
   "source": [
    "Let's load some data: We'll use a open dataset from Kaggle, containing 12 years of daily stock price data from equities included in the Dow Jones Industrial Average (DJIA).\n",
    "\n",
    "You can obtain this dataset [here](https://www.kaggle.com/szrlee/stock-time-series-20050101-to-20171231)."
   ]
  },
  {
   "cell_type": "code",
   "execution_count": 23,
   "metadata": {
    "execution": {
     "iopub.execute_input": "2022-03-24T07:23:49.529686Z",
     "iopub.status.busy": "2022-03-24T07:23:49.529570Z",
     "iopub.status.idle": "2022-03-24T07:23:49.755399Z",
     "shell.execute_reply": "2022-03-24T07:23:49.755132Z"
    },
    "slideshow": {
     "slide_type": "subslide"
    }
   },
   "outputs": [
    {
     "data": {
      "text/plain": [
       "(93612, 7)"
      ]
     },
     "execution_count": 23,
     "metadata": {},
     "output_type": "execute_result"
    }
   ],
   "source": [
    "import pandas as pd\n",
    "import numpy as np\n",
    "import matplotlib.dates as mdates\n",
    "from datetime import datetime\n",
    "\n",
    "df = pd.read_csv(\"DJIA_30/all_stocks_2006-01-01_to_2018-01-01.csv.gz\", compression='gzip')\n",
    "df.shape"
   ]
  },
  {
   "cell_type": "code",
   "execution_count": 24,
   "metadata": {
    "execution": {
     "iopub.execute_input": "2022-03-24T07:23:49.757262Z",
     "iopub.status.busy": "2022-03-24T07:23:49.757156Z",
     "iopub.status.idle": "2022-03-24T07:23:50.468264Z",
     "shell.execute_reply": "2022-03-24T07:23:50.467915Z"
    },
    "slideshow": {
     "slide_type": "subslide"
    }
   },
   "outputs": [
    {
     "data": {
      "image/png": "[encoded data removed]",
      "text/plain": [
       "<Figure size 864x432 with 1 Axes>"
      ]
     },
     "metadata": {
      "needs_background": "light"
     },
     "output_type": "display_data"
    }
   ],
   "source": [
    "# Plot some stocks\n",
    "stock_names = [\"AAPL\", \"GOOGL\", \"MSFT\", \"AMZN\"]\n",
    "\n",
    "fig, ax = plt.subplots(1, 1, figsize=(12, 6))\n",
    "ax.xaxis.set_major_locator(mdates.YearLocator())\n",
    "ax.xaxis.set_major_formatter(mdates.DateFormatter('%Y'))\n",
    "ax.xaxis.set_minor_locator(mdates.MonthLocator())\n",
    "for stock_name in stock_names:\n",
    "    df_stock = df[df['Name'] == stock_name]\n",
    "    df_stock_dates = [datetime.strptime(d,'%Y-%m-%d').date() for d in df_stock['Date']]\n",
    "    ax.plot(df_stock_dates, df_stock['Close'], label=stock_name)\n",
    "ax.set_ylabel('Close Price ($)'); ax.legend();"
   ]
  },
  {
   "cell_type": "markdown",
   "metadata": {
    "slideshow": {
     "slide_type": "subslide"
    }
   },
   "source": [
    "Let's do some minimal processing to make the data useable:\n",
    "\n",
    "1. Split the data into segments of a fixed number of days.\n",
    "2. Split each secment into a BASE ($\\vec{X}$) and a TARGET ($\\vec{Y}$).\n",
    "3. Split all segments into a training and test set."
   ]
  },
  {
   "cell_type": "code",
   "execution_count": 25,
   "metadata": {
    "execution": {
     "iopub.execute_input": "2022-03-24T07:23:50.470476Z",
     "iopub.status.busy": "2022-03-24T07:23:50.470355Z",
     "iopub.status.idle": "2022-03-24T07:23:50.497423Z",
     "shell.execute_reply": "2022-03-24T07:23:50.497092Z"
    },
    "slideshow": {
     "slide_type": "subslide"
    }
   },
   "outputs": [
    {
     "name": "stdout",
     "output_type": "stream",
     "text": [
      "X_train.shape=torch.Size([210, 1, 30])\n",
      "Y_train.shape=torch.Size([210, 1, 10])\n",
      "\n",
      "\n",
      "X_test.shape=torch.Size([91, 1, 30])\n",
      "Y_test.shape=torch.Size([91, 1, 10])\n"
     ]
    }
   ],
   "source": [
    "SEG_LEN = 40\n",
    "SEG_BASE = 30\n",
    "SEG_TARGET = SEG_LEN - SEG_BASE\n",
    "\n",
    "# Filter out only selected stocks\n",
    "df = df[df['Name'].isin(stock_names)]\n",
    "# Split into segments of SEG_LEN days\n",
    "X = torch.tensor(df['Close'].values, dtype=dtype)\n",
    "X = X[0:SEG_LEN*(X.shape[0]//SEG_LEN)]\n",
    "X = torch.reshape(X, (-1, 1, SEG_LEN)) # adding channel dimension\n",
    "\n",
    "# Train-test split\n",
    "test_ratio = 0.3\n",
    "N = X.shape[0]\n",
    "N_train = int(N * (1-test_ratio))\n",
    "idxs = torch.randperm(X.shape[0],)\n",
    "X_train, X_test = X[idxs[:N_train]], X[idxs[N_train:]]\n",
    "\n",
    "# Split out target segment at the end\n",
    "X_train, Y_train = X_train[..., :SEG_BASE], X_train[..., SEG_BASE:]\n",
    "X_test, Y_test = X_test[..., :SEG_BASE], X_test[..., SEG_BASE:]\n",
    "\n",
    "print(f\"{X_train.shape=}\\n{Y_train.shape=}\\n\\n\")\n",
    "print(f\"{X_test.shape=}\\n{Y_test.shape=}\")"
   ]
  },
  {
   "cell_type": "markdown",
   "metadata": {
    "slideshow": {
     "slide_type": "subslide"
    }
   },
   "source": [
    "We can plot some random BASE and TARGET pairs."
   ]
  },
  {
   "cell_type": "code",
   "execution_count": 26,
   "metadata": {
    "execution": {
     "iopub.execute_input": "2022-03-24T07:23:50.499805Z",
     "iopub.status.busy": "2022-03-24T07:23:50.499670Z",
     "iopub.status.idle": "2022-03-24T07:23:50.604903Z",
     "shell.execute_reply": "2022-03-24T07:23:50.604411Z"
    },
    "slideshow": {
     "slide_type": "fragment"
    }
   },
   "outputs": [
    {
     "data": {
      "image/png": "[encoded data removed]",
      "text/plain": [
       "<Figure size 864x432 with 1 Axes>"
      ]
     },
     "metadata": {
      "needs_background": "light"
     },
     "output_type": "display_data"
    }
   ],
   "source": [
    "np.random.seed(42)\n",
    "fig, ax = plt.subplots(1, 1, figsize=(12, 6))\n",
    "idx_perm = np.random.permutation(range(N_train))\n",
    "for i in range(10):\n",
    "    ax.plot(range(SEG_BASE), X_train[idx_perm[i], 0, :])\n",
    "    ax.plot(range(SEG_BASE, SEG_LEN), Y_train[idx_perm[i], 0, :])\n",
    "ax.axvline(x=SEG_BASE, color='k', linestyle=\":\", linewidth=\"5\")\n",
    "ax.grid();"
   ]
  },
  {
   "cell_type": "markdown",
   "metadata": {
    "slideshow": {
     "slide_type": "subslide"
    }
   },
   "source": [
    "We'll expose the processed data to PyTorch `DalaLoader`s via the `TensorDataset` class."
   ]
  },
  {
   "cell_type": "code",
   "execution_count": 27,
   "metadata": {
    "execution": {
     "iopub.execute_input": "2022-03-24T07:23:50.606922Z",
     "iopub.status.busy": "2022-03-24T07:23:50.606810Z",
     "iopub.status.idle": "2022-03-24T07:23:50.627885Z",
     "shell.execute_reply": "2022-03-24T07:23:50.627516Z"
    },
    "slideshow": {
     "slide_type": "subslide"
    }
   },
   "outputs": [],
   "source": [
    "from torch.utils.data import TensorDataset, DataLoader\n",
    "\n",
    "BATCH_SIZE = 8\n",
    "\n",
    "dl_train, dl_test = [\n",
    "    DataLoader(TensorDataset(X, Y), batch_size=BATCH_SIZE, shuffle=True)   \n",
    "    for X, Y in [(X_train, Y_train), (X_test, Y_test)]\n",
    "]\n"
   ]
  },
  {
   "cell_type": "markdown",
   "metadata": {
    "slideshow": {
     "slide_type": "subslide"
    }
   },
   "source": [
    "Both the encoder and decoder will use the same model, a 1D CNN."
   ]
  },
  {
   "cell_type": "code",
   "execution_count": 28,
   "metadata": {
    "execution": {
     "iopub.execute_input": "2022-03-24T07:23:50.630132Z",
     "iopub.status.busy": "2022-03-24T07:23:50.630008Z",
     "iopub.status.idle": "2022-03-24T07:23:50.652431Z",
     "shell.execute_reply": "2022-03-24T07:23:50.652087Z"
    },
    "slideshow": {
     "slide_type": "subslide"
    }
   },
   "outputs": [],
   "source": [
    "class EncDec(torch.nn.Module):\n",
    "    def __init__(self, channels=[1, 4, 8], out_nl=True):\n",
    "        super().__init__()\n",
    "        layers = []\n",
    "        channel_pairs = zip(channels[:-1], channels[1:])\n",
    "        for in_channels, out_channels in channel_pairs:\n",
    "            layers.extend([\n",
    "                \n",
    "                torch.nn.Conv1d(\n",
    "                    in_channels, out_channels, kernel_size=5, padding=2, bias=True\n",
    "                ),\n",
    "                \n",
    "                ELUCustom(alpha=0.5),\n",
    "                \n",
    "                torch.nn.BatchNorm1d(num_features=out_channels, affine=True),\n",
    "            ])\n",
    "        if not out_nl:\n",
    "            layers = layers[:-1]\n",
    "            \n",
    "        self.layers = torch.nn.Sequential(*layers)\n",
    "        \n",
    "    def forward(self, x):\n",
    "        return self.layers(x)"
   ]
  },
  {
   "cell_type": "code",
   "execution_count": 29,
   "metadata": {
    "execution": {
     "iopub.execute_input": "2022-03-24T07:23:50.654741Z",
     "iopub.status.busy": "2022-03-24T07:23:50.654620Z",
     "iopub.status.idle": "2022-03-24T07:23:50.676841Z",
     "shell.execute_reply": "2022-03-24T07:23:50.676548Z"
    },
    "slideshow": {
     "slide_type": "subslide"
    }
   },
   "outputs": [
    {
     "data": {
      "text/plain": [
       "EncDec(\n",
       "  (layers): Sequential(\n",
       "    (0): Conv1d(1, 4, kernel_size=(5,), stride=(1,), padding=(2,))\n",
       "    (1): ELUCustom()\n",
       "    (2): BatchNorm1d(4, eps=1e-05, momentum=0.1, affine=True, track_running_stats=True)\n",
       "    (3): Conv1d(4, 8, kernel_size=(5,), stride=(1,), padding=(2,))\n",
       "    (4): ELUCustom()\n",
       "    (5): BatchNorm1d(8, eps=1e-05, momentum=0.1, affine=True, track_running_stats=True)\n",
       "  )\n",
       ")"
      ]
     },
     "execution_count": 29,
     "metadata": {},
     "output_type": "execute_result"
    }
   ],
   "source": [
    "enc = EncDec(channels=[1, 4, 8], out_nl=True)\n",
    "enc"
   ]
  },
  {
   "cell_type": "markdown",
   "metadata": {
    "slideshow": {
     "slide_type": "subslide"
    }
   },
   "source": [
    "Test encoder forward pass:"
   ]
  },
  {
   "cell_type": "code",
   "execution_count": 30,
   "metadata": {
    "execution": {
     "iopub.execute_input": "2022-03-24T07:23:50.678757Z",
     "iopub.status.busy": "2022-03-24T07:23:50.678655Z",
     "iopub.status.idle": "2022-03-24T07:23:50.727234Z",
     "shell.execute_reply": "2022-03-24T07:23:50.726906Z"
    },
    "slideshow": {
     "slide_type": "fragment"
    }
   },
   "outputs": [
    {
     "name": "stdout",
     "output_type": "stream",
     "text": [
      "x0.shape=torch.Size([8, 1, 30])\n",
      "\n",
      "enc(x0).shape=torch.Size([8, 8, 30])\n",
      "\n"
     ]
    }
   ],
   "source": [
    "x0, y0 = next(iter(dl_train))\n",
    "print(f\"{x0.shape=}\\n\")\n",
    "print(f\"{enc(x0).shape=}\\n\")"
   ]
  },
  {
   "cell_type": "markdown",
   "metadata": {
    "slideshow": {
     "slide_type": "subslide"
    }
   },
   "source": [
    "Now, our regression layer will use the custom `ArgMinFunction` to solve an optimization problem during the forward pass.\n",
    "\n",
    "Recall from the above definitions:\n",
    "\n",
    "- The predictor applies linear regression to try fit optimal weights for predict the last part of the embedding, $\\vec{Y}_e$ from the first part, $\\vec{X}_e$ (\"post-diction\"):\n",
    "    1. Postdiction: $\\vec{w}^\\ast=\\arg\\min_{\\vec{w}} \\norm{\\vec{X}_e\\vec{w}-\\vec{Y}_e}^2+\\lambda\\norm{\\vec{w}}^2$\n",
    "    2. Prediction: $\\hat{\\vec{Y}}_e=\\vec{Z}_e\\vec{w}^\\ast$ where $\\vec{Z}_e$ is the last part of the embedding with the same length as $\\vec{X}_e$."
   ]
  },
  {
   "cell_type": "code",
   "execution_count": 31,
   "metadata": {
    "execution": {
     "iopub.execute_input": "2022-03-24T07:23:50.729123Z",
     "iopub.status.busy": "2022-03-24T07:23:50.729003Z",
     "iopub.status.idle": "2022-03-24T07:23:50.751388Z",
     "shell.execute_reply": "2022-03-24T07:23:50.751112Z"
    },
    "slideshow": {
     "slide_type": "subslide"
    }
   },
   "outputs": [],
   "source": [
    "class PredictorArgMinLayer(torch.nn.Module):\n",
    "    def __init__(self, in_features: int, out_features: int):\n",
    "        super().__init__()\n",
    "        self.prediction_len = in_features - out_features\n",
    "        self.prediction_target_len = out_features\n",
    "        \n",
    "        # We'll train both W and lambda\n",
    "        self.w = torch.nn.Parameter(torch.randn(\n",
    "            self.prediction_target_len, self.prediction_len, requires_grad=True,\n",
    "        ))\n",
    "        self.reg_lambda = torch.nn.Parameter(torch.tensor([1.], requires_grad=True))\n",
    "    \n",
    "    @staticmethod\n",
    "    def obj_fun(w: Tensor, x: Tensor, y: Tensor, reg_lambda: Tensor):\n",
    "        # Objective function performing linear regression\n",
    "        xw = torch.matmul(x, w.T)\n",
    "        loss = torch.mean((xw - y)**2)\n",
    "        reg = reg_lambda * torch.mean(w ** 2)\n",
    "        return torch.sum(loss + reg)\n",
    "        \n",
    "    def forward(self, x):\n",
    "        # Postdiction\n",
    "        # X = | ------ X_e ------ | -- Y_e -- |\n",
    "        x_post = x[..., :self.prediction_len] # X_e\n",
    "        y_post = x[..., self.prediction_len:] # Y_e\n",
    "        w_opt = ArgMinFunction.apply(self.obj_fun, self.w, x_post, y_post, self.reg_lambda)\n",
    "        \n",
    "        # Prediction\n",
    "        # X = | --------- | ------ Z_e ------ |\n",
    "        x_pred = x[..., -self.prediction_len:] # Z_e in the text\n",
    "        \n",
    "        return torch.matmul(x_pred, w_opt.T)"
   ]
  },
  {
   "cell_type": "markdown",
   "metadata": {
    "slideshow": {
     "slide_type": "subslide"
    }
   },
   "source": [
    "Finally, we'll create a model containing the full architecture of encoder, predictor and decoder."
   ]
  },
  {
   "cell_type": "code",
   "execution_count": 32,
   "metadata": {
    "execution": {
     "iopub.execute_input": "2022-03-24T07:23:50.753321Z",
     "iopub.status.busy": "2022-03-24T07:23:50.753215Z",
     "iopub.status.idle": "2022-03-24T07:23:50.772760Z",
     "shell.execute_reply": "2022-03-24T07:23:50.772463Z"
    },
    "slideshow": {
     "slide_type": "subslide"
    }
   },
   "outputs": [],
   "source": [
    "from typing import List\n",
    "\n",
    "class EncPredictorDec(torch.nn.Module):\n",
    "    def __init__(\n",
    "        self, in_features: int, postdiction_length: int,\n",
    "        encoder_channels: List[int], decoder_channels: List[int]=None\n",
    "    ):\n",
    "        super().__init__()\n",
    "        \n",
    "        if decoder_channels is None:\n",
    "            decoder_channels = list(reversed(encoder_channels))\n",
    "            \n",
    "        self.enc = EncDec(encoder_channels, out_nl=True)\n",
    "        self.dec = EncDec(decoder_channels, out_nl=False)\n",
    "        self.pred = PredictorArgMinLayer(in_features, postdiction_length)\n",
    "        self.postdiction_length = postdiction_length\n",
    "        \n",
    "    def forward(self, x: Tensor):\n",
    "        # Calculate embeding\n",
    "        x_emb = self.enc(x)\n",
    "        \n",
    "        # Postdict then predict\n",
    "        y_hat_emb = self.pred(x_emb)\n",
    "        \n",
    "        # Decode back to input space\n",
    "        y_hat = self.dec(y_hat_emb)\n",
    "        return y_hat"
   ]
  },
  {
   "cell_type": "markdown",
   "metadata": {
    "slideshow": {
     "slide_type": "subslide"
    }
   },
   "source": [
    "Time to train! Notes:\n",
    "\n",
    "1. Here we define the \"outer\" optimizer which performs the end-to-end optimization.\n",
    "2. We'll demonstrate how to employ simple a simple decaying learning rate schedule."
   ]
  },
  {
   "cell_type": "code",
   "execution_count": 33,
   "metadata": {
    "execution": {
     "iopub.execute_input": "2022-03-24T07:23:50.774611Z",
     "iopub.status.busy": "2022-03-24T07:23:50.774521Z",
     "iopub.status.idle": "2022-03-24T07:23:50.794792Z",
     "shell.execute_reply": "2022-03-24T07:23:50.794476Z"
    },
    "slideshow": {
     "slide_type": "slide"
    }
   },
   "outputs": [
    {
     "name": "stdout",
     "output_type": "stream",
     "text": [
      "EncPredictorDec(\n",
      "  (enc): EncDec(\n",
      "    (layers): Sequential(\n",
      "      (0): Conv1d(1, 4, kernel_size=(5,), stride=(1,), padding=(2,))\n",
      "      (1): ELUCustom()\n",
      "      (2): BatchNorm1d(4, eps=1e-05, momentum=0.1, affine=True, track_running_stats=True)\n",
      "      (3): Conv1d(4, 8, kernel_size=(5,), stride=(1,), padding=(2,))\n",
      "      (4): ELUCustom()\n",
      "      (5): BatchNorm1d(8, eps=1e-05, momentum=0.1, affine=True, track_running_stats=True)\n",
      "      (6): Conv1d(8, 16, kernel_size=(5,), stride=(1,), padding=(2,))\n",
      "      (7): ELUCustom()\n",
      "      (8): BatchNorm1d(16, eps=1e-05, momentum=0.1, affine=True, track_running_stats=True)\n",
      "    )\n",
      "  )\n",
      "  (dec): EncDec(\n",
      "    (layers): Sequential(\n",
      "      (0): Conv1d(16, 8, kernel_size=(5,), stride=(1,), padding=(2,))\n",
      "      (1): ELUCustom()\n",
      "      (2): BatchNorm1d(8, eps=1e-05, momentum=0.1, affine=True, track_running_stats=True)\n",
      "      (3): Conv1d(8, 4, kernel_size=(5,), stride=(1,), padding=(2,))\n",
      "      (4): ELUCustom()\n",
      "      (5): BatchNorm1d(4, eps=1e-05, momentum=0.1, affine=True, track_running_stats=True)\n",
      "      (6): Conv1d(4, 1, kernel_size=(5,), stride=(1,), padding=(2,))\n",
      "      (7): ELUCustom()\n",
      "    )\n",
      "  )\n",
      "  (pred): PredictorArgMinLayer()\n",
      ")\n"
     ]
    }
   ],
   "source": [
    "torch.manual_seed(42)\n",
    "\n",
    "model = EncPredictorDec(\n",
    "    in_features=SEG_BASE, postdiction_length=SEG_TARGET,\n",
    "    encoder_channels=[1, 4, 8, 16]\n",
    ")\n",
    "print(model)\n",
    "\n",
    "loss_fn = torch.nn.MSELoss()\n",
    "\n",
    "# End-to-end optimizer\n",
    "#optimizer = torch.optim.SGD(model.parameters(), lr=1e-8, momentum=0.9, nesterov=True)\n",
    "optimizer = torch.optim.AdamW(model.parameters(), lr=1e-4, eps=1e-5)\n",
    "\n",
    "# Decay learning rate each epoch\n",
    "scheduler = torch.optim.lr_scheduler.ExponentialLR(optimizer, gamma=0.9)"
   ]
  },
  {
   "cell_type": "code",
   "execution_count": 34,
   "metadata": {
    "execution": {
     "iopub.execute_input": "2022-03-24T07:23:50.796546Z",
     "iopub.status.busy": "2022-03-24T07:23:50.796443Z",
     "iopub.status.idle": "2022-03-24T07:23:50.815814Z",
     "shell.execute_reply": "2022-03-24T07:23:50.815544Z"
    },
    "slideshow": {
     "slide_type": "subslide"
    }
   },
   "outputs": [],
   "source": [
    "from tqdm.auto import tqdm\n",
    "\n",
    "def run_epoch(model, dl, epoch_idx, max_batches, train=True):\n",
    "    desc = f'Epoch #{epoch_idx:02d}: {\"Training\" if train else \"Evaluating\"} '\n",
    "    losses = []\n",
    "    pbar = tqdm(dl, desc=desc)\n",
    "    for i, (x, y) in enumerate(pbar):\n",
    "        y_pred = model(x)\n",
    "        loss = loss_fn(y, y_pred)\n",
    "        \n",
    "        if train:\n",
    "            optimizer.zero_grad()\n",
    "            loss.backward()\n",
    "            optimizer.step()\n",
    "        \n",
    "        losses.append(loss.item())\n",
    "        pbar.desc = desc + f\"[loss={loss.item():.3f}]\"\n",
    "        if max_batches and i >= max_batches:\n",
    "            break\n",
    "    pbar.desc = desc + f\"avg. loss = {np.mean(losses)}\"\n",
    "    pbar.update()"
   ]
  },
  {
   "cell_type": "code",
   "execution_count": 35,
   "metadata": {
    "execution": {
     "iopub.execute_input": "2022-03-24T07:23:50.817505Z",
     "iopub.status.busy": "2022-03-24T07:23:50.817427Z",
     "iopub.status.idle": "2022-03-24T07:24:15.591821Z",
     "shell.execute_reply": "2022-03-24T07:24:15.591420Z"
    },
    "slideshow": {
     "slide_type": "subslide"
    }
   },
   "outputs": [
    {
     "data": {
      "application/vnd.jupyter.widget-view+json": {
       "model_id": "8ea43bf2886e4a979130e3daad6d46c6",
       "version_major": 2,
       "version_minor": 0
      },
      "text/plain": [
       "Epoch #00: Training :   0%|          | 0/27 [00:00<?, ?it/s]"
      ]
     },
     "metadata": {},
     "output_type": "display_data"
    },
    {
     "data": {
      "application/vnd.jupyter.widget-view+json": {
       "model_id": "e2d7d6370acf47d19a9386363f779b74",
       "version_major": 2,
       "version_minor": 0
      },
      "text/plain": [
       "Epoch #00: Evaluating :   0%|          | 0/12 [00:00<?, ?it/s]"
      ]
     },
     "metadata": {},
     "output_type": "display_data"
    }
   ],
   "source": [
    "num_epochs = 1\n",
    "max_batches = None\n",
    "\n",
    "for epoch in range(num_epochs):\n",
    "    run_epoch(model, dl_train, epoch, max_batches, train=True)\n",
    "    with torch.no_grad():\n",
    "        run_epoch(model, dl_test, epoch, max_batches, train=False)\n",
    "    scheduler.step()"
   ]
  },
  {
   "cell_type": "markdown",
   "metadata": {
    "slideshow": {
     "slide_type": "subslide"
    }
   },
   "source": [
    "#### Thanks!"
   ]
  },
  {
   "cell_type": "markdown",
   "metadata": {
    "slideshow": {
     "slide_type": "skip"
    }
   },
   "source": [
    "**Credits**\n",
    "\n",
    "This tutorial was written by [Aviv A. Rosenberg](https://avivr.net).<br>\n",
    "To re-use, please provide attribution and link to the original.\n",
    "\n",
    "Some images in this tutorial were taken and/or adapted from the following sources:\n",
    "\n",
    "- Dr. Roger Grosse, UToronto, cs321\n",
    "- Fundamentals of Deep Learning, Nikhil Buduma, Oreilly 2017\n"
   ]
  }
 ],
 "metadata": {
  "celltoolbar": "Slideshow",
  "kernelspec": {
   "display_name": "Python 3",
   "language": "python",
   "name": "python3"
  },
  "language_info": {
   "codemirror_mode": {
    "name": "ipython",
    "version": 3
   },
   "file_extension": ".py",
   "mimetype": "text/x-python",
   "name": "python",
   "nbconvert_exporter": "python",
   "pygments_lexer": "ipython3",
   "version": "3.8.6"
  },
  "toc-autonumbering": false,
  "toc-showcode": false,
  "toc-showmarkdowntxt": false
 },
 "nbformat": 4,
 "nbformat_minor": 4
}
