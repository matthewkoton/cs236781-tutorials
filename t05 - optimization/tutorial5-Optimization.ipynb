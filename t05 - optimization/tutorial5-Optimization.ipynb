{
 "cells": [
  {
   "cell_type": "markdown",
   "metadata": {},
   "source": [
    "# Optimization"
   ]
  },
  {
   "cell_type": "markdown",
   "metadata": {},
   "source": [
    "In this tutorial, we will cover:\n",
    "\n",
    "* Continuous Optimization\n",
    "    + Solving continuous optimization problems\n",
    "* Reminder: multivariate calculus\n",
    "* Gradient Descent\n",
    "    + Why does GD work?\n",
    "    + Selecting the learning rate\n",
    "    + What can go wrong?\n",
    "* Stochastic gradient descent\n",
    "* Advanced optimizers\n",
    "* Working example\n",
    "* PyTorch's optimization API - *torch.optim*\n",
    "* Learning rate scheduling\n",
    "* Projected Gradient Descent (PGD)\n",
    "    + Use case: adversarial attacks"
   ]
  },
  {
   "cell_type": "markdown",
   "metadata": {
    "tags": []
   },
   "source": [
    "<center><img src=\"https://www.ruder.io/content/images/2016/09/saddle_point_evaluation_optimizers.gif\"/></center>"
   ]
  },
  {
   "cell_type": "markdown",
   "metadata": {
    "tags": []
   },
   "source": [
    "## Continuous Optimization"
   ]
  },
  {
   "cell_type": "markdown",
   "metadata": {},
   "source": [
    "Continious optimization problems are fundumental in Computer Science.\n",
    "\n",
    "May be either unconstrained:\n",
    "$$ \\min_x f(x) $$\n",
    "$$ f: \\mathbb{R}^d \\rightarrow \\mathbb{R} $$\n",
    "Or constrained:\n",
    "$$ \\min_x f(x) \\text{ subject to } x \\in \\mathcal{K} $$\n",
    "$$ f: \\mathbb{R}^d \\rightarrow \\mathbb{R} \\text{, } \\mathcal{K} \\subseteq \\mathbb{R}^d \\text{ is closed and convex} $$"
   ]
  },
  {
   "cell_type": "markdown",
   "metadata": {},
   "source": [
    "Many problems in CS can be written as a continous optimization problems:\n",
    "* Linear programs (LPs)\n",
    "\n",
    "<center><img src=\"https://upload.wikimedia.org/wikipedia/commons/thumb/e/ef/3dpoly.svg/220px-3dpoly.svg.png\"/></center>\n",
    "\n",
    "* Linear Regression:\n",
    "\n",
    "$$ \\min_w \\| Xw - y \\|^2 $$\n",
    "$$ \\text{where } X \\in \\mathbb{R}^{n \\times d}, y \\in \\mathbb{R}^n $$\n",
    "\n",
    "\n",
    "* Hard SVMs:\n",
    "\n",
    "$$ \\min_{w,b} \\|w\\|^2 $$\n",
    "$$ \\text{subject to } y_i (w^T x_i-b) \\geq 1 $$\n",
    "\n",
    "* **Empirical risk minimization of deep models** \n",
    "\n",
    "<center><img src=\"https://www.fromthegenesis.com/wp-content/uploads/2018/06/Gradie_Desce.jpg\"/></center>"
   ]
  },
  {
   "cell_type": "markdown",
   "metadata": {},
   "source": [
    "### Solving Continious Optimization Problems"
   ]
  },
  {
   "cell_type": "markdown",
   "metadata": {},
   "source": [
    "In some cases, continious optimization problems may be solved analytically:\n",
    "* For unconstrained problems, search for stationary points.\n",
    "* For constrained problems, try applying Lagrange multipliers or KKT conditions.\n",
    "\n",
    "However, modern deep architectures include millions (sometimes billions) of parameters...\n",
    "the loss function is summed over all the dataset (**memory burden**)\n",
    "and the loss surface is often very noisy!\n",
    "\n",
    "Therefore, efficient iterative optimization algorithms are required!\n",
    "\n",
    "<center><img src=\"https://huggingface.co/blog/assets/33_large_language_models/01_model_size.jpg\"/ width=40%> </center>"
   ]
  },
  {
   "cell_type": "markdown",
   "metadata": {},
   "source": [
    "## Reminder: multivariate calculus"
   ]
  },
  {
   "cell_type": "markdown",
   "metadata": {},
   "source": [
    "We will be mainly interested in functions $f: \\mathbb{R}^d \\rightarrow \\mathbb{R}$.\n",
    "\n",
    "The generalization of the derivative in the multivariate case is denoted as the **gradient**, which is composed of the **partial derivatives**:\n",
    "$$ \\nabla_x f = (\\frac{\\partial f}{\\partial x_1},...,\\frac{\\partial f}{\\partial x_d}) \\in \\mathbb{R}^d $$\n",
    "\n",
    "The gradient gives us local information about the direction of the **largest ascent**:\n",
    "\n",
    "<center><img src=\"imgs/paraboloid.png\"/ height=50% width=50%> </center>\n",
    "\n",
    "If the gradient at some point $x \\in \\mathbb{R}^d$ is $\\vec{0}$ then $x$ is called a **stationary point**.\n",
    "\n",
    "<!---\n",
    "Redundant\n",
    "For functions with multiple outputs $f: \\mathbb{R}^d \\rightarrow \\mathbb{R^m}$ , the gradient is generalized to a **Jacobian**:\n",
    "\n",
    "$$ J_x(f) = \n",
    "\\begin{pmatrix}\n",
    "            \\frac{\\partial f_1}{\\partial x_1} & \\cdots & \\frac{\\partial f_1}{\\partial x_d} \\\\\n",
    "            \\vdots & \\ddots & \\vdots \\\\\n",
    "            \\frac{\\partial f_m}{\\partial x_1} & \\cdots & \\frac{\\partial f_m}{\\partial x_d} \\\\\n",
    "        \\end{pmatrix}\n",
    "\\in \\mathbb{R}^{m \\times d} $$\n",
    "-->\n",
    "\n",
    "The second derivative of a function $f: \\mathbb{R}^d \\rightarrow \\mathbb{R}$ is defined by computing the gradient of each of the partial derivatives.\n",
    "\n",
    "The resulting matrix is defined as the **Hessian** of $f$:\n",
    "$$\n",
    "\\nabla^2_x f = \n",
    "\\begin{pmatrix}\n",
    "            \\frac{\\partial^2 f}{\\partial x_1 \\partial x_1} & \\cdots & \\frac{\\partial^2 f}{\\partial x_1 \\partial x_d} \\\\\n",
    "            \\vdots & \\ddots & \\vdots \\\\\n",
    "            \\frac{\\partial^2 f}{\\partial x_d \\partial x_1} & \\cdots & \\frac{\\partial^2 f}{\\partial x_d \\partial x_d} \\\\\n",
    "        \\end{pmatrix}\n",
    "\\in \\mathbb{R}^{d \\times d} $$"
   ]
  },
  {
   "cell_type": "markdown",
   "metadata": {},
   "source": [
    "## Gradient Descent"
   ]
  },
  {
   "cell_type": "markdown",
   "metadata": {},
   "source": [
    "* Iterative algorithm for solving continious optimization problems.\n",
    "* Exploit local information from the current guess to produce the next guess.\n",
    "* Idea: move along the anti-gradient direction of the currrent guess:\n",
    "\n",
    "$$ x_{k+1} = x_k - \\eta \\nabla_x f (x_k) $$\n",
    "\n",
    "We denote $ \\eta $, which determines the step size as the **learning rate**."
   ]
  },
  {
   "cell_type": "markdown",
   "metadata": {},
   "source": [
    "### Why does GD work?"
   ]
  },
  {
   "cell_type": "markdown",
   "metadata": {},
   "source": [
    "Why does GD work?\n",
    "\n",
    "By using first order Taylor's approximation around $x_k$:\n",
    "$$ f(x_k + \\delta) = f(x_k) + \\nabla_x f(x_k)^T \\delta + o(\\| \\delta\\|)$$\n",
    "Substituting $\\delta = - \\eta \\nabla_x f (x_k)$:\n",
    "$$ f(x_{k+1}) = f(x_k) - \\eta \\| \\nabla_x f(x_k) \\|^2 + o(\\| \\delta\\|)$$\n",
    "If $x_k$ is not a stationary point, then for a small enough $\\eta > 0 $ we have that $f$ strictly decreases."
   ]
  },
  {
   "cell_type": "markdown",
   "metadata": {},
   "source": [
    "### Selecting the learning rate"
   ]
  },
  {
   "cell_type": "markdown",
   "metadata": {},
   "source": [
    "* Selecting the right learning rate is very important!\n",
    "* Selecting too small learning rate would yield to a very slow optimization process (\"**under-damped**\").\n",
    "* Selecting too large learning rate would yield to a jumpy process (\"**over-damped**\").\n",
    "* Selecting a very large learning rate would cause the optimization process to diverge!\n",
    "\n",
    "<center><img src=\"imgs/lr.gif\" height=60%, width=60%> </center>"
   ]
  },
  {
   "cell_type": "markdown",
   "metadata": {},
   "source": [
    "* What is the optimal learning rate?\n",
    "* For quadratic objectives, $\\eta_{opt} = \\frac{1}{\\lambda_{max}}$ where $\\lambda_{max}$ is the largest eigenvalue of the (constant) hessian matrix.\n",
    "* For general objectives, computing $\\lambda_{max}$ in every iteration is hard.\n",
    "* In practice: perform manual or black-box tuning.\n",
    "* Check out [optuna](https://optuna.org/)."
   ]
  },
  {
   "cell_type": "markdown",
   "metadata": {},
   "source": [
    "### What can go wrong?"
   ]
  },
  {
   "cell_type": "markdown",
   "metadata": {},
   "source": [
    "<center> <img src=\"https://nbviewer.org/github/vistalab-technion/cs236781-tutorials/blob/master/t01%20-%20linear%20models/imgs/sgd2d_2.png\" height=25%, width=25%> </center>\n",
    "\n",
    "* The loss surface of DNNs is highly non-convex!\n",
    "* GD depends on initialization. May converge to a **local minimum** rather than a **global minimum**!\n",
    "* Another issue with GD is that it considers all the samples together (memory and computation burdens)!"
   ]
  },
  {
   "cell_type": "markdown",
   "metadata": {},
   "source": [
    "## Stochastic Gradient Descent"
   ]
  },
  {
   "cell_type": "markdown",
   "metadata": {},
   "source": [
    "* In our case the optimization objective can be decomposed as a sum (mean) of objectives on each sample:\n",
    "$$ f(x) = \\frac{1}{n} \\sum_{i=1}^n f_i(x) $$\n",
    "* Recall that $n$ is very large.\n",
    "* Idea: sample an index, and compute the gradient on a single datum:\n",
    "$$ i \\leftarrow Uniform(\\{1,...,n\\}) $$\n",
    "$$ x_{k+1} \\leftarrow x_k - \\eta \\nabla f_i(x_k)$$\n",
    "* In expectation the gradient is exact! However, the variance is very high!\n",
    "* Optimization process becomes very noisy!\n",
    "* Idea: instead of sampling a single datum, sample a **batch(mini-batch)** of samples.\n",
    "* In practice: shuffle the dataset and split it into **mini-batches**. Each iteration over the whole dataset is called an **epoch**.\n",
    "\n",
    "\n",
    "<center>\n",
    "<img src=\"https://www.baeldung.com/wp-content/uploads/sites/4/2022/01/batch-1-1024x670.png\" width=35% >\n",
    "</center>"
   ]
  },
  {
   "cell_type": "markdown",
   "metadata": {},
   "source": [
    "## Advanced optimizers"
   ]
  },
  {
   "cell_type": "markdown",
   "metadata": {},
   "source": [
    "* Heavy ball momentum\n",
    "    + Idea: accumulate velocity from prior iterations!\n",
    "    + Models the physics of a ball that is rolling downhill.\n",
    "    <center>\n",
    "    <img src=\"https://miro.medium.com/v2/resize:fit:640/1*zVi4ayX9u0MQQwa90CnxVg.gif\", width=25%, height=25%>\n",
    "    </center>\n",
    "    + Momentum is modeled by an exponential moving average of the gradients in the prior steps:\n",
    "    \n",
    "    $$ v_{k+1} \\leftarrow \\gamma v_k + (1-\\gamma) g_k $$\n",
    "    $$ x_{k+1} \\leftarrow x_k - \\eta v_{k+1} $$\n"
   ]
  },
  {
   "cell_type": "markdown",
   "metadata": {},
   "source": [
    "* AdaGrad\n",
    "    + Stands for Adaptive Gradient.\n",
    "    + Idea: the Hessian matrix may be very unbalanced, so use different effective learning rate for each parameter.\n",
    "    <center>\n",
    "    <img src=\"https://miro.medium.com/v2/resize:fit:1400/1*WRtvrr9Z0QcokiKlgU7xEw.gif\", width=25%, height=25%>\n",
    "    </center>\n",
    "    \n",
    "    + Mathematically: \n",
    "    $$ G_{k+1} \\leftarrow G_k + g_k \\cdot g_k $$\n",
    "    $$ x_{k+1} \\leftarrow x_k - \\frac{\\eta}{\\sqrt{G_{k+1} + \\epsilon}} \\cdot g_k $$\n",
    "\n",
    "    + Note that in the above formulation $\\cdot$ multiplication and the division is done **elementwise**.\n",
    "    + $\\epsilon$ is added to the denominator for numerical stability.\n"
   ]
  },
  {
   "cell_type": "markdown",
   "metadata": {},
   "source": [
    "* Rmsprop\n",
    "    + The problem of Adagrad is that the denominator keeps growing, and hence becomes very slow.\n",
    "    + The solution is to use an EMA of the squared gradients instead:\n",
    "\n",
    "    $$ v_{k+1} \\leftarrow \\beta v_k + (1-\\beta) g_k \\cdot g_k $$\n",
    "    $$ x_{k+1} \\leftarrow x_k - \\frac{\\eta}{\\sqrt{v_{k+1} + \\epsilon}} \\cdot g_k $$\n",
    "\n",
    "    <center>\n",
    "    <img src=\"https://miro.medium.com/v2/resize:fit:640/1*_4zyVpZazh4OSIzprmYQEw.gif\", width=25%, height=25%>\n",
    "    </center>"
   ]
  },
  {
   "cell_type": "markdown",
   "metadata": {},
   "source": [
    "* Adam\n",
    "    + Stands for Adaptive Moment Estimation.\n",
    "    + Essentially a combination of momentum and rmsprop:\n",
    "    $$ m_{k+1} \\leftarrow \\beta_1 m_k + (1-\\beta_1) g_k $$\n",
    "    $$ v_{k+1} \\leftarrow \\beta_2 v_k + (1-\\beta_2) g_k \\cdot g_k $$\n",
    "    $$ \\hat{m}_{k+1} \\leftarrow \\frac{m_{k+1}}{1-\\beta_1^{k+1}}, \\quad \\hat{v}_{k+1} \\leftarrow \\frac{v_{k+1}}{1-\\beta_2^{k+1}} $$\n",
    "    $$ x_{k+1} \\leftarrow x_k - \\frac{\\eta}{\\sqrt{\\hat{v}_{k+1} + \\epsilon}} \\cdot \\hat{m}_{k+1} $$\n",
    "    + The most common optimizer today."
   ]
  },
  {
   "cell_type": "markdown",
   "metadata": {},
   "source": [
    "* Which optimizer to use?\n",
    "    + Adam would be a good place to start.\n",
    "    + However, **for some tasks it is better to use other optimizers**.\n",
    "    + For instance, simple SGD with momentum works the best for optimizing ResNet!"
   ]
  },
  {
   "cell_type": "markdown",
   "metadata": {},
   "source": [
    "## Working example"
   ]
  },
  {
   "cell_type": "markdown",
   "metadata": {},
   "source": [
    "Let's demonstrate SGD for training a simple MLP architecture for performing hand-written digit recognition."
   ]
  },
  {
   "cell_type": "code",
   "execution_count": 1,
   "metadata": {},
   "outputs": [],
   "source": [
    "# Imports\n",
    "import torch\n",
    "from torchvision import datasets, transforms\n",
    "import torch.nn as nn\n",
    "import matplotlib.pyplot as plt"
   ]
  },
  {
   "cell_type": "code",
   "execution_count": 2,
   "metadata": {},
   "outputs": [],
   "source": [
    "# Define an MLP architecture\n",
    "class Net(nn.Module):\n",
    "    \n",
    "    def __init__(self):\n",
    "        super(Net, self).__init__()\n",
    "        self.in_dim = 784\n",
    "        self.hidden_dim = 120\n",
    "        self.out_dim = 10\n",
    "\n",
    "        self.flatten = nn.Flatten() # (B,H,W) -> (B,D)\n",
    "        self.linear = nn.Linear(self.in_dim, self.hidden_dim)\n",
    "        self.activation = nn.ReLU()\n",
    "        self.classifier = nn.Linear(self.hidden_dim, self.out_dim)\n",
    "\n",
    "    def forward(self, x):\n",
    "        x = self.flatten(x)\n",
    "        x = self.linear(x)\n",
    "        x = self.activation(x)\n",
    "        x = self.classifier(x)\n",
    "        return x\n",
    "    \n",
    "model = Net() # Instantiate model"
   ]
  },
  {
   "cell_type": "code",
   "execution_count": 3,
   "metadata": {},
   "outputs": [],
   "source": [
    "# Define the training dataset\n",
    "transform = transforms.Compose([\n",
    "            transforms.ToTensor(), # Convert to tensor\n",
    "            transforms.Normalize((0.1307,), (0.3081,)) # Subtract from values 0.13 then divide by 0.31\n",
    "            ])\n",
    "\n",
    "dataset = datasets.MNIST('./data', train=True, download=True, transform=transform) # MNIST train set"
   ]
  },
  {
   "cell_type": "code",
   "execution_count": 4,
   "metadata": {},
   "outputs": [],
   "source": [
    "# Define dataloader \n",
    "batch_size = 64\n",
    "loader = torch.utils.data.DataLoader(dataset, batch_size=batch_size, shuffle=True) # Different order in each epoch"
   ]
  },
  {
   "cell_type": "markdown",
   "metadata": {},
   "source": [
    "On each batch, optimization can be summarized as follows:\n",
    "* Loss computation on the current batch.\n",
    "* Loss gradient computation w.r.t each of the model params.\n",
    "* perfrom SGD step."
   ]
  },
  {
   "cell_type": "code",
   "execution_count": 5,
   "metadata": {},
   "outputs": [
    {
     "name": "stdout",
     "output_type": "stream",
     "text": [
      "Epoch [1/1] | Batch 100 | loss: 0.43147534132003784\n",
      "Epoch [1/1] | Batch 200 | loss: 0.12936033308506012\n",
      "Epoch [1/1] | Batch 300 | loss: 0.32036876678466797\n",
      "Epoch [1/1] | Batch 400 | loss: 0.33024027943611145\n",
      "Epoch [1/1] | Batch 500 | loss: 0.2675045132637024\n",
      "Epoch [1/1] | Batch 600 | loss: 0.18230842053890228\n",
      "Epoch [1/1] | Batch 700 | loss: 0.10729292035102844\n",
      "Epoch [1/1] | Batch 800 | loss: 0.21208588778972626\n",
      "Epoch [1/1] | Batch 900 | loss: 0.1350741982460022\n"
     ]
    }
   ],
   "source": [
    "# Actual Training loop\n",
    "num_epochs = 1\n",
    "lr = 1e-1\n",
    "loss_fn = nn.CrossEntropyLoss()\n",
    "losses = [] # For plotting\n",
    "\n",
    "model.train() # Training mode\n",
    "for epoch in range(num_epochs):\n",
    "    for batch_idx, (x, y) in enumerate(loader):\n",
    "\n",
    "        # 1. Compute loss    \n",
    "        logits = model(x)\n",
    "        loss = loss_fn(logits, y)\n",
    "\n",
    "        # 2. Magically compute gradient\n",
    "        grad = torch.autograd.grad(loss, model.parameters())\n",
    "\n",
    "        # 3. Perform optimization step\n",
    "        for param, g in zip(model.parameters(), grad):\n",
    "            param.grad = g\n",
    "            param.data -= lr * param.grad\n",
    "\n",
    "        losses.append(loss.item())\n",
    "        if (batch_idx + 1) % 100 == 0:\n",
    "            print(f'Epoch [{epoch+1}/{num_epochs}] | Batch {batch_idx+1} | loss: {loss.item()}')"
   ]
  },
  {
   "cell_type": "markdown",
   "metadata": {},
   "source": [
    "Lets plot the loss over time!"
   ]
  },
  {
   "cell_type": "code",
   "execution_count": 6,
   "metadata": {},
   "outputs": [
    {
     "data": {
      "text/plain": [
       "[<matplotlib.lines.Line2D at 0x7f20800686d0>]"
      ]
     },
     "execution_count": 6,
     "metadata": {},
     "output_type": "execute_result"
    },
    {
     "data": {
      "image/png": "[encoded data removed]",
      "text/plain": [
       "<Figure size 432x288 with 1 Axes>"
      ]
     },
     "metadata": {
      "needs_background": "light"
     },
     "output_type": "display_data"
    }
   ],
   "source": [
    "plt.plot(losses)"
   ]
  },
  {
   "cell_type": "markdown",
   "metadata": {},
   "source": [
    "Let's see what happens when we decrease the batch size!"
   ]
  },
  {
   "cell_type": "code",
   "execution_count": 7,
   "metadata": {},
   "outputs": [
    {
     "name": "stdout",
     "output_type": "stream",
     "text": [
      "Epoch [1/1] | Batch 200 | loss: 0.7718016505241394\n",
      "Epoch [1/1] | Batch 400 | loss: 0.22473329305648804\n",
      "Epoch [1/1] | Batch 600 | loss: 0.5794174671173096\n",
      "Epoch [1/1] | Batch 800 | loss: 0.0737689808011055\n",
      "Epoch [1/1] | Batch 1000 | loss: 0.3366846740245819\n",
      "Epoch [1/1] | Batch 1200 | loss: 0.3103228807449341\n",
      "Epoch [1/1] | Batch 1400 | loss: 0.06804066896438599\n",
      "Epoch [1/1] | Batch 1600 | loss: 0.018609032034873962\n",
      "Epoch [1/1] | Batch 1800 | loss: 0.039465609937906265\n",
      "Epoch [1/1] | Batch 2000 | loss: 0.32897448539733887\n",
      "Epoch [1/1] | Batch 2200 | loss: 0.01519695483148098\n",
      "Epoch [1/1] | Batch 2400 | loss: 0.05047689005732536\n",
      "Epoch [1/1] | Batch 2600 | loss: 0.19799011945724487\n",
      "Epoch [1/1] | Batch 2800 | loss: 0.451076477766037\n",
      "Epoch [1/1] | Batch 3000 | loss: 0.11443950980901718\n",
      "Epoch [1/1] | Batch 3200 | loss: 0.21537038683891296\n",
      "Epoch [1/1] | Batch 3400 | loss: 0.05217929184436798\n",
      "Epoch [1/1] | Batch 3600 | loss: 0.030296117067337036\n"
     ]
    }
   ],
   "source": [
    "# This time, let's try with a smaller batch size!\n",
    "\n",
    "model = Net() # re-initialize net\n",
    "\n",
    "# re-define dataloader \n",
    "batch_size = 16\n",
    "loader = torch.utils.data.DataLoader(dataset, batch_size=batch_size, shuffle=True)\n",
    "\n",
    "# Actual Training loop\n",
    "num_epochs = 1\n",
    "lr = 1e-1\n",
    "loss_fn = nn.CrossEntropyLoss()\n",
    "losses = [] # For plotting\n",
    "\n",
    "model.train() # Training mode\n",
    "for epoch in range(num_epochs):\n",
    "    for batch_idx, (x, y) in enumerate(loader):\n",
    "\n",
    "        # 1. Compute loss    \n",
    "        logits = model(x)\n",
    "        loss = loss_fn(logits, y)\n",
    "\n",
    "        # 2. Magically compute gradient\n",
    "        grad = torch.autograd.grad(loss, model.parameters())\n",
    "\n",
    "        # 3. Perform optimization step\n",
    "        for param, g in zip(model.parameters(), grad):\n",
    "            param.grad = g\n",
    "            param.data -= lr * param.grad\n",
    "\n",
    "        losses.append(loss.item())\n",
    "        if (batch_idx + 1) % 200 == 0:\n",
    "            print(f'Epoch [{epoch+1}/{num_epochs}] | Batch {batch_idx+1} | loss: {loss.item()}')"
   ]
  },
  {
   "cell_type": "code",
   "execution_count": 8,
   "metadata": {},
   "outputs": [
    {
     "data": {
      "text/plain": [
       "[<matplotlib.lines.Line2D at 0x7f207ff3dee0>]"
      ]
     },
     "execution_count": 8,
     "metadata": {},
     "output_type": "execute_result"
    },
    {
     "data": {
      "image/png": "[encoded data removed]",
      "text/plain": [
       "<Figure size 432x288 with 1 Axes>"
      ]
     },
     "metadata": {
      "needs_background": "light"
     },
     "output_type": "display_data"
    }
   ],
   "source": [
    "plt.plot(losses)"
   ]
  },
  {
   "cell_type": "markdown",
   "metadata": {},
   "source": [
    "As we can observe, smaller batch yields to a more noisy optimization process.\n",
    "This is due to high gradient variance!"
   ]
  },
  {
   "cell_type": "markdown",
   "metadata": {},
   "source": [
    "## PyTorch's optimization API - *torch.optim*"
   ]
  },
  {
   "cell_type": "markdown",
   "metadata": {},
   "source": [
    "* For performing optimization with ease, PyTorch includes an optimization interface named torch.optim.\n",
    "* Supports numerous optimization algorithms!\n",
    "* We will demonstrate the API by replacing the above training procedure. "
   ]
  },
  {
   "cell_type": "code",
   "execution_count": 9,
   "metadata": {},
   "outputs": [],
   "source": [
    "from torch.optim import SGD"
   ]
  },
  {
   "cell_type": "code",
   "execution_count": 10,
   "metadata": {},
   "outputs": [
    {
     "name": "stdout",
     "output_type": "stream",
     "text": [
      "Epoch [1/1] | Batch 100 | loss: 0.2366984784603119\n",
      "Epoch [1/1] | Batch 200 | loss: 0.2023923099040985\n",
      "Epoch [1/1] | Batch 300 | loss: 0.35991257429122925\n",
      "Epoch [1/1] | Batch 400 | loss: 0.21034105122089386\n",
      "Epoch [1/1] | Batch 500 | loss: 0.30371344089508057\n",
      "Epoch [1/1] | Batch 600 | loss: 0.10055225342512131\n",
      "Epoch [1/1] | Batch 700 | loss: 0.20458157360553741\n",
      "Epoch [1/1] | Batch 800 | loss: 0.10427434742450714\n",
      "Epoch [1/1] | Batch 900 | loss: 0.09918738901615143\n"
     ]
    }
   ],
   "source": [
    "model = Net() # re-initialize net\n",
    "num_epochs = 1\n",
    "lr = 1e-1\n",
    "loss_fn = nn.CrossEntropyLoss()\n",
    "\n",
    "# re-define dataloader \n",
    "batch_size = 64\n",
    "loader = torch.utils.data.DataLoader(dataset, batch_size=batch_size, shuffle=True)\n",
    "\n",
    "# define the optimizer\n",
    "optimizer = SGD(model.parameters(), lr=lr)\n",
    "\n",
    "model.train()\n",
    "for epoch in range(num_epochs):\n",
    "    for batch_idx, (x, y) in enumerate(loader):\n",
    "\n",
    "        # compute loss    \n",
    "        logits = model(x)\n",
    "        loss = loss_fn(logits, y)\n",
    "\n",
    "        # The three Musketeers!\n",
    "        optimizer.zero_grad() # sets p.grad = 0 for all params\n",
    "        loss.backward() # sets p.grad += dloss/dp\n",
    "        optimizer.step() # performs actual optimization step\n",
    "\n",
    "        if (batch_idx + 1) % 100 == 0:\n",
    "            print(f'Epoch [{epoch+1}/{num_epochs}] | Batch {batch_idx+1} | loss: {loss.item()}')"
   ]
  },
  {
   "cell_type": "markdown",
   "metadata": {},
   "source": [
    "## Learning rate scheduling"
   ]
  },
  {
   "cell_type": "markdown",
   "metadata": {},
   "source": [
    "* Observation: loss surface drastically changes over time and so is the hessian.\n",
    "* Idea: change the learning rate over time.\n",
    "* The most common practice is to reduce the learning rate after few epochs.\n",
    "* Very useful in practice.\n",
    "\n",
    "<center>\n",
    "<img src=\"imgs/scheduler.png\" width=25%, height=25%>\n",
    "<center>\n",
    "\n",
    "* Schedulers are also supported by torch.optim library!"
   ]
  },
  {
   "cell_type": "code",
   "execution_count": 11,
   "metadata": {},
   "outputs": [],
   "source": [
    "from torch.optim.lr_scheduler import MultiStepLR"
   ]
  },
  {
   "cell_type": "code",
   "execution_count": 12,
   "metadata": {},
   "outputs": [
    {
     "name": "stdout",
     "output_type": "stream",
     "text": [
      "Epoch [1/2] | Batch 100 | loss: 0.5284169912338257 | lr: 0.1\n",
      "Epoch [1/2] | Batch 200 | loss: 0.22820915281772614 | lr: 0.1\n",
      "Epoch [1/2] | Batch 300 | loss: 0.2298201471567154 | lr: 0.1\n",
      "Epoch [1/2] | Batch 400 | loss: 0.13141074776649475 | lr: 0.1\n",
      "Epoch [1/2] | Batch 500 | loss: 0.1561862975358963 | lr: 0.1\n",
      "Epoch [1/2] | Batch 600 | loss: 0.138429656624794 | lr: 0.1\n",
      "Epoch [1/2] | Batch 700 | loss: 0.08556690812110901 | lr: 0.1\n",
      "Epoch [1/2] | Batch 800 | loss: 0.1256161630153656 | lr: 0.1\n",
      "Epoch [1/2] | Batch 900 | loss: 0.06352227926254272 | lr: 0.1\n",
      "Epoch [2/2] | Batch 100 | loss: 0.08978290110826492 | lr: 0.010000000000000002\n",
      "Epoch [2/2] | Batch 200 | loss: 0.09616750478744507 | lr: 0.010000000000000002\n",
      "Epoch [2/2] | Batch 300 | loss: 0.2585291862487793 | lr: 0.010000000000000002\n",
      "Epoch [2/2] | Batch 400 | loss: 0.07849960774183273 | lr: 0.010000000000000002\n",
      "Epoch [2/2] | Batch 500 | loss: 0.21645644307136536 | lr: 0.010000000000000002\n",
      "Epoch [2/2] | Batch 600 | loss: 0.06018511578440666 | lr: 0.010000000000000002\n",
      "Epoch [2/2] | Batch 700 | loss: 0.07399939000606537 | lr: 0.010000000000000002\n",
      "Epoch [2/2] | Batch 800 | loss: 0.06667228788137436 | lr: 0.010000000000000002\n",
      "Epoch [2/2] | Batch 900 | loss: 0.16009774804115295 | lr: 0.010000000000000002\n"
     ]
    }
   ],
   "source": [
    "model = Net()\n",
    "num_epochs = 2\n",
    "lr = 1e-1\n",
    "loss_fn = nn.CrossEntropyLoss()\n",
    "\n",
    "# define the optimizer and the scheduler\n",
    "optimizer = SGD(model.parameters(), lr=lr)\n",
    "scheduler = MultiStepLR(optimizer, milestones=[1], gamma=0.1) # reduce lr by 0.1 after 1 epoch\n",
    "\n",
    "model.train()\n",
    "for epoch in range(num_epochs):\n",
    "    for batch_idx, (x, y) in enumerate(loader):\n",
    "\n",
    "        # compute loss    \n",
    "        logits = model(x)\n",
    "        loss = loss_fn(logits, y)\n",
    "\n",
    "        # The three Musketeers!\n",
    "        optimizer.zero_grad()\n",
    "        loss.backward()\n",
    "        optimizer.step()\n",
    "        if (batch_idx + 1) % 100 == 0:\n",
    "            print(f'Epoch [{epoch+1}/{num_epochs}] | Batch {batch_idx+1} | loss: {loss.item()} | lr: {optimizer.param_groups[0][\"lr\"]}')\n",
    "        losses.append(loss.item())\n",
    "\n",
    "    scheduler.step() # Inform the scheduler an epoch was done!"
   ]
  },
  {
   "cell_type": "markdown",
   "metadata": {},
   "source": [
    "Additional learning rate scheduling strategies include:\n",
    "* Cosine annealing:\n",
    "<center>\n",
    "<img src=\"https://miro.medium.com/v2/resize:fit:1400/1*9hiywbEuoVXz4iX2-BDGZQ.png\">\n",
    "</center>\n",
    "\n",
    "* Learning rate warmup:\n",
    "<center>\n",
    "<img src=\"https://huggingface.co/datasets/huggingface/documentation-images/resolve/main/warmup_cosine_schedule.png\">\n",
    "</center>"
   ]
  },
  {
   "cell_type": "markdown",
   "metadata": {},
   "source": [
    "## Projected Gradient Descent (PGD)"
   ]
  },
  {
   "cell_type": "markdown",
   "metadata": {},
   "source": [
    "* So far, we have been concerned with **unconstrained** optimization problems.\n",
    "* However, all of the above optimization algorithms may be generalized to **constrained** optimization problem of the following form:\n",
    "\n",
    "$$ \\min_x f(x) \\text{ subject to } x \\in \\mathcal{K} $$\n",
    "$$ f: \\mathbb{R}^d \\rightarrow \\mathbb{R} \\text{, } \\mathcal{K} \\subseteq \\mathbb{R}^d \\text{ is closed and convex} $$"
   ]
  },
  {
   "cell_type": "markdown",
   "metadata": {},
   "source": [
    "* This is done by a simple-greedy agorithm named PGD.\n",
    "* The idea is to project $x$ onto $\\mathcal{K}$ after each iteration:\n",
    "$$ \\tilde{x}_{k+1} = x_k - \\eta \\nabla_x f (x_k) $$\n",
    "$$ x_{k+1} = \\Pi_\\mathcal{K}(\\tilde{x}_{k+1})$$\n",
    "* The algorithm can be proved to converge under the same conditions required for GD to converge!\n",
    "\n",
    "<center>\n",
    "<img src=\"https://qph.cf2.quoracdn.net/main-qimg-8311c35651e61b7b91e8918388946469\">\n",
    "</center>\n"
   ]
  },
  {
   "cell_type": "markdown",
   "metadata": {},
   "source": [
    "* Mathematically, the projection of a point onto a set is defined as the closest point to the original point within the set:\n",
    "$$ \\Pi_{\\mathcal{K}}(x) := \\arg \\min_y \\| y-x \\| \\text{ subject to } y \\in \\mathcal{K}$$\n",
    "* Common projections:\n",
    "    + A canonical sphere with radius $R$:\n",
    "    $$ \\Pi_{\\mathcal{B}(R)}(x) = \\min\\{\\frac{R}{\\| x \\|}, 1\\} \\cdot x $$\n",
    "    <center>\n",
    "    <img src=\"http://pi.math.cornell.edu/~dwh/books/eg99/Ch16/37850c60.jpg\" width=25%, height=25%>\n",
    "    </center>\n",
    "    \n",
    "    + A linear subspace $W$:\n",
    "    $$ \\Pi_{W}(x) = \\sum_{i=1}^m \\langle x , \\; w_i \\rangle w_i $$\n",
    "    where $\\{ w_1, ..., w_m\\}$ is an orthonormal basis for $W$.\n",
    "\n",
    "    <center>\n",
    "    <img src=\"https://upload.wikimedia.org/wikipedia/commons/thumb/1/14/Linalg_projection_onto_plane.png/223px-Linalg_projection_onto_plane.png\">\n",
    "    </center>\n",
    "    \n",
    "    "
   ]
  },
  {
   "cell_type": "markdown",
   "metadata": {},
   "source": [
    "### Use case: adversarial attacks"
   ]
  },
  {
   "cell_type": "markdown",
   "metadata": {},
   "source": [
    "* The goal is to find a small perturbation on a certain input, in a way which would cause the model to generate a wrong prediction.\n",
    "\n",
    "<center>\n",
    "<img src=\"https://i.stack.imgur.com/5rfe9.png\">\n",
    "</center>"
   ]
  },
  {
   "cell_type": "markdown",
   "metadata": {},
   "source": [
    "* Let's carry a PGD attack on a sample from the test dataset with respect to our trained model!"
   ]
  },
  {
   "cell_type": "code",
   "execution_count": 13,
   "metadata": {},
   "outputs": [],
   "source": [
    "# Define the test dataset\n",
    "transform = transforms.Compose([\n",
    "            transforms.ToTensor(), # Convert to tensor\n",
    "            transforms.Normalize((0.1307,), (0.3081,)) # Subtract from values 0.13 then divide by 0.31\n",
    "            ])\n",
    "\n",
    "dataset = datasets.MNIST('./data', train=False, download=True, transform=transform) # MNIST test set\n",
    "sample_loader = torch.utils.data.DataLoader(dataset, batch_size=1, shuffle=False)\n",
    "sample, true_y = next(iter(sample_loader))\n",
    "sample = sample.detach()"
   ]
  },
  {
   "cell_type": "code",
   "execution_count": 14,
   "metadata": {},
   "outputs": [
    {
     "data": {
      "text/plain": [
       "Text(0.5, 1.0, 'Ground Truth: 7\\nPrediction: 7, confidence: 99.91%')"
      ]
     },
     "execution_count": 14,
     "metadata": {},
     "output_type": "execute_result"
    },
    {
     "data": {
      "image/png": "[encoded data removed]",
      "text/plain": [
       "<Figure size 432x288 with 1 Axes>"
      ]
     },
     "metadata": {
      "needs_background": "light"
     },
     "output_type": "display_data"
    }
   ],
   "source": [
    "# Visualize the sample\n",
    "with torch.no_grad():\n",
    "    logit = model(sample)[0]\n",
    "    proba = torch.softmax(logit, dim=0)\n",
    "    pred = torch.argmax(proba)\n",
    "\n",
    "fig = plt.figure()\n",
    "plt.imshow(sample.reshape(28,28), cmap='gray', interpolation='none')\n",
    "plt.title(\"Ground Truth: {}\\nPrediction: {}, confidence: {:.2f}%\".format(true_y.item(), pred, proba[pred]*100))"
   ]
  },
  {
   "cell_type": "code",
   "execution_count": 15,
   "metadata": {},
   "outputs": [],
   "source": [
    "attacked_sample = sample.clone()\n",
    "attacked_sample.requires_grad = True\n",
    "adversarial_optimizer = SGD([attacked_sample], lr=1e-1, maximize=True) # Increase loss instead of minimizing it!\n",
    "eps = 5\n",
    "n_iters = 10_000\n",
    "loss_fn = nn.CrossEntropyLoss()\n",
    "\n",
    "for iter in range(n_iters):\n",
    "    logits = model(attacked_sample)\n",
    "    loss = loss_fn(logits, true_y)\n",
    "\n",
    "    # Gradient step\n",
    "    adversarial_optimizer.zero_grad()\n",
    "    loss.backward()\n",
    "    adversarial_optimizer.step()\n",
    "\n",
    "    # Projection!\n",
    "    delta = attacked_sample.data - sample.data\n",
    "    delta *= min(1,eps/torch.norm(delta))\n",
    "    attacked_sample.data = sample + delta\n",
    "\n",
    "    if (batch_idx + 1) % 1000 == 0:\n",
    "        print(f'Iteration [{iter}] | loss: {loss.item()}')"
   ]
  },
  {
   "cell_type": "code",
   "execution_count": 16,
   "metadata": {},
   "outputs": [
    {
     "data": {
      "text/plain": [
       "Text(0.5, 1.0, 'Ground Truth: 7\\nPrediction: 3, confidence: 91.68%')"
      ]
     },
     "execution_count": 16,
     "metadata": {},
     "output_type": "execute_result"
    },
    {
     "data": {
      "image/png": "[encoded data removed]",
      "text/plain": [
       "<Figure size 432x288 with 1 Axes>"
      ]
     },
     "metadata": {
      "needs_background": "light"
     },
     "output_type": "display_data"
    }
   ],
   "source": [
    "# Visualize the attacked sample\n",
    "\n",
    "with torch.no_grad():\n",
    "    logit = model(attacked_sample)[0]\n",
    "    proba = torch.softmax(logit, dim=0)\n",
    "    pred = torch.argmax(proba)\n",
    "\n",
    "fig = plt.figure()\n",
    "plt.imshow(attacked_sample.detach().numpy().reshape(28,28), cmap='gray', interpolation='none')\n",
    "plt.title(\"Ground Truth: {}\\nPrediction: {}, confidence: {:.2f}%\".format(true_y.item(), pred, proba[pred]*100))"
   ]
  },
  {
   "cell_type": "markdown",
   "metadata": {},
   "source": [
    "* As can be observed the model mistakes with very high confidence on the perturbated sample.\n",
    "* However, it is clear that the ground truth is still the same!"
   ]
  },
  {
   "cell_type": "markdown",
   "metadata": {},
   "source": [
    "## Credits"
   ]
  },
  {
   "cell_type": "markdown",
   "metadata": {},
   "source": [
    "* This tutorial was written by Mitchell Keren Taraday.\n",
    "* Image credits:\n",
    "    + [https://www.ruder.io/optimizing-gradient-descent/](https://www.ruder.io/optimizing-gradient-descent/)\n",
    "    + [https://upload.wikimedia.org/wikipedia/commons/thumb/e/ef/3dpoly.svg/1024px-3dpoly.svg.png](https://upload.wikimedia.org/wikipedia/commons/thumb/e/ef/3dpoly.svg/1024px-3dpoly.svg.png)\n",
    "    + [https://www.fromthegenesis.com/gradient-descent-part1/](https://www.fromthegenesis.com/gradient-descent-part1/)\n",
    "    + [https://huggingface.co/blog/assets/33_large_language_models/01_model_size.jpg](https://huggingface.co/blog/assets/33_large_language_models/01_model_size.jpg)\n",
    "    + [https://www.baeldung.com/wp-content/uploads/sites/4/2022/01/batch-1-1024x670.png](https://www.baeldung.com/wp-content/uploads/sites/4/2022/01/batch-1-1024x670.png)\n",
    "    + [https://towardsdatascience.com/a-visual-explanation-of-gradient-descent-methods-momentum-adagrad-rmsprop-adam-f898b102325c](https://towardsdatascience.com/a-visual-explanation-of-gradient-descent-methods-momentum-adagrad-rmsprop-adam-f898b102325c)\n",
    "    + [https://www.researchgate.net/publication/332709751_Data-Driven_Neuron_Allocation_for_Scale_Aggregation_Networks](https://www.researchgate.net/publication/332709751_Data-Driven_Neuron_Allocation_for_Scale_Aggregation_Networks)\n",
    "    + [https://towardsdatascience.com/the-best-learning-rate-schedules-6b7b9fb72565](https://towardsdatascience.com/the-best-learning-rate-schedules-6b7b9fb72565)\n",
    "    + [https://huggingface.co/datasets/huggingface/documentation-images/resolve/main/warmup_cosine_schedule.png](https://huggingface.co/datasets/huggingface/documentation-images/resolve/main/warmup_cosine_schedule.png)\n",
    "    + [https://home.ttic.edu/~nati/Teaching/TTIC31070/2015/Lecture16.pdf](https://home.ttic.edu/~nati/Teaching/TTIC31070/2015/Lecture16.pdf)\n",
    "    + [https://upload.wikimedia.org/wikipedia/commons/thumb/1/14/Linalg_projection_onto_plane.png/223px-Linalg_projection_onto_plane.png](https://upload.wikimedia.org/wikipedia/commons/thumb/1/14/Linalg_projection_onto_plane.png/223px-Linalg_projection_onto_plane.png)\n",
    "    + [https://upload.wikimedia.org/wikipedia/commons/thumb/1/14/Linalg_projection_onto_plane.png/223px-Linalg_projection_onto_plane.png](https://upload.wikimedia.org/wikipedia/commons/thumb/1/14/Linalg_projection_onto_plane.png/223px-Linalg_projection_onto_plane.png)\n",
    "    + [https://i.stack.imgur.com/5rfe9.png](https://i.stack.imgur.com/5rfe9.png)\n",
    "    + [http://www.cohennadav.com/files/icermw19_slides.pdf](http://www.cohennadav.com/files/icermw19_slides.pdf)"
   ]
  }
 ],
 "metadata": {
  "kernelspec": {
   "display_name": "Python 3 (ipykernel)",
   "language": "python",
   "name": "python3"
  },
  "language_info": {
   "codemirror_mode": {
    "name": "ipython",
    "version": 3
   },
   "file_extension": ".py",
   "mimetype": "text/x-python",
   "name": "python",
   "nbconvert_exporter": "python",
   "pygments_lexer": "ipython3",
   "version": "3.8.6"
  }
 },
 "nbformat": 4,
 "nbformat_minor": 4
}
